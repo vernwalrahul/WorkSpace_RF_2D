{
 "metadata": {
  "name": ""
 },
 "nbformat": 3,
 "nbformat_minor": 0,
 "worksheets": [
  {
   "cells": [
    {
     "cell_type": "code",
     "collapsed": false,
     "input": [
      "#Pre-Processing\n",
      "\n",
      "import os\n",
      "import argparse\n",
      "import networkx as nx\n",
      "import math        \n",
      "import numpy as np\n",
      "\n",
      "def state_to_numpy(state):\n",
      "    strlist = state.split()\n",
      "    val_list = [float(s) for s in strlist]\n",
      "    return np.array(val_list)\n",
      "\n",
      "def list_all_dir(data_dir):\n",
      "    task_dirs = os.listdir(data_dir)\n",
      "\n",
      "    list_dir = []\n",
      "    for task_dir in task_dirs:\n",
      "        env_dirs = os.listdir(data_dir+\"/\"+task_dir)\n",
      "        for env_dir in env_dirs:\n",
      "            list_dir.append(data_dir +\"/\"+ task_dir +\"/\"+ env_dir)\n",
      "    return list_dir  \n",
      "\n",
      "def process_it(G, directory):\n",
      "    start = np.loadtxt(directory+\"/start_nodes.txt\")\n",
      "    goal = np.loadtxt(directory+\"/goal_nodes.txt\")\n",
      "    occ_grid = np.loadtxt(directory+\"/occ_grid.txt\")\n",
      "    # occ_grid = occ_grid.split(\",\")\n",
      "    path_nodes = []\n",
      "    i = 0\n",
      "    all_data = []\n",
      "    with open(directory + \"/path_nodes.txt\", 'r') as file:\n",
      "        lines  = file.readlines()\n",
      "        for line in lines:\n",
      "            line = line.strip('\\n')\n",
      "#             print(line)\n",
      "#             print(\"\\n\\n\")\n",
      "            \n",
      "            s = state_to_numpy(G.node[str(int(start[i]))]['state'])\n",
      "            g = state_to_numpy(G.node[str(int(goal[i]))]['state'])\n",
      "            og = occ_grid[i]\n",
      "            path_nodes = str(line).split(\",\")\n",
      "            # print(path_nodes)\n",
      "            for path_node in path_nodes:\n",
      "                if(path_node=='-1'):\n",
      "                    continue\n",
      "                node_conf = state_to_numpy(G.node[path_node]['state'])\n",
      "                curr_node = np.array([])\n",
      "                # print(\"Data = \",node_conf, s, g, occ_grid)\n",
      "#                     print(\"\\n\")\n",
      "#                     print(\"node_conf = \", node_conf, \" s = \", s, \" g = \",g)\n",
      "\n",
      "                curr_node = np.concatenate((node_conf, s, g, og))\n",
      "#                     print(\"shape of curr_node = \", curr_node.shape)\n",
      "                all_data.append(curr_node)\n",
      "            i+=1\n",
      "    return all_data"
     ],
     "language": "python",
     "metadata": {},
     "outputs": [],
     "prompt_number": 119
    },
    {
     "cell_type": "code",
     "collapsed": false,
     "input": [
      "# Workspace problem with several narrow gaps\n",
      "\n",
      "import tensorflow as tf\n",
      "import numpy as np\n",
      "import matplotlib.pyplot as plt\n",
      "import matplotlib.patches as patches\n",
      "import matplotlib.gridspec as gridspec\n",
      "from mpl_toolkits.mplot3d import Axes3D\n",
      "import os\n",
      "import csv\n",
      "from random import randint, random\n",
      "import time\n",
      "\n",
      "# (restrict tensorflow memory growth)\n",
      "os.environ[\"CUDA_VISIBLE_DEVICES\"]=\"1\"\n",
      "config = tf.ConfigProto()\n",
      "config.gpu_options.allow_growth=True\n",
      "\n",
      "# neural network parameters\n",
      "mb_size = 256\n",
      "h_Q_dim = 512\n",
      "h_P_dim = 512\n",
      "\n",
      "c = 0\n",
      "# learning rate\n",
      "lr = 1e-4\n",
      "\n",
      "# problem dimensions\n",
      "dim = 2\n",
      "dataElements = dim*3 + 100 # sample (2D), init(2D), goal(2D), occup_grid(400) \n",
      "\n",
      "z_dim = 2 # latent\n",
      "X_dim = dim # samples\n",
      "y_dim = dim # reconstruction of the original point\n",
      "c_dim = dataElements - dim # dimension of conditioning variable"
     ],
     "language": "python",
     "metadata": {},
     "outputs": [],
     "prompt_number": 120
    },
    {
     "cell_type": "code",
     "collapsed": false,
     "input": [
      "G = nx.read_graphml(\"graphs/dense_graph.graphml\")\n",
      "data_dir = \"dataset\"\n",
      "\n",
      "directory = data_dir\n",
      "print(directory)\n",
      "final_data = []\n",
      "flag = 0\n",
      "\n",
      "data = np.array(process_it(G, directory))\n",
      "\n",
      "np.random.shuffle(data)\n",
      "print(\"shape of array: \",data.shape)\n",
      "\n",
      "numEntries = data.shape[0]"
     ],
     "language": "python",
     "metadata": {},
     "outputs": [
      {
       "output_type": "stream",
       "stream": "stdout",
       "text": [
        "dataset\n",
        "('shape of array: ', (7519, 106))"
       ]
      },
      {
       "output_type": "stream",
       "stream": "stdout",
       "text": [
        "\n"
       ]
      }
     ],
     "prompt_number": 121
    },
    {
     "cell_type": "code",
     "collapsed": false,
     "input": [
      "# split the inputs and conditions into test train (to be processed in the next step into an occupancy grid representation)\n",
      "ratioTestTrain = 0.8;\n",
      "numTrain = int(numEntries*ratioTestTrain)\n",
      "\n",
      "X_train = data[0:numTrain,0:dim] # state: x, y, z, xdot, ydot, zdot\n",
      "c_train = data[0:numTrain,dim:dataElements] # conditions: gaps, init (6), goal (6)\n",
      "# print(\"c_train = \",c_train[:,:4])\n",
      "\n",
      "X_test = data[numTrain:numEntries,0:dim]\n",
      "c_test = data[numTrain:numEntries,dim:dataElements]\n",
      "\n",
      "#########################################################\n",
      "c_train1 = []\n",
      "c_test1 = []\n",
      "c_train1 = c_train\n",
      "c_test1 = c_test\n",
      "#########################################################\n",
      "numTest = X_test.shape[0]\n",
      "# print(data[:,:6])\n",
      "# print(c_test[:,:4])\n",
      "\n",
      "# print(\"shape of final obstacle = \",obs.shape)\n",
      "print(\"shape of c_train1 = \", c_train1.shape)\n",
      "print(\"shape of c_test1 = \",c_test1.shape)"
     ],
     "language": "python",
     "metadata": {},
     "outputs": [
      {
       "output_type": "stream",
       "stream": "stdout",
       "text": [
        "('shape of c_train1 = ', (6015, 104))\n",
        "('shape of c_test1 = ', (1504, 104))\n"
       ]
      }
     ],
     "prompt_number": 122
    },
    {
     "cell_type": "code",
     "collapsed": false,
     "input": [
      "# define networks\n",
      "print(\"X_dim = \",X_dim)\n",
      "print(\"c_dim = \",c_dim)\n",
      "X = tf.placeholder(tf.float32, shape=[None, X_dim])\n",
      "c = tf.placeholder(tf.float32, shape=[None, c_dim])\n",
      "    \n",
      "# Q\n",
      "inputs_Q = tf.concat(axis=1, values=[X,c])\n",
      "\n",
      "dense_Q1 = tf.layers.dense(inputs=inputs_Q, units=h_Q_dim, activation=tf.nn.relu)\n",
      "dropout_Q1 = tf.layers.dropout(inputs=dense_Q1, rate=0.5)\n",
      "dense_Q2 = tf.layers.dense(inputs=dropout_Q1, units=h_Q_dim, activation=tf.nn.relu)\n",
      "\n",
      "z_mu = tf.layers.dense(inputs=dense_Q2, units=z_dim) # output here is z_mu\n",
      "z_logvar = tf.layers.dense(inputs=dense_Q2, units=z_dim) # output here is z_logvar\n",
      "\n",
      "# P\n",
      "eps = tf.random_normal(shape=tf.shape(z_mu))\n",
      "z = z_mu + tf.exp(z_logvar / 2) * eps\n",
      "inputs_P = tf.concat(axis=1, values=[z,c])\n",
      "\n",
      "dense_P1 = tf.layers.dense(inputs=inputs_P, units=h_P_dim, activation=tf.nn.relu)\n",
      "dropout_P1 = tf.layers.dropout(inputs=dense_P1, rate=0.5)\n",
      "dense_P2 = tf.layers.dense(inputs=dropout_P1, units=h_P_dim, activation=tf.nn.relu)\n",
      "\n",
      "y = tf.layers.dense(inputs=dense_P2, units=X_dim) # fix to also output y\n",
      "\n",
      "# training\n",
      "########### comment in the one with 0 weight and uncomment the other ###########\n",
      "w = [[1, 1]];\n",
      "# w = [[1, 1, 1, 0, 0, 0]];\n",
      "recon_loss = tf.losses.mean_squared_error(labels=X, predictions=y, weights=w)\n",
      "\n",
      "# TODO: fix loss function for angles going around\n",
      "kl_loss = 10**-4 * 2 * tf.reduce_sum(tf.exp(z_logvar) + z_mu**2 - 1. - z_logvar, 1)\n",
      "\n",
      "cvae_loss = tf.reduce_mean(kl_loss + recon_loss)\n",
      "\n",
      "train_step = tf.train.AdamOptimizer(lr).minimize(cvae_loss)\n",
      "\n",
      "sess = tf.Session(config=config)\n",
      "sess.run(tf.global_variables_initializer())\n",
      "it = 0;"
     ],
     "language": "python",
     "metadata": {},
     "outputs": [
      {
       "output_type": "stream",
       "stream": "stdout",
       "text": [
        "('X_dim = ', 2)\n",
        "('c_dim = ', 104)\n"
       ]
      }
     ],
     "prompt_number": 123
    },
    {
     "cell_type": "code",
     "collapsed": false,
     "input": [
      "saver = tf.train.Saver()\n",
      "path_ = os.getcwd() + \"/checkpoints/model.ckpt\"\n",
      "print(\"path = \",path_)\n",
      "print(\"numTrain = \",numTrain)\n",
      "try:\n",
      "    saver.restore(sess, path_)\n",
      "    print(\"Model Restored!!\")\n",
      "except Exception as e:\n",
      "    print(\"Could not restore checkpoint!\")\n",
      "    print(e)\n",
      "x1 = []\n",
      "y1 = []    \n",
      "print(\"z_dim = \", z_dim)\n",
      "print(\"c_dim = \", c_dim)\n",
      "print(\"c_train = \", c_train.shape)\n",
      "for it in range(it,it+600001):\n",
      "#     print(\"c_dim = \",c_dim)\n",
      "    # randomly generate batches\n",
      "    batch_elements = [randint(0,numTrain-1) for n in range(0,mb_size)]\n",
      "    X_mb = X_train[batch_elements,:]\n",
      "    c_mb = c_train1[batch_elements,:]\n",
      "\n",
      "    _, loss, r = sess.run([train_step, cvae_loss, recon_loss], feed_dict={X: X_mb, c: c_mb})\n",
      "\n",
      "    if it % 1000 == 0:\n",
      "        print('Iter: {}'.format(it))\n",
      "        print('Loss: {:.4}'. format(loss))\n",
      "        x1.append(it)\n",
      "        y1.append(loss)\n",
      "        print(\"recon_loss = \", r)\n",
      "    if it % 1000 == 0:    \n",
      "        saver.save(sess, path_)\n",
      "        print(\"saved session to \", path_)"
     ],
     "language": "python",
     "metadata": {},
     "outputs": [
      {
       "output_type": "stream",
       "stream": "stdout",
       "text": [
        "('path = ', '/home/vernwalrahul/projects/WorkSpace_Hlaton_2D/checkpoints/model.ckpt')\n",
        "('numTrain = ', 6015)\n",
        "Could not restore checkpoint!"
       ]
      },
      {
       "output_type": "stream",
       "stream": "stdout",
       "text": [
        "\n",
        "Key beta1_power_4 not found in checkpoint\n",
        "\t [[Node: save_4/RestoreV2 = RestoreV2[dtypes=[DT_FLOAT, DT_FLOAT, DT_FLOAT, DT_FLOAT, DT_FLOAT, ..., DT_FLOAT, DT_FLOAT, DT_FLOAT, DT_FLOAT, DT_FLOAT], _device=\"/job:localhost/replica:0/task:0/device:CPU:0\"](_arg_save_4/Const_0_0, save_4/RestoreV2/tensor_names, save_4/RestoreV2/shape_and_slices)]]\n",
        "\n",
        "Caused by op u'save_4/RestoreV2', defined at:\n",
        "  File \"<string>\", line 1, in <module>\n",
        "  File \"/usr/lib/python2.7/dist-packages/IPython/kernel/zmq/kernelapp.py\", line 468, in main\n",
        "    app.start()\n",
        "  File \"/usr/lib/python2.7/dist-packages/IPython/kernel/zmq/kernelapp.py\", line 458, in start\n",
        "    ioloop.IOLoop.instance().start()\n",
        "  File \"/usr/lib/python2.7/dist-packages/zmq/eventloop/ioloop.py\", line 160, in start\n",
        "    super(ZMQIOLoop, self).start()\n",
        "  File \"/usr/lib/python2.7/dist-packages/tornado/ioloop.py\", line 672, in start\n",
        "    self._handlers[fd](fd, events)\n",
        "  File \"/usr/lib/python2.7/dist-packages/tornado/stack_context.py\", line 302, in wrapped\n",
        "    ret = fn(*args, **kwargs)\n",
        "  File \"/usr/lib/python2.7/dist-packages/zmq/eventloop/zmqstream.py\", line 433, in _handle_events\n",
        "    self._handle_recv()\n",
        "  File \"/usr/lib/python2.7/dist-packages/zmq/eventloop/zmqstream.py\", line 465, in _handle_recv\n",
        "    self._run_callback(callback, msg)\n",
        "  File \"/usr/lib/python2.7/dist-packages/zmq/eventloop/zmqstream.py\", line 407, in _run_callback\n",
        "    callback(*args, **kwargs)\n",
        "  File \"/usr/lib/python2.7/dist-packages/tornado/stack_context.py\", line 302, in wrapped\n",
        "    ret = fn(*args, **kwargs)\n",
        "  File \"/usr/lib/python2.7/dist-packages/IPython/kernel/zmq/ipkernel.py\", line 279, in dispatcher\n",
        "    return self.dispatch_shell(stream, msg)\n",
        "  File \"/usr/lib/python2.7/dist-packages/IPython/kernel/zmq/ipkernel.py\", line 247, in dispatch_shell\n",
        "    handler(stream, idents, msg)\n",
        "  File \"/usr/lib/python2.7/dist-packages/IPython/kernel/zmq/ipkernel.py\", line 396, in execute_request\n",
        "    shell.run_cell(code, store_history=store_history, silent=silent)\n",
        "  File \"/usr/lib/python2.7/dist-packages/IPython/core/interactiveshell.py\", line 2660, in run_cell\n",
        "    interactivity=interactivity, compiler=compiler)\n",
        "  File \"/usr/lib/python2.7/dist-packages/IPython/core/interactiveshell.py\", line 2764, in run_ast_nodes\n",
        "    if self.run_code(code):\n",
        "  File \"/usr/lib/python2.7/dist-packages/IPython/core/interactiveshell.py\", line 2820, in run_code\n",
        "    exec code_obj in self.user_global_ns, self.user_ns\n",
        "  File \"<ipython-input-124-b16371b1a233>\", line 1, in <module>\n",
        "    saver = tf.train.Saver()\n",
        "  File \"/usr/local/lib/python2.7/dist-packages/tensorflow/python/training/saver.py\", line 1338, in __init__\n",
        "    self.build()\n",
        "  File \"/usr/local/lib/python2.7/dist-packages/tensorflow/python/training/saver.py\", line 1347, in build\n",
        "    self._build(self._filename, build_save=True, build_restore=True)\n",
        "  File \"/usr/local/lib/python2.7/dist-packages/tensorflow/python/training/saver.py\", line 1384, in _build\n",
        "    build_save=build_save, build_restore=build_restore)\n",
        "  File \"/usr/local/lib/python2.7/dist-packages/tensorflow/python/training/saver.py\", line 835, in _build_internal\n",
        "    restore_sequentially, reshape)\n",
        "  File \"/usr/local/lib/python2.7/dist-packages/tensorflow/python/training/saver.py\", line 472, in _AddRestoreOps\n",
        "    restore_sequentially)\n",
        "  File \"/usr/local/lib/python2.7/dist-packages/tensorflow/python/training/saver.py\", line 886, in bulk_restore\n",
        "    return io_ops.restore_v2(filename_tensor, names, slices, dtypes)\n",
        "  File \"/usr/local/lib/python2.7/dist-packages/tensorflow/python/ops/gen_io_ops.py\", line 1463, in restore_v2\n",
        "    shape_and_slices=shape_and_slices, dtypes=dtypes, name=name)\n",
        "  File \"/usr/local/lib/python2.7/dist-packages/tensorflow/python/framework/op_def_library.py\", line 787, in _apply_op_helper\n",
        "    op_def=op_def)\n",
        "  File \"/usr/local/lib/python2.7/dist-packages/tensorflow/python/framework/ops.py\", line 3392, in create_op\n",
        "    op_def=op_def)\n",
        "  File \"/usr/local/lib/python2.7/dist-packages/tensorflow/python/framework/ops.py\", line 1718, in __init__\n",
        "    self._traceback = self._graph._extract_stack()  # pylint: disable=protected-access\n",
        "\n",
        "NotFoundError (see above for traceback): Key beta1_power_4 not found in checkpoint\n",
        "\t [[Node: save_4/RestoreV2 = RestoreV2[dtypes=[DT_FLOAT, DT_FLOAT, DT_FLOAT, DT_FLOAT, DT_FLOAT, ..., DT_FLOAT, DT_FLOAT, DT_FLOAT, DT_FLOAT, DT_FLOAT], _device=\"/job:localhost/replica:0/task:0/device:CPU:0\"](_arg_save_4/Const_0_0, save_4/RestoreV2/tensor_names, save_4/RestoreV2/shape_and_slices)]]\n",
        "\n",
        "('z_dim = ', 2)\n",
        "('c_dim = ', 104)\n",
        "('c_train = ', (6015, 104))\n",
        "Iter: 0"
       ]
      },
      {
       "output_type": "stream",
       "stream": "stdout",
       "text": [
        "\n",
        "Loss: 0.4047\n",
        "('recon_loss = ', 0.4045539)\n",
        "('saved session to ', '/home/vernwalrahul/projects/WorkSpace_Hlaton_2D/checkpoints/model.ckpt')"
       ]
      },
      {
       "output_type": "stream",
       "stream": "stdout",
       "text": [
        "\n",
        "Iter: 1000"
       ]
      },
      {
       "output_type": "stream",
       "stream": "stdout",
       "text": [
        "\n",
        "Loss: 0.002616\n",
        "('recon_loss = ', 0.0005778537)\n",
        "('saved session to ', '/home/vernwalrahul/projects/WorkSpace_Hlaton_2D/checkpoints/model.ckpt')"
       ]
      },
      {
       "output_type": "stream",
       "stream": "stdout",
       "text": [
        "\n",
        "Iter: 2000"
       ]
      },
      {
       "output_type": "stream",
       "stream": "stdout",
       "text": [
        "\n",
        "Loss: 0.00255\n",
        "('recon_loss = ', 0.0005826522)\n",
        "('saved session to ', '/home/vernwalrahul/projects/WorkSpace_Hlaton_2D/checkpoints/model.ckpt')"
       ]
      },
      {
       "output_type": "stream",
       "stream": "stdout",
       "text": [
        "\n",
        "Iter: 3000"
       ]
      },
      {
       "output_type": "stream",
       "stream": "stdout",
       "text": [
        "\n",
        "Loss: 0.002438\n",
        "('recon_loss = ', 0.0005237758)\n",
        "('saved session to ', '/home/vernwalrahul/projects/WorkSpace_Hlaton_2D/checkpoints/model.ckpt')"
       ]
      },
      {
       "output_type": "stream",
       "stream": "stdout",
       "text": [
        "\n",
        "Iter: 4000"
       ]
      },
      {
       "output_type": "stream",
       "stream": "stdout",
       "text": [
        "\n",
        "Loss: 0.0025\n",
        "('recon_loss = ', 0.00065314013)\n",
        "('saved session to ', '/home/vernwalrahul/projects/WorkSpace_Hlaton_2D/checkpoints/model.ckpt')"
       ]
      },
      {
       "output_type": "stream",
       "stream": "stdout",
       "text": [
        "\n",
        "Iter: 5000"
       ]
      },
      {
       "output_type": "stream",
       "stream": "stdout",
       "text": [
        "\n",
        "Loss: 0.002215\n",
        "('recon_loss = ', 0.00046307436)\n",
        "('saved session to ', '/home/vernwalrahul/projects/WorkSpace_Hlaton_2D/checkpoints/model.ckpt')"
       ]
      },
      {
       "output_type": "stream",
       "stream": "stdout",
       "text": [
        "\n",
        "Iter: 6000"
       ]
      },
      {
       "output_type": "stream",
       "stream": "stdout",
       "text": [
        "\n",
        "Loss: 0.002365\n",
        "('recon_loss = ', 0.0006006073)\n",
        "('saved session to ', '/home/vernwalrahul/projects/WorkSpace_Hlaton_2D/checkpoints/model.ckpt')"
       ]
      },
      {
       "output_type": "stream",
       "stream": "stdout",
       "text": [
        "\n",
        "Iter: 7000"
       ]
      },
      {
       "output_type": "stream",
       "stream": "stdout",
       "text": [
        "\n",
        "Loss: 0.002303\n",
        "('recon_loss = ', 0.0005157322)\n",
        "('saved session to ', '/home/vernwalrahul/projects/WorkSpace_Hlaton_2D/checkpoints/model.ckpt')"
       ]
      },
      {
       "output_type": "stream",
       "stream": "stdout",
       "text": [
        "\n",
        "Iter: 8000"
       ]
      },
      {
       "output_type": "stream",
       "stream": "stdout",
       "text": [
        "\n",
        "Loss: 0.002366\n",
        "('recon_loss = ', 0.0006361521)\n",
        "('saved session to ', '/home/vernwalrahul/projects/WorkSpace_Hlaton_2D/checkpoints/model.ckpt')"
       ]
      },
      {
       "output_type": "stream",
       "stream": "stdout",
       "text": [
        "\n",
        "Iter: 9000"
       ]
      },
      {
       "output_type": "stream",
       "stream": "stdout",
       "text": [
        "\n",
        "Loss: 0.002418\n",
        "('recon_loss = ', 0.0006841144)\n",
        "('saved session to ', '/home/vernwalrahul/projects/WorkSpace_Hlaton_2D/checkpoints/model.ckpt')"
       ]
      },
      {
       "output_type": "stream",
       "stream": "stdout",
       "text": [
        "\n",
        "Iter: 10000"
       ]
      },
      {
       "output_type": "stream",
       "stream": "stdout",
       "text": [
        "\n",
        "Loss: 0.002288\n",
        "('recon_loss = ', 0.0005966627)\n",
        "('saved session to ', '/home/vernwalrahul/projects/WorkSpace_Hlaton_2D/checkpoints/model.ckpt')"
       ]
      },
      {
       "output_type": "stream",
       "stream": "stdout",
       "text": [
        "\n",
        "Iter: 11000"
       ]
      },
      {
       "output_type": "stream",
       "stream": "stdout",
       "text": [
        "\n",
        "Loss: 0.00213\n",
        "('recon_loss = ', 0.00043628624)\n",
        "('saved session to ', '/home/vernwalrahul/projects/WorkSpace_Hlaton_2D/checkpoints/model.ckpt')"
       ]
      },
      {
       "output_type": "stream",
       "stream": "stdout",
       "text": [
        "\n",
        "Iter: 12000"
       ]
      },
      {
       "output_type": "stream",
       "stream": "stdout",
       "text": [
        "\n",
        "Loss: 0.002219\n",
        "('recon_loss = ', 0.0005053519)\n",
        "('saved session to ', '/home/vernwalrahul/projects/WorkSpace_Hlaton_2D/checkpoints/model.ckpt')"
       ]
      },
      {
       "output_type": "stream",
       "stream": "stdout",
       "text": [
        "\n",
        "Iter: 13000"
       ]
      },
      {
       "output_type": "stream",
       "stream": "stdout",
       "text": [
        "\n",
        "Loss: 0.002413\n",
        "('recon_loss = ', 0.0007220943)\n",
        "('saved session to ', '/home/vernwalrahul/projects/WorkSpace_Hlaton_2D/checkpoints/model.ckpt')"
       ]
      },
      {
       "output_type": "stream",
       "stream": "stdout",
       "text": [
        "\n",
        "Iter: 14000"
       ]
      },
      {
       "output_type": "stream",
       "stream": "stdout",
       "text": [
        "\n",
        "Loss: 0.002209\n",
        "('recon_loss = ', 0.0004895977)\n",
        "('saved session to ', '/home/vernwalrahul/projects/WorkSpace_Hlaton_2D/checkpoints/model.ckpt')"
       ]
      },
      {
       "output_type": "stream",
       "stream": "stdout",
       "text": [
        "\n",
        "Iter: 15000"
       ]
      },
      {
       "output_type": "stream",
       "stream": "stdout",
       "text": [
        "\n",
        "Loss: 0.002138\n",
        "('recon_loss = ', 0.00048765237)\n",
        "('saved session to ', '/home/vernwalrahul/projects/WorkSpace_Hlaton_2D/checkpoints/model.ckpt')"
       ]
      },
      {
       "output_type": "stream",
       "stream": "stdout",
       "text": [
        "\n",
        "Iter: 16000"
       ]
      },
      {
       "output_type": "stream",
       "stream": "stdout",
       "text": [
        "\n",
        "Loss: 0.002235\n",
        "('recon_loss = ', 0.0005738373)\n",
        "('saved session to ', '/home/vernwalrahul/projects/WorkSpace_Hlaton_2D/checkpoints/model.ckpt')"
       ]
      },
      {
       "output_type": "stream",
       "stream": "stdout",
       "text": [
        "\n",
        "Iter: 17000"
       ]
      },
      {
       "output_type": "stream",
       "stream": "stdout",
       "text": [
        "\n",
        "Loss: 0.002163\n",
        "('recon_loss = ', 0.0004870855)\n",
        "('saved session to ', '/home/vernwalrahul/projects/WorkSpace_Hlaton_2D/checkpoints/model.ckpt')"
       ]
      },
      {
       "output_type": "stream",
       "stream": "stdout",
       "text": [
        "\n",
        "Iter: 18000"
       ]
      },
      {
       "output_type": "stream",
       "stream": "stdout",
       "text": [
        "\n",
        "Loss: 0.002223\n",
        "('recon_loss = ', 0.00053834077)\n",
        "('saved session to ', '/home/vernwalrahul/projects/WorkSpace_Hlaton_2D/checkpoints/model.ckpt')"
       ]
      },
      {
       "output_type": "stream",
       "stream": "stdout",
       "text": [
        "\n",
        "Iter: 19000"
       ]
      },
      {
       "output_type": "stream",
       "stream": "stdout",
       "text": [
        "\n",
        "Loss: 0.002145\n",
        "('recon_loss = ', 0.00048933405)\n",
        "('saved session to ', '/home/vernwalrahul/projects/WorkSpace_Hlaton_2D/checkpoints/model.ckpt')"
       ]
      },
      {
       "output_type": "stream",
       "stream": "stdout",
       "text": [
        "\n",
        "Iter: 20000"
       ]
      },
      {
       "output_type": "stream",
       "stream": "stdout",
       "text": [
        "\n",
        "Loss: 0.002113\n",
        "('recon_loss = ', 0.00043970038)\n",
        "('saved session to ', '/home/vernwalrahul/projects/WorkSpace_Hlaton_2D/checkpoints/model.ckpt')"
       ]
      },
      {
       "output_type": "stream",
       "stream": "stdout",
       "text": [
        "\n",
        "Iter: 21000"
       ]
      },
      {
       "output_type": "stream",
       "stream": "stdout",
       "text": [
        "\n",
        "Loss: 0.002075\n",
        "('recon_loss = ', 0.00044795944)\n",
        "('saved session to ', '/home/vernwalrahul/projects/WorkSpace_Hlaton_2D/checkpoints/model.ckpt')"
       ]
      },
      {
       "output_type": "stream",
       "stream": "stdout",
       "text": [
        "\n",
        "Iter: 22000"
       ]
      },
      {
       "output_type": "stream",
       "stream": "stdout",
       "text": [
        "\n",
        "Loss: 0.002109\n",
        "('recon_loss = ', 0.00047956643)\n",
        "('saved session to ', '/home/vernwalrahul/projects/WorkSpace_Hlaton_2D/checkpoints/model.ckpt')"
       ]
      },
      {
       "output_type": "stream",
       "stream": "stdout",
       "text": [
        "\n",
        "Iter: 23000"
       ]
      },
      {
       "output_type": "stream",
       "stream": "stdout",
       "text": [
        "\n",
        "Loss: 0.002076\n",
        "('recon_loss = ', 0.00044555933)\n",
        "('saved session to ', '/home/vernwalrahul/projects/WorkSpace_Hlaton_2D/checkpoints/model.ckpt')"
       ]
      },
      {
       "output_type": "stream",
       "stream": "stdout",
       "text": [
        "\n",
        "Iter: 24000"
       ]
      },
      {
       "output_type": "stream",
       "stream": "stdout",
       "text": [
        "\n",
        "Loss: 0.00215\n",
        "('recon_loss = ', 0.00050474604)\n",
        "('saved session to ', '/home/vernwalrahul/projects/WorkSpace_Hlaton_2D/checkpoints/model.ckpt')"
       ]
      },
      {
       "output_type": "stream",
       "stream": "stdout",
       "text": [
        "\n",
        "Iter: 25000"
       ]
      },
      {
       "output_type": "stream",
       "stream": "stdout",
       "text": [
        "\n",
        "Loss: 0.002113\n",
        "('recon_loss = ', 0.0004524209)\n",
        "('saved session to ', '/home/vernwalrahul/projects/WorkSpace_Hlaton_2D/checkpoints/model.ckpt')"
       ]
      },
      {
       "output_type": "stream",
       "stream": "stdout",
       "text": [
        "\n",
        "Iter: 26000"
       ]
      },
      {
       "output_type": "stream",
       "stream": "stdout",
       "text": [
        "\n",
        "Loss: 0.002055\n",
        "('recon_loss = ', 0.00044793845)\n",
        "('saved session to ', '/home/vernwalrahul/projects/WorkSpace_Hlaton_2D/checkpoints/model.ckpt')"
       ]
      },
      {
       "output_type": "stream",
       "stream": "stdout",
       "text": [
        "\n",
        "Iter: 27000"
       ]
      },
      {
       "output_type": "stream",
       "stream": "stdout",
       "text": [
        "\n",
        "Loss: 0.00213\n",
        "('recon_loss = ', 0.0005054723)\n",
        "('saved session to ', '/home/vernwalrahul/projects/WorkSpace_Hlaton_2D/checkpoints/model.ckpt')"
       ]
      },
      {
       "output_type": "stream",
       "stream": "stdout",
       "text": [
        "\n",
        "Iter: 28000"
       ]
      },
      {
       "output_type": "stream",
       "stream": "stdout",
       "text": [
        "\n",
        "Loss: 0.002132\n",
        "('recon_loss = ', 0.0005135536)\n",
        "('saved session to ', '/home/vernwalrahul/projects/WorkSpace_Hlaton_2D/checkpoints/model.ckpt')"
       ]
      },
      {
       "output_type": "stream",
       "stream": "stdout",
       "text": [
        "\n",
        "Iter: 29000"
       ]
      },
      {
       "output_type": "stream",
       "stream": "stdout",
       "text": [
        "\n",
        "Loss: 0.002071\n",
        "('recon_loss = ', 0.00046726887)\n",
        "('saved session to ', '/home/vernwalrahul/projects/WorkSpace_Hlaton_2D/checkpoints/model.ckpt')"
       ]
      },
      {
       "output_type": "stream",
       "stream": "stdout",
       "text": [
        "\n",
        "Iter: 30000"
       ]
      },
      {
       "output_type": "stream",
       "stream": "stdout",
       "text": [
        "\n",
        "Loss: 0.002066\n",
        "('recon_loss = ', 0.0004500584)\n",
        "('saved session to ', '/home/vernwalrahul/projects/WorkSpace_Hlaton_2D/checkpoints/model.ckpt')"
       ]
      },
      {
       "output_type": "stream",
       "stream": "stdout",
       "text": [
        "\n",
        "Iter: 31000"
       ]
      },
      {
       "output_type": "stream",
       "stream": "stdout",
       "text": [
        "\n",
        "Loss: 0.002004\n",
        "('recon_loss = ', 0.0003898437)\n",
        "('saved session to ', '/home/vernwalrahul/projects/WorkSpace_Hlaton_2D/checkpoints/model.ckpt')"
       ]
      },
      {
       "output_type": "stream",
       "stream": "stdout",
       "text": [
        "\n",
        "Iter: 32000"
       ]
      },
      {
       "output_type": "stream",
       "stream": "stdout",
       "text": [
        "\n",
        "Loss: 0.002153\n",
        "('recon_loss = ', 0.000530981)\n",
        "('saved session to ', '/home/vernwalrahul/projects/WorkSpace_Hlaton_2D/checkpoints/model.ckpt')"
       ]
      },
      {
       "output_type": "stream",
       "stream": "stdout",
       "text": [
        "\n",
        "Iter: 33000"
       ]
      },
      {
       "output_type": "stream",
       "stream": "stdout",
       "text": [
        "\n",
        "Loss: 0.002376\n",
        "('recon_loss = ', 0.0007351411)\n",
        "('saved session to ', '/home/vernwalrahul/projects/WorkSpace_Hlaton_2D/checkpoints/model.ckpt')"
       ]
      },
      {
       "output_type": "stream",
       "stream": "stdout",
       "text": [
        "\n",
        "Iter: 34000"
       ]
      },
      {
       "output_type": "stream",
       "stream": "stdout",
       "text": [
        "\n",
        "Loss: 0.002015\n",
        "('recon_loss = ', 0.00047451616)\n",
        "('saved session to ', '/home/vernwalrahul/projects/WorkSpace_Hlaton_2D/checkpoints/model.ckpt')"
       ]
      },
      {
       "output_type": "stream",
       "stream": "stdout",
       "text": [
        "\n",
        "Iter: 35000"
       ]
      },
      {
       "output_type": "stream",
       "stream": "stdout",
       "text": [
        "\n",
        "Loss: 0.002046\n",
        "('recon_loss = ', 0.0004677643)\n",
        "('saved session to ', '/home/vernwalrahul/projects/WorkSpace_Hlaton_2D/checkpoints/model.ckpt')"
       ]
      },
      {
       "output_type": "stream",
       "stream": "stdout",
       "text": [
        "\n",
        "Iter: 36000"
       ]
      },
      {
       "output_type": "stream",
       "stream": "stdout",
       "text": [
        "\n",
        "Loss: 0.001991\n",
        "('recon_loss = ', 0.0004191373)\n",
        "('saved session to ', '/home/vernwalrahul/projects/WorkSpace_Hlaton_2D/checkpoints/model.ckpt')"
       ]
      },
      {
       "output_type": "stream",
       "stream": "stdout",
       "text": [
        "\n",
        "Iter: 37000"
       ]
      },
      {
       "output_type": "stream",
       "stream": "stdout",
       "text": [
        "\n",
        "Loss: 0.002401\n",
        "('recon_loss = ', 0.0007747009)\n",
        "('saved session to ', '/home/vernwalrahul/projects/WorkSpace_Hlaton_2D/checkpoints/model.ckpt')"
       ]
      },
      {
       "output_type": "stream",
       "stream": "stdout",
       "text": [
        "\n",
        "Iter: 38000"
       ]
      },
      {
       "output_type": "stream",
       "stream": "stdout",
       "text": [
        "\n",
        "Loss: 0.002054\n",
        "('recon_loss = ', 0.00046747742)\n",
        "('saved session to ', '/home/vernwalrahul/projects/WorkSpace_Hlaton_2D/checkpoints/model.ckpt')"
       ]
      },
      {
       "output_type": "stream",
       "stream": "stdout",
       "text": [
        "\n",
        "Iter: 39000"
       ]
      },
      {
       "output_type": "stream",
       "stream": "stdout",
       "text": [
        "\n",
        "Loss: 0.002059\n",
        "('recon_loss = ', 0.0004810039)\n",
        "('saved session to ', '/home/vernwalrahul/projects/WorkSpace_Hlaton_2D/checkpoints/model.ckpt')"
       ]
      },
      {
       "output_type": "stream",
       "stream": "stdout",
       "text": [
        "\n",
        "Iter: 40000"
       ]
      },
      {
       "output_type": "stream",
       "stream": "stdout",
       "text": [
        "\n",
        "Loss: 0.002101\n",
        "('recon_loss = ', 0.0005621387)\n",
        "('saved session to ', '/home/vernwalrahul/projects/WorkSpace_Hlaton_2D/checkpoints/model.ckpt')"
       ]
      },
      {
       "output_type": "stream",
       "stream": "stdout",
       "text": [
        "\n",
        "Iter: 41000"
       ]
      },
      {
       "output_type": "stream",
       "stream": "stdout",
       "text": [
        "\n",
        "Loss: 0.002058\n",
        "('recon_loss = ', 0.00047968037)\n",
        "('saved session to ', '/home/vernwalrahul/projects/WorkSpace_Hlaton_2D/checkpoints/model.ckpt')"
       ]
      },
      {
       "output_type": "stream",
       "stream": "stdout",
       "text": [
        "\n",
        "Iter: 42000"
       ]
      },
      {
       "output_type": "stream",
       "stream": "stdout",
       "text": [
        "\n",
        "Loss: 0.002076\n",
        "('recon_loss = ', 0.0004627442)\n",
        "('saved session to ', '/home/vernwalrahul/projects/WorkSpace_Hlaton_2D/checkpoints/model.ckpt')"
       ]
      },
      {
       "output_type": "stream",
       "stream": "stdout",
       "text": [
        "\n",
        "Iter: 43000"
       ]
      },
      {
       "output_type": "stream",
       "stream": "stdout",
       "text": [
        "\n",
        "Loss: 0.002112\n",
        "('recon_loss = ', 0.00056544103)\n",
        "('saved session to ', '/home/vernwalrahul/projects/WorkSpace_Hlaton_2D/checkpoints/model.ckpt')"
       ]
      },
      {
       "output_type": "stream",
       "stream": "stdout",
       "text": [
        "\n",
        "Iter: 44000"
       ]
      },
      {
       "output_type": "stream",
       "stream": "stdout",
       "text": [
        "\n",
        "Loss: 0.002059\n",
        "('recon_loss = ', 0.00049494347)\n",
        "('saved session to ', '/home/vernwalrahul/projects/WorkSpace_Hlaton_2D/checkpoints/model.ckpt')"
       ]
      },
      {
       "output_type": "stream",
       "stream": "stdout",
       "text": [
        "\n",
        "Iter: 45000"
       ]
      },
      {
       "output_type": "stream",
       "stream": "stdout",
       "text": [
        "\n",
        "Loss: 0.001981\n",
        "('recon_loss = ', 0.00043123472)\n",
        "('saved session to ', '/home/vernwalrahul/projects/WorkSpace_Hlaton_2D/checkpoints/model.ckpt')"
       ]
      },
      {
       "output_type": "stream",
       "stream": "stdout",
       "text": [
        "\n",
        "Iter: 46000"
       ]
      },
      {
       "output_type": "stream",
       "stream": "stdout",
       "text": [
        "\n",
        "Loss: 0.001994\n",
        "('recon_loss = ', 0.00043216592)\n",
        "('saved session to ', '/home/vernwalrahul/projects/WorkSpace_Hlaton_2D/checkpoints/model.ckpt')"
       ]
      },
      {
       "output_type": "stream",
       "stream": "stdout",
       "text": [
        "\n",
        "Iter: 47000"
       ]
      },
      {
       "output_type": "stream",
       "stream": "stdout",
       "text": [
        "\n",
        "Loss: 0.002061\n",
        "('recon_loss = ', 0.0004939368)\n",
        "('saved session to ', '/home/vernwalrahul/projects/WorkSpace_Hlaton_2D/checkpoints/model.ckpt')"
       ]
      },
      {
       "output_type": "stream",
       "stream": "stdout",
       "text": [
        "\n",
        "Iter: 48000"
       ]
      },
      {
       "output_type": "stream",
       "stream": "stdout",
       "text": [
        "\n",
        "Loss: 0.002094\n",
        "('recon_loss = ', 0.0005229525)\n",
        "('saved session to ', '/home/vernwalrahul/projects/WorkSpace_Hlaton_2D/checkpoints/model.ckpt')"
       ]
      },
      {
       "output_type": "stream",
       "stream": "stdout",
       "text": [
        "\n",
        "Iter: 49000"
       ]
      },
      {
       "output_type": "stream",
       "stream": "stdout",
       "text": [
        "\n",
        "Loss: 0.002022\n",
        "('recon_loss = ', 0.00054212654)\n",
        "('saved session to ', '/home/vernwalrahul/projects/WorkSpace_Hlaton_2D/checkpoints/model.ckpt')"
       ]
      },
      {
       "output_type": "stream",
       "stream": "stdout",
       "text": [
        "\n",
        "Iter: 50000"
       ]
      },
      {
       "output_type": "stream",
       "stream": "stdout",
       "text": [
        "\n",
        "Loss: 0.00205\n",
        "('recon_loss = ', 0.0005033845)\n",
        "('saved session to ', '/home/vernwalrahul/projects/WorkSpace_Hlaton_2D/checkpoints/model.ckpt')"
       ]
      },
      {
       "output_type": "stream",
       "stream": "stdout",
       "text": [
        "\n",
        "Iter: 51000"
       ]
      },
      {
       "output_type": "stream",
       "stream": "stdout",
       "text": [
        "\n",
        "Loss: 0.002128\n",
        "('recon_loss = ', 0.00062023965)\n",
        "('saved session to ', '/home/vernwalrahul/projects/WorkSpace_Hlaton_2D/checkpoints/model.ckpt')"
       ]
      },
      {
       "output_type": "stream",
       "stream": "stdout",
       "text": [
        "\n",
        "Iter: 52000"
       ]
      },
      {
       "output_type": "stream",
       "stream": "stdout",
       "text": [
        "\n",
        "Loss: 0.002039\n",
        "('recon_loss = ', 0.00050606055)\n",
        "('saved session to ', '/home/vernwalrahul/projects/WorkSpace_Hlaton_2D/checkpoints/model.ckpt')"
       ]
      },
      {
       "output_type": "stream",
       "stream": "stdout",
       "text": [
        "\n",
        "Iter: 53000"
       ]
      },
      {
       "output_type": "stream",
       "stream": "stdout",
       "text": [
        "\n",
        "Loss: 0.002012\n",
        "('recon_loss = ', 0.0005291487)\n",
        "('saved session to ', '/home/vernwalrahul/projects/WorkSpace_Hlaton_2D/checkpoints/model.ckpt')"
       ]
      },
      {
       "output_type": "stream",
       "stream": "stdout",
       "text": [
        "\n",
        "Iter: 54000"
       ]
      },
      {
       "output_type": "stream",
       "stream": "stdout",
       "text": [
        "\n",
        "Loss: 0.002068\n",
        "('recon_loss = ', 0.00055710366)\n",
        "('saved session to ', '/home/vernwalrahul/projects/WorkSpace_Hlaton_2D/checkpoints/model.ckpt')"
       ]
      },
      {
       "output_type": "stream",
       "stream": "stdout",
       "text": [
        "\n",
        "Iter: 55000"
       ]
      },
      {
       "output_type": "stream",
       "stream": "stdout",
       "text": [
        "\n",
        "Loss: 0.001979\n",
        "('recon_loss = ', 0.00046541292)\n",
        "('saved session to ', '/home/vernwalrahul/projects/WorkSpace_Hlaton_2D/checkpoints/model.ckpt')"
       ]
      },
      {
       "output_type": "stream",
       "stream": "stdout",
       "text": [
        "\n",
        "Iter: 56000"
       ]
      },
      {
       "output_type": "stream",
       "stream": "stdout",
       "text": [
        "\n",
        "Loss: 0.002189\n",
        "('recon_loss = ', 0.0006724497)\n",
        "('saved session to ', '/home/vernwalrahul/projects/WorkSpace_Hlaton_2D/checkpoints/model.ckpt')"
       ]
      },
      {
       "output_type": "stream",
       "stream": "stdout",
       "text": [
        "\n",
        "Iter: 57000"
       ]
      },
      {
       "output_type": "stream",
       "stream": "stdout",
       "text": [
        "\n",
        "Loss: 0.002064\n",
        "('recon_loss = ', 0.0005795701)\n",
        "('saved session to ', '/home/vernwalrahul/projects/WorkSpace_Hlaton_2D/checkpoints/model.ckpt')"
       ]
      },
      {
       "output_type": "stream",
       "stream": "stdout",
       "text": [
        "\n",
        "Iter: 58000"
       ]
      },
      {
       "output_type": "stream",
       "stream": "stdout",
       "text": [
        "\n",
        "Loss: 0.002014\n",
        "('recon_loss = ', 0.00054420414)\n",
        "('saved session to ', '/home/vernwalrahul/projects/WorkSpace_Hlaton_2D/checkpoints/model.ckpt')"
       ]
      },
      {
       "output_type": "stream",
       "stream": "stdout",
       "text": [
        "\n",
        "Iter: 59000"
       ]
      },
      {
       "output_type": "stream",
       "stream": "stdout",
       "text": [
        "\n",
        "Loss: 0.001927\n",
        "('recon_loss = ', 0.00044575013)\n",
        "('saved session to ', '/home/vernwalrahul/projects/WorkSpace_Hlaton_2D/checkpoints/model.ckpt')"
       ]
      },
      {
       "output_type": "stream",
       "stream": "stdout",
       "text": [
        "\n",
        "Iter: 60000"
       ]
      },
      {
       "output_type": "stream",
       "stream": "stdout",
       "text": [
        "\n",
        "Loss: 0.002154\n",
        "('recon_loss = ', 0.0006833492)\n",
        "('saved session to ', '/home/vernwalrahul/projects/WorkSpace_Hlaton_2D/checkpoints/model.ckpt')"
       ]
      },
      {
       "output_type": "stream",
       "stream": "stdout",
       "text": [
        "\n",
        "Iter: 61000"
       ]
      },
      {
       "output_type": "stream",
       "stream": "stdout",
       "text": [
        "\n",
        "Loss: 0.001941\n",
        "('recon_loss = ', 0.00045461566)\n",
        "('saved session to ', '/home/vernwalrahul/projects/WorkSpace_Hlaton_2D/checkpoints/model.ckpt')"
       ]
      },
      {
       "output_type": "stream",
       "stream": "stdout",
       "text": [
        "\n",
        "Iter: 62000"
       ]
      },
      {
       "output_type": "stream",
       "stream": "stdout",
       "text": [
        "\n",
        "Loss: 0.001916\n",
        "('recon_loss = ', 0.00044744537)\n",
        "('saved session to ', '/home/vernwalrahul/projects/WorkSpace_Hlaton_2D/checkpoints/model.ckpt')"
       ]
      },
      {
       "output_type": "stream",
       "stream": "stdout",
       "text": [
        "\n",
        "Iter: 63000"
       ]
      },
      {
       "output_type": "stream",
       "stream": "stdout",
       "text": [
        "\n",
        "Loss: 0.002005\n",
        "('recon_loss = ', 0.00050615496)\n",
        "('saved session to ', '/home/vernwalrahul/projects/WorkSpace_Hlaton_2D/checkpoints/model.ckpt')"
       ]
      },
      {
       "output_type": "stream",
       "stream": "stdout",
       "text": [
        "\n",
        "Iter: 64000"
       ]
      },
      {
       "output_type": "stream",
       "stream": "stdout",
       "text": [
        "\n",
        "Loss: 0.001917\n",
        "('recon_loss = ', 0.00043817004)\n",
        "('saved session to ', '/home/vernwalrahul/projects/WorkSpace_Hlaton_2D/checkpoints/model.ckpt')"
       ]
      },
      {
       "output_type": "stream",
       "stream": "stdout",
       "text": [
        "\n",
        "Iter: 65000"
       ]
      },
      {
       "output_type": "stream",
       "stream": "stdout",
       "text": [
        "\n",
        "Loss: 0.002029\n",
        "('recon_loss = ', 0.0005414757)\n",
        "('saved session to ', '/home/vernwalrahul/projects/WorkSpace_Hlaton_2D/checkpoints/model.ckpt')"
       ]
      },
      {
       "output_type": "stream",
       "stream": "stdout",
       "text": [
        "\n",
        "Iter: 66000"
       ]
      },
      {
       "output_type": "stream",
       "stream": "stdout",
       "text": [
        "\n",
        "Loss: 0.002004\n",
        "('recon_loss = ', 0.0005432073)\n",
        "('saved session to ', '/home/vernwalrahul/projects/WorkSpace_Hlaton_2D/checkpoints/model.ckpt')"
       ]
      },
      {
       "output_type": "stream",
       "stream": "stdout",
       "text": [
        "\n",
        "Iter: 67000"
       ]
      },
      {
       "output_type": "stream",
       "stream": "stdout",
       "text": [
        "\n",
        "Loss: 0.001907\n",
        "('recon_loss = ', 0.00049353566)\n",
        "('saved session to ', '/home/vernwalrahul/projects/WorkSpace_Hlaton_2D/checkpoints/model.ckpt')"
       ]
      },
      {
       "output_type": "stream",
       "stream": "stdout",
       "text": [
        "\n",
        "Iter: 68000"
       ]
      },
      {
       "output_type": "stream",
       "stream": "stdout",
       "text": [
        "\n",
        "Loss: 0.002068\n",
        "('recon_loss = ', 0.0005741607)\n",
        "('saved session to ', '/home/vernwalrahul/projects/WorkSpace_Hlaton_2D/checkpoints/model.ckpt')"
       ]
      },
      {
       "output_type": "stream",
       "stream": "stdout",
       "text": [
        "\n",
        "Iter: 69000"
       ]
      },
      {
       "output_type": "stream",
       "stream": "stdout",
       "text": [
        "\n",
        "Loss: 0.001882\n",
        "('recon_loss = ', 0.0004580338)\n",
        "('saved session to ', '/home/vernwalrahul/projects/WorkSpace_Hlaton_2D/checkpoints/model.ckpt')"
       ]
      },
      {
       "output_type": "stream",
       "stream": "stdout",
       "text": [
        "\n",
        "Iter: 70000"
       ]
      },
      {
       "output_type": "stream",
       "stream": "stdout",
       "text": [
        "\n",
        "Loss: 0.002001\n",
        "('recon_loss = ', 0.00058474287)\n",
        "('saved session to ', '/home/vernwalrahul/projects/WorkSpace_Hlaton_2D/checkpoints/model.ckpt')"
       ]
      },
      {
       "output_type": "stream",
       "stream": "stdout",
       "text": [
        "\n",
        "Iter: 71000"
       ]
      },
      {
       "output_type": "stream",
       "stream": "stdout",
       "text": [
        "\n",
        "Loss: 0.001867\n",
        "('recon_loss = ', 0.00042235944)\n",
        "('saved session to ', '/home/vernwalrahul/projects/WorkSpace_Hlaton_2D/checkpoints/model.ckpt')"
       ]
      },
      {
       "output_type": "stream",
       "stream": "stdout",
       "text": [
        "\n",
        "Iter: 72000"
       ]
      },
      {
       "output_type": "stream",
       "stream": "stdout",
       "text": [
        "\n",
        "Loss: 0.001962\n",
        "('recon_loss = ', 0.0005273808)\n",
        "('saved session to ', '/home/vernwalrahul/projects/WorkSpace_Hlaton_2D/checkpoints/model.ckpt')"
       ]
      },
      {
       "output_type": "stream",
       "stream": "stdout",
       "text": [
        "\n",
        "Iter: 73000"
       ]
      },
      {
       "output_type": "stream",
       "stream": "stdout",
       "text": [
        "\n",
        "Loss: 0.00188\n",
        "('recon_loss = ', 0.00043714273)\n",
        "('saved session to ', '/home/vernwalrahul/projects/WorkSpace_Hlaton_2D/checkpoints/model.ckpt')"
       ]
      },
      {
       "output_type": "stream",
       "stream": "stdout",
       "text": [
        "\n",
        "Iter: 74000"
       ]
      },
      {
       "output_type": "stream",
       "stream": "stdout",
       "text": [
        "\n",
        "Loss: 0.001991\n",
        "('recon_loss = ', 0.00054245326)\n",
        "('saved session to ', '/home/vernwalrahul/projects/WorkSpace_Hlaton_2D/checkpoints/model.ckpt')"
       ]
      },
      {
       "output_type": "stream",
       "stream": "stdout",
       "text": [
        "\n",
        "Iter: 75000"
       ]
      },
      {
       "output_type": "stream",
       "stream": "stdout",
       "text": [
        "\n",
        "Loss: 0.001878\n",
        "('recon_loss = ', 0.00048821242)\n",
        "('saved session to ', '/home/vernwalrahul/projects/WorkSpace_Hlaton_2D/checkpoints/model.ckpt')"
       ]
      },
      {
       "output_type": "stream",
       "stream": "stdout",
       "text": [
        "\n",
        "Iter: 76000"
       ]
      },
      {
       "output_type": "stream",
       "stream": "stdout",
       "text": [
        "\n",
        "Loss: 0.002026\n",
        "('recon_loss = ', 0.00058182527)\n",
        "('saved session to ', '/home/vernwalrahul/projects/WorkSpace_Hlaton_2D/checkpoints/model.ckpt')"
       ]
      },
      {
       "output_type": "stream",
       "stream": "stdout",
       "text": [
        "\n",
        "Iter: 77000"
       ]
      },
      {
       "output_type": "stream",
       "stream": "stdout",
       "text": [
        "\n",
        "Loss: 0.001902\n",
        "('recon_loss = ', 0.00044898593)\n",
        "('saved session to ', '/home/vernwalrahul/projects/WorkSpace_Hlaton_2D/checkpoints/model.ckpt')"
       ]
      },
      {
       "output_type": "stream",
       "stream": "stdout",
       "text": [
        "\n",
        "Iter: 78000"
       ]
      },
      {
       "output_type": "stream",
       "stream": "stdout",
       "text": [
        "\n",
        "Loss: 0.001908\n",
        "('recon_loss = ', 0.00046779792)\n",
        "('saved session to ', '/home/vernwalrahul/projects/WorkSpace_Hlaton_2D/checkpoints/model.ckpt')"
       ]
      },
      {
       "output_type": "stream",
       "stream": "stdout",
       "text": [
        "\n",
        "Iter: 79000"
       ]
      },
      {
       "output_type": "stream",
       "stream": "stdout",
       "text": [
        "\n",
        "Loss: 0.001836\n",
        "('recon_loss = ', 0.00043371684)\n",
        "('saved session to ', '/home/vernwalrahul/projects/WorkSpace_Hlaton_2D/checkpoints/model.ckpt')"
       ]
      },
      {
       "output_type": "stream",
       "stream": "stdout",
       "text": [
        "\n",
        "Iter: 80000"
       ]
      },
      {
       "output_type": "stream",
       "stream": "stdout",
       "text": [
        "\n",
        "Loss: 0.001825\n",
        "('recon_loss = ', 0.0004331068)\n",
        "('saved session to ', '/home/vernwalrahul/projects/WorkSpace_Hlaton_2D/checkpoints/model.ckpt')"
       ]
      },
      {
       "output_type": "stream",
       "stream": "stdout",
       "text": [
        "\n",
        "Iter: 81000"
       ]
      },
      {
       "output_type": "stream",
       "stream": "stdout",
       "text": [
        "\n",
        "Loss: 0.001885\n",
        "('recon_loss = ', 0.0004899251)\n",
        "('saved session to ', '/home/vernwalrahul/projects/WorkSpace_Hlaton_2D/checkpoints/model.ckpt')"
       ]
      },
      {
       "output_type": "stream",
       "stream": "stdout",
       "text": [
        "\n",
        "Iter: 82000"
       ]
      },
      {
       "output_type": "stream",
       "stream": "stdout",
       "text": [
        "\n",
        "Loss: 0.001835\n",
        "('recon_loss = ', 0.000451512)\n",
        "('saved session to ', '/home/vernwalrahul/projects/WorkSpace_Hlaton_2D/checkpoints/model.ckpt')"
       ]
      },
      {
       "output_type": "stream",
       "stream": "stdout",
       "text": [
        "\n",
        "Iter: 83000"
       ]
      },
      {
       "output_type": "stream",
       "stream": "stdout",
       "text": [
        "\n",
        "Loss: 0.001796\n",
        "('recon_loss = ', 0.00038713543)\n",
        "('saved session to ', '/home/vernwalrahul/projects/WorkSpace_Hlaton_2D/checkpoints/model.ckpt')"
       ]
      },
      {
       "output_type": "stream",
       "stream": "stdout",
       "text": [
        "\n",
        "Iter: 84000"
       ]
      },
      {
       "output_type": "stream",
       "stream": "stdout",
       "text": [
        "\n",
        "Loss: 0.001928\n",
        "('recon_loss = ', 0.0005333101)\n",
        "('saved session to ', '/home/vernwalrahul/projects/WorkSpace_Hlaton_2D/checkpoints/model.ckpt')"
       ]
      },
      {
       "output_type": "stream",
       "stream": "stdout",
       "text": [
        "\n",
        "Iter: 85000"
       ]
      },
      {
       "output_type": "stream",
       "stream": "stdout",
       "text": [
        "\n",
        "Loss: 0.001852\n",
        "('recon_loss = ', 0.00049675244)\n",
        "('saved session to ', '/home/vernwalrahul/projects/WorkSpace_Hlaton_2D/checkpoints/model.ckpt')"
       ]
      },
      {
       "output_type": "stream",
       "stream": "stdout",
       "text": [
        "\n",
        "Iter: 86000"
       ]
      },
      {
       "output_type": "stream",
       "stream": "stdout",
       "text": [
        "\n",
        "Loss: 0.001872\n",
        "('recon_loss = ', 0.00048367248)\n",
        "('saved session to ', '/home/vernwalrahul/projects/WorkSpace_Hlaton_2D/checkpoints/model.ckpt')"
       ]
      },
      {
       "output_type": "stream",
       "stream": "stdout",
       "text": [
        "\n",
        "Iter: 87000"
       ]
      },
      {
       "output_type": "stream",
       "stream": "stdout",
       "text": [
        "\n",
        "Loss: 0.001838\n",
        "('recon_loss = ', 0.0004391207)\n",
        "('saved session to ', '/home/vernwalrahul/projects/WorkSpace_Hlaton_2D/checkpoints/model.ckpt')"
       ]
      },
      {
       "output_type": "stream",
       "stream": "stdout",
       "text": [
        "\n",
        "Iter: 88000"
       ]
      },
      {
       "output_type": "stream",
       "stream": "stdout",
       "text": [
        "\n",
        "Loss: 0.001859\n",
        "('recon_loss = ', 0.00048306712)\n",
        "('saved session to ', '/home/vernwalrahul/projects/WorkSpace_Hlaton_2D/checkpoints/model.ckpt')"
       ]
      },
      {
       "output_type": "stream",
       "stream": "stdout",
       "text": [
        "\n",
        "Iter: 89000"
       ]
      },
      {
       "output_type": "stream",
       "stream": "stdout",
       "text": [
        "\n",
        "Loss: 0.001808\n",
        "('recon_loss = ', 0.0004083924)\n",
        "('saved session to ', '/home/vernwalrahul/projects/WorkSpace_Hlaton_2D/checkpoints/model.ckpt')"
       ]
      },
      {
       "output_type": "stream",
       "stream": "stdout",
       "text": [
        "\n",
        "Iter: 90000"
       ]
      },
      {
       "output_type": "stream",
       "stream": "stdout",
       "text": [
        "\n",
        "Loss: 0.001779\n",
        "('recon_loss = ', 0.00039180653)\n",
        "('saved session to ', '/home/vernwalrahul/projects/WorkSpace_Hlaton_2D/checkpoints/model.ckpt')"
       ]
      },
      {
       "output_type": "stream",
       "stream": "stdout",
       "text": [
        "\n",
        "Iter: 91000"
       ]
      },
      {
       "output_type": "stream",
       "stream": "stdout",
       "text": [
        "\n",
        "Loss: 0.001846\n",
        "('recon_loss = ', 0.00045030934)\n",
        "('saved session to ', '/home/vernwalrahul/projects/WorkSpace_Hlaton_2D/checkpoints/model.ckpt')"
       ]
      },
      {
       "output_type": "stream",
       "stream": "stdout",
       "text": [
        "\n",
        "Iter: 92000"
       ]
      },
      {
       "output_type": "stream",
       "stream": "stdout",
       "text": [
        "\n",
        "Loss: 0.001799\n",
        "('recon_loss = ', 0.00044150904)\n",
        "('saved session to ', '/home/vernwalrahul/projects/WorkSpace_Hlaton_2D/checkpoints/model.ckpt')"
       ]
      },
      {
       "output_type": "stream",
       "stream": "stdout",
       "text": [
        "\n",
        "Iter: 93000"
       ]
      },
      {
       "output_type": "stream",
       "stream": "stdout",
       "text": [
        "\n",
        "Loss: 0.001898\n",
        "('recon_loss = ', 0.0005535601)\n",
        "('saved session to ', '/home/vernwalrahul/projects/WorkSpace_Hlaton_2D/checkpoints/model.ckpt')"
       ]
      },
      {
       "output_type": "stream",
       "stream": "stdout",
       "text": [
        "\n",
        "Iter: 94000"
       ]
      },
      {
       "output_type": "stream",
       "stream": "stdout",
       "text": [
        "\n",
        "Loss: 0.00176\n",
        "('recon_loss = ', 0.00039635733)\n",
        "('saved session to ', '/home/vernwalrahul/projects/WorkSpace_Hlaton_2D/checkpoints/model.ckpt')"
       ]
      },
      {
       "output_type": "stream",
       "stream": "stdout",
       "text": [
        "\n",
        "Iter: 95000"
       ]
      },
      {
       "output_type": "stream",
       "stream": "stdout",
       "text": [
        "\n",
        "Loss: 0.001801\n",
        "('recon_loss = ', 0.00045224477)\n",
        "('saved session to ', '/home/vernwalrahul/projects/WorkSpace_Hlaton_2D/checkpoints/model.ckpt')"
       ]
      },
      {
       "output_type": "stream",
       "stream": "stdout",
       "text": [
        "\n",
        "Iter: 96000"
       ]
      },
      {
       "output_type": "stream",
       "stream": "stdout",
       "text": [
        "\n",
        "Loss: 0.001949\n",
        "('recon_loss = ', 0.0005471441)\n",
        "('saved session to ', '/home/vernwalrahul/projects/WorkSpace_Hlaton_2D/checkpoints/model.ckpt')"
       ]
      },
      {
       "output_type": "stream",
       "stream": "stdout",
       "text": [
        "\n",
        "Iter: 97000"
       ]
      },
      {
       "output_type": "stream",
       "stream": "stdout",
       "text": [
        "\n",
        "Loss: 0.001892\n",
        "('recon_loss = ', 0.00051780953)\n",
        "('saved session to ', '/home/vernwalrahul/projects/WorkSpace_Hlaton_2D/checkpoints/model.ckpt')"
       ]
      },
      {
       "output_type": "stream",
       "stream": "stdout",
       "text": [
        "\n",
        "Iter: 98000"
       ]
      },
      {
       "output_type": "stream",
       "stream": "stdout",
       "text": [
        "\n",
        "Loss: 0.001754\n",
        "('recon_loss = ', 0.0004302106)\n",
        "('saved session to ', '/home/vernwalrahul/projects/WorkSpace_Hlaton_2D/checkpoints/model.ckpt')"
       ]
      },
      {
       "output_type": "stream",
       "stream": "stdout",
       "text": [
        "\n",
        "Iter: 99000"
       ]
      },
      {
       "output_type": "stream",
       "stream": "stdout",
       "text": [
        "\n",
        "Loss: 0.001882\n",
        "('recon_loss = ', 0.0005200308)\n",
        "('saved session to ', '/home/vernwalrahul/projects/WorkSpace_Hlaton_2D/checkpoints/model.ckpt')"
       ]
      },
      {
       "output_type": "stream",
       "stream": "stdout",
       "text": [
        "\n",
        "Iter: 100000"
       ]
      },
      {
       "output_type": "stream",
       "stream": "stdout",
       "text": [
        "\n",
        "Loss: 0.001881\n",
        "('recon_loss = ', 0.0005739308)\n",
        "('saved session to ', '/home/vernwalrahul/projects/WorkSpace_Hlaton_2D/checkpoints/model.ckpt')"
       ]
      },
      {
       "output_type": "stream",
       "stream": "stdout",
       "text": [
        "\n",
        "Iter: 101000"
       ]
      },
      {
       "output_type": "stream",
       "stream": "stdout",
       "text": [
        "\n",
        "Loss: 0.001885\n",
        "('recon_loss = ', 0.0005034489)\n",
        "('saved session to ', '/home/vernwalrahul/projects/WorkSpace_Hlaton_2D/checkpoints/model.ckpt')"
       ]
      },
      {
       "output_type": "stream",
       "stream": "stdout",
       "text": [
        "\n",
        "Iter: 102000"
       ]
      },
      {
       "output_type": "stream",
       "stream": "stdout",
       "text": [
        "\n",
        "Loss: 0.001804\n",
        "('recon_loss = ', 0.00046421908)\n",
        "('saved session to ', '/home/vernwalrahul/projects/WorkSpace_Hlaton_2D/checkpoints/model.ckpt')"
       ]
      },
      {
       "output_type": "stream",
       "stream": "stdout",
       "text": [
        "\n",
        "Iter: 103000"
       ]
      },
      {
       "output_type": "stream",
       "stream": "stdout",
       "text": [
        "\n",
        "Loss: 0.001776\n",
        "('recon_loss = ', 0.000447085)\n",
        "('saved session to ', '/home/vernwalrahul/projects/WorkSpace_Hlaton_2D/checkpoints/model.ckpt')"
       ]
      },
      {
       "output_type": "stream",
       "stream": "stdout",
       "text": [
        "\n",
        "Iter: 104000"
       ]
      },
      {
       "output_type": "stream",
       "stream": "stdout",
       "text": [
        "\n",
        "Loss: 0.001872\n",
        "('recon_loss = ', 0.0005033554)\n",
        "('saved session to ', '/home/vernwalrahul/projects/WorkSpace_Hlaton_2D/checkpoints/model.ckpt')"
       ]
      },
      {
       "output_type": "stream",
       "stream": "stdout",
       "text": [
        "\n",
        "Iter: 105000"
       ]
      },
      {
       "output_type": "stream",
       "stream": "stdout",
       "text": [
        "\n",
        "Loss: 0.002106\n",
        "('recon_loss = ', 0.00076406635)\n",
        "('saved session to ', '/home/vernwalrahul/projects/WorkSpace_Hlaton_2D/checkpoints/model.ckpt')"
       ]
      },
      {
       "output_type": "stream",
       "stream": "stdout",
       "text": [
        "\n",
        "Iter: 106000"
       ]
      },
      {
       "output_type": "stream",
       "stream": "stdout",
       "text": [
        "\n",
        "Loss: 0.001871\n",
        "('recon_loss = ', 0.0005611448)\n",
        "('saved session to ', '/home/vernwalrahul/projects/WorkSpace_Hlaton_2D/checkpoints/model.ckpt')"
       ]
      },
      {
       "output_type": "stream",
       "stream": "stdout",
       "text": [
        "\n",
        "Iter: 107000"
       ]
      },
      {
       "output_type": "stream",
       "stream": "stdout",
       "text": [
        "\n",
        "Loss: 0.001727\n",
        "('recon_loss = ', 0.00042200708)\n",
        "('saved session to ', '/home/vernwalrahul/projects/WorkSpace_Hlaton_2D/checkpoints/model.ckpt')"
       ]
      },
      {
       "output_type": "stream",
       "stream": "stdout",
       "text": [
        "\n",
        "Iter: 108000"
       ]
      },
      {
       "output_type": "stream",
       "stream": "stdout",
       "text": [
        "\n",
        "Loss: 0.001833\n",
        "('recon_loss = ', 0.0004965659)\n",
        "('saved session to ', '/home/vernwalrahul/projects/WorkSpace_Hlaton_2D/checkpoints/model.ckpt')"
       ]
      },
      {
       "output_type": "stream",
       "stream": "stdout",
       "text": [
        "\n",
        "Iter: 109000"
       ]
      },
      {
       "output_type": "stream",
       "stream": "stdout",
       "text": [
        "\n",
        "Loss: 0.001825\n",
        "('recon_loss = ', 0.00048189098)\n",
        "('saved session to ', '/home/vernwalrahul/projects/WorkSpace_Hlaton_2D/checkpoints/model.ckpt')"
       ]
      },
      {
       "output_type": "stream",
       "stream": "stdout",
       "text": [
        "\n",
        "Iter: 110000"
       ]
      },
      {
       "output_type": "stream",
       "stream": "stdout",
       "text": [
        "\n",
        "Loss: 0.001769\n",
        "('recon_loss = ', 0.00042624245)\n",
        "('saved session to ', '/home/vernwalrahul/projects/WorkSpace_Hlaton_2D/checkpoints/model.ckpt')"
       ]
      },
      {
       "output_type": "stream",
       "stream": "stdout",
       "text": [
        "\n",
        "Iter: 111000"
       ]
      },
      {
       "output_type": "stream",
       "stream": "stdout",
       "text": [
        "\n",
        "Loss: 0.001725\n",
        "('recon_loss = ', 0.0004103581)\n",
        "('saved session to ', '/home/vernwalrahul/projects/WorkSpace_Hlaton_2D/checkpoints/model.ckpt')"
       ]
      },
      {
       "output_type": "stream",
       "stream": "stdout",
       "text": [
        "\n",
        "Iter: 112000"
       ]
      },
      {
       "output_type": "stream",
       "stream": "stdout",
       "text": [
        "\n",
        "Loss: 0.001699\n",
        "('recon_loss = ', 0.00040033355)\n",
        "('saved session to ', '/home/vernwalrahul/projects/WorkSpace_Hlaton_2D/checkpoints/model.ckpt')"
       ]
      },
      {
       "output_type": "stream",
       "stream": "stdout",
       "text": [
        "\n",
        "Iter: 113000"
       ]
      },
      {
       "output_type": "stream",
       "stream": "stdout",
       "text": [
        "\n",
        "Loss: 0.001742\n",
        "('recon_loss = ', 0.00039200304)\n",
        "('saved session to ', '/home/vernwalrahul/projects/WorkSpace_Hlaton_2D/checkpoints/model.ckpt')"
       ]
      },
      {
       "output_type": "stream",
       "stream": "stdout",
       "text": [
        "\n",
        "Iter: 114000"
       ]
      },
      {
       "output_type": "stream",
       "stream": "stdout",
       "text": [
        "\n",
        "Loss: 0.001745\n",
        "('recon_loss = ', 0.00040040287)\n",
        "('saved session to ', '/home/vernwalrahul/projects/WorkSpace_Hlaton_2D/checkpoints/model.ckpt')"
       ]
      },
      {
       "output_type": "stream",
       "stream": "stdout",
       "text": [
        "\n",
        "Iter: 115000"
       ]
      },
      {
       "output_type": "stream",
       "stream": "stdout",
       "text": [
        "\n",
        "Loss: 0.001722\n",
        "('recon_loss = ', 0.00041336403)\n",
        "('saved session to ', '/home/vernwalrahul/projects/WorkSpace_Hlaton_2D/checkpoints/model.ckpt')"
       ]
      },
      {
       "output_type": "stream",
       "stream": "stdout",
       "text": [
        "\n",
        "Iter: 116000"
       ]
      },
      {
       "output_type": "stream",
       "stream": "stdout",
       "text": [
        "\n",
        "Loss: 0.0019\n",
        "('recon_loss = ', 0.0005731726)\n",
        "('saved session to ', '/home/vernwalrahul/projects/WorkSpace_Hlaton_2D/checkpoints/model.ckpt')"
       ]
      },
      {
       "output_type": "stream",
       "stream": "stdout",
       "text": [
        "\n",
        "Iter: 117000"
       ]
      },
      {
       "output_type": "stream",
       "stream": "stdout",
       "text": [
        "\n",
        "Loss: 0.001713\n",
        "('recon_loss = ', 0.00040641494)\n",
        "('saved session to ', '/home/vernwalrahul/projects/WorkSpace_Hlaton_2D/checkpoints/model.ckpt')"
       ]
      },
      {
       "output_type": "stream",
       "stream": "stdout",
       "text": [
        "\n",
        "Iter: 118000"
       ]
      },
      {
       "output_type": "stream",
       "stream": "stdout",
       "text": [
        "\n",
        "Loss: 0.001764\n",
        "('recon_loss = ', 0.00046293729)\n",
        "('saved session to ', '/home/vernwalrahul/projects/WorkSpace_Hlaton_2D/checkpoints/model.ckpt')"
       ]
      },
      {
       "output_type": "stream",
       "stream": "stdout",
       "text": [
        "\n",
        "Iter: 119000"
       ]
      },
      {
       "output_type": "stream",
       "stream": "stdout",
       "text": [
        "\n",
        "Loss: 0.001665\n",
        "('recon_loss = ', 0.00037295924)\n",
        "('saved session to ', '/home/vernwalrahul/projects/WorkSpace_Hlaton_2D/checkpoints/model.ckpt')"
       ]
      },
      {
       "output_type": "stream",
       "stream": "stdout",
       "text": [
        "\n",
        "Iter: 120000"
       ]
      },
      {
       "output_type": "stream",
       "stream": "stdout",
       "text": [
        "\n",
        "Loss: 0.001752\n",
        "('recon_loss = ', 0.00045947023)\n",
        "('saved session to ', '/home/vernwalrahul/projects/WorkSpace_Hlaton_2D/checkpoints/model.ckpt')"
       ]
      },
      {
       "output_type": "stream",
       "stream": "stdout",
       "text": [
        "\n",
        "Iter: 121000"
       ]
      },
      {
       "output_type": "stream",
       "stream": "stdout",
       "text": [
        "\n",
        "Loss: 0.001826\n",
        "('recon_loss = ', 0.00051346474)\n",
        "('saved session to ', '/home/vernwalrahul/projects/WorkSpace_Hlaton_2D/checkpoints/model.ckpt')"
       ]
      },
      {
       "output_type": "stream",
       "stream": "stdout",
       "text": [
        "\n",
        "Iter: 122000"
       ]
      },
      {
       "output_type": "stream",
       "stream": "stdout",
       "text": [
        "\n",
        "Loss: 0.001716\n",
        "('recon_loss = ', 0.0003735762)\n",
        "('saved session to ', '/home/vernwalrahul/projects/WorkSpace_Hlaton_2D/checkpoints/model.ckpt')"
       ]
      },
      {
       "output_type": "stream",
       "stream": "stdout",
       "text": [
        "\n",
        "Iter: 123000"
       ]
      },
      {
       "output_type": "stream",
       "stream": "stdout",
       "text": [
        "\n",
        "Loss: 0.001713\n",
        "('recon_loss = ', 0.00040225603)\n",
        "('saved session to ', '/home/vernwalrahul/projects/WorkSpace_Hlaton_2D/checkpoints/model.ckpt')"
       ]
      },
      {
       "output_type": "stream",
       "stream": "stdout",
       "text": [
        "\n",
        "Iter: 124000"
       ]
      },
      {
       "output_type": "stream",
       "stream": "stdout",
       "text": [
        "\n",
        "Loss: 0.001735\n",
        "('recon_loss = ', 0.00039529183)\n",
        "('saved session to ', '/home/vernwalrahul/projects/WorkSpace_Hlaton_2D/checkpoints/model.ckpt')"
       ]
      },
      {
       "output_type": "stream",
       "stream": "stdout",
       "text": [
        "\n",
        "Iter: 125000"
       ]
      },
      {
       "output_type": "stream",
       "stream": "stdout",
       "text": [
        "\n",
        "Loss: 0.001872\n",
        "('recon_loss = ', 0.000556902)\n",
        "('saved session to ', '/home/vernwalrahul/projects/WorkSpace_Hlaton_2D/checkpoints/model.ckpt')"
       ]
      },
      {
       "output_type": "stream",
       "stream": "stdout",
       "text": [
        "\n",
        "Iter: 126000"
       ]
      },
      {
       "output_type": "stream",
       "stream": "stdout",
       "text": [
        "\n",
        "Loss: 0.00169\n",
        "('recon_loss = ', 0.0003908999)\n",
        "('saved session to ', '/home/vernwalrahul/projects/WorkSpace_Hlaton_2D/checkpoints/model.ckpt')"
       ]
      },
      {
       "output_type": "stream",
       "stream": "stdout",
       "text": [
        "\n",
        "Iter: 127000"
       ]
      },
      {
       "output_type": "stream",
       "stream": "stdout",
       "text": [
        "\n",
        "Loss: 0.001755\n",
        "('recon_loss = ', 0.000444563)\n",
        "('saved session to ', '/home/vernwalrahul/projects/WorkSpace_Hlaton_2D/checkpoints/model.ckpt')"
       ]
      },
      {
       "output_type": "stream",
       "stream": "stdout",
       "text": [
        "\n",
        "Iter: 128000"
       ]
      },
      {
       "output_type": "stream",
       "stream": "stdout",
       "text": [
        "\n",
        "Loss: 0.001767\n",
        "('recon_loss = ', 0.0004765024)\n",
        "('saved session to ', '/home/vernwalrahul/projects/WorkSpace_Hlaton_2D/checkpoints/model.ckpt')"
       ]
      },
      {
       "output_type": "stream",
       "stream": "stdout",
       "text": [
        "\n",
        "Iter: 129000"
       ]
      },
      {
       "output_type": "stream",
       "stream": "stdout",
       "text": [
        "\n",
        "Loss: 0.001707\n",
        "('recon_loss = ', 0.0004265785)\n",
        "('saved session to ', '/home/vernwalrahul/projects/WorkSpace_Hlaton_2D/checkpoints/model.ckpt')"
       ]
      },
      {
       "output_type": "stream",
       "stream": "stdout",
       "text": [
        "\n",
        "Iter: 130000"
       ]
      },
      {
       "output_type": "stream",
       "stream": "stdout",
       "text": [
        "\n",
        "Loss: 0.001674\n",
        "('recon_loss = ', 0.0003922111)\n",
        "('saved session to ', '/home/vernwalrahul/projects/WorkSpace_Hlaton_2D/checkpoints/model.ckpt')"
       ]
      },
      {
       "output_type": "stream",
       "stream": "stdout",
       "text": [
        "\n",
        "Iter: 131000"
       ]
      },
      {
       "output_type": "stream",
       "stream": "stdout",
       "text": [
        "\n",
        "Loss: 0.001668\n",
        "('recon_loss = ', 0.00039949547)\n",
        "('saved session to ', '/home/vernwalrahul/projects/WorkSpace_Hlaton_2D/checkpoints/model.ckpt')"
       ]
      },
      {
       "output_type": "stream",
       "stream": "stdout",
       "text": [
        "\n",
        "Iter: 132000"
       ]
      },
      {
       "output_type": "stream",
       "stream": "stdout",
       "text": [
        "\n",
        "Loss: 0.001727\n",
        "('recon_loss = ', 0.00045657682)\n",
        "('saved session to ', '/home/vernwalrahul/projects/WorkSpace_Hlaton_2D/checkpoints/model.ckpt')"
       ]
      },
      {
       "output_type": "stream",
       "stream": "stdout",
       "text": [
        "\n",
        "Iter: 133000"
       ]
      },
      {
       "output_type": "stream",
       "stream": "stdout",
       "text": [
        "\n",
        "Loss: 0.00165\n",
        "('recon_loss = ', 0.00039667042)\n",
        "('saved session to ', '/home/vernwalrahul/projects/WorkSpace_Hlaton_2D/checkpoints/model.ckpt')"
       ]
      },
      {
       "output_type": "stream",
       "stream": "stdout",
       "text": [
        "\n",
        "Iter: 134000"
       ]
      },
      {
       "output_type": "stream",
       "stream": "stdout",
       "text": [
        "\n",
        "Loss: 0.001647\n",
        "('recon_loss = ', 0.00039483106)\n",
        "('saved session to ', '/home/vernwalrahul/projects/WorkSpace_Hlaton_2D/checkpoints/model.ckpt')"
       ]
      },
      {
       "output_type": "stream",
       "stream": "stdout",
       "text": [
        "\n",
        "Iter: 135000"
       ]
      },
      {
       "output_type": "stream",
       "stream": "stdout",
       "text": [
        "\n",
        "Loss: 0.001667\n",
        "('recon_loss = ', 0.00039871573)\n",
        "('saved session to ', '/home/vernwalrahul/projects/WorkSpace_Hlaton_2D/checkpoints/model.ckpt')"
       ]
      },
      {
       "output_type": "stream",
       "stream": "stdout",
       "text": [
        "\n",
        "Iter: 136000"
       ]
      },
      {
       "output_type": "stream",
       "stream": "stdout",
       "text": [
        "\n",
        "Loss: 0.001703\n",
        "('recon_loss = ', 0.00042840856)\n",
        "('saved session to ', '/home/vernwalrahul/projects/WorkSpace_Hlaton_2D/checkpoints/model.ckpt')"
       ]
      },
      {
       "output_type": "stream",
       "stream": "stdout",
       "text": [
        "\n",
        "Iter: 137000"
       ]
      },
      {
       "output_type": "stream",
       "stream": "stdout",
       "text": [
        "\n",
        "Loss: 0.001745\n",
        "('recon_loss = ', 0.000459984)\n",
        "('saved session to ', '/home/vernwalrahul/projects/WorkSpace_Hlaton_2D/checkpoints/model.ckpt')"
       ]
      },
      {
       "output_type": "stream",
       "stream": "stdout",
       "text": [
        "\n",
        "Iter: 138000"
       ]
      },
      {
       "output_type": "stream",
       "stream": "stdout",
       "text": [
        "\n",
        "Loss: 0.001615\n",
        "('recon_loss = ', 0.00032641628)\n",
        "('saved session to ', '/home/vernwalrahul/projects/WorkSpace_Hlaton_2D/checkpoints/model.ckpt')"
       ]
      },
      {
       "output_type": "stream",
       "stream": "stdout",
       "text": [
        "\n",
        "Iter: 139000"
       ]
      },
      {
       "output_type": "stream",
       "stream": "stdout",
       "text": [
        "\n",
        "Loss: 0.001721\n",
        "('recon_loss = ', 0.00043653854)\n",
        "('saved session to ', '/home/vernwalrahul/projects/WorkSpace_Hlaton_2D/checkpoints/model.ckpt')"
       ]
      },
      {
       "output_type": "stream",
       "stream": "stdout",
       "text": [
        "\n",
        "Iter: 140000"
       ]
      },
      {
       "output_type": "stream",
       "stream": "stdout",
       "text": [
        "\n",
        "Loss: 0.001738\n",
        "('recon_loss = ', 0.00047229187)\n",
        "('saved session to ', '/home/vernwalrahul/projects/WorkSpace_Hlaton_2D/checkpoints/model.ckpt')"
       ]
      },
      {
       "output_type": "stream",
       "stream": "stdout",
       "text": [
        "\n",
        "Iter: 141000"
       ]
      },
      {
       "output_type": "stream",
       "stream": "stdout",
       "text": [
        "\n",
        "Loss: 0.001756\n",
        "('recon_loss = ', 0.00049610477)\n",
        "('saved session to ', '/home/vernwalrahul/projects/WorkSpace_Hlaton_2D/checkpoints/model.ckpt')"
       ]
      },
      {
       "output_type": "stream",
       "stream": "stdout",
       "text": [
        "\n",
        "Iter: 142000"
       ]
      },
      {
       "output_type": "stream",
       "stream": "stdout",
       "text": [
        "\n",
        "Loss: 0.001717\n",
        "('recon_loss = ', 0.0004540392)\n",
        "('saved session to ', '/home/vernwalrahul/projects/WorkSpace_Hlaton_2D/checkpoints/model.ckpt')"
       ]
      },
      {
       "output_type": "stream",
       "stream": "stdout",
       "text": [
        "\n",
        "Iter: 143000"
       ]
      },
      {
       "output_type": "stream",
       "stream": "stdout",
       "text": [
        "\n",
        "Loss: 0.001718\n",
        "('recon_loss = ', 0.00043881743)\n",
        "('saved session to ', '/home/vernwalrahul/projects/WorkSpace_Hlaton_2D/checkpoints/model.ckpt')"
       ]
      },
      {
       "output_type": "stream",
       "stream": "stdout",
       "text": [
        "\n",
        "Iter: 144000"
       ]
      },
      {
       "output_type": "stream",
       "stream": "stdout",
       "text": [
        "\n",
        "Loss: 0.001583\n",
        "('recon_loss = ', 0.0003283507)\n",
        "('saved session to ', '/home/vernwalrahul/projects/WorkSpace_Hlaton_2D/checkpoints/model.ckpt')"
       ]
      },
      {
       "output_type": "stream",
       "stream": "stdout",
       "text": [
        "\n",
        "Iter: 145000"
       ]
      },
      {
       "output_type": "stream",
       "stream": "stdout",
       "text": [
        "\n",
        "Loss: 0.001653\n",
        "('recon_loss = ', 0.00039804977)\n",
        "('saved session to ', '/home/vernwalrahul/projects/WorkSpace_Hlaton_2D/checkpoints/model.ckpt')"
       ]
      },
      {
       "output_type": "stream",
       "stream": "stdout",
       "text": [
        "\n",
        "Iter: 146000"
       ]
      },
      {
       "output_type": "stream",
       "stream": "stdout",
       "text": [
        "\n",
        "Loss: 0.001628\n",
        "('recon_loss = ', 0.00036079023)\n",
        "('saved session to ', '/home/vernwalrahul/projects/WorkSpace_Hlaton_2D/checkpoints/model.ckpt')"
       ]
      },
      {
       "output_type": "stream",
       "stream": "stdout",
       "text": [
        "\n",
        "Iter: 147000"
       ]
      },
      {
       "output_type": "stream",
       "stream": "stdout",
       "text": [
        "\n",
        "Loss: 0.001622\n",
        "('recon_loss = ', 0.00039583945)\n",
        "('saved session to ', '/home/vernwalrahul/projects/WorkSpace_Hlaton_2D/checkpoints/model.ckpt')"
       ]
      },
      {
       "output_type": "stream",
       "stream": "stdout",
       "text": [
        "\n",
        "Iter: 148000"
       ]
      },
      {
       "output_type": "stream",
       "stream": "stdout",
       "text": [
        "\n",
        "Loss: 0.001722\n",
        "('recon_loss = ', 0.00045961753)\n",
        "('saved session to ', '/home/vernwalrahul/projects/WorkSpace_Hlaton_2D/checkpoints/model.ckpt')"
       ]
      },
      {
       "output_type": "stream",
       "stream": "stdout",
       "text": [
        "\n",
        "Iter: 149000"
       ]
      },
      {
       "output_type": "stream",
       "stream": "stdout",
       "text": [
        "\n",
        "Loss: 0.001641\n",
        "('recon_loss = ', 0.00039967473)\n",
        "('saved session to ', '/home/vernwalrahul/projects/WorkSpace_Hlaton_2D/checkpoints/model.ckpt')"
       ]
      },
      {
       "output_type": "stream",
       "stream": "stdout",
       "text": [
        "\n",
        "Iter: 150000"
       ]
      },
      {
       "output_type": "stream",
       "stream": "stdout",
       "text": [
        "\n",
        "Loss: 0.001722\n",
        "('recon_loss = ', 0.00046671712)\n",
        "('saved session to ', '/home/vernwalrahul/projects/WorkSpace_Hlaton_2D/checkpoints/model.ckpt')"
       ]
      },
      {
       "output_type": "stream",
       "stream": "stdout",
       "text": [
        "\n",
        "Iter: 151000"
       ]
      },
      {
       "output_type": "stream",
       "stream": "stdout",
       "text": [
        "\n",
        "Loss: 0.00164\n",
        "('recon_loss = ', 0.00041399896)\n",
        "('saved session to ', '/home/vernwalrahul/projects/WorkSpace_Hlaton_2D/checkpoints/model.ckpt')"
       ]
      },
      {
       "output_type": "stream",
       "stream": "stdout",
       "text": [
        "\n",
        "Iter: 152000"
       ]
      },
      {
       "output_type": "stream",
       "stream": "stdout",
       "text": [
        "\n",
        "Loss: 0.001664\n",
        "('recon_loss = ', 0.00045501304)\n",
        "('saved session to ', '/home/vernwalrahul/projects/WorkSpace_Hlaton_2D/checkpoints/model.ckpt')"
       ]
      },
      {
       "output_type": "stream",
       "stream": "stdout",
       "text": [
        "\n",
        "Iter: 153000"
       ]
      },
      {
       "output_type": "stream",
       "stream": "stdout",
       "text": [
        "\n",
        "Loss: 0.001626\n",
        "('recon_loss = ', 0.00039900956)\n",
        "('saved session to ', '/home/vernwalrahul/projects/WorkSpace_Hlaton_2D/checkpoints/model.ckpt')"
       ]
      },
      {
       "output_type": "stream",
       "stream": "stdout",
       "text": [
        "\n",
        "Iter: 154000"
       ]
      },
      {
       "output_type": "stream",
       "stream": "stdout",
       "text": [
        "\n",
        "Loss: 0.00156\n",
        "('recon_loss = ', 0.0003375588)\n",
        "('saved session to ', '/home/vernwalrahul/projects/WorkSpace_Hlaton_2D/checkpoints/model.ckpt')"
       ]
      },
      {
       "output_type": "stream",
       "stream": "stdout",
       "text": [
        "\n",
        "Iter: 155000"
       ]
      },
      {
       "output_type": "stream",
       "stream": "stdout",
       "text": [
        "\n",
        "Loss: 0.001665\n",
        "('recon_loss = ', 0.0004068642)\n",
        "('saved session to ', '/home/vernwalrahul/projects/WorkSpace_Hlaton_2D/checkpoints/model.ckpt')"
       ]
      },
      {
       "output_type": "stream",
       "stream": "stdout",
       "text": [
        "\n",
        "Iter: 156000"
       ]
      },
      {
       "output_type": "stream",
       "stream": "stdout",
       "text": [
        "\n",
        "Loss: 0.001629\n",
        "('recon_loss = ', 0.00039167862)\n",
        "('saved session to ', '/home/vernwalrahul/projects/WorkSpace_Hlaton_2D/checkpoints/model.ckpt')"
       ]
      },
      {
       "output_type": "stream",
       "stream": "stdout",
       "text": [
        "\n",
        "Iter: 157000"
       ]
      },
      {
       "output_type": "stream",
       "stream": "stdout",
       "text": [
        "\n",
        "Loss: 0.001621\n",
        "('recon_loss = ', 0.00038447647)\n",
        "('saved session to ', '/home/vernwalrahul/projects/WorkSpace_Hlaton_2D/checkpoints/model.ckpt')"
       ]
      },
      {
       "output_type": "stream",
       "stream": "stdout",
       "text": [
        "\n",
        "Iter: 158000"
       ]
      },
      {
       "output_type": "stream",
       "stream": "stdout",
       "text": [
        "\n",
        "Loss: 0.001644\n",
        "('recon_loss = ', 0.00041646304)\n",
        "('saved session to ', '/home/vernwalrahul/projects/WorkSpace_Hlaton_2D/checkpoints/model.ckpt')"
       ]
      },
      {
       "output_type": "stream",
       "stream": "stdout",
       "text": [
        "\n",
        "Iter: 159000"
       ]
      },
      {
       "output_type": "stream",
       "stream": "stdout",
       "text": [
        "\n",
        "Loss: 0.001649\n",
        "('recon_loss = ', 0.00041006278)\n",
        "('saved session to ', '/home/vernwalrahul/projects/WorkSpace_Hlaton_2D/checkpoints/model.ckpt')"
       ]
      },
      {
       "output_type": "stream",
       "stream": "stdout",
       "text": [
        "\n",
        "Iter: 160000"
       ]
      },
      {
       "output_type": "stream",
       "stream": "stdout",
       "text": [
        "\n",
        "Loss: 0.001595\n",
        "('recon_loss = ', 0.00035421283)\n",
        "('saved session to ', '/home/vernwalrahul/projects/WorkSpace_Hlaton_2D/checkpoints/model.ckpt')"
       ]
      },
      {
       "output_type": "stream",
       "stream": "stdout",
       "text": [
        "\n",
        "Iter: 161000"
       ]
      },
      {
       "output_type": "stream",
       "stream": "stdout",
       "text": [
        "\n",
        "Loss: 0.001715\n",
        "('recon_loss = ', 0.0004695432)\n",
        "('saved session to ', '/home/vernwalrahul/projects/WorkSpace_Hlaton_2D/checkpoints/model.ckpt')"
       ]
      },
      {
       "output_type": "stream",
       "stream": "stdout",
       "text": [
        "\n",
        "Iter: 162000"
       ]
      },
      {
       "output_type": "stream",
       "stream": "stdout",
       "text": [
        "\n",
        "Loss: 0.00168\n",
        "('recon_loss = ', 0.0004315793)\n",
        "('saved session to ', '/home/vernwalrahul/projects/WorkSpace_Hlaton_2D/checkpoints/model.ckpt')"
       ]
      },
      {
       "output_type": "stream",
       "stream": "stdout",
       "text": [
        "\n",
        "Iter: 163000"
       ]
      },
      {
       "output_type": "stream",
       "stream": "stdout",
       "text": [
        "\n",
        "Loss: 0.001637\n",
        "('recon_loss = ', 0.00038754067)\n",
        "('saved session to ', '/home/vernwalrahul/projects/WorkSpace_Hlaton_2D/checkpoints/model.ckpt')"
       ]
      },
      {
       "output_type": "stream",
       "stream": "stdout",
       "text": [
        "\n",
        "Iter: 164000"
       ]
      },
      {
       "output_type": "stream",
       "stream": "stdout",
       "text": [
        "\n",
        "Loss: 0.001672\n",
        "('recon_loss = ', 0.00044482836)\n",
        "('saved session to ', '/home/vernwalrahul/projects/WorkSpace_Hlaton_2D/checkpoints/model.ckpt')"
       ]
      },
      {
       "output_type": "stream",
       "stream": "stdout",
       "text": [
        "\n",
        "Iter: 165000"
       ]
      },
      {
       "output_type": "stream",
       "stream": "stdout",
       "text": [
        "\n",
        "Loss: 0.001636\n",
        "('recon_loss = ', 0.0004106625)\n",
        "('saved session to ', '/home/vernwalrahul/projects/WorkSpace_Hlaton_2D/checkpoints/model.ckpt')"
       ]
      },
      {
       "output_type": "stream",
       "stream": "stdout",
       "text": [
        "\n",
        "Iter: 166000"
       ]
      },
      {
       "output_type": "stream",
       "stream": "stdout",
       "text": [
        "\n",
        "Loss: 0.001638\n",
        "('recon_loss = ', 0.00037046467)\n",
        "('saved session to ', '/home/vernwalrahul/projects/WorkSpace_Hlaton_2D/checkpoints/model.ckpt')"
       ]
      },
      {
       "output_type": "stream",
       "stream": "stdout",
       "text": [
        "\n",
        "Iter: 167000"
       ]
      },
      {
       "output_type": "stream",
       "stream": "stdout",
       "text": [
        "\n",
        "Loss: 0.001608\n",
        "('recon_loss = ', 0.00035594217)\n",
        "('saved session to ', '/home/vernwalrahul/projects/WorkSpace_Hlaton_2D/checkpoints/model.ckpt')"
       ]
      },
      {
       "output_type": "stream",
       "stream": "stdout",
       "text": [
        "\n",
        "Iter: 168000"
       ]
      },
      {
       "output_type": "stream",
       "stream": "stdout",
       "text": [
        "\n",
        "Loss: 0.001653\n",
        "('recon_loss = ', 0.00040061708)\n",
        "('saved session to ', '/home/vernwalrahul/projects/WorkSpace_Hlaton_2D/checkpoints/model.ckpt')"
       ]
      },
      {
       "output_type": "stream",
       "stream": "stdout",
       "text": [
        "\n",
        "Iter: 169000"
       ]
      },
      {
       "output_type": "stream",
       "stream": "stdout",
       "text": [
        "\n",
        "Loss: 0.0016\n",
        "('recon_loss = ', 0.0003553543)\n",
        "('saved session to ', '/home/vernwalrahul/projects/WorkSpace_Hlaton_2D/checkpoints/model.ckpt')"
       ]
      },
      {
       "output_type": "stream",
       "stream": "stdout",
       "text": [
        "\n",
        "Iter: 170000"
       ]
      },
      {
       "output_type": "stream",
       "stream": "stdout",
       "text": [
        "\n",
        "Loss: 0.001671\n",
        "('recon_loss = ', 0.00043912441)\n",
        "('saved session to ', '/home/vernwalrahul/projects/WorkSpace_Hlaton_2D/checkpoints/model.ckpt')"
       ]
      },
      {
       "output_type": "stream",
       "stream": "stdout",
       "text": [
        "\n",
        "Iter: 171000"
       ]
      },
      {
       "output_type": "stream",
       "stream": "stdout",
       "text": [
        "\n",
        "Loss: 0.001655\n",
        "('recon_loss = ', 0.0004299594)\n",
        "('saved session to ', '/home/vernwalrahul/projects/WorkSpace_Hlaton_2D/checkpoints/model.ckpt')"
       ]
      },
      {
       "output_type": "stream",
       "stream": "stdout",
       "text": [
        "\n",
        "Iter: 172000"
       ]
      },
      {
       "output_type": "stream",
       "stream": "stdout",
       "text": [
        "\n",
        "Loss: 0.001727\n",
        "('recon_loss = ', 0.00047375928)\n",
        "('saved session to ', '/home/vernwalrahul/projects/WorkSpace_Hlaton_2D/checkpoints/model.ckpt')"
       ]
      },
      {
       "output_type": "stream",
       "stream": "stdout",
       "text": [
        "\n",
        "Iter: 173000"
       ]
      },
      {
       "output_type": "stream",
       "stream": "stdout",
       "text": [
        "\n",
        "Loss: 0.001623\n",
        "('recon_loss = ', 0.0003886372)\n",
        "('saved session to ', '/home/vernwalrahul/projects/WorkSpace_Hlaton_2D/checkpoints/model.ckpt')"
       ]
      },
      {
       "output_type": "stream",
       "stream": "stdout",
       "text": [
        "\n",
        "Iter: 174000"
       ]
      },
      {
       "output_type": "stream",
       "stream": "stdout",
       "text": [
        "\n",
        "Loss: 0.001646\n",
        "('recon_loss = ', 0.00044065312)\n",
        "('saved session to ', '/home/vernwalrahul/projects/WorkSpace_Hlaton_2D/checkpoints/model.ckpt')"
       ]
      },
      {
       "output_type": "stream",
       "stream": "stdout",
       "text": [
        "\n",
        "Iter: 175000"
       ]
      },
      {
       "output_type": "stream",
       "stream": "stdout",
       "text": [
        "\n",
        "Loss: 0.001674\n",
        "('recon_loss = ', 0.00042021295)\n",
        "('saved session to ', '/home/vernwalrahul/projects/WorkSpace_Hlaton_2D/checkpoints/model.ckpt')"
       ]
      },
      {
       "output_type": "stream",
       "stream": "stdout",
       "text": [
        "\n",
        "Iter: 176000"
       ]
      },
      {
       "output_type": "stream",
       "stream": "stdout",
       "text": [
        "\n",
        "Loss: 0.001579\n",
        "('recon_loss = ', 0.00035533748)\n",
        "('saved session to ', '/home/vernwalrahul/projects/WorkSpace_Hlaton_2D/checkpoints/model.ckpt')"
       ]
      },
      {
       "output_type": "stream",
       "stream": "stdout",
       "text": [
        "\n",
        "Iter: 177000"
       ]
      },
      {
       "output_type": "stream",
       "stream": "stdout",
       "text": [
        "\n",
        "Loss: 0.001606\n",
        "('recon_loss = ', 0.000407896)\n",
        "('saved session to ', '/home/vernwalrahul/projects/WorkSpace_Hlaton_2D/checkpoints/model.ckpt')"
       ]
      },
      {
       "output_type": "stream",
       "stream": "stdout",
       "text": [
        "\n",
        "Iter: 178000"
       ]
      },
      {
       "output_type": "stream",
       "stream": "stdout",
       "text": [
        "\n",
        "Loss: 0.001534\n",
        "('recon_loss = ', 0.00033052248)\n",
        "('saved session to ', '/home/vernwalrahul/projects/WorkSpace_Hlaton_2D/checkpoints/model.ckpt')"
       ]
      },
      {
       "output_type": "stream",
       "stream": "stdout",
       "text": [
        "\n",
        "Iter: 179000"
       ]
      },
      {
       "output_type": "stream",
       "stream": "stdout",
       "text": [
        "\n",
        "Loss: 0.001659\n",
        "('recon_loss = ', 0.00045150297)\n",
        "('saved session to ', '/home/vernwalrahul/projects/WorkSpace_Hlaton_2D/checkpoints/model.ckpt')"
       ]
      },
      {
       "output_type": "stream",
       "stream": "stdout",
       "text": [
        "\n",
        "Iter: 180000"
       ]
      },
      {
       "output_type": "stream",
       "stream": "stdout",
       "text": [
        "\n",
        "Loss: 0.001558\n",
        "('recon_loss = ', 0.00033748514)\n",
        "('saved session to ', '/home/vernwalrahul/projects/WorkSpace_Hlaton_2D/checkpoints/model.ckpt')"
       ]
      },
      {
       "output_type": "stream",
       "stream": "stdout",
       "text": [
        "\n",
        "Iter: 181000"
       ]
      },
      {
       "output_type": "stream",
       "stream": "stdout",
       "text": [
        "\n",
        "Loss: 0.00162\n",
        "('recon_loss = ', 0.00037978907)\n",
        "('saved session to ', '/home/vernwalrahul/projects/WorkSpace_Hlaton_2D/checkpoints/model.ckpt')"
       ]
      },
      {
       "output_type": "stream",
       "stream": "stdout",
       "text": [
        "\n",
        "Iter: 182000"
       ]
      },
      {
       "output_type": "stream",
       "stream": "stdout",
       "text": [
        "\n",
        "Loss: 0.001528\n",
        "('recon_loss = ', 0.00033652797)\n",
        "('saved session to ', '/home/vernwalrahul/projects/WorkSpace_Hlaton_2D/checkpoints/model.ckpt')"
       ]
      },
      {
       "output_type": "stream",
       "stream": "stdout",
       "text": [
        "\n",
        "Iter: 183000"
       ]
      },
      {
       "output_type": "stream",
       "stream": "stdout",
       "text": [
        "\n",
        "Loss: 0.001684\n",
        "('recon_loss = ', 0.00049732113)\n",
        "('saved session to ', '/home/vernwalrahul/projects/WorkSpace_Hlaton_2D/checkpoints/model.ckpt')"
       ]
      },
      {
       "output_type": "stream",
       "stream": "stdout",
       "text": [
        "\n",
        "Iter: 184000"
       ]
      },
      {
       "output_type": "stream",
       "stream": "stdout",
       "text": [
        "\n",
        "Loss: 0.001592\n",
        "('recon_loss = ', 0.00035106367)\n",
        "('saved session to ', '/home/vernwalrahul/projects/WorkSpace_Hlaton_2D/checkpoints/model.ckpt')"
       ]
      },
      {
       "output_type": "stream",
       "stream": "stdout",
       "text": [
        "\n",
        "Iter: 185000"
       ]
      },
      {
       "output_type": "stream",
       "stream": "stdout",
       "text": [
        "\n",
        "Loss: 0.001726\n",
        "('recon_loss = ', 0.00048522238)\n",
        "('saved session to ', '/home/vernwalrahul/projects/WorkSpace_Hlaton_2D/checkpoints/model.ckpt')"
       ]
      },
      {
       "output_type": "stream",
       "stream": "stdout",
       "text": [
        "\n",
        "Iter: 186000"
       ]
      },
      {
       "output_type": "stream",
       "stream": "stdout",
       "text": [
        "\n",
        "Loss: 0.001556\n",
        "('recon_loss = ', 0.0003269988)\n",
        "('saved session to ', '/home/vernwalrahul/projects/WorkSpace_Hlaton_2D/checkpoints/model.ckpt')"
       ]
      },
      {
       "output_type": "stream",
       "stream": "stdout",
       "text": [
        "\n",
        "Iter: 187000"
       ]
      },
      {
       "output_type": "stream",
       "stream": "stdout",
       "text": [
        "\n",
        "Loss: 0.001686\n",
        "('recon_loss = ', 0.00046206004)\n",
        "('saved session to ', '/home/vernwalrahul/projects/WorkSpace_Hlaton_2D/checkpoints/model.ckpt')"
       ]
      },
      {
       "output_type": "stream",
       "stream": "stdout",
       "text": [
        "\n",
        "Iter: 188000"
       ]
      },
      {
       "output_type": "stream",
       "stream": "stdout",
       "text": [
        "\n",
        "Loss: 0.001633\n",
        "('recon_loss = ', 0.00038986647)\n",
        "('saved session to ', '/home/vernwalrahul/projects/WorkSpace_Hlaton_2D/checkpoints/model.ckpt')"
       ]
      },
      {
       "output_type": "stream",
       "stream": "stdout",
       "text": [
        "\n",
        "Iter: 189000"
       ]
      },
      {
       "output_type": "stream",
       "stream": "stdout",
       "text": [
        "\n",
        "Loss: 0.001719\n",
        "('recon_loss = ', 0.00051346293)\n",
        "('saved session to ', '/home/vernwalrahul/projects/WorkSpace_Hlaton_2D/checkpoints/model.ckpt')"
       ]
      },
      {
       "output_type": "stream",
       "stream": "stdout",
       "text": [
        "\n",
        "Iter: 190000"
       ]
      },
      {
       "output_type": "stream",
       "stream": "stdout",
       "text": [
        "\n",
        "Loss: 0.001571\n",
        "('recon_loss = ', 0.000368606)\n",
        "('saved session to ', '/home/vernwalrahul/projects/WorkSpace_Hlaton_2D/checkpoints/model.ckpt')"
       ]
      },
      {
       "output_type": "stream",
       "stream": "stdout",
       "text": [
        "\n",
        "Iter: 191000"
       ]
      },
      {
       "output_type": "stream",
       "stream": "stdout",
       "text": [
        "\n",
        "Loss: 0.00162\n",
        "('recon_loss = ', 0.00040326675)\n",
        "('saved session to ', '/home/vernwalrahul/projects/WorkSpace_Hlaton_2D/checkpoints/model.ckpt')"
       ]
      },
      {
       "output_type": "stream",
       "stream": "stdout",
       "text": [
        "\n",
        "Iter: 192000"
       ]
      },
      {
       "output_type": "stream",
       "stream": "stdout",
       "text": [
        "\n",
        "Loss: 0.001615\n",
        "('recon_loss = ', 0.00039810815)\n",
        "('saved session to ', '/home/vernwalrahul/projects/WorkSpace_Hlaton_2D/checkpoints/model.ckpt')"
       ]
      },
      {
       "output_type": "stream",
       "stream": "stdout",
       "text": [
        "\n",
        "Iter: 193000"
       ]
      },
      {
       "output_type": "stream",
       "stream": "stdout",
       "text": [
        "\n",
        "Loss: 0.001598\n",
        "('recon_loss = ', 0.00039652432)\n",
        "('saved session to ', '/home/vernwalrahul/projects/WorkSpace_Hlaton_2D/checkpoints/model.ckpt')"
       ]
      },
      {
       "output_type": "stream",
       "stream": "stdout",
       "text": [
        "\n",
        "Iter: 194000"
       ]
      },
      {
       "output_type": "stream",
       "stream": "stdout",
       "text": [
        "\n",
        "Loss: 0.001654\n",
        "('recon_loss = ', 0.0005055327)\n",
        "('saved session to ', '/home/vernwalrahul/projects/WorkSpace_Hlaton_2D/checkpoints/model.ckpt')"
       ]
      },
      {
       "output_type": "stream",
       "stream": "stdout",
       "text": [
        "\n",
        "Iter: 195000"
       ]
      },
      {
       "output_type": "stream",
       "stream": "stdout",
       "text": [
        "\n",
        "Loss: 0.001602\n",
        "('recon_loss = ', 0.0003881139)\n",
        "('saved session to ', '/home/vernwalrahul/projects/WorkSpace_Hlaton_2D/checkpoints/model.ckpt')"
       ]
      },
      {
       "output_type": "stream",
       "stream": "stdout",
       "text": [
        "\n",
        "Iter: 196000"
       ]
      },
      {
       "output_type": "stream",
       "stream": "stdout",
       "text": [
        "\n",
        "Loss: 0.001641\n",
        "('recon_loss = ', 0.0004470226)\n",
        "('saved session to ', '/home/vernwalrahul/projects/WorkSpace_Hlaton_2D/checkpoints/model.ckpt')"
       ]
      },
      {
       "output_type": "stream",
       "stream": "stdout",
       "text": [
        "\n",
        "Iter: 197000"
       ]
      },
      {
       "output_type": "stream",
       "stream": "stdout",
       "text": [
        "\n",
        "Loss: 0.001596\n",
        "('recon_loss = ', 0.00037076947)\n",
        "('saved session to ', '/home/vernwalrahul/projects/WorkSpace_Hlaton_2D/checkpoints/model.ckpt')"
       ]
      },
      {
       "output_type": "stream",
       "stream": "stdout",
       "text": [
        "\n",
        "Iter: 198000"
       ]
      },
      {
       "output_type": "stream",
       "stream": "stdout",
       "text": [
        "\n",
        "Loss: 0.001624\n",
        "('recon_loss = ', 0.0004238556)\n",
        "('saved session to ', '/home/vernwalrahul/projects/WorkSpace_Hlaton_2D/checkpoints/model.ckpt')"
       ]
      },
      {
       "output_type": "stream",
       "stream": "stdout",
       "text": [
        "\n",
        "Iter: 199000"
       ]
      },
      {
       "output_type": "stream",
       "stream": "stdout",
       "text": [
        "\n",
        "Loss: 0.001574\n",
        "('recon_loss = ', 0.00038271316)\n",
        "('saved session to ', '/home/vernwalrahul/projects/WorkSpace_Hlaton_2D/checkpoints/model.ckpt')"
       ]
      },
      {
       "output_type": "stream",
       "stream": "stdout",
       "text": [
        "\n",
        "Iter: 200000"
       ]
      },
      {
       "output_type": "stream",
       "stream": "stdout",
       "text": [
        "\n",
        "Loss: 0.001513\n",
        "('recon_loss = ', 0.00035832578)\n",
        "('saved session to ', '/home/vernwalrahul/projects/WorkSpace_Hlaton_2D/checkpoints/model.ckpt')"
       ]
      },
      {
       "output_type": "stream",
       "stream": "stdout",
       "text": [
        "\n",
        "Iter: 201000"
       ]
      },
      {
       "output_type": "stream",
       "stream": "stdout",
       "text": [
        "\n",
        "Loss: 0.001558\n",
        "('recon_loss = ', 0.00039443135)\n",
        "('saved session to ', '/home/vernwalrahul/projects/WorkSpace_Hlaton_2D/checkpoints/model.ckpt')"
       ]
      },
      {
       "output_type": "stream",
       "stream": "stdout",
       "text": [
        "\n",
        "Iter: 202000"
       ]
      },
      {
       "output_type": "stream",
       "stream": "stdout",
       "text": [
        "\n",
        "Loss: 0.001561\n",
        "('recon_loss = ', 0.00036689913)\n",
        "('saved session to ', '/home/vernwalrahul/projects/WorkSpace_Hlaton_2D/checkpoints/model.ckpt')"
       ]
      },
      {
       "output_type": "stream",
       "stream": "stdout",
       "text": [
        "\n",
        "Iter: 203000"
       ]
      },
      {
       "output_type": "stream",
       "stream": "stdout",
       "text": [
        "\n",
        "Loss: 0.001663\n",
        "('recon_loss = ', 0.00048476522)\n",
        "('saved session to ', '/home/vernwalrahul/projects/WorkSpace_Hlaton_2D/checkpoints/model.ckpt')"
       ]
      },
      {
       "output_type": "stream",
       "stream": "stdout",
       "text": [
        "\n",
        "Iter: 204000"
       ]
      },
      {
       "output_type": "stream",
       "stream": "stdout",
       "text": [
        "\n",
        "Loss: 0.00162\n",
        "('recon_loss = ', 0.0004161571)\n",
        "('saved session to ', '/home/vernwalrahul/projects/WorkSpace_Hlaton_2D/checkpoints/model.ckpt')"
       ]
      },
      {
       "output_type": "stream",
       "stream": "stdout",
       "text": [
        "\n",
        "Iter: 205000"
       ]
      },
      {
       "output_type": "stream",
       "stream": "stdout",
       "text": [
        "\n",
        "Loss: 0.001576\n",
        "('recon_loss = ', 0.00042296207)\n",
        "('saved session to ', '/home/vernwalrahul/projects/WorkSpace_Hlaton_2D/checkpoints/model.ckpt')"
       ]
      },
      {
       "output_type": "stream",
       "stream": "stdout",
       "text": [
        "\n",
        "Iter: 206000"
       ]
      },
      {
       "output_type": "stream",
       "stream": "stdout",
       "text": [
        "\n",
        "Loss: 0.001599\n",
        "('recon_loss = ', 0.00040102744)\n",
        "('saved session to ', '/home/vernwalrahul/projects/WorkSpace_Hlaton_2D/checkpoints/model.ckpt')"
       ]
      },
      {
       "output_type": "stream",
       "stream": "stdout",
       "text": [
        "\n",
        "Iter: 207000"
       ]
      },
      {
       "output_type": "stream",
       "stream": "stdout",
       "text": [
        "\n",
        "Loss: 0.001568\n",
        "('recon_loss = ', 0.00034368256)\n",
        "('saved session to ', '/home/vernwalrahul/projects/WorkSpace_Hlaton_2D/checkpoints/model.ckpt')"
       ]
      },
      {
       "output_type": "stream",
       "stream": "stdout",
       "text": [
        "\n",
        "Iter: 208000"
       ]
      },
      {
       "output_type": "stream",
       "stream": "stdout",
       "text": [
        "\n",
        "Loss: 0.001533\n",
        "('recon_loss = ', 0.00036165272)\n",
        "('saved session to ', '/home/vernwalrahul/projects/WorkSpace_Hlaton_2D/checkpoints/model.ckpt')"
       ]
      },
      {
       "output_type": "stream",
       "stream": "stdout",
       "text": [
        "\n",
        "Iter: 209000"
       ]
      },
      {
       "output_type": "stream",
       "stream": "stdout",
       "text": [
        "\n",
        "Loss: 0.001591\n",
        "('recon_loss = ', 0.0004106057)\n",
        "('saved session to ', '/home/vernwalrahul/projects/WorkSpace_Hlaton_2D/checkpoints/model.ckpt')"
       ]
      },
      {
       "output_type": "stream",
       "stream": "stdout",
       "text": [
        "\n",
        "Iter: 210000"
       ]
      },
      {
       "output_type": "stream",
       "stream": "stdout",
       "text": [
        "\n",
        "Loss: 0.001597\n",
        "('recon_loss = ', 0.0003995482)\n",
        "('saved session to ', '/home/vernwalrahul/projects/WorkSpace_Hlaton_2D/checkpoints/model.ckpt')"
       ]
      },
      {
       "output_type": "stream",
       "stream": "stdout",
       "text": [
        "\n",
        "Iter: 211000"
       ]
      },
      {
       "output_type": "stream",
       "stream": "stdout",
       "text": [
        "\n",
        "Loss: 0.001551\n",
        "('recon_loss = ', 0.00037238916)\n",
        "('saved session to ', '/home/vernwalrahul/projects/WorkSpace_Hlaton_2D/checkpoints/model.ckpt')"
       ]
      },
      {
       "output_type": "stream",
       "stream": "stdout",
       "text": [
        "\n",
        "Iter: 212000"
       ]
      },
      {
       "output_type": "stream",
       "stream": "stdout",
       "text": [
        "\n",
        "Loss: 0.001642\n",
        "('recon_loss = ', 0.00044759107)\n",
        "('saved session to ', '/home/vernwalrahul/projects/WorkSpace_Hlaton_2D/checkpoints/model.ckpt')"
       ]
      },
      {
       "output_type": "stream",
       "stream": "stdout",
       "text": [
        "\n",
        "Iter: 213000"
       ]
      },
      {
       "output_type": "stream",
       "stream": "stdout",
       "text": [
        "\n",
        "Loss: 0.001693\n",
        "('recon_loss = ', 0.00048154255)\n",
        "('saved session to ', '/home/vernwalrahul/projects/WorkSpace_Hlaton_2D/checkpoints/model.ckpt')"
       ]
      },
      {
       "output_type": "stream",
       "stream": "stdout",
       "text": [
        "\n",
        "Iter: 214000"
       ]
      },
      {
       "output_type": "stream",
       "stream": "stdout",
       "text": [
        "\n",
        "Loss: 0.001553\n",
        "('recon_loss = ', 0.00037969003)\n",
        "('saved session to ', '/home/vernwalrahul/projects/WorkSpace_Hlaton_2D/checkpoints/model.ckpt')"
       ]
      },
      {
       "output_type": "stream",
       "stream": "stdout",
       "text": [
        "\n",
        "Iter: 215000"
       ]
      },
      {
       "output_type": "stream",
       "stream": "stdout",
       "text": [
        "\n",
        "Loss: 0.001571\n",
        "('recon_loss = ', 0.00035897864)\n",
        "('saved session to ', '/home/vernwalrahul/projects/WorkSpace_Hlaton_2D/checkpoints/model.ckpt')"
       ]
      },
      {
       "output_type": "stream",
       "stream": "stdout",
       "text": [
        "\n",
        "Iter: 216000"
       ]
      },
      {
       "output_type": "stream",
       "stream": "stdout",
       "text": [
        "\n",
        "Loss: 0.001567\n",
        "('recon_loss = ', 0.00035788282)\n",
        "('saved session to ', '/home/vernwalrahul/projects/WorkSpace_Hlaton_2D/checkpoints/model.ckpt')"
       ]
      },
      {
       "output_type": "stream",
       "stream": "stdout",
       "text": [
        "\n",
        "Iter: 217000"
       ]
      },
      {
       "output_type": "stream",
       "stream": "stdout",
       "text": [
        "\n",
        "Loss: 0.001531\n",
        "('recon_loss = ', 0.00031175063)\n",
        "('saved session to ', '/home/vernwalrahul/projects/WorkSpace_Hlaton_2D/checkpoints/model.ckpt')"
       ]
      },
      {
       "output_type": "stream",
       "stream": "stdout",
       "text": [
        "\n",
        "Iter: 218000"
       ]
      },
      {
       "output_type": "stream",
       "stream": "stdout",
       "text": [
        "\n",
        "Loss: 0.001568\n",
        "('recon_loss = ', 0.0003780225)\n",
        "('saved session to ', '/home/vernwalrahul/projects/WorkSpace_Hlaton_2D/checkpoints/model.ckpt')"
       ]
      },
      {
       "output_type": "stream",
       "stream": "stdout",
       "text": [
        "\n",
        "Iter: 219000"
       ]
      },
      {
       "output_type": "stream",
       "stream": "stdout",
       "text": [
        "\n",
        "Loss: 0.001694\n",
        "('recon_loss = ', 0.00045502395)\n",
        "('saved session to ', '/home/vernwalrahul/projects/WorkSpace_Hlaton_2D/checkpoints/model.ckpt')"
       ]
      },
      {
       "output_type": "stream",
       "stream": "stdout",
       "text": [
        "\n",
        "Iter: 220000"
       ]
      },
      {
       "output_type": "stream",
       "stream": "stdout",
       "text": [
        "\n",
        "Loss: 0.001562\n",
        "('recon_loss = ', 0.00042043335)\n",
        "('saved session to ', '/home/vernwalrahul/projects/WorkSpace_Hlaton_2D/checkpoints/model.ckpt')"
       ]
      },
      {
       "output_type": "stream",
       "stream": "stdout",
       "text": [
        "\n",
        "Iter: 221000"
       ]
      },
      {
       "output_type": "stream",
       "stream": "stdout",
       "text": [
        "\n",
        "Loss: 0.001581\n",
        "('recon_loss = ', 0.00038030668)\n",
        "('saved session to ', '/home/vernwalrahul/projects/WorkSpace_Hlaton_2D/checkpoints/model.ckpt')"
       ]
      },
      {
       "output_type": "stream",
       "stream": "stdout",
       "text": [
        "\n",
        "Iter: 222000"
       ]
      },
      {
       "output_type": "stream",
       "stream": "stdout",
       "text": [
        "\n",
        "Loss: 0.001631\n",
        "('recon_loss = ', 0.00042867166)\n",
        "('saved session to ', '/home/vernwalrahul/projects/WorkSpace_Hlaton_2D/checkpoints/model.ckpt')"
       ]
      },
      {
       "output_type": "stream",
       "stream": "stdout",
       "text": [
        "\n",
        "Iter: 223000"
       ]
      },
      {
       "output_type": "stream",
       "stream": "stdout",
       "text": [
        "\n",
        "Loss: 0.0016\n",
        "('recon_loss = ', 0.0004134186)\n",
        "('saved session to ', '/home/vernwalrahul/projects/WorkSpace_Hlaton_2D/checkpoints/model.ckpt')"
       ]
      },
      {
       "output_type": "stream",
       "stream": "stdout",
       "text": [
        "\n",
        "Iter: 224000"
       ]
      },
      {
       "output_type": "stream",
       "stream": "stdout",
       "text": [
        "\n",
        "Loss: 0.0016\n",
        "('recon_loss = ', 0.00043334757)\n",
        "('saved session to ', '/home/vernwalrahul/projects/WorkSpace_Hlaton_2D/checkpoints/model.ckpt')"
       ]
      },
      {
       "output_type": "stream",
       "stream": "stdout",
       "text": [
        "\n",
        "Iter: 225000"
       ]
      },
      {
       "output_type": "stream",
       "stream": "stdout",
       "text": [
        "\n",
        "Loss: 0.001507\n",
        "('recon_loss = ', 0.00036561082)\n",
        "('saved session to ', '/home/vernwalrahul/projects/WorkSpace_Hlaton_2D/checkpoints/model.ckpt')"
       ]
      },
      {
       "output_type": "stream",
       "stream": "stdout",
       "text": [
        "\n",
        "Iter: 226000"
       ]
      },
      {
       "output_type": "stream",
       "stream": "stdout",
       "text": [
        "\n",
        "Loss: 0.001567\n",
        "('recon_loss = ', 0.00037638567)\n",
        "('saved session to ', '/home/vernwalrahul/projects/WorkSpace_Hlaton_2D/checkpoints/model.ckpt')"
       ]
      },
      {
       "output_type": "stream",
       "stream": "stdout",
       "text": [
        "\n",
        "Iter: 227000"
       ]
      },
      {
       "output_type": "stream",
       "stream": "stdout",
       "text": [
        "\n",
        "Loss: 0.001555\n",
        "('recon_loss = ', 0.0003990642)\n",
        "('saved session to ', '/home/vernwalrahul/projects/WorkSpace_Hlaton_2D/checkpoints/model.ckpt')"
       ]
      },
      {
       "output_type": "stream",
       "stream": "stdout",
       "text": [
        "\n",
        "Iter: 228000"
       ]
      },
      {
       "output_type": "stream",
       "stream": "stdout",
       "text": [
        "\n",
        "Loss: 0.001586\n",
        "('recon_loss = ', 0.00042041653)\n",
        "('saved session to ', '/home/vernwalrahul/projects/WorkSpace_Hlaton_2D/checkpoints/model.ckpt')"
       ]
      },
      {
       "output_type": "stream",
       "stream": "stdout",
       "text": [
        "\n",
        "Iter: 229000"
       ]
      },
      {
       "output_type": "stream",
       "stream": "stdout",
       "text": [
        "\n",
        "Loss: 0.00154\n",
        "('recon_loss = ', 0.0003230608)\n",
        "('saved session to ', '/home/vernwalrahul/projects/WorkSpace_Hlaton_2D/checkpoints/model.ckpt')"
       ]
      },
      {
       "output_type": "stream",
       "stream": "stdout",
       "text": [
        "\n",
        "Iter: 230000"
       ]
      },
      {
       "output_type": "stream",
       "stream": "stdout",
       "text": [
        "\n",
        "Loss: 0.001584\n",
        "('recon_loss = ', 0.00041720545)\n",
        "('saved session to ', '/home/vernwalrahul/projects/WorkSpace_Hlaton_2D/checkpoints/model.ckpt')"
       ]
      },
      {
       "output_type": "stream",
       "stream": "stdout",
       "text": [
        "\n",
        "Iter: 231000"
       ]
      },
      {
       "output_type": "stream",
       "stream": "stdout",
       "text": [
        "\n",
        "Loss: 0.001534\n",
        "('recon_loss = ', 0.00037350468)\n",
        "('saved session to ', '/home/vernwalrahul/projects/WorkSpace_Hlaton_2D/checkpoints/model.ckpt')"
       ]
      },
      {
       "output_type": "stream",
       "stream": "stdout",
       "text": [
        "\n",
        "Iter: 232000"
       ]
      },
      {
       "output_type": "stream",
       "stream": "stdout",
       "text": [
        "\n",
        "Loss: 0.001581\n",
        "('recon_loss = ', 0.00042866453)\n",
        "('saved session to ', '/home/vernwalrahul/projects/WorkSpace_Hlaton_2D/checkpoints/model.ckpt')"
       ]
      },
      {
       "output_type": "stream",
       "stream": "stdout",
       "text": [
        "\n",
        "Iter: 233000"
       ]
      },
      {
       "output_type": "stream",
       "stream": "stdout",
       "text": [
        "\n",
        "Loss: 0.001501\n",
        "('recon_loss = ', 0.00034045207)\n",
        "('saved session to ', '/home/vernwalrahul/projects/WorkSpace_Hlaton_2D/checkpoints/model.ckpt')"
       ]
      },
      {
       "output_type": "stream",
       "stream": "stdout",
       "text": [
        "\n",
        "Iter: 234000"
       ]
      },
      {
       "output_type": "stream",
       "stream": "stdout",
       "text": [
        "\n",
        "Loss: 0.001583\n",
        "('recon_loss = ', 0.00038243187)\n",
        "('saved session to ', '/home/vernwalrahul/projects/WorkSpace_Hlaton_2D/checkpoints/model.ckpt')"
       ]
      },
      {
       "output_type": "stream",
       "stream": "stdout",
       "text": [
        "\n",
        "Iter: 235000"
       ]
      },
      {
       "output_type": "stream",
       "stream": "stdout",
       "text": [
        "\n",
        "Loss: 0.001553\n",
        "('recon_loss = ', 0.00039533107)\n",
        "('saved session to ', '/home/vernwalrahul/projects/WorkSpace_Hlaton_2D/checkpoints/model.ckpt')"
       ]
      },
      {
       "output_type": "stream",
       "stream": "stdout",
       "text": [
        "\n",
        "Iter: 236000"
       ]
      },
      {
       "output_type": "stream",
       "stream": "stdout",
       "text": [
        "\n",
        "Loss: 0.001581\n",
        "('recon_loss = ', 0.00041242945)\n",
        "('saved session to ', '/home/vernwalrahul/projects/WorkSpace_Hlaton_2D/checkpoints/model.ckpt')"
       ]
      },
      {
       "output_type": "stream",
       "stream": "stdout",
       "text": [
        "\n",
        "Iter: 237000"
       ]
      },
      {
       "output_type": "stream",
       "stream": "stdout",
       "text": [
        "\n",
        "Loss: 0.001497\n",
        "('recon_loss = ', 0.00034475792)\n",
        "('saved session to ', '/home/vernwalrahul/projects/WorkSpace_Hlaton_2D/checkpoints/model.ckpt')"
       ]
      },
      {
       "output_type": "stream",
       "stream": "stdout",
       "text": [
        "\n",
        "Iter: 238000"
       ]
      },
      {
       "output_type": "stream",
       "stream": "stdout",
       "text": [
        "\n",
        "Loss: 0.001529\n",
        "('recon_loss = ', 0.00038813156)\n",
        "('saved session to ', '/home/vernwalrahul/projects/WorkSpace_Hlaton_2D/checkpoints/model.ckpt')"
       ]
      },
      {
       "output_type": "stream",
       "stream": "stdout",
       "text": [
        "\n",
        "Iter: 239000"
       ]
      },
      {
       "output_type": "stream",
       "stream": "stdout",
       "text": [
        "\n",
        "Loss: 0.001526\n",
        "('recon_loss = ', 0.00035718677)\n",
        "('saved session to ', '/home/vernwalrahul/projects/WorkSpace_Hlaton_2D/checkpoints/model.ckpt')"
       ]
      },
      {
       "output_type": "stream",
       "stream": "stdout",
       "text": [
        "\n",
        "Iter: 240000"
       ]
      },
      {
       "output_type": "stream",
       "stream": "stdout",
       "text": [
        "\n",
        "Loss: 0.001555\n",
        "('recon_loss = ', 0.00039610482)\n",
        "('saved session to ', '/home/vernwalrahul/projects/WorkSpace_Hlaton_2D/checkpoints/model.ckpt')"
       ]
      },
      {
       "output_type": "stream",
       "stream": "stdout",
       "text": [
        "\n",
        "Iter: 241000"
       ]
      },
      {
       "output_type": "stream",
       "stream": "stdout",
       "text": [
        "\n",
        "Loss: 0.001542\n",
        "('recon_loss = ', 0.0003726716)\n",
        "('saved session to ', '/home/vernwalrahul/projects/WorkSpace_Hlaton_2D/checkpoints/model.ckpt')"
       ]
      },
      {
       "output_type": "stream",
       "stream": "stdout",
       "text": [
        "\n",
        "Iter: 242000"
       ]
      },
      {
       "output_type": "stream",
       "stream": "stdout",
       "text": [
        "\n",
        "Loss: 0.001634\n",
        "('recon_loss = ', 0.0003937434)\n",
        "('saved session to ', '/home/vernwalrahul/projects/WorkSpace_Hlaton_2D/checkpoints/model.ckpt')"
       ]
      },
      {
       "output_type": "stream",
       "stream": "stdout",
       "text": [
        "\n",
        "Iter: 243000"
       ]
      },
      {
       "output_type": "stream",
       "stream": "stdout",
       "text": [
        "\n",
        "Loss: 0.001576\n",
        "('recon_loss = ', 0.00041474256)\n",
        "('saved session to ', '/home/vernwalrahul/projects/WorkSpace_Hlaton_2D/checkpoints/model.ckpt')"
       ]
      },
      {
       "output_type": "stream",
       "stream": "stdout",
       "text": [
        "\n",
        "Iter: 244000"
       ]
      },
      {
       "output_type": "stream",
       "stream": "stdout",
       "text": [
        "\n",
        "Loss: 0.001563\n",
        "('recon_loss = ', 0.00036890287)\n",
        "('saved session to ', '/home/vernwalrahul/projects/WorkSpace_Hlaton_2D/checkpoints/model.ckpt')"
       ]
      },
      {
       "output_type": "stream",
       "stream": "stdout",
       "text": [
        "\n",
        "Iter: 245000"
       ]
      },
      {
       "output_type": "stream",
       "stream": "stdout",
       "text": [
        "\n",
        "Loss: 0.001485\n",
        "('recon_loss = ', 0.00030531798)\n",
        "('saved session to ', '/home/vernwalrahul/projects/WorkSpace_Hlaton_2D/checkpoints/model.ckpt')"
       ]
      },
      {
       "output_type": "stream",
       "stream": "stdout",
       "text": [
        "\n",
        "Iter: 246000"
       ]
      },
      {
       "output_type": "stream",
       "stream": "stdout",
       "text": [
        "\n",
        "Loss: 0.00148\n",
        "('recon_loss = ', 0.00033996982)\n",
        "('saved session to ', '/home/vernwalrahul/projects/WorkSpace_Hlaton_2D/checkpoints/model.ckpt')"
       ]
      },
      {
       "output_type": "stream",
       "stream": "stdout",
       "text": [
        "\n",
        "Iter: 247000"
       ]
      },
      {
       "output_type": "stream",
       "stream": "stdout",
       "text": [
        "\n",
        "Loss: 0.001434\n",
        "('recon_loss = ', 0.0003021388)\n",
        "('saved session to ', '/home/vernwalrahul/projects/WorkSpace_Hlaton_2D/checkpoints/model.ckpt')"
       ]
      },
      {
       "output_type": "stream",
       "stream": "stdout",
       "text": [
        "\n",
        "Iter: 248000"
       ]
      },
      {
       "output_type": "stream",
       "stream": "stdout",
       "text": [
        "\n",
        "Loss: 0.001469\n",
        "('recon_loss = ', 0.00031445705)\n",
        "('saved session to ', '/home/vernwalrahul/projects/WorkSpace_Hlaton_2D/checkpoints/model.ckpt')"
       ]
      },
      {
       "output_type": "stream",
       "stream": "stdout",
       "text": [
        "\n",
        "Iter: 249000"
       ]
      },
      {
       "output_type": "stream",
       "stream": "stdout",
       "text": [
        "\n",
        "Loss: 0.001598\n",
        "('recon_loss = ', 0.00042629812)\n",
        "('saved session to ', '/home/vernwalrahul/projects/WorkSpace_Hlaton_2D/checkpoints/model.ckpt')"
       ]
      },
      {
       "output_type": "stream",
       "stream": "stdout",
       "text": [
        "\n",
        "Iter: 250000"
       ]
      },
      {
       "output_type": "stream",
       "stream": "stdout",
       "text": [
        "\n",
        "Loss: 0.001672\n",
        "('recon_loss = ', 0.0004921585)\n",
        "('saved session to ', '/home/vernwalrahul/projects/WorkSpace_Hlaton_2D/checkpoints/model.ckpt')"
       ]
      },
      {
       "output_type": "stream",
       "stream": "stdout",
       "text": [
        "\n",
        "Iter: 251000"
       ]
      },
      {
       "output_type": "stream",
       "stream": "stdout",
       "text": [
        "\n",
        "Loss: 0.001616\n",
        "('recon_loss = ', 0.00045257327)\n",
        "('saved session to ', '/home/vernwalrahul/projects/WorkSpace_Hlaton_2D/checkpoints/model.ckpt')"
       ]
      },
      {
       "output_type": "stream",
       "stream": "stdout",
       "text": [
        "\n",
        "Iter: 252000"
       ]
      },
      {
       "output_type": "stream",
       "stream": "stdout",
       "text": [
        "\n",
        "Loss: 0.001464\n",
        "('recon_loss = ', 0.00031582685)\n",
        "('saved session to ', '/home/vernwalrahul/projects/WorkSpace_Hlaton_2D/checkpoints/model.ckpt')"
       ]
      },
      {
       "output_type": "stream",
       "stream": "stdout",
       "text": [
        "\n",
        "Iter: 253000"
       ]
      },
      {
       "output_type": "stream",
       "stream": "stdout",
       "text": [
        "\n",
        "Loss: 0.001593\n",
        "('recon_loss = ', 0.00042744575)\n",
        "('saved session to ', '/home/vernwalrahul/projects/WorkSpace_Hlaton_2D/checkpoints/model.ckpt')"
       ]
      },
      {
       "output_type": "stream",
       "stream": "stdout",
       "text": [
        "\n",
        "Iter: 254000"
       ]
      },
      {
       "output_type": "stream",
       "stream": "stdout",
       "text": [
        "\n",
        "Loss: 0.001486\n",
        "('recon_loss = ', 0.0003350714)\n",
        "('saved session to ', '/home/vernwalrahul/projects/WorkSpace_Hlaton_2D/checkpoints/model.ckpt')"
       ]
      },
      {
       "output_type": "stream",
       "stream": "stdout",
       "text": [
        "\n",
        "Iter: 255000"
       ]
      },
      {
       "output_type": "stream",
       "stream": "stdout",
       "text": [
        "\n",
        "Loss: 0.001542\n",
        "('recon_loss = ', 0.00035683956)\n",
        "('saved session to ', '/home/vernwalrahul/projects/WorkSpace_Hlaton_2D/checkpoints/model.ckpt')"
       ]
      },
      {
       "output_type": "stream",
       "stream": "stdout",
       "text": [
        "\n",
        "Iter: 256000"
       ]
      },
      {
       "output_type": "stream",
       "stream": "stdout",
       "text": [
        "\n",
        "Loss: 0.001496\n",
        "('recon_loss = ', 0.0003441901)\n",
        "('saved session to ', '/home/vernwalrahul/projects/WorkSpace_Hlaton_2D/checkpoints/model.ckpt')"
       ]
      },
      {
       "output_type": "stream",
       "stream": "stdout",
       "text": [
        "\n",
        "Iter: 257000"
       ]
      },
      {
       "output_type": "stream",
       "stream": "stdout",
       "text": [
        "\n",
        "Loss: 0.001529\n",
        "('recon_loss = ', 0.0003967462)\n",
        "('saved session to ', '/home/vernwalrahul/projects/WorkSpace_Hlaton_2D/checkpoints/model.ckpt')"
       ]
      },
      {
       "output_type": "stream",
       "stream": "stdout",
       "text": [
        "\n",
        "Iter: 258000"
       ]
      },
      {
       "output_type": "stream",
       "stream": "stdout",
       "text": [
        "\n",
        "Loss: 0.001442\n",
        "('recon_loss = ', 0.0002781322)\n",
        "('saved session to ', '/home/vernwalrahul/projects/WorkSpace_Hlaton_2D/checkpoints/model.ckpt')"
       ]
      },
      {
       "output_type": "stream",
       "stream": "stdout",
       "text": [
        "\n",
        "Iter: 259000"
       ]
      },
      {
       "output_type": "stream",
       "stream": "stdout",
       "text": [
        "\n",
        "Loss: 0.001699\n",
        "('recon_loss = ', 0.0005520499)\n",
        "('saved session to ', '/home/vernwalrahul/projects/WorkSpace_Hlaton_2D/checkpoints/model.ckpt')"
       ]
      },
      {
       "output_type": "stream",
       "stream": "stdout",
       "text": [
        "\n",
        "Iter: 260000"
       ]
      },
      {
       "output_type": "stream",
       "stream": "stdout",
       "text": [
        "\n",
        "Loss: 0.001703\n",
        "('recon_loss = ', 0.00051394175)\n",
        "('saved session to ', '/home/vernwalrahul/projects/WorkSpace_Hlaton_2D/checkpoints/model.ckpt')"
       ]
      },
      {
       "output_type": "stream",
       "stream": "stdout",
       "text": [
        "\n",
        "Iter: 261000"
       ]
      },
      {
       "output_type": "stream",
       "stream": "stdout",
       "text": [
        "\n",
        "Loss: 0.001534\n",
        "('recon_loss = ', 0.0003899542)\n",
        "('saved session to ', '/home/vernwalrahul/projects/WorkSpace_Hlaton_2D/checkpoints/model.ckpt')"
       ]
      },
      {
       "output_type": "stream",
       "stream": "stdout",
       "text": [
        "\n",
        "Iter: 262000"
       ]
      },
      {
       "output_type": "stream",
       "stream": "stdout",
       "text": [
        "\n",
        "Loss: 0.001587\n",
        "('recon_loss = ', 0.00042983142)\n",
        "('saved session to ', '/home/vernwalrahul/projects/WorkSpace_Hlaton_2D/checkpoints/model.ckpt')"
       ]
      },
      {
       "output_type": "stream",
       "stream": "stdout",
       "text": [
        "\n",
        "Iter: 263000"
       ]
      },
      {
       "output_type": "stream",
       "stream": "stdout",
       "text": [
        "\n",
        "Loss: 0.001458\n",
        "('recon_loss = ', 0.00031108118)\n",
        "('saved session to ', '/home/vernwalrahul/projects/WorkSpace_Hlaton_2D/checkpoints/model.ckpt')"
       ]
      },
      {
       "output_type": "stream",
       "stream": "stdout",
       "text": [
        "\n",
        "Iter: 264000"
       ]
      },
      {
       "output_type": "stream",
       "stream": "stdout",
       "text": [
        "\n",
        "Loss: 0.001668\n",
        "('recon_loss = ', 0.00055126793)\n",
        "('saved session to ', '/home/vernwalrahul/projects/WorkSpace_Hlaton_2D/checkpoints/model.ckpt')"
       ]
      },
      {
       "output_type": "stream",
       "stream": "stdout",
       "text": [
        "\n",
        "Iter: 265000"
       ]
      },
      {
       "output_type": "stream",
       "stream": "stdout",
       "text": [
        "\n",
        "Loss: 0.001551\n",
        "('recon_loss = ', 0.00037481418)\n",
        "('saved session to ', '/home/vernwalrahul/projects/WorkSpace_Hlaton_2D/checkpoints/model.ckpt')"
       ]
      },
      {
       "output_type": "stream",
       "stream": "stdout",
       "text": [
        "\n",
        "Iter: 266000"
       ]
      },
      {
       "output_type": "stream",
       "stream": "stdout",
       "text": [
        "\n",
        "Loss: 0.001471\n",
        "('recon_loss = ', 0.00033439512)\n",
        "('saved session to ', '/home/vernwalrahul/projects/WorkSpace_Hlaton_2D/checkpoints/model.ckpt')"
       ]
      },
      {
       "output_type": "stream",
       "stream": "stdout",
       "text": [
        "\n",
        "Iter: 267000"
       ]
      },
      {
       "output_type": "stream",
       "stream": "stdout",
       "text": [
        "\n",
        "Loss: 0.001524\n",
        "('recon_loss = ', 0.0003973595)\n",
        "('saved session to ', '/home/vernwalrahul/projects/WorkSpace_Hlaton_2D/checkpoints/model.ckpt')"
       ]
      },
      {
       "output_type": "stream",
       "stream": "stdout",
       "text": [
        "\n",
        "Iter: 268000"
       ]
      },
      {
       "output_type": "stream",
       "stream": "stdout",
       "text": [
        "\n",
        "Loss: 0.001641\n",
        "('recon_loss = ', 0.0004363762)\n",
        "('saved session to ', '/home/vernwalrahul/projects/WorkSpace_Hlaton_2D/checkpoints/model.ckpt')"
       ]
      },
      {
       "output_type": "stream",
       "stream": "stdout",
       "text": [
        "\n",
        "Iter: 269000"
       ]
      },
      {
       "output_type": "stream",
       "stream": "stdout",
       "text": [
        "\n",
        "Loss: 0.001475\n",
        "('recon_loss = ', 0.00032219954)\n",
        "('saved session to ', '/home/vernwalrahul/projects/WorkSpace_Hlaton_2D/checkpoints/model.ckpt')"
       ]
      },
      {
       "output_type": "stream",
       "stream": "stdout",
       "text": [
        "\n",
        "Iter: 270000"
       ]
      },
      {
       "output_type": "stream",
       "stream": "stdout",
       "text": [
        "\n",
        "Loss: 0.001546\n",
        "('recon_loss = ', 0.00040145463)\n",
        "('saved session to ', '/home/vernwalrahul/projects/WorkSpace_Hlaton_2D/checkpoints/model.ckpt')"
       ]
      },
      {
       "output_type": "stream",
       "stream": "stdout",
       "text": [
        "\n",
        "Iter: 271000"
       ]
      },
      {
       "output_type": "stream",
       "stream": "stdout",
       "text": [
        "\n",
        "Loss: 0.001585\n",
        "('recon_loss = ', 0.00045198848)\n",
        "('saved session to ', '/home/vernwalrahul/projects/WorkSpace_Hlaton_2D/checkpoints/model.ckpt')"
       ]
      },
      {
       "output_type": "stream",
       "stream": "stdout",
       "text": [
        "\n",
        "Iter: 272000"
       ]
      },
      {
       "output_type": "stream",
       "stream": "stdout",
       "text": [
        "\n",
        "Loss: 0.001467\n",
        "('recon_loss = ', 0.0002967419)\n",
        "('saved session to ', '/home/vernwalrahul/projects/WorkSpace_Hlaton_2D/checkpoints/model.ckpt')"
       ]
      },
      {
       "output_type": "stream",
       "stream": "stdout",
       "text": [
        "\n",
        "Iter: 273000"
       ]
      },
      {
       "output_type": "stream",
       "stream": "stdout",
       "text": [
        "\n",
        "Loss: 0.001543\n",
        "('recon_loss = ', 0.00037569384)\n",
        "('saved session to ', '/home/vernwalrahul/projects/WorkSpace_Hlaton_2D/checkpoints/model.ckpt')"
       ]
      },
      {
       "output_type": "stream",
       "stream": "stdout",
       "text": [
        "\n",
        "Iter: 274000"
       ]
      },
      {
       "output_type": "stream",
       "stream": "stdout",
       "text": [
        "\n",
        "Loss: 0.001538\n",
        "('recon_loss = ', 0.00039579437)\n",
        "('saved session to ', '/home/vernwalrahul/projects/WorkSpace_Hlaton_2D/checkpoints/model.ckpt')"
       ]
      },
      {
       "output_type": "stream",
       "stream": "stdout",
       "text": [
        "\n",
        "Iter: 275000"
       ]
      },
      {
       "output_type": "stream",
       "stream": "stdout",
       "text": [
        "\n",
        "Loss: 0.001447\n",
        "('recon_loss = ', 0.00032245257)\n",
        "('saved session to ', '/home/vernwalrahul/projects/WorkSpace_Hlaton_2D/checkpoints/model.ckpt')"
       ]
      },
      {
       "output_type": "stream",
       "stream": "stdout",
       "text": [
        "\n",
        "Iter: 276000"
       ]
      },
      {
       "output_type": "stream",
       "stream": "stdout",
       "text": [
        "\n",
        "Loss: 0.001545\n",
        "('recon_loss = ', 0.00036466966)\n",
        "('saved session to ', '/home/vernwalrahul/projects/WorkSpace_Hlaton_2D/checkpoints/model.ckpt')"
       ]
      },
      {
       "output_type": "stream",
       "stream": "stdout",
       "text": [
        "\n",
        "Iter: 277000"
       ]
      },
      {
       "output_type": "stream",
       "stream": "stdout",
       "text": [
        "\n",
        "Loss: 0.00147\n",
        "('recon_loss = ', 0.0003220722)\n",
        "('saved session to ', '/home/vernwalrahul/projects/WorkSpace_Hlaton_2D/checkpoints/model.ckpt')"
       ]
      },
      {
       "output_type": "stream",
       "stream": "stdout",
       "text": [
        "\n",
        "Iter: 278000"
       ]
      },
      {
       "output_type": "stream",
       "stream": "stdout",
       "text": [
        "\n",
        "Loss: 0.001494\n",
        "('recon_loss = ', 0.00034995377)\n",
        "('saved session to ', '/home/vernwalrahul/projects/WorkSpace_Hlaton_2D/checkpoints/model.ckpt')"
       ]
      },
      {
       "output_type": "stream",
       "stream": "stdout",
       "text": [
        "\n",
        "Iter: 279000"
       ]
      },
      {
       "output_type": "stream",
       "stream": "stdout",
       "text": [
        "\n",
        "Loss: 0.001473\n",
        "('recon_loss = ', 0.00036509923)\n",
        "('saved session to ', '/home/vernwalrahul/projects/WorkSpace_Hlaton_2D/checkpoints/model.ckpt')"
       ]
      },
      {
       "output_type": "stream",
       "stream": "stdout",
       "text": [
        "\n",
        "Iter: 280000"
       ]
      },
      {
       "output_type": "stream",
       "stream": "stdout",
       "text": [
        "\n",
        "Loss: 0.001449\n",
        "('recon_loss = ', 0.00032314667)\n",
        "('saved session to ', '/home/vernwalrahul/projects/WorkSpace_Hlaton_2D/checkpoints/model.ckpt')"
       ]
      },
      {
       "output_type": "stream",
       "stream": "stdout",
       "text": [
        "\n",
        "Iter: 281000"
       ]
      },
      {
       "output_type": "stream",
       "stream": "stdout",
       "text": [
        "\n",
        "Loss: 0.001512\n",
        "('recon_loss = ', 0.00036547924)\n",
        "('saved session to ', '/home/vernwalrahul/projects/WorkSpace_Hlaton_2D/checkpoints/model.ckpt')"
       ]
      },
      {
       "output_type": "stream",
       "stream": "stdout",
       "text": [
        "\n",
        "Iter: 282000"
       ]
      },
      {
       "output_type": "stream",
       "stream": "stdout",
       "text": [
        "\n",
        "Loss: 0.001454\n",
        "('recon_loss = ', 0.00031030644)\n",
        "('saved session to ', '/home/vernwalrahul/projects/WorkSpace_Hlaton_2D/checkpoints/model.ckpt')"
       ]
      },
      {
       "output_type": "stream",
       "stream": "stdout",
       "text": [
        "\n",
        "Iter: 283000"
       ]
      },
      {
       "output_type": "stream",
       "stream": "stdout",
       "text": [
        "\n",
        "Loss: 0.001491\n",
        "('recon_loss = ', 0.00034304798)\n",
        "('saved session to ', '/home/vernwalrahul/projects/WorkSpace_Hlaton_2D/checkpoints/model.ckpt')"
       ]
      },
      {
       "output_type": "stream",
       "stream": "stdout",
       "text": [
        "\n",
        "Iter: 284000"
       ]
      },
      {
       "output_type": "stream",
       "stream": "stdout",
       "text": [
        "\n",
        "Loss: 0.001439\n",
        "('recon_loss = ', 0.0003291285)\n",
        "('saved session to ', '/home/vernwalrahul/projects/WorkSpace_Hlaton_2D/checkpoints/model.ckpt')"
       ]
      },
      {
       "output_type": "stream",
       "stream": "stdout",
       "text": [
        "\n",
        "Iter: 285000"
       ]
      },
      {
       "output_type": "stream",
       "stream": "stdout",
       "text": [
        "\n",
        "Loss: 0.001603\n",
        "('recon_loss = ', 0.00044549984)\n",
        "('saved session to ', '/home/vernwalrahul/projects/WorkSpace_Hlaton_2D/checkpoints/model.ckpt')"
       ]
      },
      {
       "output_type": "stream",
       "stream": "stdout",
       "text": [
        "\n",
        "Iter: 286000"
       ]
      },
      {
       "output_type": "stream",
       "stream": "stdout",
       "text": [
        "\n",
        "Loss: 0.001461\n",
        "('recon_loss = ', 0.000361189)\n",
        "('saved session to ', '/home/vernwalrahul/projects/WorkSpace_Hlaton_2D/checkpoints/model.ckpt')"
       ]
      },
      {
       "output_type": "stream",
       "stream": "stdout",
       "text": [
        "\n",
        "Iter: 287000"
       ]
      },
      {
       "output_type": "stream",
       "stream": "stdout",
       "text": [
        "\n",
        "Loss: 0.001444\n",
        "('recon_loss = ', 0.00030892377)\n",
        "('saved session to ', '/home/vernwalrahul/projects/WorkSpace_Hlaton_2D/checkpoints/model.ckpt')"
       ]
      },
      {
       "output_type": "stream",
       "stream": "stdout",
       "text": [
        "\n",
        "Iter: 288000"
       ]
      },
      {
       "output_type": "stream",
       "stream": "stdout",
       "text": [
        "\n",
        "Loss: 0.001497\n",
        "('recon_loss = ', 0.00038458203)\n",
        "('saved session to ', '/home/vernwalrahul/projects/WorkSpace_Hlaton_2D/checkpoints/model.ckpt')"
       ]
      },
      {
       "output_type": "stream",
       "stream": "stdout",
       "text": [
        "\n",
        "Iter: 289000"
       ]
      },
      {
       "output_type": "stream",
       "stream": "stdout",
       "text": [
        "\n",
        "Loss: 0.001465\n",
        "('recon_loss = ', 0.00032534185)\n",
        "('saved session to ', '/home/vernwalrahul/projects/WorkSpace_Hlaton_2D/checkpoints/model.ckpt')"
       ]
      },
      {
       "output_type": "stream",
       "stream": "stdout",
       "text": [
        "\n",
        "Iter: 290000"
       ]
      },
      {
       "output_type": "stream",
       "stream": "stdout",
       "text": [
        "\n",
        "Loss: 0.001471\n",
        "('recon_loss = ', 0.00031817344)\n",
        "('saved session to ', '/home/vernwalrahul/projects/WorkSpace_Hlaton_2D/checkpoints/model.ckpt')"
       ]
      },
      {
       "output_type": "stream",
       "stream": "stdout",
       "text": [
        "\n",
        "Iter: 291000"
       ]
      },
      {
       "output_type": "stream",
       "stream": "stdout",
       "text": [
        "\n",
        "Loss: 0.001441\n",
        "('recon_loss = ', 0.00032029807)\n",
        "('saved session to ', '/home/vernwalrahul/projects/WorkSpace_Hlaton_2D/checkpoints/model.ckpt')"
       ]
      },
      {
       "output_type": "stream",
       "stream": "stdout",
       "text": [
        "\n",
        "Iter: 292000"
       ]
      },
      {
       "output_type": "stream",
       "stream": "stdout",
       "text": [
        "\n",
        "Loss: 0.001515\n",
        "('recon_loss = ', 0.00035763014)\n",
        "('saved session to ', '/home/vernwalrahul/projects/WorkSpace_Hlaton_2D/checkpoints/model.ckpt')"
       ]
      },
      {
       "output_type": "stream",
       "stream": "stdout",
       "text": [
        "\n",
        "Iter: 293000"
       ]
      },
      {
       "output_type": "stream",
       "stream": "stdout",
       "text": [
        "\n",
        "Loss: 0.001474\n",
        "('recon_loss = ', 0.0003681401)\n",
        "('saved session to ', '/home/vernwalrahul/projects/WorkSpace_Hlaton_2D/checkpoints/model.ckpt')"
       ]
      },
      {
       "output_type": "stream",
       "stream": "stdout",
       "text": [
        "\n",
        "Iter: 294000"
       ]
      },
      {
       "output_type": "stream",
       "stream": "stdout",
       "text": [
        "\n",
        "Loss: 0.00146\n",
        "('recon_loss = ', 0.0003225308)\n",
        "('saved session to ', '/home/vernwalrahul/projects/WorkSpace_Hlaton_2D/checkpoints/model.ckpt')"
       ]
      },
      {
       "output_type": "stream",
       "stream": "stdout",
       "text": [
        "\n",
        "Iter: 295000"
       ]
      },
      {
       "output_type": "stream",
       "stream": "stdout",
       "text": [
        "\n",
        "Loss: 0.001528\n",
        "('recon_loss = ', 0.0003862527)\n",
        "('saved session to ', '/home/vernwalrahul/projects/WorkSpace_Hlaton_2D/checkpoints/model.ckpt')"
       ]
      },
      {
       "output_type": "stream",
       "stream": "stdout",
       "text": [
        "\n",
        "Iter: 296000"
       ]
      },
      {
       "output_type": "stream",
       "stream": "stdout",
       "text": [
        "\n",
        "Loss: 0.001485\n",
        "('recon_loss = ', 0.00033368325)\n",
        "('saved session to ', '/home/vernwalrahul/projects/WorkSpace_Hlaton_2D/checkpoints/model.ckpt')"
       ]
      },
      {
       "output_type": "stream",
       "stream": "stdout",
       "text": [
        "\n",
        "Iter: 297000"
       ]
      },
      {
       "output_type": "stream",
       "stream": "stdout",
       "text": [
        "\n",
        "Loss: 0.00147\n",
        "('recon_loss = ', 0.00031885505)\n",
        "('saved session to ', '/home/vernwalrahul/projects/WorkSpace_Hlaton_2D/checkpoints/model.ckpt')"
       ]
      },
      {
       "output_type": "stream",
       "stream": "stdout",
       "text": [
        "\n",
        "Iter: 298000"
       ]
      },
      {
       "output_type": "stream",
       "stream": "stdout",
       "text": [
        "\n",
        "Loss: 0.001458\n",
        "('recon_loss = ', 0.00033839894)\n",
        "('saved session to ', '/home/vernwalrahul/projects/WorkSpace_Hlaton_2D/checkpoints/model.ckpt')"
       ]
      },
      {
       "output_type": "stream",
       "stream": "stdout",
       "text": [
        "\n",
        "Iter: 299000"
       ]
      },
      {
       "output_type": "stream",
       "stream": "stdout",
       "text": [
        "\n",
        "Loss: 0.001492\n",
        "('recon_loss = ', 0.00033197904)\n",
        "('saved session to ', '/home/vernwalrahul/projects/WorkSpace_Hlaton_2D/checkpoints/model.ckpt')"
       ]
      },
      {
       "output_type": "stream",
       "stream": "stdout",
       "text": [
        "\n",
        "Iter: 300000"
       ]
      },
      {
       "output_type": "stream",
       "stream": "stdout",
       "text": [
        "\n",
        "Loss: 0.00141\n",
        "('recon_loss = ', 0.00032913868)\n",
        "('saved session to ', '/home/vernwalrahul/projects/WorkSpace_Hlaton_2D/checkpoints/model.ckpt')"
       ]
      },
      {
       "output_type": "stream",
       "stream": "stdout",
       "text": [
        "\n",
        "Iter: 301000"
       ]
      },
      {
       "output_type": "stream",
       "stream": "stdout",
       "text": [
        "\n",
        "Loss: 0.001497\n",
        "('recon_loss = ', 0.0003731095)\n",
        "('saved session to ', '/home/vernwalrahul/projects/WorkSpace_Hlaton_2D/checkpoints/model.ckpt')"
       ]
      },
      {
       "output_type": "stream",
       "stream": "stdout",
       "text": [
        "\n",
        "Iter: 302000"
       ]
      },
      {
       "output_type": "stream",
       "stream": "stdout",
       "text": [
        "\n",
        "Loss: 0.00141\n",
        "('recon_loss = ', 0.00031862856)\n",
        "('saved session to ', '/home/vernwalrahul/projects/WorkSpace_Hlaton_2D/checkpoints/model.ckpt')"
       ]
      },
      {
       "output_type": "stream",
       "stream": "stdout",
       "text": [
        "\n",
        "Iter: 303000"
       ]
      },
      {
       "output_type": "stream",
       "stream": "stdout",
       "text": [
        "\n",
        "Loss: 0.001542\n",
        "('recon_loss = ', 0.00041144647)\n",
        "('saved session to ', '/home/vernwalrahul/projects/WorkSpace_Hlaton_2D/checkpoints/model.ckpt')"
       ]
      },
      {
       "output_type": "stream",
       "stream": "stdout",
       "text": [
        "\n",
        "Iter: 304000"
       ]
      },
      {
       "output_type": "stream",
       "stream": "stdout",
       "text": [
        "\n",
        "Loss: 0.001542\n",
        "('recon_loss = ', 0.00044148578)\n",
        "('saved session to ', '/home/vernwalrahul/projects/WorkSpace_Hlaton_2D/checkpoints/model.ckpt')"
       ]
      },
      {
       "output_type": "stream",
       "stream": "stdout",
       "text": [
        "\n",
        "Iter: 305000"
       ]
      },
      {
       "output_type": "stream",
       "stream": "stdout",
       "text": [
        "\n",
        "Loss: 0.001519\n",
        "('recon_loss = ', 0.0003910492)\n",
        "('saved session to ', '/home/vernwalrahul/projects/WorkSpace_Hlaton_2D/checkpoints/model.ckpt')"
       ]
      },
      {
       "output_type": "stream",
       "stream": "stdout",
       "text": [
        "\n",
        "Iter: 306000"
       ]
      },
      {
       "output_type": "stream",
       "stream": "stdout",
       "text": [
        "\n",
        "Loss: 0.001471\n",
        "('recon_loss = ', 0.00033357833)\n",
        "('saved session to ', '/home/vernwalrahul/projects/WorkSpace_Hlaton_2D/checkpoints/model.ckpt')"
       ]
      },
      {
       "output_type": "stream",
       "stream": "stdout",
       "text": [
        "\n",
        "Iter: 307000"
       ]
      },
      {
       "output_type": "stream",
       "stream": "stdout",
       "text": [
        "\n",
        "Loss: 0.001394\n",
        "('recon_loss = ', 0.00030829886)\n",
        "('saved session to ', '/home/vernwalrahul/projects/WorkSpace_Hlaton_2D/checkpoints/model.ckpt')"
       ]
      },
      {
       "output_type": "stream",
       "stream": "stdout",
       "text": [
        "\n",
        "Iter: 308000"
       ]
      },
      {
       "output_type": "stream",
       "stream": "stdout",
       "text": [
        "\n",
        "Loss: 0.001447\n",
        "('recon_loss = ', 0.00034336135)\n",
        "('saved session to ', '/home/vernwalrahul/projects/WorkSpace_Hlaton_2D/checkpoints/model.ckpt')"
       ]
      },
      {
       "output_type": "stream",
       "stream": "stdout",
       "text": [
        "\n",
        "Iter: 309000"
       ]
      },
      {
       "output_type": "stream",
       "stream": "stdout",
       "text": [
        "\n",
        "Loss: 0.001558\n",
        "('recon_loss = ', 0.0004176417)\n",
        "('saved session to ', '/home/vernwalrahul/projects/WorkSpace_Hlaton_2D/checkpoints/model.ckpt')"
       ]
      },
      {
       "output_type": "stream",
       "stream": "stdout",
       "text": [
        "\n",
        "Iter: 310000"
       ]
      },
      {
       "output_type": "stream",
       "stream": "stdout",
       "text": [
        "\n",
        "Loss: 0.001451\n",
        "('recon_loss = ', 0.000351316)\n",
        "('saved session to ', '/home/vernwalrahul/projects/WorkSpace_Hlaton_2D/checkpoints/model.ckpt')"
       ]
      },
      {
       "output_type": "stream",
       "stream": "stdout",
       "text": [
        "\n",
        "Iter: 311000"
       ]
      },
      {
       "output_type": "stream",
       "stream": "stdout",
       "text": [
        "\n",
        "Loss: 0.001498\n",
        "('recon_loss = ', 0.00033517703)\n",
        "('saved session to ', '/home/vernwalrahul/projects/WorkSpace_Hlaton_2D/checkpoints/model.ckpt')"
       ]
      },
      {
       "output_type": "stream",
       "stream": "stdout",
       "text": [
        "\n",
        "Iter: 312000"
       ]
      },
      {
       "output_type": "stream",
       "stream": "stdout",
       "text": [
        "\n",
        "Loss: 0.001414\n",
        "('recon_loss = ', 0.00033178966)\n",
        "('saved session to ', '/home/vernwalrahul/projects/WorkSpace_Hlaton_2D/checkpoints/model.ckpt')"
       ]
      },
      {
       "output_type": "stream",
       "stream": "stdout",
       "text": [
        "\n",
        "Iter: 313000"
       ]
      },
      {
       "output_type": "stream",
       "stream": "stdout",
       "text": [
        "\n",
        "Loss: 0.001477\n",
        "('recon_loss = ', 0.0003812565)\n",
        "('saved session to ', '/home/vernwalrahul/projects/WorkSpace_Hlaton_2D/checkpoints/model.ckpt')"
       ]
      },
      {
       "output_type": "stream",
       "stream": "stdout",
       "text": [
        "\n",
        "Iter: 314000"
       ]
      },
      {
       "output_type": "stream",
       "stream": "stdout",
       "text": [
        "\n",
        "Loss: 0.00148\n",
        "('recon_loss = ', 0.00034955872)\n",
        "('saved session to ', '/home/vernwalrahul/projects/WorkSpace_Hlaton_2D/checkpoints/model.ckpt')"
       ]
      },
      {
       "output_type": "stream",
       "stream": "stdout",
       "text": [
        "\n",
        "Iter: 315000"
       ]
      },
      {
       "output_type": "stream",
       "stream": "stdout",
       "text": [
        "\n",
        "Loss: 0.001544\n",
        "('recon_loss = ', 0.00040315808)\n",
        "('saved session to ', '/home/vernwalrahul/projects/WorkSpace_Hlaton_2D/checkpoints/model.ckpt')"
       ]
      },
      {
       "output_type": "stream",
       "stream": "stdout",
       "text": [
        "\n",
        "Iter: 316000"
       ]
      },
      {
       "output_type": "stream",
       "stream": "stdout",
       "text": [
        "\n",
        "Loss: 0.001436\n",
        "('recon_loss = ', 0.0002715431)\n",
        "('saved session to ', '/home/vernwalrahul/projects/WorkSpace_Hlaton_2D/checkpoints/model.ckpt')"
       ]
      },
      {
       "output_type": "stream",
       "stream": "stdout",
       "text": [
        "\n",
        "Iter: 317000"
       ]
      },
      {
       "output_type": "stream",
       "stream": "stdout",
       "text": [
        "\n",
        "Loss: 0.001409\n",
        "('recon_loss = ', 0.00028749162)\n",
        "('saved session to ', '/home/vernwalrahul/projects/WorkSpace_Hlaton_2D/checkpoints/model.ckpt')"
       ]
      },
      {
       "output_type": "stream",
       "stream": "stdout",
       "text": [
        "\n",
        "Iter: 318000"
       ]
      },
      {
       "output_type": "stream",
       "stream": "stdout",
       "text": [
        "\n",
        "Loss: 0.001538\n",
        "('recon_loss = ', 0.00044717206)\n",
        "('saved session to ', '/home/vernwalrahul/projects/WorkSpace_Hlaton_2D/checkpoints/model.ckpt')"
       ]
      },
      {
       "output_type": "stream",
       "stream": "stdout",
       "text": [
        "\n",
        "Iter: 319000"
       ]
      },
      {
       "output_type": "stream",
       "stream": "stdout",
       "text": [
        "\n",
        "Loss: 0.00157\n",
        "('recon_loss = ', 0.00038703892)\n",
        "('saved session to ', '/home/vernwalrahul/projects/WorkSpace_Hlaton_2D/checkpoints/model.ckpt')"
       ]
      },
      {
       "output_type": "stream",
       "stream": "stdout",
       "text": [
        "\n",
        "Iter: 320000"
       ]
      },
      {
       "output_type": "stream",
       "stream": "stdout",
       "text": [
        "\n",
        "Loss: 0.001386\n",
        "('recon_loss = ', 0.00031787102)\n",
        "('saved session to ', '/home/vernwalrahul/projects/WorkSpace_Hlaton_2D/checkpoints/model.ckpt')"
       ]
      },
      {
       "output_type": "stream",
       "stream": "stdout",
       "text": [
        "\n",
        "Iter: 321000"
       ]
      },
      {
       "output_type": "stream",
       "stream": "stdout",
       "text": [
        "\n",
        "Loss: 0.001444\n",
        "('recon_loss = ', 0.0003349625)\n",
        "('saved session to ', '/home/vernwalrahul/projects/WorkSpace_Hlaton_2D/checkpoints/model.ckpt')"
       ]
      },
      {
       "output_type": "stream",
       "stream": "stdout",
       "text": [
        "\n",
        "Iter: 322000"
       ]
      },
      {
       "output_type": "stream",
       "stream": "stdout",
       "text": [
        "\n",
        "Loss: 0.00159\n",
        "('recon_loss = ', 0.00043422577)\n",
        "('saved session to ', '/home/vernwalrahul/projects/WorkSpace_Hlaton_2D/checkpoints/model.ckpt')"
       ]
      },
      {
       "output_type": "stream",
       "stream": "stdout",
       "text": [
        "\n",
        "Iter: 323000"
       ]
      },
      {
       "output_type": "stream",
       "stream": "stdout",
       "text": [
        "\n",
        "Loss: 0.001579\n",
        "('recon_loss = ', 0.00044148683)\n",
        "('saved session to ', '/home/vernwalrahul/projects/WorkSpace_Hlaton_2D/checkpoints/model.ckpt')"
       ]
      },
      {
       "output_type": "stream",
       "stream": "stdout",
       "text": [
        "\n",
        "Iter: 324000"
       ]
      },
      {
       "output_type": "stream",
       "stream": "stdout",
       "text": [
        "\n",
        "Loss: 0.00145\n",
        "('recon_loss = ', 0.00036640145)\n",
        "('saved session to ', '/home/vernwalrahul/projects/WorkSpace_Hlaton_2D/checkpoints/model.ckpt')"
       ]
      },
      {
       "output_type": "stream",
       "stream": "stdout",
       "text": [
        "\n",
        "Iter: 325000"
       ]
      },
      {
       "output_type": "stream",
       "stream": "stdout",
       "text": [
        "\n",
        "Loss: 0.001449\n",
        "('recon_loss = ', 0.00036600305)\n",
        "('saved session to ', '/home/vernwalrahul/projects/WorkSpace_Hlaton_2D/checkpoints/model.ckpt')"
       ]
      },
      {
       "output_type": "stream",
       "stream": "stdout",
       "text": [
        "\n",
        "Iter: 326000"
       ]
      },
      {
       "output_type": "stream",
       "stream": "stdout",
       "text": [
        "\n",
        "Loss: 0.001396\n",
        "('recon_loss = ', 0.000322023)\n",
        "('saved session to ', '/home/vernwalrahul/projects/WorkSpace_Hlaton_2D/checkpoints/model.ckpt')"
       ]
      },
      {
       "output_type": "stream",
       "stream": "stdout",
       "text": [
        "\n",
        "Iter: 327000"
       ]
      },
      {
       "output_type": "stream",
       "stream": "stdout",
       "text": [
        "\n",
        "Loss: 0.001454\n",
        "('recon_loss = ', 0.0003258599)\n",
        "('saved session to ', '/home/vernwalrahul/projects/WorkSpace_Hlaton_2D/checkpoints/model.ckpt')"
       ]
      },
      {
       "output_type": "stream",
       "stream": "stdout",
       "text": [
        "\n",
        "Iter: 328000"
       ]
      },
      {
       "output_type": "stream",
       "stream": "stdout",
       "text": [
        "\n",
        "Loss: 0.001476\n",
        "('recon_loss = ', 0.00037487753)\n",
        "('saved session to ', '/home/vernwalrahul/projects/WorkSpace_Hlaton_2D/checkpoints/model.ckpt')"
       ]
      },
      {
       "output_type": "stream",
       "stream": "stdout",
       "text": [
        "\n",
        "Iter: 329000"
       ]
      },
      {
       "output_type": "stream",
       "stream": "stdout",
       "text": [
        "\n",
        "Loss: 0.00152\n",
        "('recon_loss = ', 0.00041273187)\n",
        "('saved session to ', '/home/vernwalrahul/projects/WorkSpace_Hlaton_2D/checkpoints/model.ckpt')"
       ]
      },
      {
       "output_type": "stream",
       "stream": "stdout",
       "text": [
        "\n",
        "Iter: 330000"
       ]
      },
      {
       "output_type": "stream",
       "stream": "stdout",
       "text": [
        "\n",
        "Loss: 0.001475\n",
        "('recon_loss = ', 0.00037582236)\n",
        "('saved session to ', '/home/vernwalrahul/projects/WorkSpace_Hlaton_2D/checkpoints/model.ckpt')"
       ]
      },
      {
       "output_type": "stream",
       "stream": "stdout",
       "text": [
        "\n",
        "Iter: 331000"
       ]
      },
      {
       "output_type": "stream",
       "stream": "stdout",
       "text": [
        "\n",
        "Loss: 0.001407\n",
        "('recon_loss = ', 0.00027561956)\n",
        "('saved session to ', '/home/vernwalrahul/projects/WorkSpace_Hlaton_2D/checkpoints/model.ckpt')"
       ]
      },
      {
       "output_type": "stream",
       "stream": "stdout",
       "text": [
        "\n",
        "Iter: 332000"
       ]
      },
      {
       "output_type": "stream",
       "stream": "stdout",
       "text": [
        "\n",
        "Loss: 0.001525\n",
        "('recon_loss = ', 0.00039952126)\n",
        "('saved session to ', '/home/vernwalrahul/projects/WorkSpace_Hlaton_2D/checkpoints/model.ckpt')"
       ]
      },
      {
       "output_type": "stream",
       "stream": "stdout",
       "text": [
        "\n",
        "Iter: 333000"
       ]
      },
      {
       "output_type": "stream",
       "stream": "stdout",
       "text": [
        "\n",
        "Loss: 0.001473\n",
        "('recon_loss = ', 0.00030530477)\n",
        "('saved session to ', '/home/vernwalrahul/projects/WorkSpace_Hlaton_2D/checkpoints/model.ckpt')"
       ]
      },
      {
       "output_type": "stream",
       "stream": "stdout",
       "text": [
        "\n",
        "Iter: 334000"
       ]
      },
      {
       "output_type": "stream",
       "stream": "stdout",
       "text": [
        "\n",
        "Loss: 0.001466\n",
        "('recon_loss = ', 0.00033816404)\n",
        "('saved session to ', '/home/vernwalrahul/projects/WorkSpace_Hlaton_2D/checkpoints/model.ckpt')"
       ]
      },
      {
       "output_type": "stream",
       "stream": "stdout",
       "text": [
        "\n",
        "Iter: 335000"
       ]
      },
      {
       "output_type": "stream",
       "stream": "stdout",
       "text": [
        "\n",
        "Loss: 0.001476\n",
        "('recon_loss = ', 0.00037699388)\n",
        "('saved session to ', '/home/vernwalrahul/projects/WorkSpace_Hlaton_2D/checkpoints/model.ckpt')"
       ]
      },
      {
       "output_type": "stream",
       "stream": "stdout",
       "text": [
        "\n",
        "Iter: 336000"
       ]
      },
      {
       "output_type": "stream",
       "stream": "stdout",
       "text": [
        "\n",
        "Loss: 0.001492\n",
        "('recon_loss = ', 0.0003650322)\n",
        "('saved session to ', '/home/vernwalrahul/projects/WorkSpace_Hlaton_2D/checkpoints/model.ckpt')"
       ]
      },
      {
       "output_type": "stream",
       "stream": "stdout",
       "text": [
        "\n",
        "Iter: 337000"
       ]
      },
      {
       "output_type": "stream",
       "stream": "stdout",
       "text": [
        "\n",
        "Loss: 0.00141\n",
        "('recon_loss = ', 0.00027815596)\n",
        "('saved session to ', '/home/vernwalrahul/projects/WorkSpace_Hlaton_2D/checkpoints/model.ckpt')"
       ]
      },
      {
       "output_type": "stream",
       "stream": "stdout",
       "text": [
        "\n",
        "Iter: 338000"
       ]
      },
      {
       "output_type": "stream",
       "stream": "stdout",
       "text": [
        "\n",
        "Loss: 0.0014\n",
        "('recon_loss = ', 0.00030137753)\n",
        "('saved session to ', '/home/vernwalrahul/projects/WorkSpace_Hlaton_2D/checkpoints/model.ckpt')"
       ]
      },
      {
       "output_type": "stream",
       "stream": "stdout",
       "text": [
        "\n",
        "Iter: 339000"
       ]
      },
      {
       "output_type": "stream",
       "stream": "stdout",
       "text": [
        "\n",
        "Loss: 0.001452\n",
        "('recon_loss = ', 0.00035054894)\n",
        "('saved session to ', '/home/vernwalrahul/projects/WorkSpace_Hlaton_2D/checkpoints/model.ckpt')"
       ]
      },
      {
       "output_type": "stream",
       "stream": "stdout",
       "text": [
        "\n",
        "Iter: 340000"
       ]
      },
      {
       "output_type": "stream",
       "stream": "stdout",
       "text": [
        "\n",
        "Loss: 0.001538\n",
        "('recon_loss = ', 0.0003908635)\n",
        "('saved session to ', '/home/vernwalrahul/projects/WorkSpace_Hlaton_2D/checkpoints/model.ckpt')"
       ]
      },
      {
       "output_type": "stream",
       "stream": "stdout",
       "text": [
        "\n",
        "Iter: 341000"
       ]
      },
      {
       "output_type": "stream",
       "stream": "stdout",
       "text": [
        "\n",
        "Loss: 0.001462\n",
        "('recon_loss = ', 0.00033884196)\n",
        "('saved session to ', '/home/vernwalrahul/projects/WorkSpace_Hlaton_2D/checkpoints/model.ckpt')"
       ]
      },
      {
       "output_type": "stream",
       "stream": "stdout",
       "text": [
        "\n",
        "Iter: 342000"
       ]
      },
      {
       "output_type": "stream",
       "stream": "stdout",
       "text": [
        "\n",
        "Loss: 0.001462\n",
        "('recon_loss = ', 0.0003197547)\n",
        "('saved session to ', '/home/vernwalrahul/projects/WorkSpace_Hlaton_2D/checkpoints/model.ckpt')"
       ]
      },
      {
       "output_type": "stream",
       "stream": "stdout",
       "text": [
        "\n",
        "Iter: 343000"
       ]
      },
      {
       "output_type": "stream",
       "stream": "stdout",
       "text": [
        "\n",
        "Loss: 0.001496\n",
        "('recon_loss = ', 0.00041170165)\n",
        "('saved session to ', '/home/vernwalrahul/projects/WorkSpace_Hlaton_2D/checkpoints/model.ckpt')"
       ]
      },
      {
       "output_type": "stream",
       "stream": "stdout",
       "text": [
        "\n",
        "Iter: 344000"
       ]
      },
      {
       "output_type": "stream",
       "stream": "stdout",
       "text": [
        "\n",
        "Loss: 0.001425\n",
        "('recon_loss = ', 0.00033130206)\n",
        "('saved session to ', '/home/vernwalrahul/projects/WorkSpace_Hlaton_2D/checkpoints/model.ckpt')"
       ]
      },
      {
       "output_type": "stream",
       "stream": "stdout",
       "text": [
        "\n",
        "Iter: 345000"
       ]
      },
      {
       "output_type": "stream",
       "stream": "stdout",
       "text": [
        "\n",
        "Loss: 0.001487\n",
        "('recon_loss = ', 0.00039568963)\n",
        "('saved session to ', '/home/vernwalrahul/projects/WorkSpace_Hlaton_2D/checkpoints/model.ckpt')"
       ]
      },
      {
       "output_type": "stream",
       "stream": "stdout",
       "text": [
        "\n",
        "Iter: 346000"
       ]
      },
      {
       "output_type": "stream",
       "stream": "stdout",
       "text": [
        "\n",
        "Loss: 0.001449\n",
        "('recon_loss = ', 0.00036266568)\n",
        "('saved session to ', '/home/vernwalrahul/projects/WorkSpace_Hlaton_2D/checkpoints/model.ckpt')"
       ]
      },
      {
       "output_type": "stream",
       "stream": "stdout",
       "text": [
        "\n",
        "Iter: 347000"
       ]
      },
      {
       "output_type": "stream",
       "stream": "stdout",
       "text": [
        "\n",
        "Loss: 0.001419\n",
        "('recon_loss = ', 0.00031645718)\n",
        "('saved session to ', '/home/vernwalrahul/projects/WorkSpace_Hlaton_2D/checkpoints/model.ckpt')"
       ]
      },
      {
       "output_type": "stream",
       "stream": "stdout",
       "text": [
        "\n",
        "Iter: 348000"
       ]
      },
      {
       "output_type": "stream",
       "stream": "stdout",
       "text": [
        "\n",
        "Loss: 0.001467\n",
        "('recon_loss = ', 0.00035910594)\n",
        "('saved session to ', '/home/vernwalrahul/projects/WorkSpace_Hlaton_2D/checkpoints/model.ckpt')"
       ]
      },
      {
       "output_type": "stream",
       "stream": "stdout",
       "text": [
        "\n",
        "Iter: 349000"
       ]
      },
      {
       "output_type": "stream",
       "stream": "stdout",
       "text": [
        "\n",
        "Loss: 0.001524\n",
        "('recon_loss = ', 0.0004049231)\n",
        "('saved session to ', '/home/vernwalrahul/projects/WorkSpace_Hlaton_2D/checkpoints/model.ckpt')"
       ]
      },
      {
       "output_type": "stream",
       "stream": "stdout",
       "text": [
        "\n",
        "Iter: 350000"
       ]
      },
      {
       "output_type": "stream",
       "stream": "stdout",
       "text": [
        "\n",
        "Loss: 0.001417\n",
        "('recon_loss = ', 0.0003386166)\n",
        "('saved session to ', '/home/vernwalrahul/projects/WorkSpace_Hlaton_2D/checkpoints/model.ckpt')"
       ]
      },
      {
       "output_type": "stream",
       "stream": "stdout",
       "text": [
        "\n",
        "Iter: 351000"
       ]
      },
      {
       "output_type": "stream",
       "stream": "stdout",
       "text": [
        "\n",
        "Loss: 0.001457\n",
        "('recon_loss = ', 0.00036340195)\n",
        "('saved session to ', '/home/vernwalrahul/projects/WorkSpace_Hlaton_2D/checkpoints/model.ckpt')"
       ]
      },
      {
       "output_type": "stream",
       "stream": "stdout",
       "text": [
        "\n",
        "Iter: 352000"
       ]
      },
      {
       "output_type": "stream",
       "stream": "stdout",
       "text": [
        "\n",
        "Loss: 0.001398\n",
        "('recon_loss = ', 0.00028866023)\n",
        "('saved session to ', '/home/vernwalrahul/projects/WorkSpace_Hlaton_2D/checkpoints/model.ckpt')"
       ]
      },
      {
       "output_type": "stream",
       "stream": "stdout",
       "text": [
        "\n",
        "Iter: 353000"
       ]
      },
      {
       "output_type": "stream",
       "stream": "stdout",
       "text": [
        "\n",
        "Loss: 0.001426\n",
        "('recon_loss = ', 0.00031371682)\n",
        "('saved session to ', '/home/vernwalrahul/projects/WorkSpace_Hlaton_2D/checkpoints/model.ckpt')"
       ]
      },
      {
       "output_type": "stream",
       "stream": "stdout",
       "text": [
        "\n",
        "Iter: 354000"
       ]
      },
      {
       "output_type": "stream",
       "stream": "stdout",
       "text": [
        "\n",
        "Loss: 0.001496\n",
        "('recon_loss = ', 0.00034481578)\n",
        "('saved session to ', '/home/vernwalrahul/projects/WorkSpace_Hlaton_2D/checkpoints/model.ckpt')"
       ]
      },
      {
       "output_type": "stream",
       "stream": "stdout",
       "text": [
        "\n",
        "Iter: 355000"
       ]
      },
      {
       "output_type": "stream",
       "stream": "stdout",
       "text": [
        "\n",
        "Loss: 0.00143\n",
        "('recon_loss = ', 0.0003393705)\n",
        "('saved session to ', '/home/vernwalrahul/projects/WorkSpace_Hlaton_2D/checkpoints/model.ckpt')"
       ]
      },
      {
       "output_type": "stream",
       "stream": "stdout",
       "text": [
        "\n",
        "Iter: 356000"
       ]
      },
      {
       "output_type": "stream",
       "stream": "stdout",
       "text": [
        "\n",
        "Loss: 0.0014\n",
        "('recon_loss = ', 0.0002995834)\n",
        "('saved session to ', '/home/vernwalrahul/projects/WorkSpace_Hlaton_2D/checkpoints/model.ckpt')"
       ]
      },
      {
       "output_type": "stream",
       "stream": "stdout",
       "text": [
        "\n",
        "Iter: 357000"
       ]
      },
      {
       "output_type": "stream",
       "stream": "stdout",
       "text": [
        "\n",
        "Loss: 0.001549\n",
        "('recon_loss = ', 0.00046290524)\n",
        "('saved session to ', '/home/vernwalrahul/projects/WorkSpace_Hlaton_2D/checkpoints/model.ckpt')"
       ]
      },
      {
       "output_type": "stream",
       "stream": "stdout",
       "text": [
        "\n",
        "Iter: 358000"
       ]
      },
      {
       "output_type": "stream",
       "stream": "stdout",
       "text": [
        "\n",
        "Loss: 0.001488\n",
        "('recon_loss = ', 0.00043141906)\n",
        "('saved session to ', '/home/vernwalrahul/projects/WorkSpace_Hlaton_2D/checkpoints/model.ckpt')"
       ]
      },
      {
       "output_type": "stream",
       "stream": "stdout",
       "text": [
        "\n",
        "Iter: 359000"
       ]
      },
      {
       "output_type": "stream",
       "stream": "stdout",
       "text": [
        "\n",
        "Loss: 0.001422\n",
        "('recon_loss = ', 0.00035891647)\n",
        "('saved session to ', '/home/vernwalrahul/projects/WorkSpace_Hlaton_2D/checkpoints/model.ckpt')"
       ]
      },
      {
       "output_type": "stream",
       "stream": "stdout",
       "text": [
        "\n",
        "Iter: 360000"
       ]
      },
      {
       "output_type": "stream",
       "stream": "stdout",
       "text": [
        "\n",
        "Loss: 0.001389\n",
        "('recon_loss = ', 0.0002929006)\n",
        "('saved session to ', '/home/vernwalrahul/projects/WorkSpace_Hlaton_2D/checkpoints/model.ckpt')"
       ]
      },
      {
       "output_type": "stream",
       "stream": "stdout",
       "text": [
        "\n",
        "Iter: 361000"
       ]
      },
      {
       "output_type": "stream",
       "stream": "stdout",
       "text": [
        "\n",
        "Loss: 0.001491\n",
        "('recon_loss = ', 0.00040354196)\n",
        "('saved session to ', '/home/vernwalrahul/projects/WorkSpace_Hlaton_2D/checkpoints/model.ckpt')"
       ]
      },
      {
       "output_type": "stream",
       "stream": "stdout",
       "text": [
        "\n",
        "Iter: 362000"
       ]
      },
      {
       "output_type": "stream",
       "stream": "stdout",
       "text": [
        "\n",
        "Loss: 0.001442\n",
        "('recon_loss = ', 0.00030394655)\n",
        "('saved session to ', '/home/vernwalrahul/projects/WorkSpace_Hlaton_2D/checkpoints/model.ckpt')"
       ]
      },
      {
       "output_type": "stream",
       "stream": "stdout",
       "text": [
        "\n",
        "Iter: 363000"
       ]
      },
      {
       "output_type": "stream",
       "stream": "stdout",
       "text": [
        "\n",
        "Loss: 0.001472\n",
        "('recon_loss = ', 0.00038214464)\n",
        "('saved session to ', '/home/vernwalrahul/projects/WorkSpace_Hlaton_2D/checkpoints/model.ckpt')"
       ]
      },
      {
       "output_type": "stream",
       "stream": "stdout",
       "text": [
        "\n",
        "Iter: 364000"
       ]
      },
      {
       "output_type": "stream",
       "stream": "stdout",
       "text": [
        "\n",
        "Loss: 0.001538\n",
        "('recon_loss = ', 0.00041819725)\n",
        "('saved session to ', '/home/vernwalrahul/projects/WorkSpace_Hlaton_2D/checkpoints/model.ckpt')"
       ]
      },
      {
       "output_type": "stream",
       "stream": "stdout",
       "text": [
        "\n",
        "Iter: 365000"
       ]
      },
      {
       "output_type": "stream",
       "stream": "stdout",
       "text": [
        "\n",
        "Loss: 0.001404\n",
        "('recon_loss = ', 0.00032523245)\n",
        "('saved session to ', '/home/vernwalrahul/projects/WorkSpace_Hlaton_2D/checkpoints/model.ckpt')"
       ]
      },
      {
       "output_type": "stream",
       "stream": "stdout",
       "text": [
        "\n",
        "Iter: 366000"
       ]
      },
      {
       "output_type": "stream",
       "stream": "stdout",
       "text": [
        "\n",
        "Loss: 0.001429\n",
        "('recon_loss = ', 0.0003535206)\n",
        "('saved session to ', '/home/vernwalrahul/projects/WorkSpace_Hlaton_2D/checkpoints/model.ckpt')"
       ]
      },
      {
       "output_type": "stream",
       "stream": "stdout",
       "text": [
        "\n",
        "Iter: 367000"
       ]
      },
      {
       "output_type": "stream",
       "stream": "stdout",
       "text": [
        "\n",
        "Loss: 0.001388\n",
        "('recon_loss = ', 0.0002566311)\n",
        "('saved session to ', '/home/vernwalrahul/projects/WorkSpace_Hlaton_2D/checkpoints/model.ckpt')"
       ]
      },
      {
       "output_type": "stream",
       "stream": "stdout",
       "text": [
        "\n",
        "Iter: 368000"
       ]
      },
      {
       "output_type": "stream",
       "stream": "stdout",
       "text": [
        "\n",
        "Loss: 0.00145\n",
        "('recon_loss = ', 0.00038447804)\n",
        "('saved session to ', '/home/vernwalrahul/projects/WorkSpace_Hlaton_2D/checkpoints/model.ckpt')"
       ]
      },
      {
       "output_type": "stream",
       "stream": "stdout",
       "text": [
        "\n",
        "Iter: 369000"
       ]
      },
      {
       "output_type": "stream",
       "stream": "stdout",
       "text": [
        "\n",
        "Loss: 0.001452\n",
        "('recon_loss = ', 0.00037838734)\n",
        "('saved session to ', '/home/vernwalrahul/projects/WorkSpace_Hlaton_2D/checkpoints/model.ckpt')"
       ]
      },
      {
       "output_type": "stream",
       "stream": "stdout",
       "text": [
        "\n",
        "Iter: 370000"
       ]
      },
      {
       "output_type": "stream",
       "stream": "stdout",
       "text": [
        "\n",
        "Loss: 0.001483\n",
        "('recon_loss = ', 0.00037523021)\n",
        "('saved session to ', '/home/vernwalrahul/projects/WorkSpace_Hlaton_2D/checkpoints/model.ckpt')"
       ]
      },
      {
       "output_type": "stream",
       "stream": "stdout",
       "text": [
        "\n",
        "Iter: 371000"
       ]
      },
      {
       "output_type": "stream",
       "stream": "stdout",
       "text": [
        "\n",
        "Loss: 0.001451\n",
        "('recon_loss = ', 0.00035740252)\n",
        "('saved session to ', '/home/vernwalrahul/projects/WorkSpace_Hlaton_2D/checkpoints/model.ckpt')"
       ]
      },
      {
       "output_type": "stream",
       "stream": "stdout",
       "text": [
        "\n",
        "Iter: 372000"
       ]
      },
      {
       "output_type": "stream",
       "stream": "stdout",
       "text": [
        "\n",
        "Loss: 0.001429\n",
        "('recon_loss = ', 0.00028709546)\n",
        "('saved session to ', '/home/vernwalrahul/projects/WorkSpace_Hlaton_2D/checkpoints/model.ckpt')"
       ]
      },
      {
       "output_type": "stream",
       "stream": "stdout",
       "text": [
        "\n",
        "Iter: 373000"
       ]
      },
      {
       "output_type": "stream",
       "stream": "stdout",
       "text": [
        "\n",
        "Loss: 0.001347\n",
        "('recon_loss = ', 0.00026938197)\n",
        "('saved session to ', '/home/vernwalrahul/projects/WorkSpace_Hlaton_2D/checkpoints/model.ckpt')"
       ]
      },
      {
       "output_type": "stream",
       "stream": "stdout",
       "text": [
        "\n",
        "Iter: 374000"
       ]
      },
      {
       "output_type": "stream",
       "stream": "stdout",
       "text": [
        "\n",
        "Loss: 0.001409\n",
        "('recon_loss = ', 0.000299713)\n",
        "('saved session to ', '/home/vernwalrahul/projects/WorkSpace_Hlaton_2D/checkpoints/model.ckpt')"
       ]
      },
      {
       "output_type": "stream",
       "stream": "stdout",
       "text": [
        "\n",
        "Iter: 375000"
       ]
      },
      {
       "output_type": "stream",
       "stream": "stdout",
       "text": [
        "\n",
        "Loss: 0.001488\n",
        "('recon_loss = ', 0.0004191045)\n",
        "('saved session to ', '/home/vernwalrahul/projects/WorkSpace_Hlaton_2D/checkpoints/model.ckpt')"
       ]
      },
      {
       "output_type": "stream",
       "stream": "stdout",
       "text": [
        "\n",
        "Iter: 376000"
       ]
      },
      {
       "output_type": "stream",
       "stream": "stdout",
       "text": [
        "\n",
        "Loss: 0.00144\n",
        "('recon_loss = ', 0.00038140937)\n",
        "('saved session to ', '/home/vernwalrahul/projects/WorkSpace_Hlaton_2D/checkpoints/model.ckpt')"
       ]
      },
      {
       "output_type": "stream",
       "stream": "stdout",
       "text": [
        "\n",
        "Iter: 377000"
       ]
      },
      {
       "output_type": "stream",
       "stream": "stdout",
       "text": [
        "\n",
        "Loss: 0.001522\n",
        "('recon_loss = ', 0.00042972152)\n",
        "('saved session to ', '/home/vernwalrahul/projects/WorkSpace_Hlaton_2D/checkpoints/model.ckpt')"
       ]
      },
      {
       "output_type": "stream",
       "stream": "stdout",
       "text": [
        "\n",
        "Iter: 378000"
       ]
      },
      {
       "output_type": "stream",
       "stream": "stdout",
       "text": [
        "\n",
        "Loss: 0.00144\n",
        "('recon_loss = ', 0.00035766524)\n",
        "('saved session to ', '/home/vernwalrahul/projects/WorkSpace_Hlaton_2D/checkpoints/model.ckpt')"
       ]
      },
      {
       "output_type": "stream",
       "stream": "stdout",
       "text": [
        "\n",
        "Iter: 379000"
       ]
      },
      {
       "output_type": "stream",
       "stream": "stdout",
       "text": [
        "\n",
        "Loss: 0.001394\n",
        "('recon_loss = ', 0.00029356356)\n",
        "('saved session to ', '/home/vernwalrahul/projects/WorkSpace_Hlaton_2D/checkpoints/model.ckpt')"
       ]
      },
      {
       "output_type": "stream",
       "stream": "stdout",
       "text": [
        "\n",
        "Iter: 380000"
       ]
      },
      {
       "output_type": "stream",
       "stream": "stdout",
       "text": [
        "\n",
        "Loss: 0.001485\n",
        "('recon_loss = ', 0.00037032773)\n",
        "('saved session to ', '/home/vernwalrahul/projects/WorkSpace_Hlaton_2D/checkpoints/model.ckpt')"
       ]
      },
      {
       "output_type": "stream",
       "stream": "stdout",
       "text": [
        "\n",
        "Iter: 381000"
       ]
      },
      {
       "output_type": "stream",
       "stream": "stdout",
       "text": [
        "\n",
        "Loss: 0.001483\n",
        "('recon_loss = ', 0.00039328018)\n",
        "('saved session to ', '/home/vernwalrahul/projects/WorkSpace_Hlaton_2D/checkpoints/model.ckpt')"
       ]
      },
      {
       "output_type": "stream",
       "stream": "stdout",
       "text": [
        "\n",
        "Iter: 382000"
       ]
      },
      {
       "output_type": "stream",
       "stream": "stdout",
       "text": [
        "\n",
        "Loss: 0.001426\n",
        "('recon_loss = ', 0.00033367952)\n",
        "('saved session to ', '/home/vernwalrahul/projects/WorkSpace_Hlaton_2D/checkpoints/model.ckpt')"
       ]
      },
      {
       "output_type": "stream",
       "stream": "stdout",
       "text": [
        "\n",
        "Iter: 383000"
       ]
      },
      {
       "output_type": "stream",
       "stream": "stdout",
       "text": [
        "\n",
        "Loss: 0.001467\n",
        "('recon_loss = ', 0.00037651713)\n",
        "('saved session to ', '/home/vernwalrahul/projects/WorkSpace_Hlaton_2D/checkpoints/model.ckpt')"
       ]
      },
      {
       "output_type": "stream",
       "stream": "stdout",
       "text": [
        "\n",
        "Iter: 384000"
       ]
      },
      {
       "output_type": "stream",
       "stream": "stdout",
       "text": [
        "\n",
        "Loss: 0.001373\n",
        "('recon_loss = ', 0.00030052944)\n",
        "('saved session to ', '/home/vernwalrahul/projects/WorkSpace_Hlaton_2D/checkpoints/model.ckpt')"
       ]
      },
      {
       "output_type": "stream",
       "stream": "stdout",
       "text": [
        "\n",
        "Iter: 385000"
       ]
      },
      {
       "output_type": "stream",
       "stream": "stdout",
       "text": [
        "\n",
        "Loss: 0.001447\n",
        "('recon_loss = ', 0.00034045824)\n",
        "('saved session to ', '/home/vernwalrahul/projects/WorkSpace_Hlaton_2D/checkpoints/model.ckpt')"
       ]
      },
      {
       "output_type": "stream",
       "stream": "stdout",
       "text": [
        "\n",
        "Iter: 386000"
       ]
      },
      {
       "output_type": "stream",
       "stream": "stdout",
       "text": [
        "\n",
        "Loss: 0.001497\n",
        "('recon_loss = ', 0.00046809815)\n",
        "('saved session to ', '/home/vernwalrahul/projects/WorkSpace_Hlaton_2D/checkpoints/model.ckpt')"
       ]
      },
      {
       "output_type": "stream",
       "stream": "stdout",
       "text": [
        "\n",
        "Iter: 387000"
       ]
      },
      {
       "output_type": "stream",
       "stream": "stdout",
       "text": [
        "\n",
        "Loss: 0.001475\n",
        "('recon_loss = ', 0.00034994178)\n",
        "('saved session to ', '/home/vernwalrahul/projects/WorkSpace_Hlaton_2D/checkpoints/model.ckpt')"
       ]
      },
      {
       "output_type": "stream",
       "stream": "stdout",
       "text": [
        "\n",
        "Iter: 388000"
       ]
      },
      {
       "output_type": "stream",
       "stream": "stdout",
       "text": [
        "\n",
        "Loss: 0.001413\n",
        "('recon_loss = ', 0.00029522882)\n",
        "('saved session to ', '/home/vernwalrahul/projects/WorkSpace_Hlaton_2D/checkpoints/model.ckpt')"
       ]
      },
      {
       "output_type": "stream",
       "stream": "stdout",
       "text": [
        "\n",
        "Iter: 389000"
       ]
      },
      {
       "output_type": "stream",
       "stream": "stdout",
       "text": [
        "\n",
        "Loss: 0.001414\n",
        "('recon_loss = ', 0.000316234)\n",
        "('saved session to ', '/home/vernwalrahul/projects/WorkSpace_Hlaton_2D/checkpoints/model.ckpt')"
       ]
      },
      {
       "output_type": "stream",
       "stream": "stdout",
       "text": [
        "\n",
        "Iter: 390000"
       ]
      },
      {
       "output_type": "stream",
       "stream": "stdout",
       "text": [
        "\n",
        "Loss: 0.00142\n",
        "('recon_loss = ', 0.00030766713)\n",
        "('saved session to ', '/home/vernwalrahul/projects/WorkSpace_Hlaton_2D/checkpoints/model.ckpt')"
       ]
      },
      {
       "output_type": "stream",
       "stream": "stdout",
       "text": [
        "\n",
        "Iter: 391000"
       ]
      },
      {
       "output_type": "stream",
       "stream": "stdout",
       "text": [
        "\n",
        "Loss: 0.0014\n",
        "('recon_loss = ', 0.0003257003)\n",
        "('saved session to ', '/home/vernwalrahul/projects/WorkSpace_Hlaton_2D/checkpoints/model.ckpt')"
       ]
      },
      {
       "output_type": "stream",
       "stream": "stdout",
       "text": [
        "\n",
        "Iter: 392000"
       ]
      },
      {
       "output_type": "stream",
       "stream": "stdout",
       "text": [
        "\n",
        "Loss: 0.001427\n",
        "('recon_loss = ', 0.00036035414)\n",
        "('saved session to ', '/home/vernwalrahul/projects/WorkSpace_Hlaton_2D/checkpoints/model.ckpt')"
       ]
      },
      {
       "output_type": "stream",
       "stream": "stdout",
       "text": [
        "\n",
        "Iter: 393000"
       ]
      },
      {
       "output_type": "stream",
       "stream": "stdout",
       "text": [
        "\n",
        "Loss: 0.001466\n",
        "('recon_loss = ', 0.00037534483)\n",
        "('saved session to ', '/home/vernwalrahul/projects/WorkSpace_Hlaton_2D/checkpoints/model.ckpt')"
       ]
      },
      {
       "output_type": "stream",
       "stream": "stdout",
       "text": [
        "\n",
        "Iter: 394000"
       ]
      },
      {
       "output_type": "stream",
       "stream": "stdout",
       "text": [
        "\n",
        "Loss: 0.001395\n",
        "('recon_loss = ', 0.00033695807)\n",
        "('saved session to ', '/home/vernwalrahul/projects/WorkSpace_Hlaton_2D/checkpoints/model.ckpt')"
       ]
      },
      {
       "output_type": "stream",
       "stream": "stdout",
       "text": [
        "\n",
        "Iter: 395000"
       ]
      },
      {
       "output_type": "stream",
       "stream": "stdout",
       "text": [
        "\n",
        "Loss: 0.001322\n",
        "('recon_loss = ', 0.0002539155)\n",
        "('saved session to ', '/home/vernwalrahul/projects/WorkSpace_Hlaton_2D/checkpoints/model.ckpt')"
       ]
      },
      {
       "output_type": "stream",
       "stream": "stdout",
       "text": [
        "\n",
        "Iter: 396000"
       ]
      },
      {
       "output_type": "stream",
       "stream": "stdout",
       "text": [
        "\n",
        "Loss: 0.001391\n",
        "('recon_loss = ', 0.00029862038)\n",
        "('saved session to ', '/home/vernwalrahul/projects/WorkSpace_Hlaton_2D/checkpoints/model.ckpt')"
       ]
      },
      {
       "output_type": "stream",
       "stream": "stdout",
       "text": [
        "\n",
        "Iter: 397000"
       ]
      },
      {
       "output_type": "stream",
       "stream": "stdout",
       "text": [
        "\n",
        "Loss: 0.001434\n",
        "('recon_loss = ', 0.0003723596)\n",
        "('saved session to ', '/home/vernwalrahul/projects/WorkSpace_Hlaton_2D/checkpoints/model.ckpt')"
       ]
      },
      {
       "output_type": "stream",
       "stream": "stdout",
       "text": [
        "\n",
        "Iter: 398000"
       ]
      },
      {
       "output_type": "stream",
       "stream": "stdout",
       "text": [
        "\n",
        "Loss: 0.0014\n",
        "('recon_loss = ', 0.00031307476)\n",
        "('saved session to ', '/home/vernwalrahul/projects/WorkSpace_Hlaton_2D/checkpoints/model.ckpt')"
       ]
      },
      {
       "output_type": "stream",
       "stream": "stdout",
       "text": [
        "\n",
        "Iter: 399000"
       ]
      },
      {
       "output_type": "stream",
       "stream": "stdout",
       "text": [
        "\n",
        "Loss: 0.001389\n",
        "('recon_loss = ', 0.00028743196)\n",
        "('saved session to ', '/home/vernwalrahul/projects/WorkSpace_Hlaton_2D/checkpoints/model.ckpt')"
       ]
      },
      {
       "output_type": "stream",
       "stream": "stdout",
       "text": [
        "\n",
        "Iter: 400000"
       ]
      },
      {
       "output_type": "stream",
       "stream": "stdout",
       "text": [
        "\n",
        "Loss: 0.001485\n",
        "('recon_loss = ', 0.00035703718)\n",
        "('saved session to ', '/home/vernwalrahul/projects/WorkSpace_Hlaton_2D/checkpoints/model.ckpt')"
       ]
      },
      {
       "output_type": "stream",
       "stream": "stdout",
       "text": [
        "\n",
        "Iter: 401000"
       ]
      },
      {
       "output_type": "stream",
       "stream": "stdout",
       "text": [
        "\n",
        "Loss: 0.00145\n",
        "('recon_loss = ', 0.00037789633)\n",
        "('saved session to ', '/home/vernwalrahul/projects/WorkSpace_Hlaton_2D/checkpoints/model.ckpt')"
       ]
      },
      {
       "output_type": "stream",
       "stream": "stdout",
       "text": [
        "\n",
        "Iter: 402000"
       ]
      },
      {
       "output_type": "stream",
       "stream": "stdout",
       "text": [
        "\n",
        "Loss: 0.001429\n",
        "('recon_loss = ', 0.00033758976)\n",
        "('saved session to ', '/home/vernwalrahul/projects/WorkSpace_Hlaton_2D/checkpoints/model.ckpt')"
       ]
      },
      {
       "output_type": "stream",
       "stream": "stdout",
       "text": [
        "\n",
        "Iter: 403000"
       ]
      },
      {
       "output_type": "stream",
       "stream": "stdout",
       "text": [
        "\n",
        "Loss: 0.00141\n",
        "('recon_loss = ', 0.00034186192)\n",
        "('saved session to ', '/home/vernwalrahul/projects/WorkSpace_Hlaton_2D/checkpoints/model.ckpt')"
       ]
      },
      {
       "output_type": "stream",
       "stream": "stdout",
       "text": [
        "\n",
        "Iter: 404000"
       ]
      },
      {
       "output_type": "stream",
       "stream": "stdout",
       "text": [
        "\n",
        "Loss: 0.001421\n",
        "('recon_loss = ', 0.0002840429)\n",
        "('saved session to ', '/home/vernwalrahul/projects/WorkSpace_Hlaton_2D/checkpoints/model.ckpt')"
       ]
      },
      {
       "output_type": "stream",
       "stream": "stdout",
       "text": [
        "\n",
        "Iter: 405000"
       ]
      },
      {
       "output_type": "stream",
       "stream": "stdout",
       "text": [
        "\n",
        "Loss: 0.00133\n",
        "('recon_loss = ', 0.00030257562)\n",
        "('saved session to ', '/home/vernwalrahul/projects/WorkSpace_Hlaton_2D/checkpoints/model.ckpt')"
       ]
      },
      {
       "output_type": "stream",
       "stream": "stdout",
       "text": [
        "\n",
        "Iter: 406000"
       ]
      },
      {
       "output_type": "stream",
       "stream": "stdout",
       "text": [
        "\n",
        "Loss: 0.001407\n",
        "('recon_loss = ', 0.00031055)\n",
        "('saved session to ', '/home/vernwalrahul/projects/WorkSpace_Hlaton_2D/checkpoints/model.ckpt')"
       ]
      },
      {
       "output_type": "stream",
       "stream": "stdout",
       "text": [
        "\n",
        "Iter: 407000"
       ]
      },
      {
       "output_type": "stream",
       "stream": "stdout",
       "text": [
        "\n",
        "Loss: 0.001402\n",
        "('recon_loss = ', 0.00032974247)\n",
        "('saved session to ', '/home/vernwalrahul/projects/WorkSpace_Hlaton_2D/checkpoints/model.ckpt')"
       ]
      },
      {
       "output_type": "stream",
       "stream": "stdout",
       "text": [
        "\n",
        "Iter: 408000"
       ]
      },
      {
       "output_type": "stream",
       "stream": "stdout",
       "text": [
        "\n",
        "Loss: 0.001375\n",
        "('recon_loss = ', 0.00035725985)\n",
        "('saved session to ', '/home/vernwalrahul/projects/WorkSpace_Hlaton_2D/checkpoints/model.ckpt')"
       ]
      },
      {
       "output_type": "stream",
       "stream": "stdout",
       "text": [
        "\n",
        "Iter: 409000"
       ]
      },
      {
       "output_type": "stream",
       "stream": "stdout",
       "text": [
        "\n",
        "Loss: 0.00136\n",
        "('recon_loss = ', 0.0003094151)\n",
        "('saved session to ', '/home/vernwalrahul/projects/WorkSpace_Hlaton_2D/checkpoints/model.ckpt')"
       ]
      },
      {
       "output_type": "stream",
       "stream": "stdout",
       "text": [
        "\n",
        "Iter: 410000"
       ]
      },
      {
       "output_type": "stream",
       "stream": "stdout",
       "text": [
        "\n",
        "Loss: 0.001339\n",
        "('recon_loss = ', 0.0002615066)\n",
        "('saved session to ', '/home/vernwalrahul/projects/WorkSpace_Hlaton_2D/checkpoints/model.ckpt')"
       ]
      },
      {
       "output_type": "stream",
       "stream": "stdout",
       "text": [
        "\n",
        "Iter: 411000"
       ]
      },
      {
       "output_type": "stream",
       "stream": "stdout",
       "text": [
        "\n",
        "Loss: 0.001424\n",
        "('recon_loss = ', 0.00037635159)\n",
        "('saved session to ', '/home/vernwalrahul/projects/WorkSpace_Hlaton_2D/checkpoints/model.ckpt')"
       ]
      },
      {
       "output_type": "stream",
       "stream": "stdout",
       "text": [
        "\n",
        "Iter: 412000"
       ]
      },
      {
       "output_type": "stream",
       "stream": "stdout",
       "text": [
        "\n",
        "Loss: 0.001433\n",
        "('recon_loss = ', 0.00039230837)\n",
        "('saved session to ', '/home/vernwalrahul/projects/WorkSpace_Hlaton_2D/checkpoints/model.ckpt')"
       ]
      },
      {
       "output_type": "stream",
       "stream": "stdout",
       "text": [
        "\n",
        "Iter: 413000"
       ]
      },
      {
       "output_type": "stream",
       "stream": "stdout",
       "text": [
        "\n",
        "Loss: 0.001453\n",
        "('recon_loss = ', 0.00035504223)\n",
        "('saved session to ', '/home/vernwalrahul/projects/WorkSpace_Hlaton_2D/checkpoints/model.ckpt')"
       ]
      },
      {
       "output_type": "stream",
       "stream": "stdout",
       "text": [
        "\n",
        "Iter: 414000"
       ]
      },
      {
       "output_type": "stream",
       "stream": "stdout",
       "text": [
        "\n",
        "Loss: 0.00144\n",
        "('recon_loss = ', 0.0003794221)\n",
        "('saved session to ', '/home/vernwalrahul/projects/WorkSpace_Hlaton_2D/checkpoints/model.ckpt')"
       ]
      },
      {
       "output_type": "stream",
       "stream": "stdout",
       "text": [
        "\n",
        "Iter: 415000"
       ]
      },
      {
       "output_type": "stream",
       "stream": "stdout",
       "text": [
        "\n",
        "Loss: 0.00146\n",
        "('recon_loss = ', 0.00032792648)\n",
        "('saved session to ', '/home/vernwalrahul/projects/WorkSpace_Hlaton_2D/checkpoints/model.ckpt')"
       ]
      },
      {
       "output_type": "stream",
       "stream": "stdout",
       "text": [
        "\n",
        "Iter: 416000"
       ]
      },
      {
       "output_type": "stream",
       "stream": "stdout",
       "text": [
        "\n",
        "Loss: 0.001363\n",
        "('recon_loss = ', 0.00032296468)\n",
        "('saved session to ', '/home/vernwalrahul/projects/WorkSpace_Hlaton_2D/checkpoints/model.ckpt')"
       ]
      },
      {
       "output_type": "stream",
       "stream": "stdout",
       "text": [
        "\n",
        "Iter: 417000"
       ]
      },
      {
       "output_type": "stream",
       "stream": "stdout",
       "text": [
        "\n",
        "Loss: 0.001327\n",
        "('recon_loss = ', 0.00022252914)\n",
        "('saved session to ', '/home/vernwalrahul/projects/WorkSpace_Hlaton_2D/checkpoints/model.ckpt')"
       ]
      },
      {
       "output_type": "stream",
       "stream": "stdout",
       "text": [
        "\n",
        "Iter: 418000"
       ]
      },
      {
       "output_type": "stream",
       "stream": "stdout",
       "text": [
        "\n",
        "Loss: 0.001361\n",
        "('recon_loss = ', 0.00027881734)\n",
        "('saved session to ', '/home/vernwalrahul/projects/WorkSpace_Hlaton_2D/checkpoints/model.ckpt')"
       ]
      },
      {
       "output_type": "stream",
       "stream": "stdout",
       "text": [
        "\n",
        "Iter: 419000"
       ]
      },
      {
       "output_type": "stream",
       "stream": "stdout",
       "text": [
        "\n",
        "Loss: 0.001418\n",
        "('recon_loss = ', 0.00036281525)\n",
        "('saved session to ', '/home/vernwalrahul/projects/WorkSpace_Hlaton_2D/checkpoints/model.ckpt')"
       ]
      },
      {
       "output_type": "stream",
       "stream": "stdout",
       "text": [
        "\n",
        "Iter: 420000"
       ]
      },
      {
       "output_type": "stream",
       "stream": "stdout",
       "text": [
        "\n",
        "Loss: 0.001367\n",
        "('recon_loss = ', 0.00027765334)\n",
        "('saved session to ', '/home/vernwalrahul/projects/WorkSpace_Hlaton_2D/checkpoints/model.ckpt')"
       ]
      },
      {
       "output_type": "stream",
       "stream": "stdout",
       "text": [
        "\n",
        "Iter: 421000"
       ]
      },
      {
       "output_type": "stream",
       "stream": "stdout",
       "text": [
        "\n",
        "Loss: 0.001358\n",
        "('recon_loss = ', 0.0002836591)\n",
        "('saved session to ', '/home/vernwalrahul/projects/WorkSpace_Hlaton_2D/checkpoints/model.ckpt')"
       ]
      },
      {
       "output_type": "stream",
       "stream": "stdout",
       "text": [
        "\n",
        "Iter: 422000"
       ]
      },
      {
       "output_type": "stream",
       "stream": "stdout",
       "text": [
        "\n",
        "Loss: 0.001407\n",
        "('recon_loss = ', 0.0003401222)\n",
        "('saved session to ', '/home/vernwalrahul/projects/WorkSpace_Hlaton_2D/checkpoints/model.ckpt')"
       ]
      },
      {
       "output_type": "stream",
       "stream": "stdout",
       "text": [
        "\n",
        "Iter: 423000"
       ]
      },
      {
       "output_type": "stream",
       "stream": "stdout",
       "text": [
        "\n",
        "Loss: 0.0014\n",
        "('recon_loss = ', 0.00033278114)\n",
        "('saved session to ', '/home/vernwalrahul/projects/WorkSpace_Hlaton_2D/checkpoints/model.ckpt')"
       ]
      },
      {
       "output_type": "stream",
       "stream": "stdout",
       "text": [
        "\n",
        "Iter: 424000"
       ]
      },
      {
       "output_type": "stream",
       "stream": "stdout",
       "text": [
        "\n",
        "Loss: 0.001414\n",
        "('recon_loss = ', 0.00027510332)\n",
        "('saved session to ', '/home/vernwalrahul/projects/WorkSpace_Hlaton_2D/checkpoints/model.ckpt')"
       ]
      },
      {
       "output_type": "stream",
       "stream": "stdout",
       "text": [
        "\n",
        "Iter: 425000"
       ]
      },
      {
       "output_type": "stream",
       "stream": "stdout",
       "text": [
        "\n",
        "Loss: 0.001342\n",
        "('recon_loss = ', 0.00029914692)\n",
        "('saved session to ', '/home/vernwalrahul/projects/WorkSpace_Hlaton_2D/checkpoints/model.ckpt')"
       ]
      },
      {
       "output_type": "stream",
       "stream": "stdout",
       "text": [
        "\n",
        "Iter: 426000"
       ]
      },
      {
       "output_type": "stream",
       "stream": "stdout",
       "text": [
        "\n",
        "Loss: 0.001392\n",
        "('recon_loss = ', 0.0003135886)\n",
        "('saved session to ', '/home/vernwalrahul/projects/WorkSpace_Hlaton_2D/checkpoints/model.ckpt')"
       ]
      },
      {
       "output_type": "stream",
       "stream": "stdout",
       "text": [
        "\n",
        "Iter: 427000"
       ]
      },
      {
       "output_type": "stream",
       "stream": "stdout",
       "text": [
        "\n",
        "Loss: 0.001433\n",
        "('recon_loss = ', 0.00036940986)\n",
        "('saved session to ', '/home/vernwalrahul/projects/WorkSpace_Hlaton_2D/checkpoints/model.ckpt')"
       ]
      },
      {
       "output_type": "stream",
       "stream": "stdout",
       "text": [
        "\n",
        "Iter: 428000"
       ]
      },
      {
       "output_type": "stream",
       "stream": "stdout",
       "text": [
        "\n",
        "Loss: 0.001373\n",
        "('recon_loss = ', 0.00032699323)\n",
        "('saved session to ', '/home/vernwalrahul/projects/WorkSpace_Hlaton_2D/checkpoints/model.ckpt')"
       ]
      },
      {
       "output_type": "stream",
       "stream": "stdout",
       "text": [
        "\n",
        "Iter: 429000"
       ]
      },
      {
       "output_type": "stream",
       "stream": "stdout",
       "text": [
        "\n",
        "Loss: 0.001447\n",
        "('recon_loss = ', 0.00036646452)\n",
        "('saved session to ', '/home/vernwalrahul/projects/WorkSpace_Hlaton_2D/checkpoints/model.ckpt')"
       ]
      },
      {
       "output_type": "stream",
       "stream": "stdout",
       "text": [
        "\n",
        "Iter: 430000"
       ]
      },
      {
       "output_type": "stream",
       "stream": "stdout",
       "text": [
        "\n",
        "Loss: 0.001471\n",
        "('recon_loss = ', 0.00040100416)\n",
        "('saved session to ', '/home/vernwalrahul/projects/WorkSpace_Hlaton_2D/checkpoints/model.ckpt')"
       ]
      },
      {
       "output_type": "stream",
       "stream": "stdout",
       "text": [
        "\n",
        "Iter: 431000"
       ]
      },
      {
       "output_type": "stream",
       "stream": "stdout",
       "text": [
        "\n",
        "Loss: 0.001334\n",
        "('recon_loss = ', 0.00029658317)\n",
        "('saved session to ', '/home/vernwalrahul/projects/WorkSpace_Hlaton_2D/checkpoints/model.ckpt')"
       ]
      },
      {
       "output_type": "stream",
       "stream": "stdout",
       "text": [
        "\n",
        "Iter: 432000"
       ]
      },
      {
       "output_type": "stream",
       "stream": "stdout",
       "text": [
        "\n",
        "Loss: 0.001469\n",
        "('recon_loss = ', 0.00039132987)\n",
        "('saved session to ', '/home/vernwalrahul/projects/WorkSpace_Hlaton_2D/checkpoints/model.ckpt')"
       ]
      },
      {
       "output_type": "stream",
       "stream": "stdout",
       "text": [
        "\n",
        "Iter: 433000"
       ]
      },
      {
       "output_type": "stream",
       "stream": "stdout",
       "text": [
        "\n",
        "Loss: 0.001379\n",
        "('recon_loss = ', 0.00029150408)\n",
        "('saved session to ', '/home/vernwalrahul/projects/WorkSpace_Hlaton_2D/checkpoints/model.ckpt')"
       ]
      },
      {
       "output_type": "stream",
       "stream": "stdout",
       "text": [
        "\n",
        "Iter: 434000"
       ]
      },
      {
       "output_type": "stream",
       "stream": "stdout",
       "text": [
        "\n",
        "Loss: 0.00138\n",
        "('recon_loss = ', 0.00027677795)\n",
        "('saved session to ', '/home/vernwalrahul/projects/WorkSpace_Hlaton_2D/checkpoints/model.ckpt')"
       ]
      },
      {
       "output_type": "stream",
       "stream": "stdout",
       "text": [
        "\n",
        "Iter: 435000"
       ]
      },
      {
       "output_type": "stream",
       "stream": "stdout",
       "text": [
        "\n",
        "Loss: 0.00134\n",
        "('recon_loss = ', 0.00031816965)\n",
        "('saved session to ', '/home/vernwalrahul/projects/WorkSpace_Hlaton_2D/checkpoints/model.ckpt')"
       ]
      },
      {
       "output_type": "stream",
       "stream": "stdout",
       "text": [
        "\n",
        "Iter: 436000"
       ]
      },
      {
       "output_type": "stream",
       "stream": "stdout",
       "text": [
        "\n",
        "Loss: 0.001371\n",
        "('recon_loss = ', 0.00029119087)\n",
        "('saved session to ', '/home/vernwalrahul/projects/WorkSpace_Hlaton_2D/checkpoints/model.ckpt')"
       ]
      },
      {
       "output_type": "stream",
       "stream": "stdout",
       "text": [
        "\n",
        "Iter: 437000"
       ]
      },
      {
       "output_type": "stream",
       "stream": "stdout",
       "text": [
        "\n",
        "Loss: 0.001394\n",
        "('recon_loss = ', 0.00033944636)\n",
        "('saved session to ', '/home/vernwalrahul/projects/WorkSpace_Hlaton_2D/checkpoints/model.ckpt')"
       ]
      },
      {
       "output_type": "stream",
       "stream": "stdout",
       "text": [
        "\n",
        "Iter: 438000"
       ]
      },
      {
       "output_type": "stream",
       "stream": "stdout",
       "text": [
        "\n",
        "Loss: 0.001472\n",
        "('recon_loss = ', 0.0003681173)\n",
        "('saved session to ', '/home/vernwalrahul/projects/WorkSpace_Hlaton_2D/checkpoints/model.ckpt')"
       ]
      },
      {
       "output_type": "stream",
       "stream": "stdout",
       "text": [
        "\n",
        "Iter: 439000"
       ]
      },
      {
       "output_type": "stream",
       "stream": "stdout",
       "text": [
        "\n",
        "Loss: 0.001384\n",
        "('recon_loss = ', 0.00032013777)\n",
        "('saved session to ', '/home/vernwalrahul/projects/WorkSpace_Hlaton_2D/checkpoints/model.ckpt')"
       ]
      },
      {
       "output_type": "stream",
       "stream": "stdout",
       "text": [
        "\n",
        "Iter: 440000"
       ]
      },
      {
       "output_type": "stream",
       "stream": "stdout",
       "text": [
        "\n",
        "Loss: 0.00141\n",
        "('recon_loss = ', 0.00036326953)\n",
        "('saved session to ', '/home/vernwalrahul/projects/WorkSpace_Hlaton_2D/checkpoints/model.ckpt')"
       ]
      },
      {
       "output_type": "stream",
       "stream": "stdout",
       "text": [
        "\n",
        "Iter: 441000"
       ]
      },
      {
       "output_type": "stream",
       "stream": "stdout",
       "text": [
        "\n",
        "Loss: 0.001376\n",
        "('recon_loss = ', 0.00030628312)\n",
        "('saved session to ', '/home/vernwalrahul/projects/WorkSpace_Hlaton_2D/checkpoints/model.ckpt')"
       ]
      },
      {
       "output_type": "stream",
       "stream": "stdout",
       "text": [
        "\n",
        "Iter: 442000"
       ]
      },
      {
       "output_type": "stream",
       "stream": "stdout",
       "text": [
        "\n",
        "Loss: 0.001397\n",
        "('recon_loss = ', 0.00038268452)\n",
        "('saved session to ', '/home/vernwalrahul/projects/WorkSpace_Hlaton_2D/checkpoints/model.ckpt')"
       ]
      },
      {
       "output_type": "stream",
       "stream": "stdout",
       "text": [
        "\n",
        "Iter: 443000"
       ]
      },
      {
       "output_type": "stream",
       "stream": "stdout",
       "text": [
        "\n",
        "Loss: 0.001402\n",
        "('recon_loss = ', 0.00034073394)\n",
        "('saved session to ', '/home/vernwalrahul/projects/WorkSpace_Hlaton_2D/checkpoints/model.ckpt')"
       ]
      },
      {
       "output_type": "stream",
       "stream": "stdout",
       "text": [
        "\n",
        "Iter: 444000"
       ]
      },
      {
       "output_type": "stream",
       "stream": "stdout",
       "text": [
        "\n",
        "Loss: 0.001331\n",
        "('recon_loss = ', 0.00026718818)\n",
        "('saved session to ', '/home/vernwalrahul/projects/WorkSpace_Hlaton_2D/checkpoints/model.ckpt')"
       ]
      },
      {
       "output_type": "stream",
       "stream": "stdout",
       "text": [
        "\n",
        "Iter: 445000"
       ]
      },
      {
       "output_type": "stream",
       "stream": "stdout",
       "text": [
        "\n",
        "Loss: 0.001402\n",
        "('recon_loss = ', 0.00030694698)\n",
        "('saved session to ', '/home/vernwalrahul/projects/WorkSpace_Hlaton_2D/checkpoints/model.ckpt')"
       ]
      },
      {
       "output_type": "stream",
       "stream": "stdout",
       "text": [
        "\n",
        "Iter: 446000"
       ]
      },
      {
       "output_type": "stream",
       "stream": "stdout",
       "text": [
        "\n",
        "Loss: 0.001481\n",
        "('recon_loss = ', 0.00034639475)\n",
        "('saved session to ', '/home/vernwalrahul/projects/WorkSpace_Hlaton_2D/checkpoints/model.ckpt')"
       ]
      },
      {
       "output_type": "stream",
       "stream": "stdout",
       "text": [
        "\n",
        "Iter: 447000"
       ]
      },
      {
       "output_type": "stream",
       "stream": "stdout",
       "text": [
        "\n",
        "Loss: 0.001368\n",
        "('recon_loss = ', 0.00031990395)\n",
        "('saved session to ', '/home/vernwalrahul/projects/WorkSpace_Hlaton_2D/checkpoints/model.ckpt')"
       ]
      },
      {
       "output_type": "stream",
       "stream": "stdout",
       "text": [
        "\n",
        "Iter: 448000"
       ]
      },
      {
       "output_type": "stream",
       "stream": "stdout",
       "text": [
        "\n",
        "Loss: 0.001362\n",
        "('recon_loss = ', 0.00029613503)\n",
        "('saved session to ', '/home/vernwalrahul/projects/WorkSpace_Hlaton_2D/checkpoints/model.ckpt')"
       ]
      },
      {
       "output_type": "stream",
       "stream": "stdout",
       "text": [
        "\n",
        "Iter: 449000"
       ]
      },
      {
       "output_type": "stream",
       "stream": "stdout",
       "text": [
        "\n",
        "Loss: 0.001459\n",
        "('recon_loss = ', 0.00042401024)\n",
        "('saved session to ', '/home/vernwalrahul/projects/WorkSpace_Hlaton_2D/checkpoints/model.ckpt')"
       ]
      },
      {
       "output_type": "stream",
       "stream": "stdout",
       "text": [
        "\n",
        "Iter: 450000"
       ]
      },
      {
       "output_type": "stream",
       "stream": "stdout",
       "text": [
        "\n",
        "Loss: 0.001371\n",
        "('recon_loss = ', 0.00031049756)\n",
        "('saved session to ', '/home/vernwalrahul/projects/WorkSpace_Hlaton_2D/checkpoints/model.ckpt')"
       ]
      },
      {
       "output_type": "stream",
       "stream": "stdout",
       "text": [
        "\n",
        "Iter: 451000"
       ]
      },
      {
       "output_type": "stream",
       "stream": "stdout",
       "text": [
        "\n",
        "Loss: 0.001418\n",
        "('recon_loss = ', 0.000348711)\n",
        "('saved session to ', '/home/vernwalrahul/projects/WorkSpace_Hlaton_2D/checkpoints/model.ckpt')"
       ]
      },
      {
       "output_type": "stream",
       "stream": "stdout",
       "text": [
        "\n",
        "Iter: 452000"
       ]
      },
      {
       "output_type": "stream",
       "stream": "stdout",
       "text": [
        "\n",
        "Loss: 0.001449\n",
        "('recon_loss = ', 0.00036086718)\n",
        "('saved session to ', '/home/vernwalrahul/projects/WorkSpace_Hlaton_2D/checkpoints/model.ckpt')"
       ]
      },
      {
       "output_type": "stream",
       "stream": "stdout",
       "text": [
        "\n",
        "Iter: 453000"
       ]
      },
      {
       "output_type": "stream",
       "stream": "stdout",
       "text": [
        "\n",
        "Loss: 0.001441\n",
        "('recon_loss = ', 0.00039241952)\n",
        "('saved session to ', '/home/vernwalrahul/projects/WorkSpace_Hlaton_2D/checkpoints/model.ckpt')"
       ]
      },
      {
       "output_type": "stream",
       "stream": "stdout",
       "text": [
        "\n",
        "Iter: 454000"
       ]
      },
      {
       "output_type": "stream",
       "stream": "stdout",
       "text": [
        "\n",
        "Loss: 0.001407\n",
        "('recon_loss = ', 0.00032629777)\n",
        "('saved session to ', '/home/vernwalrahul/projects/WorkSpace_Hlaton_2D/checkpoints/model.ckpt')"
       ]
      },
      {
       "output_type": "stream",
       "stream": "stdout",
       "text": [
        "\n",
        "Iter: 455000"
       ]
      },
      {
       "output_type": "stream",
       "stream": "stdout",
       "text": [
        "\n",
        "Loss: 0.001316\n",
        "('recon_loss = ', 0.0002565461)\n",
        "('saved session to ', '/home/vernwalrahul/projects/WorkSpace_Hlaton_2D/checkpoints/model.ckpt')"
       ]
      },
      {
       "output_type": "stream",
       "stream": "stdout",
       "text": [
        "\n",
        "Iter: 456000"
       ]
      },
      {
       "output_type": "stream",
       "stream": "stdout",
       "text": [
        "\n",
        "Loss: 0.001348\n",
        "('recon_loss = ', 0.00029444706)\n",
        "('saved session to ', '/home/vernwalrahul/projects/WorkSpace_Hlaton_2D/checkpoints/model.ckpt')"
       ]
      },
      {
       "output_type": "stream",
       "stream": "stdout",
       "text": [
        "\n",
        "Iter: 457000"
       ]
      },
      {
       "output_type": "stream",
       "stream": "stdout",
       "text": [
        "\n",
        "Loss: 0.00138\n",
        "('recon_loss = ', 0.00031786325)\n",
        "('saved session to ', '/home/vernwalrahul/projects/WorkSpace_Hlaton_2D/checkpoints/model.ckpt')"
       ]
      },
      {
       "output_type": "stream",
       "stream": "stdout",
       "text": [
        "\n",
        "Iter: 458000"
       ]
      },
      {
       "output_type": "stream",
       "stream": "stdout",
       "text": [
        "\n",
        "Loss: 0.001365\n",
        "('recon_loss = ', 0.0003214592)\n",
        "('saved session to ', '/home/vernwalrahul/projects/WorkSpace_Hlaton_2D/checkpoints/model.ckpt')"
       ]
      },
      {
       "output_type": "stream",
       "stream": "stdout",
       "text": [
        "\n",
        "Iter: 459000"
       ]
      },
      {
       "output_type": "stream",
       "stream": "stdout",
       "text": [
        "\n",
        "Loss: 0.001345\n",
        "('recon_loss = ', 0.0002679975)\n",
        "('saved session to ', '/home/vernwalrahul/projects/WorkSpace_Hlaton_2D/checkpoints/model.ckpt')"
       ]
      },
      {
       "output_type": "stream",
       "stream": "stdout",
       "text": [
        "\n",
        "Iter: 460000"
       ]
      },
      {
       "output_type": "stream",
       "stream": "stdout",
       "text": [
        "\n",
        "Loss: 0.001365\n",
        "('recon_loss = ', 0.0003012781)\n",
        "('saved session to ', '/home/vernwalrahul/projects/WorkSpace_Hlaton_2D/checkpoints/model.ckpt')"
       ]
      },
      {
       "output_type": "stream",
       "stream": "stdout",
       "text": [
        "\n",
        "Iter: 461000"
       ]
      },
      {
       "output_type": "stream",
       "stream": "stdout",
       "text": [
        "\n",
        "Loss: 0.001363\n",
        "('recon_loss = ', 0.0002954041)\n",
        "('saved session to ', '/home/vernwalrahul/projects/WorkSpace_Hlaton_2D/checkpoints/model.ckpt')"
       ]
      },
      {
       "output_type": "stream",
       "stream": "stdout",
       "text": [
        "\n",
        "Iter: 462000"
       ]
      },
      {
       "output_type": "stream",
       "stream": "stdout",
       "text": [
        "\n",
        "Loss: 0.001401\n",
        "('recon_loss = ', 0.00033694122)\n",
        "('saved session to ', '/home/vernwalrahul/projects/WorkSpace_Hlaton_2D/checkpoints/model.ckpt')"
       ]
      },
      {
       "output_type": "stream",
       "stream": "stdout",
       "text": [
        "\n",
        "Iter: 463000"
       ]
      },
      {
       "output_type": "stream",
       "stream": "stdout",
       "text": [
        "\n",
        "Loss: 0.001369\n",
        "('recon_loss = ', 0.00034540019)\n",
        "('saved session to ', '/home/vernwalrahul/projects/WorkSpace_Hlaton_2D/checkpoints/model.ckpt')"
       ]
      },
      {
       "output_type": "stream",
       "stream": "stdout",
       "text": [
        "\n",
        "Iter: 464000"
       ]
      },
      {
       "output_type": "stream",
       "stream": "stdout",
       "text": [
        "\n",
        "Loss: 0.001327\n",
        "('recon_loss = ', 0.00030545366)\n",
        "('saved session to ', '/home/vernwalrahul/projects/WorkSpace_Hlaton_2D/checkpoints/model.ckpt')"
       ]
      },
      {
       "output_type": "stream",
       "stream": "stdout",
       "text": [
        "\n",
        "Iter: 465000"
       ]
      },
      {
       "output_type": "stream",
       "stream": "stdout",
       "text": [
        "\n",
        "Loss: 0.001381\n",
        "('recon_loss = ', 0.00033958477)\n",
        "('saved session to ', '/home/vernwalrahul/projects/WorkSpace_Hlaton_2D/checkpoints/model.ckpt')"
       ]
      },
      {
       "output_type": "stream",
       "stream": "stdout",
       "text": [
        "\n",
        "Iter: 466000"
       ]
      },
      {
       "output_type": "stream",
       "stream": "stdout",
       "text": [
        "\n",
        "Loss: 0.001336\n",
        "('recon_loss = ', 0.00031435472)\n",
        "('saved session to ', '/home/vernwalrahul/projects/WorkSpace_Hlaton_2D/checkpoints/model.ckpt')"
       ]
      },
      {
       "output_type": "stream",
       "stream": "stdout",
       "text": [
        "\n",
        "Iter: 467000"
       ]
      },
      {
       "output_type": "stream",
       "stream": "stdout",
       "text": [
        "\n",
        "Loss: 0.001432\n",
        "('recon_loss = ', 0.00037337246)\n",
        "('saved session to ', '/home/vernwalrahul/projects/WorkSpace_Hlaton_2D/checkpoints/model.ckpt')"
       ]
      },
      {
       "output_type": "stream",
       "stream": "stdout",
       "text": [
        "\n",
        "Iter: 468000"
       ]
      },
      {
       "output_type": "stream",
       "stream": "stdout",
       "text": [
        "\n",
        "Loss: 0.001367\n",
        "('recon_loss = ', 0.00027897698)\n",
        "('saved session to ', '/home/vernwalrahul/projects/WorkSpace_Hlaton_2D/checkpoints/model.ckpt')"
       ]
      },
      {
       "output_type": "stream",
       "stream": "stdout",
       "text": [
        "\n",
        "Iter: 469000"
       ]
      },
      {
       "output_type": "stream",
       "stream": "stdout",
       "text": [
        "\n",
        "Loss: 0.001381\n",
        "('recon_loss = ', 0.0003288857)\n",
        "('saved session to ', '/home/vernwalrahul/projects/WorkSpace_Hlaton_2D/checkpoints/model.ckpt')"
       ]
      },
      {
       "output_type": "stream",
       "stream": "stdout",
       "text": [
        "\n",
        "Iter: 470000"
       ]
      },
      {
       "output_type": "stream",
       "stream": "stdout",
       "text": [
        "\n",
        "Loss: 0.001377\n",
        "('recon_loss = ', 0.00031508517)\n",
        "('saved session to ', '/home/vernwalrahul/projects/WorkSpace_Hlaton_2D/checkpoints/model.ckpt')"
       ]
      },
      {
       "output_type": "stream",
       "stream": "stdout",
       "text": [
        "\n",
        "Iter: 471000"
       ]
      },
      {
       "output_type": "stream",
       "stream": "stdout",
       "text": [
        "\n",
        "Loss: 0.001412\n",
        "('recon_loss = ', 0.0003637956)\n",
        "('saved session to ', '/home/vernwalrahul/projects/WorkSpace_Hlaton_2D/checkpoints/model.ckpt')"
       ]
      },
      {
       "output_type": "stream",
       "stream": "stdout",
       "text": [
        "\n",
        "Iter: 472000"
       ]
      },
      {
       "output_type": "stream",
       "stream": "stdout",
       "text": [
        "\n",
        "Loss: 0.001408\n",
        "('recon_loss = ', 0.00036033726)\n",
        "('saved session to ', '/home/vernwalrahul/projects/WorkSpace_Hlaton_2D/checkpoints/model.ckpt')"
       ]
      },
      {
       "output_type": "stream",
       "stream": "stdout",
       "text": [
        "\n",
        "Iter: 473000"
       ]
      },
      {
       "output_type": "stream",
       "stream": "stdout",
       "text": [
        "\n",
        "Loss: 0.001352\n",
        "('recon_loss = ', 0.00030276444)\n",
        "('saved session to ', '/home/vernwalrahul/projects/WorkSpace_Hlaton_2D/checkpoints/model.ckpt')"
       ]
      },
      {
       "output_type": "stream",
       "stream": "stdout",
       "text": [
        "\n",
        "Iter: 474000"
       ]
      },
      {
       "output_type": "stream",
       "stream": "stdout",
       "text": [
        "\n",
        "Loss: 0.001344\n",
        "('recon_loss = ', 0.0003074428)\n",
        "('saved session to ', '/home/vernwalrahul/projects/WorkSpace_Hlaton_2D/checkpoints/model.ckpt')"
       ]
      },
      {
       "output_type": "stream",
       "stream": "stdout",
       "text": [
        "\n",
        "Iter: 475000"
       ]
      },
      {
       "output_type": "stream",
       "stream": "stdout",
       "text": [
        "\n",
        "Loss: 0.001394\n",
        "('recon_loss = ', 0.00027763535)\n",
        "('saved session to ', '/home/vernwalrahul/projects/WorkSpace_Hlaton_2D/checkpoints/model.ckpt')"
       ]
      },
      {
       "output_type": "stream",
       "stream": "stdout",
       "text": [
        "\n",
        "Iter: 476000"
       ]
      },
      {
       "output_type": "stream",
       "stream": "stdout",
       "text": [
        "\n",
        "Loss: 0.001359\n",
        "('recon_loss = ', 0.00031213003)\n",
        "('saved session to ', '/home/vernwalrahul/projects/WorkSpace_Hlaton_2D/checkpoints/model.ckpt')"
       ]
      },
      {
       "output_type": "stream",
       "stream": "stdout",
       "text": [
        "\n",
        "Iter: 477000"
       ]
      },
      {
       "output_type": "stream",
       "stream": "stdout",
       "text": [
        "\n",
        "Loss: 0.001323\n",
        "('recon_loss = ', 0.0002796633)\n",
        "('saved session to ', '/home/vernwalrahul/projects/WorkSpace_Hlaton_2D/checkpoints/model.ckpt')"
       ]
      },
      {
       "output_type": "stream",
       "stream": "stdout",
       "text": [
        "\n",
        "Iter: 478000"
       ]
      },
      {
       "output_type": "stream",
       "stream": "stdout",
       "text": [
        "\n",
        "Loss: 0.001339\n",
        "('recon_loss = ', 0.0002940742)\n",
        "('saved session to ', '/home/vernwalrahul/projects/WorkSpace_Hlaton_2D/checkpoints/model.ckpt')"
       ]
      },
      {
       "output_type": "stream",
       "stream": "stdout",
       "text": [
        "\n",
        "Iter: 479000"
       ]
      },
      {
       "output_type": "stream",
       "stream": "stdout",
       "text": [
        "\n",
        "Loss: 0.001401\n",
        "('recon_loss = ', 0.0003564039)\n",
        "('saved session to ', '/home/vernwalrahul/projects/WorkSpace_Hlaton_2D/checkpoints/model.ckpt')"
       ]
      },
      {
       "output_type": "stream",
       "stream": "stdout",
       "text": [
        "\n",
        "Iter: 480000"
       ]
      },
      {
       "output_type": "stream",
       "stream": "stdout",
       "text": [
        "\n",
        "Loss: 0.0014\n",
        "('recon_loss = ', 0.00033562823)\n",
        "('saved session to ', '/home/vernwalrahul/projects/WorkSpace_Hlaton_2D/checkpoints/model.ckpt')"
       ]
      },
      {
       "output_type": "stream",
       "stream": "stdout",
       "text": [
        "\n",
        "Iter: 481000"
       ]
      },
      {
       "output_type": "stream",
       "stream": "stdout",
       "text": [
        "\n",
        "Loss: 0.001318\n",
        "('recon_loss = ', 0.00027928472)\n",
        "('saved session to ', '/home/vernwalrahul/projects/WorkSpace_Hlaton_2D/checkpoints/model.ckpt')"
       ]
      },
      {
       "output_type": "stream",
       "stream": "stdout",
       "text": [
        "\n",
        "Iter: 482000"
       ]
      },
      {
       "output_type": "stream",
       "stream": "stdout",
       "text": [
        "\n",
        "Loss: 0.001362\n",
        "('recon_loss = ', 0.0003183263)\n",
        "('saved session to ', '/home/vernwalrahul/projects/WorkSpace_Hlaton_2D/checkpoints/model.ckpt')"
       ]
      },
      {
       "output_type": "stream",
       "stream": "stdout",
       "text": [
        "\n",
        "Iter: 483000"
       ]
      },
      {
       "output_type": "stream",
       "stream": "stdout",
       "text": [
        "\n",
        "Loss: 0.001356\n",
        "('recon_loss = ', 0.0002860027)\n",
        "('saved session to ', '/home/vernwalrahul/projects/WorkSpace_Hlaton_2D/checkpoints/model.ckpt')"
       ]
      },
      {
       "output_type": "stream",
       "stream": "stdout",
       "text": [
        "\n",
        "Iter: 484000"
       ]
      },
      {
       "output_type": "stream",
       "stream": "stdout",
       "text": [
        "\n",
        "Loss: 0.001399\n",
        "('recon_loss = ', 0.00034345142)\n",
        "('saved session to ', '/home/vernwalrahul/projects/WorkSpace_Hlaton_2D/checkpoints/model.ckpt')"
       ]
      },
      {
       "output_type": "stream",
       "stream": "stdout",
       "text": [
        "\n",
        "Iter: 485000"
       ]
      },
      {
       "output_type": "stream",
       "stream": "stdout",
       "text": [
        "\n",
        "Loss: 0.001308\n",
        "('recon_loss = ', 0.00028194417)\n",
        "('saved session to ', '/home/vernwalrahul/projects/WorkSpace_Hlaton_2D/checkpoints/model.ckpt')"
       ]
      },
      {
       "output_type": "stream",
       "stream": "stdout",
       "text": [
        "\n",
        "Iter: 486000"
       ]
      },
      {
       "output_type": "stream",
       "stream": "stdout",
       "text": [
        "\n",
        "Loss: 0.00137\n",
        "('recon_loss = ', 0.00032069348)\n",
        "('saved session to ', '/home/vernwalrahul/projects/WorkSpace_Hlaton_2D/checkpoints/model.ckpt')"
       ]
      },
      {
       "output_type": "stream",
       "stream": "stdout",
       "text": [
        "\n",
        "Iter: 487000"
       ]
      },
      {
       "output_type": "stream",
       "stream": "stdout",
       "text": [
        "\n",
        "Loss: 0.001414\n",
        "('recon_loss = ', 0.00035973056)\n",
        "('saved session to ', '/home/vernwalrahul/projects/WorkSpace_Hlaton_2D/checkpoints/model.ckpt')"
       ]
      },
      {
       "output_type": "stream",
       "stream": "stdout",
       "text": [
        "\n",
        "Iter: 488000"
       ]
      },
      {
       "output_type": "stream",
       "stream": "stdout",
       "text": [
        "\n",
        "Loss: 0.00141\n",
        "('recon_loss = ', 0.00034393626)\n",
        "('saved session to ', '/home/vernwalrahul/projects/WorkSpace_Hlaton_2D/checkpoints/model.ckpt')"
       ]
      },
      {
       "output_type": "stream",
       "stream": "stdout",
       "text": [
        "\n",
        "Iter: 489000"
       ]
      },
      {
       "output_type": "stream",
       "stream": "stdout",
       "text": [
        "\n",
        "Loss: 0.001372\n",
        "('recon_loss = ', 0.00030970277)\n",
        "('saved session to ', '/home/vernwalrahul/projects/WorkSpace_Hlaton_2D/checkpoints/model.ckpt')"
       ]
      },
      {
       "output_type": "stream",
       "stream": "stdout",
       "text": [
        "\n",
        "Iter: 490000"
       ]
      },
      {
       "output_type": "stream",
       "stream": "stdout",
       "text": [
        "\n",
        "Loss: 0.001388\n",
        "('recon_loss = ', 0.00033165884)\n",
        "('saved session to ', '/home/vernwalrahul/projects/WorkSpace_Hlaton_2D/checkpoints/model.ckpt')"
       ]
      },
      {
       "output_type": "stream",
       "stream": "stdout",
       "text": [
        "\n",
        "Iter: 491000"
       ]
      },
      {
       "output_type": "stream",
       "stream": "stdout",
       "text": [
        "\n",
        "Loss: 0.001333\n",
        "('recon_loss = ', 0.00032904802)\n",
        "('saved session to ', '/home/vernwalrahul/projects/WorkSpace_Hlaton_2D/checkpoints/model.ckpt')"
       ]
      },
      {
       "output_type": "stream",
       "stream": "stdout",
       "text": [
        "\n",
        "Iter: 492000"
       ]
      },
      {
       "output_type": "stream",
       "stream": "stdout",
       "text": [
        "\n",
        "Loss: 0.001316\n",
        "('recon_loss = ', 0.00029052916)\n",
        "('saved session to ', '/home/vernwalrahul/projects/WorkSpace_Hlaton_2D/checkpoints/model.ckpt')"
       ]
      },
      {
       "output_type": "stream",
       "stream": "stdout",
       "text": [
        "\n",
        "Iter: 493000"
       ]
      },
      {
       "output_type": "stream",
       "stream": "stdout",
       "text": [
        "\n",
        "Loss: 0.001429\n",
        "('recon_loss = ', 0.00036113375)\n",
        "('saved session to ', '/home/vernwalrahul/projects/WorkSpace_Hlaton_2D/checkpoints/model.ckpt')"
       ]
      },
      {
       "output_type": "stream",
       "stream": "stdout",
       "text": [
        "\n",
        "Iter: 494000"
       ]
      },
      {
       "output_type": "stream",
       "stream": "stdout",
       "text": [
        "\n",
        "Loss: 0.001447\n",
        "('recon_loss = ', 0.00039072527)\n",
        "('saved session to ', '/home/vernwalrahul/projects/WorkSpace_Hlaton_2D/checkpoints/model.ckpt')"
       ]
      },
      {
       "output_type": "stream",
       "stream": "stdout",
       "text": [
        "\n",
        "Iter: 495000"
       ]
      },
      {
       "output_type": "stream",
       "stream": "stdout",
       "text": [
        "\n",
        "Loss: 0.001383\n",
        "('recon_loss = ', 0.00033532025)\n",
        "('saved session to ', '/home/vernwalrahul/projects/WorkSpace_Hlaton_2D/checkpoints/model.ckpt')"
       ]
      },
      {
       "output_type": "stream",
       "stream": "stdout",
       "text": [
        "\n",
        "Iter: 496000"
       ]
      },
      {
       "output_type": "stream",
       "stream": "stdout",
       "text": [
        "\n",
        "Loss: 0.001318\n",
        "('recon_loss = ', 0.00026368693)\n",
        "('saved session to ', '/home/vernwalrahul/projects/WorkSpace_Hlaton_2D/checkpoints/model.ckpt')"
       ]
      },
      {
       "output_type": "stream",
       "stream": "stdout",
       "text": [
        "\n",
        "Iter: 497000"
       ]
      },
      {
       "output_type": "stream",
       "stream": "stdout",
       "text": [
        "\n",
        "Loss: 0.001368\n",
        "('recon_loss = ', 0.00036091704)\n",
        "('saved session to ', '/home/vernwalrahul/projects/WorkSpace_Hlaton_2D/checkpoints/model.ckpt')"
       ]
      },
      {
       "output_type": "stream",
       "stream": "stdout",
       "text": [
        "\n",
        "Iter: 498000"
       ]
      },
      {
       "output_type": "stream",
       "stream": "stdout",
       "text": [
        "\n",
        "Loss: 0.001409\n",
        "('recon_loss = ', 0.0003887352)\n",
        "('saved session to ', '/home/vernwalrahul/projects/WorkSpace_Hlaton_2D/checkpoints/model.ckpt')"
       ]
      },
      {
       "output_type": "stream",
       "stream": "stdout",
       "text": [
        "\n",
        "Iter: 499000"
       ]
      },
      {
       "output_type": "stream",
       "stream": "stdout",
       "text": [
        "\n",
        "Loss: 0.001404\n",
        "('recon_loss = ', 0.00029246183)\n",
        "('saved session to ', '/home/vernwalrahul/projects/WorkSpace_Hlaton_2D/checkpoints/model.ckpt')"
       ]
      },
      {
       "output_type": "stream",
       "stream": "stdout",
       "text": [
        "\n",
        "Iter: 500000"
       ]
      },
      {
       "output_type": "stream",
       "stream": "stdout",
       "text": [
        "\n",
        "Loss: 0.001355\n",
        "('recon_loss = ', 0.00028727925)\n",
        "('saved session to ', '/home/vernwalrahul/projects/WorkSpace_Hlaton_2D/checkpoints/model.ckpt')"
       ]
      },
      {
       "output_type": "stream",
       "stream": "stdout",
       "text": [
        "\n",
        "Iter: 501000"
       ]
      },
      {
       "output_type": "stream",
       "stream": "stdout",
       "text": [
        "\n",
        "Loss: 0.001327\n",
        "('recon_loss = ', 0.00033756753)\n",
        "('saved session to ', '/home/vernwalrahul/projects/WorkSpace_Hlaton_2D/checkpoints/model.ckpt')"
       ]
      },
      {
       "output_type": "stream",
       "stream": "stdout",
       "text": [
        "\n",
        "Iter: 502000"
       ]
      },
      {
       "output_type": "stream",
       "stream": "stdout",
       "text": [
        "\n",
        "Loss: 0.00133\n",
        "('recon_loss = ', 0.00027130533)\n",
        "('saved session to ', '/home/vernwalrahul/projects/WorkSpace_Hlaton_2D/checkpoints/model.ckpt')"
       ]
      },
      {
       "output_type": "stream",
       "stream": "stdout",
       "text": [
        "\n",
        "Iter: 503000"
       ]
      },
      {
       "output_type": "stream",
       "stream": "stdout",
       "text": [
        "\n",
        "Loss: 0.001322\n",
        "('recon_loss = ', 0.00026596803)\n",
        "('saved session to ', '/home/vernwalrahul/projects/WorkSpace_Hlaton_2D/checkpoints/model.ckpt')"
       ]
      },
      {
       "output_type": "stream",
       "stream": "stdout",
       "text": [
        "\n",
        "Iter: 504000"
       ]
      },
      {
       "output_type": "stream",
       "stream": "stdout",
       "text": [
        "\n",
        "Loss: 0.001327\n",
        "('recon_loss = ', 0.0002612956)\n",
        "('saved session to ', '/home/vernwalrahul/projects/WorkSpace_Hlaton_2D/checkpoints/model.ckpt')"
       ]
      },
      {
       "output_type": "stream",
       "stream": "stdout",
       "text": [
        "\n",
        "Iter: 505000"
       ]
      },
      {
       "output_type": "stream",
       "stream": "stdout",
       "text": [
        "\n",
        "Loss: 0.001419\n",
        "('recon_loss = ', 0.0003641156)\n",
        "('saved session to ', '/home/vernwalrahul/projects/WorkSpace_Hlaton_2D/checkpoints/model.ckpt')"
       ]
      },
      {
       "output_type": "stream",
       "stream": "stdout",
       "text": [
        "\n",
        "Iter: 506000"
       ]
      },
      {
       "output_type": "stream",
       "stream": "stdout",
       "text": [
        "\n",
        "Loss: 0.001393\n",
        "('recon_loss = ', 0.0003038379)\n",
        "('saved session to ', '/home/vernwalrahul/projects/WorkSpace_Hlaton_2D/checkpoints/model.ckpt')"
       ]
      },
      {
       "output_type": "stream",
       "stream": "stdout",
       "text": [
        "\n",
        "Iter: 507000"
       ]
      },
      {
       "output_type": "stream",
       "stream": "stdout",
       "text": [
        "\n",
        "Loss: 0.001364\n",
        "('recon_loss = ', 0.00034987484)\n",
        "('saved session to ', '/home/vernwalrahul/projects/WorkSpace_Hlaton_2D/checkpoints/model.ckpt')"
       ]
      },
      {
       "output_type": "stream",
       "stream": "stdout",
       "text": [
        "\n",
        "Iter: 508000"
       ]
      },
      {
       "output_type": "stream",
       "stream": "stdout",
       "text": [
        "\n",
        "Loss: 0.001494\n",
        "('recon_loss = ', 0.00043417315)\n",
        "('saved session to ', '/home/vernwalrahul/projects/WorkSpace_Hlaton_2D/checkpoints/model.ckpt')"
       ]
      },
      {
       "output_type": "stream",
       "stream": "stdout",
       "text": [
        "\n",
        "Iter: 509000"
       ]
      },
      {
       "output_type": "stream",
       "stream": "stdout",
       "text": [
        "\n",
        "Loss: 0.001401\n",
        "('recon_loss = ', 0.0003445575)\n",
        "('saved session to ', '/home/vernwalrahul/projects/WorkSpace_Hlaton_2D/checkpoints/model.ckpt')"
       ]
      },
      {
       "output_type": "stream",
       "stream": "stdout",
       "text": [
        "\n",
        "Iter: 510000"
       ]
      },
      {
       "output_type": "stream",
       "stream": "stdout",
       "text": [
        "\n",
        "Loss: 0.001319\n",
        "('recon_loss = ', 0.0003084964)\n",
        "('saved session to ', '/home/vernwalrahul/projects/WorkSpace_Hlaton_2D/checkpoints/model.ckpt')"
       ]
      },
      {
       "output_type": "stream",
       "stream": "stdout",
       "text": [
        "\n",
        "Iter: 511000"
       ]
      },
      {
       "output_type": "stream",
       "stream": "stdout",
       "text": [
        "\n",
        "Loss: 0.001372\n",
        "('recon_loss = ', 0.00031996536)\n",
        "('saved session to ', '/home/vernwalrahul/projects/WorkSpace_Hlaton_2D/checkpoints/model.ckpt')"
       ]
      },
      {
       "output_type": "stream",
       "stream": "stdout",
       "text": [
        "\n",
        "Iter: 512000"
       ]
      },
      {
       "output_type": "stream",
       "stream": "stdout",
       "text": [
        "\n",
        "Loss: 0.001394\n",
        "('recon_loss = ', 0.00032481152)\n",
        "('saved session to ', '/home/vernwalrahul/projects/WorkSpace_Hlaton_2D/checkpoints/model.ckpt')"
       ]
      },
      {
       "output_type": "stream",
       "stream": "stdout",
       "text": [
        "\n",
        "Iter: 513000"
       ]
      },
      {
       "output_type": "stream",
       "stream": "stdout",
       "text": [
        "\n",
        "Loss: 0.001269\n",
        "('recon_loss = ', 0.0002255837)\n",
        "('saved session to ', '/home/vernwalrahul/projects/WorkSpace_Hlaton_2D/checkpoints/model.ckpt')"
       ]
      },
      {
       "output_type": "stream",
       "stream": "stdout",
       "text": [
        "\n",
        "Iter: 514000"
       ]
      },
      {
       "output_type": "stream",
       "stream": "stdout",
       "text": [
        "\n",
        "Loss: 0.0014\n",
        "('recon_loss = ', 0.00029002829)\n",
        "('saved session to ', '/home/vernwalrahul/projects/WorkSpace_Hlaton_2D/checkpoints/model.ckpt')"
       ]
      },
      {
       "output_type": "stream",
       "stream": "stdout",
       "text": [
        "\n",
        "Iter: 515000"
       ]
      },
      {
       "output_type": "stream",
       "stream": "stdout",
       "text": [
        "\n",
        "Loss: 0.001266\n",
        "('recon_loss = ', 0.00026568724)\n",
        "('saved session to ', '/home/vernwalrahul/projects/WorkSpace_Hlaton_2D/checkpoints/model.ckpt')"
       ]
      },
      {
       "output_type": "stream",
       "stream": "stdout",
       "text": [
        "\n",
        "Iter: 516000"
       ]
      },
      {
       "output_type": "stream",
       "stream": "stdout",
       "text": [
        "\n",
        "Loss: 0.00133\n",
        "('recon_loss = ', 0.00031080507)\n",
        "('saved session to ', '/home/vernwalrahul/projects/WorkSpace_Hlaton_2D/checkpoints/model.ckpt')"
       ]
      },
      {
       "output_type": "stream",
       "stream": "stdout",
       "text": [
        "\n",
        "Iter: 517000"
       ]
      },
      {
       "output_type": "stream",
       "stream": "stdout",
       "text": [
        "\n",
        "Loss: 0.001424\n",
        "('recon_loss = ', 0.00032768218)\n",
        "('saved session to ', '/home/vernwalrahul/projects/WorkSpace_Hlaton_2D/checkpoints/model.ckpt')"
       ]
      },
      {
       "output_type": "stream",
       "stream": "stdout",
       "text": [
        "\n",
        "Iter: 518000"
       ]
      },
      {
       "output_type": "stream",
       "stream": "stdout",
       "text": [
        "\n",
        "Loss: 0.001422\n",
        "('recon_loss = ', 0.00034838237)\n",
        "('saved session to ', '/home/vernwalrahul/projects/WorkSpace_Hlaton_2D/checkpoints/model.ckpt')"
       ]
      },
      {
       "output_type": "stream",
       "stream": "stdout",
       "text": [
        "\n",
        "Iter: 519000"
       ]
      },
      {
       "output_type": "stream",
       "stream": "stdout",
       "text": [
        "\n",
        "Loss: 0.0013\n",
        "('recon_loss = ', 0.0003073149)\n",
        "('saved session to ', '/home/vernwalrahul/projects/WorkSpace_Hlaton_2D/checkpoints/model.ckpt')"
       ]
      },
      {
       "output_type": "stream",
       "stream": "stdout",
       "text": [
        "\n",
        "Iter: 520000"
       ]
      },
      {
       "output_type": "stream",
       "stream": "stdout",
       "text": [
        "\n",
        "Loss: 0.001303\n",
        "('recon_loss = ', 0.0003048631)\n",
        "('saved session to ', '/home/vernwalrahul/projects/WorkSpace_Hlaton_2D/checkpoints/model.ckpt')"
       ]
      },
      {
       "output_type": "stream",
       "stream": "stdout",
       "text": [
        "\n",
        "Iter: 521000"
       ]
      },
      {
       "output_type": "stream",
       "stream": "stdout",
       "text": [
        "\n",
        "Loss: 0.001289\n",
        "('recon_loss = ', 0.00027582675)\n",
        "('saved session to ', '/home/vernwalrahul/projects/WorkSpace_Hlaton_2D/checkpoints/model.ckpt')"
       ]
      },
      {
       "output_type": "stream",
       "stream": "stdout",
       "text": [
        "\n",
        "Iter: 522000"
       ]
      },
      {
       "output_type": "stream",
       "stream": "stdout",
       "text": [
        "\n",
        "Loss: 0.001554\n",
        "('recon_loss = ', 0.00048551918)\n",
        "('saved session to ', '/home/vernwalrahul/projects/WorkSpace_Hlaton_2D/checkpoints/model.ckpt')"
       ]
      },
      {
       "output_type": "stream",
       "stream": "stdout",
       "text": [
        "\n",
        "Iter: 523000"
       ]
      },
      {
       "output_type": "stream",
       "stream": "stdout",
       "text": [
        "\n",
        "Loss: 0.001324\n",
        "('recon_loss = ', 0.0002642338)\n",
        "('saved session to ', '/home/vernwalrahul/projects/WorkSpace_Hlaton_2D/checkpoints/model.ckpt')"
       ]
      },
      {
       "output_type": "stream",
       "stream": "stdout",
       "text": [
        "\n",
        "Iter: 524000"
       ]
      },
      {
       "output_type": "stream",
       "stream": "stdout",
       "text": [
        "\n",
        "Loss: 0.00133\n",
        "('recon_loss = ', 0.0002861818)\n",
        "('saved session to ', '/home/vernwalrahul/projects/WorkSpace_Hlaton_2D/checkpoints/model.ckpt')"
       ]
      },
      {
       "output_type": "stream",
       "stream": "stdout",
       "text": [
        "\n",
        "Iter: 525000"
       ]
      },
      {
       "output_type": "stream",
       "stream": "stdout",
       "text": [
        "\n",
        "Loss: 0.001344\n",
        "('recon_loss = ', 0.00029690604)\n",
        "('saved session to ', '/home/vernwalrahul/projects/WorkSpace_Hlaton_2D/checkpoints/model.ckpt')"
       ]
      },
      {
       "output_type": "stream",
       "stream": "stdout",
       "text": [
        "\n",
        "Iter: 526000"
       ]
      },
      {
       "output_type": "stream",
       "stream": "stdout",
       "text": [
        "\n",
        "Loss: 0.001333\n",
        "('recon_loss = ', 0.00028231024)\n",
        "('saved session to ', '/home/vernwalrahul/projects/WorkSpace_Hlaton_2D/checkpoints/model.ckpt')"
       ]
      },
      {
       "output_type": "stream",
       "stream": "stdout",
       "text": [
        "\n",
        "Iter: 527000"
       ]
      },
      {
       "output_type": "stream",
       "stream": "stdout",
       "text": [
        "\n",
        "Loss: 0.001385\n",
        "('recon_loss = ', 0.00037001088)\n",
        "('saved session to ', '/home/vernwalrahul/projects/WorkSpace_Hlaton_2D/checkpoints/model.ckpt')"
       ]
      },
      {
       "output_type": "stream",
       "stream": "stdout",
       "text": [
        "\n",
        "Iter: 528000"
       ]
      },
      {
       "output_type": "stream",
       "stream": "stdout",
       "text": [
        "\n",
        "Loss: 0.00135\n",
        "('recon_loss = ', 0.000322924)\n",
        "('saved session to ', '/home/vernwalrahul/projects/WorkSpace_Hlaton_2D/checkpoints/model.ckpt')"
       ]
      },
      {
       "output_type": "stream",
       "stream": "stdout",
       "text": [
        "\n",
        "Iter: 529000"
       ]
      },
      {
       "output_type": "stream",
       "stream": "stdout",
       "text": [
        "\n",
        "Loss: 0.001359\n",
        "('recon_loss = ', 0.00029800736)\n",
        "('saved session to ', '/home/vernwalrahul/projects/WorkSpace_Hlaton_2D/checkpoints/model.ckpt')"
       ]
      },
      {
       "output_type": "stream",
       "stream": "stdout",
       "text": [
        "\n",
        "Iter: 530000"
       ]
      },
      {
       "output_type": "stream",
       "stream": "stdout",
       "text": [
        "\n",
        "Loss: 0.001329\n",
        "('recon_loss = ', 0.00029464462)\n",
        "('saved session to ', '/home/vernwalrahul/projects/WorkSpace_Hlaton_2D/checkpoints/model.ckpt')"
       ]
      },
      {
       "output_type": "stream",
       "stream": "stdout",
       "text": [
        "\n",
        "Iter: 531000"
       ]
      },
      {
       "output_type": "stream",
       "stream": "stdout",
       "text": [
        "\n",
        "Loss: 0.001411\n",
        "('recon_loss = ', 0.00033875048)\n",
        "('saved session to ', '/home/vernwalrahul/projects/WorkSpace_Hlaton_2D/checkpoints/model.ckpt')"
       ]
      },
      {
       "output_type": "stream",
       "stream": "stdout",
       "text": [
        "\n",
        "Iter: 532000"
       ]
      },
      {
       "output_type": "stream",
       "stream": "stdout",
       "text": [
        "\n",
        "Loss: 0.001405\n",
        "('recon_loss = ', 0.00036671868)\n",
        "('saved session to ', '/home/vernwalrahul/projects/WorkSpace_Hlaton_2D/checkpoints/model.ckpt')"
       ]
      },
      {
       "output_type": "stream",
       "stream": "stdout",
       "text": [
        "\n",
        "Iter: 533000"
       ]
      },
      {
       "output_type": "stream",
       "stream": "stdout",
       "text": [
        "\n",
        "Loss: 0.001254\n",
        "('recon_loss = ', 0.00021321923)\n",
        "('saved session to ', '/home/vernwalrahul/projects/WorkSpace_Hlaton_2D/checkpoints/model.ckpt')"
       ]
      },
      {
       "output_type": "stream",
       "stream": "stdout",
       "text": [
        "\n",
        "Iter: 534000"
       ]
      },
      {
       "output_type": "stream",
       "stream": "stdout",
       "text": [
        "\n",
        "Loss: 0.001359\n",
        "('recon_loss = ', 0.0003435042)\n",
        "('saved session to ', '/home/vernwalrahul/projects/WorkSpace_Hlaton_2D/checkpoints/model.ckpt')"
       ]
      },
      {
       "output_type": "stream",
       "stream": "stdout",
       "text": [
        "\n",
        "Iter: 535000"
       ]
      },
      {
       "output_type": "stream",
       "stream": "stdout",
       "text": [
        "\n",
        "Loss: 0.001331\n",
        "('recon_loss = ', 0.00032776472)\n",
        "('saved session to ', '/home/vernwalrahul/projects/WorkSpace_Hlaton_2D/checkpoints/model.ckpt')"
       ]
      },
      {
       "output_type": "stream",
       "stream": "stdout",
       "text": [
        "\n",
        "Iter: 536000"
       ]
      },
      {
       "output_type": "stream",
       "stream": "stdout",
       "text": [
        "\n",
        "Loss: 0.001353\n",
        "('recon_loss = ', 0.00032732828)\n",
        "('saved session to ', '/home/vernwalrahul/projects/WorkSpace_Hlaton_2D/checkpoints/model.ckpt')"
       ]
      },
      {
       "output_type": "stream",
       "stream": "stdout",
       "text": [
        "\n",
        "Iter: 537000"
       ]
      },
      {
       "output_type": "stream",
       "stream": "stdout",
       "text": [
        "\n",
        "Loss: 0.001349\n",
        "('recon_loss = ', 0.00034262973)\n",
        "('saved session to ', '/home/vernwalrahul/projects/WorkSpace_Hlaton_2D/checkpoints/model.ckpt')"
       ]
      },
      {
       "output_type": "stream",
       "stream": "stdout",
       "text": [
        "\n",
        "Iter: 538000"
       ]
      },
      {
       "output_type": "stream",
       "stream": "stdout",
       "text": [
        "\n",
        "Loss: 0.001364\n",
        "('recon_loss = ', 0.0003354701)\n",
        "('saved session to ', '/home/vernwalrahul/projects/WorkSpace_Hlaton_2D/checkpoints/model.ckpt')"
       ]
      },
      {
       "output_type": "stream",
       "stream": "stdout",
       "text": [
        "\n",
        "Iter: 539000"
       ]
      },
      {
       "output_type": "stream",
       "stream": "stdout",
       "text": [
        "\n",
        "Loss: 0.001381\n",
        "('recon_loss = ', 0.00033678688)\n",
        "('saved session to ', '/home/vernwalrahul/projects/WorkSpace_Hlaton_2D/checkpoints/model.ckpt')"
       ]
      },
      {
       "output_type": "stream",
       "stream": "stdout",
       "text": [
        "\n",
        "Iter: 540000"
       ]
      },
      {
       "output_type": "stream",
       "stream": "stdout",
       "text": [
        "\n",
        "Loss: 0.001327\n",
        "('recon_loss = ', 0.00031855586)\n",
        "('saved session to ', '/home/vernwalrahul/projects/WorkSpace_Hlaton_2D/checkpoints/model.ckpt')"
       ]
      },
      {
       "output_type": "stream",
       "stream": "stdout",
       "text": [
        "\n",
        "Iter: 541000"
       ]
      },
      {
       "output_type": "stream",
       "stream": "stdout",
       "text": [
        "\n",
        "Loss: 0.001337\n",
        "('recon_loss = ', 0.00027676357)\n",
        "('saved session to ', '/home/vernwalrahul/projects/WorkSpace_Hlaton_2D/checkpoints/model.ckpt')"
       ]
      },
      {
       "output_type": "stream",
       "stream": "stdout",
       "text": [
        "\n",
        "Iter: 542000"
       ]
      },
      {
       "output_type": "stream",
       "stream": "stdout",
       "text": [
        "\n",
        "Loss: 0.001272\n",
        "('recon_loss = ', 0.0002666333)\n",
        "('saved session to ', '/home/vernwalrahul/projects/WorkSpace_Hlaton_2D/checkpoints/model.ckpt')"
       ]
      },
      {
       "output_type": "stream",
       "stream": "stdout",
       "text": [
        "\n",
        "Iter: 543000"
       ]
      },
      {
       "output_type": "stream",
       "stream": "stdout",
       "text": [
        "\n",
        "Loss: 0.00131\n",
        "('recon_loss = ', 0.00028727506)\n",
        "('saved session to ', '/home/vernwalrahul/projects/WorkSpace_Hlaton_2D/checkpoints/model.ckpt')"
       ]
      },
      {
       "output_type": "stream",
       "stream": "stdout",
       "text": [
        "\n",
        "Iter: 544000"
       ]
      },
      {
       "output_type": "stream",
       "stream": "stdout",
       "text": [
        "\n",
        "Loss: 0.001386\n",
        "('recon_loss = ', 0.00035445887)\n",
        "('saved session to ', '/home/vernwalrahul/projects/WorkSpace_Hlaton_2D/checkpoints/model.ckpt')"
       ]
      },
      {
       "output_type": "stream",
       "stream": "stdout",
       "text": [
        "\n",
        "Iter: 545000"
       ]
      },
      {
       "output_type": "stream",
       "stream": "stdout",
       "text": [
        "\n",
        "Loss: 0.001285\n",
        "('recon_loss = ', 0.0002828173)\n",
        "('saved session to ', '/home/vernwalrahul/projects/WorkSpace_Hlaton_2D/checkpoints/model.ckpt')"
       ]
      },
      {
       "output_type": "stream",
       "stream": "stdout",
       "text": [
        "\n",
        "Iter: 546000"
       ]
      },
      {
       "output_type": "stream",
       "stream": "stdout",
       "text": [
        "\n",
        "Loss: 0.00134\n",
        "('recon_loss = ', 0.00030046067)\n",
        "('saved session to ', '/home/vernwalrahul/projects/WorkSpace_Hlaton_2D/checkpoints/model.ckpt')"
       ]
      },
      {
       "output_type": "stream",
       "stream": "stdout",
       "text": [
        "\n",
        "Iter: 547000"
       ]
      },
      {
       "output_type": "stream",
       "stream": "stdout",
       "text": [
        "\n",
        "Loss: 0.0013\n",
        "('recon_loss = ', 0.00027807275)\n",
        "('saved session to ', '/home/vernwalrahul/projects/WorkSpace_Hlaton_2D/checkpoints/model.ckpt')"
       ]
      },
      {
       "output_type": "stream",
       "stream": "stdout",
       "text": [
        "\n",
        "Iter: 548000"
       ]
      },
      {
       "output_type": "stream",
       "stream": "stdout",
       "text": [
        "\n",
        "Loss: 0.001285\n",
        "('recon_loss = ', 0.00024910545)\n",
        "('saved session to ', '/home/vernwalrahul/projects/WorkSpace_Hlaton_2D/checkpoints/model.ckpt')"
       ]
      },
      {
       "output_type": "stream",
       "stream": "stdout",
       "text": [
        "\n",
        "Iter: 549000"
       ]
      },
      {
       "output_type": "stream",
       "stream": "stdout",
       "text": [
        "\n",
        "Loss: 0.001347\n",
        "('recon_loss = ', 0.00032498472)\n",
        "('saved session to ', '/home/vernwalrahul/projects/WorkSpace_Hlaton_2D/checkpoints/model.ckpt')"
       ]
      },
      {
       "output_type": "stream",
       "stream": "stdout",
       "text": [
        "\n",
        "Iter: 550000"
       ]
      },
      {
       "output_type": "stream",
       "stream": "stdout",
       "text": [
        "\n",
        "Loss: 0.001403\n",
        "('recon_loss = ', 0.0003502685)\n",
        "('saved session to ', '/home/vernwalrahul/projects/WorkSpace_Hlaton_2D/checkpoints/model.ckpt')"
       ]
      },
      {
       "output_type": "stream",
       "stream": "stdout",
       "text": [
        "\n",
        "Iter: 551000"
       ]
      },
      {
       "output_type": "stream",
       "stream": "stdout",
       "text": [
        "\n",
        "Loss: 0.001322\n",
        "('recon_loss = ', 0.00025743866)\n",
        "('saved session to ', '/home/vernwalrahul/projects/WorkSpace_Hlaton_2D/checkpoints/model.ckpt')"
       ]
      },
      {
       "output_type": "stream",
       "stream": "stdout",
       "text": [
        "\n",
        "Iter: 552000"
       ]
      },
      {
       "output_type": "stream",
       "stream": "stdout",
       "text": [
        "\n",
        "Loss: 0.001321\n",
        "('recon_loss = ', 0.00030339241)\n",
        "('saved session to ', '/home/vernwalrahul/projects/WorkSpace_Hlaton_2D/checkpoints/model.ckpt')"
       ]
      },
      {
       "output_type": "stream",
       "stream": "stdout",
       "text": [
        "\n",
        "Iter: 553000"
       ]
      },
      {
       "output_type": "stream",
       "stream": "stdout",
       "text": [
        "\n",
        "Loss: 0.001334\n",
        "('recon_loss = ', 0.00031225104)\n",
        "('saved session to ', '/home/vernwalrahul/projects/WorkSpace_Hlaton_2D/checkpoints/model.ckpt')"
       ]
      },
      {
       "output_type": "stream",
       "stream": "stdout",
       "text": [
        "\n",
        "Iter: 554000"
       ]
      },
      {
       "output_type": "stream",
       "stream": "stdout",
       "text": [
        "\n",
        "Loss: 0.001292\n",
        "('recon_loss = ', 0.00030770042)\n",
        "('saved session to ', '/home/vernwalrahul/projects/WorkSpace_Hlaton_2D/checkpoints/model.ckpt')"
       ]
      },
      {
       "output_type": "stream",
       "stream": "stdout",
       "text": [
        "\n",
        "Iter: 555000"
       ]
      },
      {
       "output_type": "stream",
       "stream": "stdout",
       "text": [
        "\n",
        "Loss: 0.001337\n",
        "('recon_loss = ', 0.00033279232)\n",
        "('saved session to ', '/home/vernwalrahul/projects/WorkSpace_Hlaton_2D/checkpoints/model.ckpt')"
       ]
      },
      {
       "output_type": "stream",
       "stream": "stdout",
       "text": [
        "\n",
        "Iter: 556000"
       ]
      },
      {
       "output_type": "stream",
       "stream": "stdout",
       "text": [
        "\n",
        "Loss: 0.001371\n",
        "('recon_loss = ', 0.0003055539)\n",
        "('saved session to ', '/home/vernwalrahul/projects/WorkSpace_Hlaton_2D/checkpoints/model.ckpt')"
       ]
      },
      {
       "output_type": "stream",
       "stream": "stdout",
       "text": [
        "\n",
        "Iter: 557000"
       ]
      },
      {
       "output_type": "stream",
       "stream": "stdout",
       "text": [
        "\n",
        "Loss: 0.001336\n",
        "('recon_loss = ', 0.0003158108)\n",
        "('saved session to ', '/home/vernwalrahul/projects/WorkSpace_Hlaton_2D/checkpoints/model.ckpt')"
       ]
      },
      {
       "output_type": "stream",
       "stream": "stdout",
       "text": [
        "\n",
        "Iter: 558000"
       ]
      },
      {
       "output_type": "stream",
       "stream": "stdout",
       "text": [
        "\n",
        "Loss: 0.001321\n",
        "('recon_loss = ', 0.00029869712)\n",
        "('saved session to ', '/home/vernwalrahul/projects/WorkSpace_Hlaton_2D/checkpoints/model.ckpt')"
       ]
      },
      {
       "output_type": "stream",
       "stream": "stdout",
       "text": [
        "\n",
        "Iter: 559000"
       ]
      },
      {
       "output_type": "stream",
       "stream": "stdout",
       "text": [
        "\n",
        "Loss: 0.001318\n",
        "('recon_loss = ', 0.0002826444)\n",
        "('saved session to ', '/home/vernwalrahul/projects/WorkSpace_Hlaton_2D/checkpoints/model.ckpt')"
       ]
      },
      {
       "output_type": "stream",
       "stream": "stdout",
       "text": [
        "\n",
        "Iter: 560000"
       ]
      },
      {
       "output_type": "stream",
       "stream": "stdout",
       "text": [
        "\n",
        "Loss: 0.001439\n",
        "('recon_loss = ', 0.00038245466)\n",
        "('saved session to ', '/home/vernwalrahul/projects/WorkSpace_Hlaton_2D/checkpoints/model.ckpt')"
       ]
      },
      {
       "output_type": "stream",
       "stream": "stdout",
       "text": [
        "\n",
        "Iter: 561000"
       ]
      },
      {
       "output_type": "stream",
       "stream": "stdout",
       "text": [
        "\n",
        "Loss: 0.001381\n",
        "('recon_loss = ', 0.00031441913)\n",
        "('saved session to ', '/home/vernwalrahul/projects/WorkSpace_Hlaton_2D/checkpoints/model.ckpt')"
       ]
      },
      {
       "output_type": "stream",
       "stream": "stdout",
       "text": [
        "\n",
        "Iter: 562000"
       ]
      },
      {
       "output_type": "stream",
       "stream": "stdout",
       "text": [
        "\n",
        "Loss: 0.001341\n",
        "('recon_loss = ', 0.00029194495)\n",
        "('saved session to ', '/home/vernwalrahul/projects/WorkSpace_Hlaton_2D/checkpoints/model.ckpt')"
       ]
      },
      {
       "output_type": "stream",
       "stream": "stdout",
       "text": [
        "\n",
        "Iter: 563000"
       ]
      },
      {
       "output_type": "stream",
       "stream": "stdout",
       "text": [
        "\n",
        "Loss: 0.001323\n",
        "('recon_loss = ', 0.0002934737)\n",
        "('saved session to ', '/home/vernwalrahul/projects/WorkSpace_Hlaton_2D/checkpoints/model.ckpt')"
       ]
      },
      {
       "output_type": "stream",
       "stream": "stdout",
       "text": [
        "\n",
        "Iter: 564000"
       ]
      },
      {
       "output_type": "stream",
       "stream": "stdout",
       "text": [
        "\n",
        "Loss: 0.001291\n",
        "('recon_loss = ', 0.000283278)\n",
        "('saved session to ', '/home/vernwalrahul/projects/WorkSpace_Hlaton_2D/checkpoints/model.ckpt')"
       ]
      },
      {
       "output_type": "stream",
       "stream": "stdout",
       "text": [
        "\n",
        "Iter: 565000"
       ]
      },
      {
       "output_type": "stream",
       "stream": "stdout",
       "text": [
        "\n",
        "Loss: 0.001366\n",
        "('recon_loss = ', 0.0003841435)\n",
        "('saved session to ', '/home/vernwalrahul/projects/WorkSpace_Hlaton_2D/checkpoints/model.ckpt')"
       ]
      },
      {
       "output_type": "stream",
       "stream": "stdout",
       "text": [
        "\n",
        "Iter: 566000"
       ]
      },
      {
       "output_type": "stream",
       "stream": "stdout",
       "text": [
        "\n",
        "Loss: 0.001367\n",
        "('recon_loss = ', 0.0003558147)\n",
        "('saved session to ', '/home/vernwalrahul/projects/WorkSpace_Hlaton_2D/checkpoints/model.ckpt')"
       ]
      },
      {
       "output_type": "stream",
       "stream": "stdout",
       "text": [
        "\n",
        "Iter: 567000"
       ]
      },
      {
       "output_type": "stream",
       "stream": "stdout",
       "text": [
        "\n",
        "Loss: 0.001435\n",
        "('recon_loss = ', 0.00041549053)\n",
        "('saved session to ', '/home/vernwalrahul/projects/WorkSpace_Hlaton_2D/checkpoints/model.ckpt')"
       ]
      },
      {
       "output_type": "stream",
       "stream": "stdout",
       "text": [
        "\n",
        "Iter: 568000"
       ]
      },
      {
       "output_type": "stream",
       "stream": "stdout",
       "text": [
        "\n",
        "Loss: 0.001252\n",
        "('recon_loss = ', 0.00024995086)\n",
        "('saved session to ', '/home/vernwalrahul/projects/WorkSpace_Hlaton_2D/checkpoints/model.ckpt')"
       ]
      },
      {
       "output_type": "stream",
       "stream": "stdout",
       "text": [
        "\n",
        "Iter: 569000"
       ]
      },
      {
       "output_type": "stream",
       "stream": "stdout",
       "text": [
        "\n",
        "Loss: 0.001348\n",
        "('recon_loss = ', 0.00031240925)\n",
        "('saved session to ', '/home/vernwalrahul/projects/WorkSpace_Hlaton_2D/checkpoints/model.ckpt')"
       ]
      },
      {
       "output_type": "stream",
       "stream": "stdout",
       "text": [
        "\n",
        "Iter: 570000"
       ]
      },
      {
       "output_type": "stream",
       "stream": "stdout",
       "text": [
        "\n",
        "Loss: 0.001379\n",
        "('recon_loss = ', 0.00033141783)\n",
        "('saved session to ', '/home/vernwalrahul/projects/WorkSpace_Hlaton_2D/checkpoints/model.ckpt')"
       ]
      },
      {
       "output_type": "stream",
       "stream": "stdout",
       "text": [
        "\n",
        "Iter: 571000"
       ]
      },
      {
       "output_type": "stream",
       "stream": "stdout",
       "text": [
        "\n",
        "Loss: 0.00129\n",
        "('recon_loss = ', 0.0003038366)\n",
        "('saved session to ', '/home/vernwalrahul/projects/WorkSpace_Hlaton_2D/checkpoints/model.ckpt')"
       ]
      },
      {
       "output_type": "stream",
       "stream": "stdout",
       "text": [
        "\n",
        "Iter: 572000"
       ]
      },
      {
       "output_type": "stream",
       "stream": "stdout",
       "text": [
        "\n",
        "Loss: 0.001334\n",
        "('recon_loss = ', 0.00033569496)\n",
        "('saved session to ', '/home/vernwalrahul/projects/WorkSpace_Hlaton_2D/checkpoints/model.ckpt')"
       ]
      },
      {
       "output_type": "stream",
       "stream": "stdout",
       "text": [
        "\n",
        "Iter: 573000"
       ]
      },
      {
       "output_type": "stream",
       "stream": "stdout",
       "text": [
        "\n",
        "Loss: 0.001381\n",
        "('recon_loss = ', 0.0003281914)\n",
        "('saved session to ', '/home/vernwalrahul/projects/WorkSpace_Hlaton_2D/checkpoints/model.ckpt')"
       ]
      },
      {
       "output_type": "stream",
       "stream": "stdout",
       "text": [
        "\n",
        "Iter: 574000"
       ]
      },
      {
       "output_type": "stream",
       "stream": "stdout",
       "text": [
        "\n",
        "Loss: 0.001403\n",
        "('recon_loss = ', 0.00039954486)\n",
        "('saved session to ', '/home/vernwalrahul/projects/WorkSpace_Hlaton_2D/checkpoints/model.ckpt')"
       ]
      },
      {
       "output_type": "stream",
       "stream": "stdout",
       "text": [
        "\n",
        "Iter: 575000"
       ]
      },
      {
       "output_type": "stream",
       "stream": "stdout",
       "text": [
        "\n",
        "Loss: 0.001291\n",
        "('recon_loss = ', 0.00025449804)\n",
        "('saved session to ', '/home/vernwalrahul/projects/WorkSpace_Hlaton_2D/checkpoints/model.ckpt')"
       ]
      },
      {
       "output_type": "stream",
       "stream": "stdout",
       "text": [
        "\n",
        "Iter: 576000"
       ]
      },
      {
       "output_type": "stream",
       "stream": "stdout",
       "text": [
        "\n",
        "Loss: 0.001322\n",
        "('recon_loss = ', 0.00029007017)\n",
        "('saved session to ', '/home/vernwalrahul/projects/WorkSpace_Hlaton_2D/checkpoints/model.ckpt')"
       ]
      },
      {
       "output_type": "stream",
       "stream": "stdout",
       "text": [
        "\n",
        "Iter: 577000"
       ]
      },
      {
       "output_type": "stream",
       "stream": "stdout",
       "text": [
        "\n",
        "Loss: 0.001319\n",
        "('recon_loss = ', 0.00028600285)\n",
        "('saved session to ', '/home/vernwalrahul/projects/WorkSpace_Hlaton_2D/checkpoints/model.ckpt')"
       ]
      },
      {
       "output_type": "stream",
       "stream": "stdout",
       "text": [
        "\n",
        "Iter: 578000"
       ]
      },
      {
       "output_type": "stream",
       "stream": "stdout",
       "text": [
        "\n",
        "Loss: 0.001291\n",
        "('recon_loss = ', 0.00025130427)\n",
        "('saved session to ', '/home/vernwalrahul/projects/WorkSpace_Hlaton_2D/checkpoints/model.ckpt')"
       ]
      },
      {
       "output_type": "stream",
       "stream": "stdout",
       "text": [
        "\n",
        "Iter: 579000"
       ]
      },
      {
       "output_type": "stream",
       "stream": "stdout",
       "text": [
        "\n",
        "Loss: 0.001393\n",
        "('recon_loss = ', 0.0003646206)\n",
        "('saved session to ', '/home/vernwalrahul/projects/WorkSpace_Hlaton_2D/checkpoints/model.ckpt')"
       ]
      },
      {
       "output_type": "stream",
       "stream": "stdout",
       "text": [
        "\n",
        "Iter: 580000"
       ]
      },
      {
       "output_type": "stream",
       "stream": "stdout",
       "text": [
        "\n",
        "Loss: 0.001313\n",
        "('recon_loss = ', 0.00027199014)\n",
        "('saved session to ', '/home/vernwalrahul/projects/WorkSpace_Hlaton_2D/checkpoints/model.ckpt')"
       ]
      },
      {
       "output_type": "stream",
       "stream": "stdout",
       "text": [
        "\n",
        "Iter: 581000"
       ]
      },
      {
       "output_type": "stream",
       "stream": "stdout",
       "text": [
        "\n",
        "Loss: 0.001353\n",
        "('recon_loss = ', 0.0002776062)\n",
        "('saved session to ', '/home/vernwalrahul/projects/WorkSpace_Hlaton_2D/checkpoints/model.ckpt')"
       ]
      },
      {
       "output_type": "stream",
       "stream": "stdout",
       "text": [
        "\n",
        "Iter: 582000"
       ]
      },
      {
       "output_type": "stream",
       "stream": "stdout",
       "text": [
        "\n",
        "Loss: 0.001267\n",
        "('recon_loss = ', 0.00023469595)\n",
        "('saved session to ', '/home/vernwalrahul/projects/WorkSpace_Hlaton_2D/checkpoints/model.ckpt')"
       ]
      },
      {
       "output_type": "stream",
       "stream": "stdout",
       "text": [
        "\n",
        "Iter: 583000"
       ]
      },
      {
       "output_type": "stream",
       "stream": "stdout",
       "text": [
        "\n",
        "Loss: 0.00132\n",
        "('recon_loss = ', 0.00024711154)\n",
        "('saved session to ', '/home/vernwalrahul/projects/WorkSpace_Hlaton_2D/checkpoints/model.ckpt')"
       ]
      },
      {
       "output_type": "stream",
       "stream": "stdout",
       "text": [
        "\n",
        "Iter: 584000"
       ]
      },
      {
       "output_type": "stream",
       "stream": "stdout",
       "text": [
        "\n",
        "Loss: 0.001334\n",
        "('recon_loss = ', 0.00027086254)\n",
        "('saved session to ', '/home/vernwalrahul/projects/WorkSpace_Hlaton_2D/checkpoints/model.ckpt')"
       ]
      },
      {
       "output_type": "stream",
       "stream": "stdout",
       "text": [
        "\n",
        "Iter: 585000"
       ]
      },
      {
       "output_type": "stream",
       "stream": "stdout",
       "text": [
        "\n",
        "Loss: 0.00133\n",
        "('recon_loss = ', 0.00029500783)\n",
        "('saved session to ', '/home/vernwalrahul/projects/WorkSpace_Hlaton_2D/checkpoints/model.ckpt')"
       ]
      },
      {
       "output_type": "stream",
       "stream": "stdout",
       "text": [
        "\n",
        "Iter: 586000"
       ]
      },
      {
       "output_type": "stream",
       "stream": "stdout",
       "text": [
        "\n",
        "Loss: 0.001426\n",
        "('recon_loss = ', 0.00034857335)\n",
        "('saved session to ', '/home/vernwalrahul/projects/WorkSpace_Hlaton_2D/checkpoints/model.ckpt')"
       ]
      },
      {
       "output_type": "stream",
       "stream": "stdout",
       "text": [
        "\n",
        "Iter: 587000"
       ]
      },
      {
       "output_type": "stream",
       "stream": "stdout",
       "text": [
        "\n",
        "Loss: 0.001333\n",
        "('recon_loss = ', 0.00032331285)\n",
        "('saved session to ', '/home/vernwalrahul/projects/WorkSpace_Hlaton_2D/checkpoints/model.ckpt')"
       ]
      },
      {
       "output_type": "stream",
       "stream": "stdout",
       "text": [
        "\n",
        "Iter: 588000"
       ]
      },
      {
       "output_type": "stream",
       "stream": "stdout",
       "text": [
        "\n",
        "Loss: 0.001339\n",
        "('recon_loss = ', 0.00031763403)\n",
        "('saved session to ', '/home/vernwalrahul/projects/WorkSpace_Hlaton_2D/checkpoints/model.ckpt')"
       ]
      },
      {
       "output_type": "stream",
       "stream": "stdout",
       "text": [
        "\n",
        "Iter: 589000"
       ]
      },
      {
       "output_type": "stream",
       "stream": "stdout",
       "text": [
        "\n",
        "Loss: 0.001366\n",
        "('recon_loss = ', 0.00036451177)\n",
        "('saved session to ', '/home/vernwalrahul/projects/WorkSpace_Hlaton_2D/checkpoints/model.ckpt')"
       ]
      },
      {
       "output_type": "stream",
       "stream": "stdout",
       "text": [
        "\n",
        "Iter: 590000"
       ]
      },
      {
       "output_type": "stream",
       "stream": "stdout",
       "text": [
        "\n",
        "Loss: 0.001324\n",
        "('recon_loss = ', 0.00033124787)\n",
        "('saved session to ', '/home/vernwalrahul/projects/WorkSpace_Hlaton_2D/checkpoints/model.ckpt')"
       ]
      },
      {
       "output_type": "stream",
       "stream": "stdout",
       "text": [
        "\n",
        "Iter: 591000"
       ]
      },
      {
       "output_type": "stream",
       "stream": "stdout",
       "text": [
        "\n",
        "Loss: 0.001335\n",
        "('recon_loss = ', 0.00027803454)\n",
        "('saved session to ', '/home/vernwalrahul/projects/WorkSpace_Hlaton_2D/checkpoints/model.ckpt')"
       ]
      },
      {
       "output_type": "stream",
       "stream": "stdout",
       "text": [
        "\n",
        "Iter: 592000"
       ]
      },
      {
       "output_type": "stream",
       "stream": "stdout",
       "text": [
        "\n",
        "Loss: 0.001352\n",
        "('recon_loss = ', 0.00027169788)\n",
        "('saved session to ', '/home/vernwalrahul/projects/WorkSpace_Hlaton_2D/checkpoints/model.ckpt')"
       ]
      },
      {
       "output_type": "stream",
       "stream": "stdout",
       "text": [
        "\n",
        "Iter: 593000"
       ]
      },
      {
       "output_type": "stream",
       "stream": "stdout",
       "text": [
        "\n",
        "Loss: 0.001401\n",
        "('recon_loss = ', 0.0003490623)\n",
        "('saved session to ', '/home/vernwalrahul/projects/WorkSpace_Hlaton_2D/checkpoints/model.ckpt')"
       ]
      },
      {
       "output_type": "stream",
       "stream": "stdout",
       "text": [
        "\n",
        "Iter: 594000"
       ]
      },
      {
       "output_type": "stream",
       "stream": "stdout",
       "text": [
        "\n",
        "Loss: 0.001299\n",
        "('recon_loss = ', 0.00026273922)\n",
        "('saved session to ', '/home/vernwalrahul/projects/WorkSpace_Hlaton_2D/checkpoints/model.ckpt')"
       ]
      },
      {
       "output_type": "stream",
       "stream": "stdout",
       "text": [
        "\n",
        "Iter: 595000"
       ]
      },
      {
       "output_type": "stream",
       "stream": "stdout",
       "text": [
        "\n",
        "Loss: 0.001301\n",
        "('recon_loss = ', 0.00030130218)\n",
        "('saved session to ', '/home/vernwalrahul/projects/WorkSpace_Hlaton_2D/checkpoints/model.ckpt')"
       ]
      },
      {
       "output_type": "stream",
       "stream": "stdout",
       "text": [
        "\n",
        "Iter: 596000"
       ]
      },
      {
       "output_type": "stream",
       "stream": "stdout",
       "text": [
        "\n",
        "Loss: 0.001358\n",
        "('recon_loss = ', 0.00033335376)\n",
        "('saved session to ', '/home/vernwalrahul/projects/WorkSpace_Hlaton_2D/checkpoints/model.ckpt')"
       ]
      },
      {
       "output_type": "stream",
       "stream": "stdout",
       "text": [
        "\n",
        "Iter: 597000"
       ]
      },
      {
       "output_type": "stream",
       "stream": "stdout",
       "text": [
        "\n",
        "Loss: 0.001342\n",
        "('recon_loss = ', 0.0002768946)\n",
        "('saved session to ', '/home/vernwalrahul/projects/WorkSpace_Hlaton_2D/checkpoints/model.ckpt')"
       ]
      },
      {
       "output_type": "stream",
       "stream": "stdout",
       "text": [
        "\n",
        "Iter: 598000"
       ]
      },
      {
       "output_type": "stream",
       "stream": "stdout",
       "text": [
        "\n",
        "Loss: 0.001344\n",
        "('recon_loss = ', 0.00031712296)\n",
        "('saved session to ', '/home/vernwalrahul/projects/WorkSpace_Hlaton_2D/checkpoints/model.ckpt')"
       ]
      },
      {
       "output_type": "stream",
       "stream": "stdout",
       "text": [
        "\n",
        "Iter: 599000"
       ]
      },
      {
       "output_type": "stream",
       "stream": "stdout",
       "text": [
        "\n",
        "Loss: 0.0013\n",
        "('recon_loss = ', 0.00029255456)\n",
        "('saved session to ', '/home/vernwalrahul/projects/WorkSpace_Hlaton_2D/checkpoints/model.ckpt')"
       ]
      },
      {
       "output_type": "stream",
       "stream": "stdout",
       "text": [
        "\n",
        "Iter: 600000"
       ]
      },
      {
       "output_type": "stream",
       "stream": "stdout",
       "text": [
        "\n",
        "Loss: 0.001366\n",
        "('recon_loss = ', 0.00031724467)\n",
        "('saved session to ', '/home/vernwalrahul/projects/WorkSpace_Hlaton_2D/checkpoints/model.ckpt')"
       ]
      },
      {
       "output_type": "stream",
       "stream": "stdout",
       "text": [
        "\n"
       ]
      }
     ],
     "prompt_number": 124
    },
    {
     "cell_type": "code",
     "collapsed": false,
     "input": [
      "#to check if a node is free\n",
      "def is_free(node_pos, obstacles):\n",
      "    flag = 1\n",
      "    eps = 0.04\n",
      "    for obs in obstacles:\n",
      "        x1, y1, x2, y2 = obs\n",
      "        if(node_pos[0] < x2 + eps and node_pos[0] > x1 - eps):\n",
      "            if(node_pos[1] < y2 + eps and node_pos[1] > y1 - eps):\n",
      "                flag = 0\n",
      "                return flag\n",
      "    return flag\n",
      "\n",
      "################Create Occ_Grid\n",
      "def get_occ_grid(obstacles):\n",
      "    occ_grid = np.ones((10,10), dtype=int)\n",
      "    eps = 0.05\n",
      "    for i in range(0,10):\n",
      "        for j in range(0, 10):\n",
      "            if(not (is_free((i/10.0+eps,j/10.0+eps), obstacles))):\n",
      "                occ_grid[i,j] = 0\n",
      "            else:\n",
      "                occ_grid[i,j] = 1\n",
      "    return occ_grid.ravel()\n",
      "\n",
      "obs1 = [0.0, 0.1, 0.4, 0.2]\n",
      "obs2 = [0.5, 0.1, 0.6, 0.2]\n",
      "obs3 = [0.7, 0.1, 1.0, 0.2]\n",
      "\n",
      "init_ = np.array([0.2562799 , 0.94246778])\n",
      "goal_ = np.array([0.99504943, 0.75133838])\n",
      "\n",
      "c_here = []\n",
      "for x in range(4,6):\n",
      "    obs4 = [x/10.0, 0.4, x/10.0+0.1, 1.0]\n",
      "    obs5 = [x/10.0, 0.2, x/10.0+0.1, 0.3]\n",
      "    obs6 = [x/10.0, 0.0, x/10.0+0.1, 0.1]\n",
      "    \n",
      "    obstacles = [obs1, obs2, obs3, obs4, obs5, obs6]\n",
      "    curr_occ_grid = np.array(get_occ_grid(obstacles))\n",
      "    print(curr_occ_grid.reshape(10,10))\n",
      "    c_here.append(np.concatenate((init_, goal_, curr_occ_grid)))"
     ],
     "language": "python",
     "metadata": {},
     "outputs": [
      {
       "output_type": "stream",
       "stream": "stdout",
       "text": [
        "[[1 0 1 1 1 1 1 1 1 1]\n",
        " [1 0 1 1 1 1 1 1 1 1]\n",
        " [1 0 1 1 1 1 1 1 1 1]\n",
        " [1 0 1 1 1 1 1 1 1 1]\n",
        " [0 1 0 1 0 0 0 0 0 0]\n",
        " [1 0 1 1 1 1 1 1 1 1]\n",
        " [1 1 1 1 1 1 1 1 1 1]\n",
        " [1 0 1 1 1 1 1 1 1 1]\n",
        " [1 0 1 1 1 1 1 1 1 1]\n",
        " [1 0 1 1 1 1 1 1 1 1]]\n",
        "[[1 0 1 1 1 1 1 1 1 1]\n",
        " [1 0 1 1 1 1 1 1 1 1]\n",
        " [1 0 1 1 1 1 1 1 1 1]\n",
        " [1 0 1 1 1 1 1 1 1 1]\n",
        " [1 1 1 1 1 1 1 1 1 1]\n",
        " [0 0 0 1 0 0 0 0 0 0]\n",
        " [1 1 1 1 1 1 1 1 1 1]\n",
        " [1 0 1 1 1 1 1 1 1 1]\n",
        " [1 0 1 1 1 1 1 1 1 1]\n",
        " [1 0 1 1 1 1 1 1 1 1]]\n"
       ]
      }
     ],
     "prompt_number": 157
    },
    {
     "cell_type": "code",
     "collapsed": false,
     "input": [
      "# plot the latent space\n",
      "num_viz = 100\n",
      "print(\"c_test.shape = \",c_test.shape)\n",
      "print(\"c_train.shape = \",c_train.shape)\n",
      "# print(c_test[:,:4])\n",
      "vizIdx = randint(0,numTest-1);\n",
      "# vizIdx = 152\n",
      "print vizIdx\n",
      "c_sample_seed = c_test[vizIdx,:]\n",
      "print(\"c_sample_seed = \", c_sample_seed[:4])\n",
      "occ_g = c_test[vizIdx,4:].reshape(10,10)\n",
      "\n",
      "# c_here = np.array(c_here)\n",
      "# c_sample_seed = c_here[0,:]\n",
      "# occ_g = c_here[0,4:].reshape(10,10)\n",
      "\n",
      "ts = X_test[vizIdx,:2]\n",
      "print(\"Testin Sample = \", ts)\n",
      "\n",
      "# c_sample_seed = c_test[vizIdx,:]\n",
      "# occ_g = c_test[vizIdx,4:].reshape(20,20)\n",
      "# print(\"Testing Sample = \",X_test[vizIdx,:2])\n",
      "\n",
      "# print(c_sample_seed[:4])\n",
      "init = c_sample_seed[:2]\n",
      "goal = c_sample_seed[2:4]\n",
      "c_sample = np.repeat([c_sample_seed],num_viz,axis=0)\n",
      "\n",
      "print(\"c_sample.shape = \",c_sample.shape)\n",
      "# directly sample from the latent space (preferred, what we will use in the end)\n",
      "y_viz, z_viz = sess.run([y, z], feed_dict={z: np.random.randn(num_viz, z_dim), c: c_sample})\n",
      "\n",
      "fig1 = plt.figure(figsize=(10,6), dpi=80)\n",
      "ax1 = fig1.add_subplot(111, aspect='equal')\n",
      "\n",
      "plt.scatter(y_viz[:,0],y_viz[:,1], color=\"green\", s=20)\n",
      "\n",
      "for i in range(10):\n",
      "        for j in range(10):\n",
      "            if(occ_g[i,j]==0):\n",
      "                ax1.add_patch(patches.Rectangle(\n",
      "                (i/10.0, j/10.0),   # (x,y)\n",
      "                0.1,          # width\n",
      "                0.1,          # height\n",
      "                alpha=0.6\n",
      "                ))\n",
      "\n",
      "plt.scatter(init[0], init[1], color=\"red\", s=100, edgecolors='black') # init\n",
      "plt.scatter(goal[0], goal[1], color=\"blue\", s=100, edgecolors='black') # goal\n",
      "plt.scatter(ts[0], ts[1], color=\"orange\", s=50, edgecolors='black') # goal\n",
      "\n",
      "plt.xlim(0,1)\n",
      "plt.ylim(0,1)\n",
      "\n",
      "plt.savefig(\"testing_\"+str(vizIdx)+\".jpg\", bbox_inches='tight')\n",
      "plt.show()"
     ],
     "language": "python",
     "metadata": {},
     "outputs": [
      {
       "output_type": "stream",
       "stream": "stdout",
       "text": [
        "('c_test.shape = ', (1504, 104))\n",
        "('c_train.shape = ', (6015, 104))\n",
        "807\n",
        "('c_sample_seed = ', array([0.86174865, 0.77968772, 0.33147521, 0.43629494]))\n",
        "('Testin Sample = ', array([0.74749084, 0.71750208]))\n",
        "('c_sample.shape = ', (100, 104))\n"
       ]
      }
     ],
     "prompt_number": 186
    }
   ],
   "metadata": {}
  }
 ]
}