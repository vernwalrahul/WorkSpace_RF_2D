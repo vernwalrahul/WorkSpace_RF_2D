{
 "cells": [
  {
   "cell_type": "code",
   "execution_count": 1,
   "metadata": {},
   "outputs": [],
   "source": [
    "#Pre-Processing\n",
    "\n",
    "import os\n",
    "import argparse\n",
    "import networkx as nx\n",
    "import math        \n",
    "import numpy as np\n",
    "\n",
    "def state_to_numpy(state):\n",
    "    strlist = state.split()\n",
    "    val_list = [float(s) for s in strlist]\n",
    "    return np.array(val_list)\n",
    "\n",
    "def list_all_dir(data_dir):\n",
    "    task_dirs = os.listdir(data_dir)\n",
    "\n",
    "    list_dir = []\n",
    "    for task_dir in task_dirs:\n",
    "        env_dirs = os.listdir(data_dir+\"/\"+task_dir)\n",
    "        for env_dir in env_dirs:\n",
    "            list_dir.append(data_dir +\"/\"+ task_dir +\"/\"+ env_dir)\n",
    "    return list_dir  \n",
    "\n",
    "def process_it(G, directory):\n",
    "    start = np.loadtxt(directory+\"/start_nodes.txt\")\n",
    "    goal = np.loadtxt(directory+\"/goal_nodes.txt\")\n",
    "    occ_grid = np.loadtxt(directory+\"/occ_grid.txt\")\n",
    "    # occ_grid = occ_grid.split(\",\")\n",
    "    path_nodes = []\n",
    "    i = 0\n",
    "    all_data = []\n",
    "    with open(directory + \"/path_nodes.txt\", 'r') as file:\n",
    "        lines  = file.readlines()\n",
    "        for line in lines:\n",
    "            line = line.strip('\\n')\n",
    "#             print(line)\n",
    "#             print(\"\\n\\n\")\n",
    "            \n",
    "            s = state_to_numpy(G.node[str(int(start[i]))]['state'])\n",
    "            g = state_to_numpy(G.node[str(int(goal[i]))]['state'])\n",
    "            og = occ_grid[i]\n",
    "            path_nodes = str(line).split(\",\")\n",
    "            # print(path_nodes)\n",
    "            for path_node in path_nodes:\n",
    "                if(path_node=='-1'):\n",
    "                    continue\n",
    "                node_conf = state_to_numpy(G.node[path_node]['state'])\n",
    "                curr_node = np.array([])\n",
    "                # print(\"Data = \",node_conf, s, g, occ_grid)\n",
    "#                     print(\"\\n\")\n",
    "#                     print(\"node_conf = \", node_conf, \" s = \", s, \" g = \",g)\n",
    "\n",
    "                curr_node = np.concatenate((node_conf, s, g, og))\n",
    "#                     print(\"shape of curr_node = \", curr_node.shape)\n",
    "                all_data.append(curr_node)\n",
    "            i+=1\n",
    "    return all_data"
   ]
  },
  {
   "cell_type": "code",
   "execution_count": 2,
   "metadata": {},
   "outputs": [],
   "source": [
    "# Workspace problem with several narrow gaps\n",
    "\n",
    "import tensorflow as tf\n",
    "import numpy as np\n",
    "import matplotlib.pyplot as plt\n",
    "import matplotlib.patches as patches\n",
    "import matplotlib.gridspec as gridspec\n",
    "from mpl_toolkits.mplot3d import Axes3D\n",
    "import os\n",
    "import csv\n",
    "from random import randint, random\n",
    "import time\n",
    "\n",
    "# (restrict tensorflow memory growth)\n",
    "os.environ[\"CUDA_VISIBLE_DEVICES\"]=\"1\"\n",
    "config = tf.ConfigProto()\n",
    "config.gpu_options.allow_growth=True"
   ]
  },
  {
   "cell_type": "code",
   "execution_count": 3,
   "metadata": {},
   "outputs": [],
   "source": [
    "# neural network parameters\n",
    "mb_size = 256\n",
    "h_Q_dim = 512\n",
    "h_P_dim = 512\n",
    "\n",
    "c = 0\n",
    "# learning rate\n",
    "lr = 1e-4\n",
    "\n",
    "# problem dimensions\n",
    "dim = 2\n",
    "dataElements = dim*3 + 400 # sample (7D), init (7D), goal (7D), cond (occ_grid) //total = 206\n",
    "\n",
    "z_dim = 2 # latent\n",
    "X_dim = dim # samples\n",
    "y_dim = dim # reconstruction of the original point\n",
    "c_dim = dataElements - dim # dimension of conditioning variable"
   ]
  },
  {
   "cell_type": "code",
   "execution_count": 4,
   "metadata": {},
   "outputs": [
    {
     "name": "stdout",
     "output_type": "stream",
     "text": [
      "dataset_new\n",
      "('shape of array: ', (921, 406))\n"
     ]
    }
   ],
   "source": [
    "G = nx.read_graphml(\"graphs_2d/dense_graph.graphml\")\n",
    "data_dir = \"dataset_new\"\n",
    "\n",
    "directory = data_dir\n",
    "print(directory)\n",
    "final_data = []\n",
    "flag = 0\n",
    "\n",
    "data = np.array(process_it(G, directory))\n",
    "np.random.shuffle(data)\n",
    "print(\"shape of array: \",data.shape)\n",
    "\n",
    "numEntries = data.shape[0]"
   ]
  },
  {
   "cell_type": "code",
   "execution_count": 5,
   "metadata": {},
   "outputs": [
    {
     "name": "stdout",
     "output_type": "stream",
     "text": [
      "('data.shape = ', (921, 406))\n"
     ]
    }
   ],
   "source": [
    "print(\"data.shape = \", data.shape)"
   ]
  },
  {
   "cell_type": "code",
   "execution_count": 6,
   "metadata": {},
   "outputs": [
    {
     "name": "stdout",
     "output_type": "stream",
     "text": [
      "('shape of c_train1 = ', (92, 404))\n",
      "('shape of c_test1 = ', (829, 404))\n"
     ]
    }
   ],
   "source": [
    "# split the inputs and conditions into test train (to be processed in the next step into an occupancy grid representation)\n",
    "ratioTestTrain = 0.1;\n",
    "numTrain = int(numEntries*ratioTestTrain)\n",
    "\n",
    "X_train = data[0:numTrain,0:dim] # state: x, y, z, xdot, ydot, zdot\n",
    "c_train = data[0:numTrain,dim:dataElements] # conditions: gaps, init (6), goal (6)\n",
    "\n",
    "X_test = data[numTrain:numEntries,0:dim]\n",
    "c_test = data[numTrain:numEntries,dim:dataElements]\n",
    "\n",
    "#########################################################\n",
    "c_train1 = []\n",
    "c_test1 = []\n",
    "c_train1 = c_train\n",
    "c_test1 = c_test\n",
    "#########################################################\n",
    "numTest = X_test.shape[0]\n",
    "# print(data[:,:6])\n",
    "# print(c_test[:,:4])\n",
    "\n",
    "# print(\"shape of final obstacle = \",obs.shape)\n",
    "print(\"shape of c_train1 = \", c_train1.shape)\n",
    "print(\"shape of c_test1 = \",c_test1.shape)"
   ]
  },
  {
   "cell_type": "code",
   "execution_count": 7,
   "metadata": {},
   "outputs": [
    {
     "name": "stdout",
     "output_type": "stream",
     "text": [
      "('X_dim = ', 2)\n",
      "('c_dim = ', 404)\n"
     ]
    }
   ],
   "source": [
    "# define networks\n",
    "print(\"X_dim = \",X_dim)\n",
    "print(\"c_dim = \",c_dim)\n",
    "X = tf.placeholder(tf.float32, shape=[None, X_dim])\n",
    "c = tf.placeholder(tf.float32, shape=[None, c_dim])\n",
    "    \n",
    "# Q\n",
    "inputs_Q = tf.concat(axis=1, values=[X,c])\n",
    "\n",
    "dense_Q1 = tf.layers.dense(inputs=inputs_Q, units=h_Q_dim, activation=tf.nn.relu)\n",
    "dropout_Q1 = tf.layers.dropout(inputs=dense_Q1, rate=0.5)\n",
    "dense_Q2 = tf.layers.dense(inputs=dropout_Q1, units=h_Q_dim, activation=tf.nn.relu)\n",
    "\n",
    "z_mu = tf.layers.dense(inputs=dense_Q2, units=z_dim) # output here is z_mu\n",
    "z_logvar = tf.layers.dense(inputs=dense_Q2, units=z_dim) # output here is z_logvar\n",
    "\n",
    "# P\n",
    "eps = tf.random_normal(shape=tf.shape(z_mu))\n",
    "z = z_mu + tf.exp(z_logvar / 2) * eps\n",
    "inputs_P = tf.concat(axis=1, values=[z,c])\n",
    "\n",
    "dense_P1 = tf.layers.dense(inputs=inputs_P, units=h_P_dim, activation=tf.nn.relu)\n",
    "dropout_P1 = tf.layers.dropout(inputs=dense_P1, rate=0.5)\n",
    "dense_P2 = tf.layers.dense(inputs=dropout_P1, units=h_P_dim, activation=tf.nn.relu)\n",
    "\n",
    "y = tf.layers.dense(inputs=dense_P2, units=X_dim) # fix to also output y\n",
    "\n",
    "# training\n",
    "########### comment in the one with 0 weight and uncomment the other ###########\n",
    "w = [[1, 1]];\n",
    "# w = [[1, 1, 1, 0, 0, 0]];\n",
    "recon_loss = tf.losses.mean_squared_error(labels=X, predictions=y, weights=w)\n",
    "\n",
    "# TODO: fix loss function for angles going around\n",
    "kl_loss = 10**-4 * 2 * tf.reduce_sum(tf.exp(z_logvar) + z_mu**2 - 1. - z_logvar, 1)\n",
    "\n",
    "cvae_loss = tf.reduce_mean(kl_loss + recon_loss)\n",
    "\n",
    "train_step = tf.train.AdamOptimizer(lr).minimize(cvae_loss)\n",
    "\n",
    "sess = tf.Session(config=config)\n",
    "sess.run(tf.global_variables_initializer())\n",
    "it = 0;"
   ]
  },
  {
   "cell_type": "code",
   "execution_count": null,
   "metadata": {
    "scrolled": true
   },
   "outputs": [
    {
     "name": "stdout",
     "output_type": "stream",
     "text": [
      "('path = ', '/home/vernwalrahul/projects/Workspace_halton_2d/checkpoints_z2_1l/model.ckpt')\n",
      "('numTrain = ', 92)\n",
      "INFO:tensorflow:Restoring parameters from /home/vernwalrahul/projects/Workspace_halton_2d/checkpoints_z2_1l/model.ckpt\n",
      "Model Restored!!\n",
      "('z_dim = ', 2)\n",
      "('c_dim = ', 404)\n",
      "('c_train = ', (92, 404))\n",
      "Iter: 0\n",
      "Loss: 0.002171\n",
      "('recon_loss = ', 0.0004767545)\n",
      "('kl_loss = ', 0.0016941233)\n",
      "('saved session to ', '/home/vernwalrahul/projects/Workspace_halton_2d/checkpoints_z2_1l/model.ckpt')\n",
      "Iter: 1000\n",
      "Loss: 0.002141\n",
      "('recon_loss = ', 0.00060772756)\n",
      "('kl_loss = ', 0.0015336303)\n",
      "('saved session to ', '/home/vernwalrahul/projects/Workspace_halton_2d/checkpoints_z2_1l/model.ckpt')\n",
      "Iter: 2000\n",
      "Loss: 0.001902\n",
      "('recon_loss = ', 0.00045683054)\n",
      "('kl_loss = ', 0.0014450187)\n",
      "('saved session to ', '/home/vernwalrahul/projects/Workspace_halton_2d/checkpoints_z2_1l/model.ckpt')\n",
      "Iter: 3000\n",
      "Loss: 0.001693\n",
      "('recon_loss = ', 0.0005480411)\n",
      "('kl_loss = ', 0.0011450025)\n",
      "('saved session to ', '/home/vernwalrahul/projects/Workspace_halton_2d/checkpoints_z2_1l/model.ckpt')\n",
      "Iter: 4000\n",
      "Loss: 0.001459\n",
      "('recon_loss = ', 0.00043673467)\n",
      "('kl_loss = ', 0.0010219202)\n",
      "('saved session to ', '/home/vernwalrahul/projects/Workspace_halton_2d/checkpoints_z2_1l/model.ckpt')\n",
      "Iter: 5000\n",
      "Loss: 0.001448\n",
      "('recon_loss = ', 0.00043942156)\n",
      "('kl_loss = ', 0.0010082873)\n",
      "('saved session to ', '/home/vernwalrahul/projects/Workspace_halton_2d/checkpoints_z2_1l/model.ckpt')\n",
      "Iter: 6000\n",
      "Loss: 0.001255\n",
      "('recon_loss = ', 0.0003415303)\n",
      "('kl_loss = ', 0.0009132009)\n",
      "('saved session to ', '/home/vernwalrahul/projects/Workspace_halton_2d/checkpoints_z2_1l/model.ckpt')\n",
      "Iter: 7000\n",
      "Loss: 0.001342\n",
      "('recon_loss = ', 0.00046033252)\n",
      "('kl_loss = ', 0.00088134164)\n",
      "('saved session to ', '/home/vernwalrahul/projects/Workspace_halton_2d/checkpoints_z2_1l/model.ckpt')\n",
      "Iter: 8000\n",
      "Loss: 0.001268\n",
      "('recon_loss = ', 0.00043272658)\n",
      "('kl_loss = ', 0.00083518086)\n",
      "('saved session to ', '/home/vernwalrahul/projects/Workspace_halton_2d/checkpoints_z2_1l/model.ckpt')\n",
      "Iter: 9000\n",
      "Loss: 0.001096\n",
      "('recon_loss = ', 0.00032528947)\n",
      "('kl_loss = ', 0.00077114836)\n",
      "('saved session to ', '/home/vernwalrahul/projects/Workspace_halton_2d/checkpoints_z2_1l/model.ckpt')\n",
      "Iter: 10000\n",
      "Loss: 0.001043\n",
      "('recon_loss = ', 0.0002919361)\n",
      "('kl_loss = ', 0.0007505723)\n",
      "('saved session to ', '/home/vernwalrahul/projects/Workspace_halton_2d/checkpoints_z2_1l/model.ckpt')\n"
     ]
    }
   ],
   "source": [
    "saver = tf.train.Saver()\n",
    "path_ = os.getcwd() + \"/checkpoints_z2_1l/model.ckpt\"\n",
    "print(\"path = \",path_)\n",
    "print(\"numTrain = \",numTrain)\n",
    "try:\n",
    "    saver.restore(sess, path_)\n",
    "    print(\"Model Restored!!\")\n",
    "except Exception as e:\n",
    "    print(\"Could not restore checkpoint!\")\n",
    "    print(e)\n",
    "x1 = []\n",
    "y1 = []    \n",
    "print(\"z_dim = \", z_dim)\n",
    "print(\"c_dim = \", c_dim)\n",
    "print(\"c_train = \", c_train.shape)\n",
    "for it in range(it,it+600001):\n",
    "#     print(\"c_dim = \",c_dim)\n",
    "    # randomly generate batches\n",
    "    batch_elements = [randint(0,numTrain-1) for n in range(0,mb_size)]\n",
    "    X_mb = X_train[batch_elements,:]\n",
    "    c_mb = c_train1[batch_elements,:]\n",
    "\n",
    "    _, loss, r = sess.run([train_step, cvae_loss, recon_loss], feed_dict={X: X_mb, c: c_mb})\n",
    "\n",
    "    if it % 1000 == 0:\n",
    "        print('Iter: {}'.format(it))\n",
    "        print('Loss: {:.4}'. format(loss))\n",
    "        x1.append(it)\n",
    "        y1.append(loss)\n",
    "        print(\"recon_loss = \", r)\n",
    "        print(\"kl_loss = \", loss-r)\n",
    "    if it % 1000 == 0:    \n",
    "        saver.save(sess, path_)\n",
    "        print(\"saved session to \", path_)"
   ]
  },
  {
   "cell_type": "code",
   "execution_count": 102,
   "metadata": {},
   "outputs": [
    {
     "name": "stdout",
     "output_type": "stream",
     "text": [
      "('z_dim = ', 2)\n"
     ]
    }
   ],
   "source": [
    "print(\"z_dim = \",z_dim)"
   ]
  },
  {
   "cell_type": "code",
   "execution_count": 127,
   "metadata": {},
   "outputs": [
    {
     "name": "stdout",
     "output_type": "stream",
     "text": [
      "('c_test.shape = ', (12101, 404))\n",
      "2273\n",
      "('Training Sample = ', array([0.92039594, 0.22894554]))\n",
      "('init = ', array([0.92039594, 0.22894554]))\n",
      "('goal = ', array([0.12889204, 0.32588198]))\n",
      "('c_sample.shape = ', (100, 404))\n"
     ]
    },
    {
     "data": {
      "image/png": "[encoded data removed]",
      "text/plain": [
       "<matplotlib.figure.Figure at 0x7f940bed94d0>"
      ]
     },
     "metadata": {},
     "output_type": "display_data"
    }
   ],
   "source": [
    "# plot the latent space\n",
    "num_viz = 100\n",
    "print(\"c_test.shape = \",c_test.shape)\n",
    "# print(c_test[:,:4])\n",
    "vizIdx = randint(0,numTrain-1);\n",
    "vizIdx = 2273528\n",
    "print vizIdx\n",
    "c_sample_seed = c_train[vizIdx,:]\n",
    "occ_g = c_train[vizIdx,4:].reshape(20,20)\n",
    "ts = X_train[vizIdx,:2]\n",
    "print(\"Training Sample = \",ts)\n",
    "\n",
    "# print(c_sample_seed[:4])\n",
    "init = c_sample_seed[:2]\n",
    "print(\"init = \",init)\n",
    "goal = c_sample_seed[2:4]\n",
    "print(\"goal = \",goal)\n",
    "c_sample = np.repeat([c_sample_seed],num_viz,axis=0)\n",
    "\n",
    "print(\"c_sample.shape = \",c_sample.shape)\n",
    "# directly sample from the latent space (preferred, what we will use in the end)\n",
    "y_viz, z_viz = sess.run([y, z], feed_dict={z: np.random.randn(num_viz, z_dim), c: c_sample})\n",
    "\n",
    "fig1 = plt.figure(figsize=(10,6), dpi=80)\n",
    "ax1 = fig1.add_subplot(111, aspect='equal')\n",
    "\n",
    "plt.scatter(y_viz[:,1],y_viz[:,0], color=\"green\", s=20)\n",
    "\n",
    "for i in range(20):\n",
    "        for j in range(20):\n",
    "            if(occ_g[i,j]==0):\n",
    "                ax1.add_patch(patches.Rectangle(\n",
    "                (j/20.0, i/20.0),   # (x,y)\n",
    "                0.05,          # width\n",
    "                0.05,          # height\n",
    "                alpha=0.6\n",
    "                ))\n",
    "\n",
    "plt.scatter(init[1], init[0], color=\"red\", s=100, edgecolors='black') # init\n",
    "plt.scatter(goal[1], goal[0], color=\"blue\", s=100, edgecolors='black') # goal\n",
    "plt.scatter(ts[1], ts[0], color=\"orange\", s=50, edgecolors='black') # init\n",
    "\n",
    "plt.xlim(0,1)\n",
    "plt.ylim(0,1)\n",
    "\n",
    "plt.savefig(\"output_\"+str(vizIdx)+\".jpg\", bbox_inches='tight')\n",
    "plt.show()\n",
    "\n"
   ]
  },
  {
   "cell_type": "code",
   "execution_count": null,
   "metadata": {},
   "outputs": [],
   "source": []
  }
 ],
 "metadata": {
  "kernelspec": {
   "display_name": "Python 2",
   "language": "python",
   "name": "python2"
  },
  "language_info": {
   "codemirror_mode": {
    "name": "ipython",
    "version": 2
   },
   "file_extension": ".py",
   "mimetype": "text/x-python",
   "name": "python",
   "nbconvert_exporter": "python",
   "pygments_lexer": "ipython2",
   "version": "2.7.12"
  }
 },
 "nbformat": 4,
 "nbformat_minor": 1
}
