{
 "metadata": {
  "name": ""
 },
 "nbformat": 3,
 "nbformat_minor": 0,
 "worksheets": [
  {
   "cells": [
    {
     "cell_type": "code",
     "collapsed": false,
     "input": [
      "#Pre-Processing\n",
      "\n",
      "import os\n",
      "import argparse\n",
      "import networkx as nx\n",
      "import math        \n",
      "import numpy as np\n",
      "\n",
      "def state_to_numpy(state):\n",
      "    strlist = state.split()\n",
      "    val_list = [float(s) for s in strlist]\n",
      "    return np.array(val_list)\n",
      "\n",
      "def list_all_dir(data_dir):\n",
      "    task_dirs = os.listdir(data_dir)\n",
      "\n",
      "    list_dir = []\n",
      "    for task_dir in task_dirs:\n",
      "        env_dirs = os.listdir(data_dir+\"/\"+task_dir)\n",
      "        for env_dir in env_dirs:\n",
      "            list_dir.append(data_dir +\"/\"+ task_dir +\"/\"+ env_dir)\n",
      "    return list_dir  \n",
      "\n",
      "def process_it(G, directory):\n",
      "    start = np.loadtxt(directory+\"/start_nodes.txt\")\n",
      "    goal = np.loadtxt(directory+\"/goal_nodes.txt\")\n",
      "    occ_grid = np.loadtxt(directory+\"/occ_grid.txt\")\n",
      "    # occ_grid = occ_grid.split(\",\")\n",
      "    path_nodes = []\n",
      "    i = 0\n",
      "    all_data = []\n",
      "    with open(directory + \"/path_nodes.txt\", 'r') as file:\n",
      "        lines  = file.readlines()\n",
      "        for line in lines:\n",
      "            line = line.strip('\\n')\n",
      "#             print(line)\n",
      "#             print(\"\\n\\n\")\n",
      "            \n",
      "            s = state_to_numpy(G.node[str(int(start[i]))]['state'])\n",
      "            g = state_to_numpy(G.node[str(int(goal[i]))]['state'])\n",
      "            og = occ_grid[i]\n",
      "            path_nodes = str(line).split(\",\")\n",
      "            # print(path_nodes)\n",
      "            for path_node in path_nodes:\n",
      "                if(path_node=='-1'):\n",
      "                    continue\n",
      "                node_conf = state_to_numpy(G.node[path_node]['state'])\n",
      "                curr_node = np.array([])\n",
      "                # print(\"Data = \",node_conf, s, g, occ_grid)\n",
      "#                     print(\"\\n\")\n",
      "#                     print(\"node_conf = \", node_conf, \" s = \", s, \" g = \",g)\n",
      "\n",
      "                curr_node = np.concatenate((node_conf, s, g, og))\n",
      "#                     print(\"shape of curr_node = \", curr_node.shape)\n",
      "                all_data.append(curr_node)\n",
      "            i+=1\n",
      "    return all_data"
     ],
     "language": "python",
     "metadata": {},
     "outputs": [],
     "prompt_number": 1
    },
    {
     "cell_type": "code",
     "collapsed": false,
     "input": [
      "# Workspace problem with several narrow gaps\n",
      "\n",
      "import tensorflow as tf\n",
      "import numpy as np\n",
      "import matplotlib.pyplot as plt\n",
      "import matplotlib.patches as patches\n",
      "import matplotlib.gridspec as gridspec\n",
      "from mpl_toolkits.mplot3d import Axes3D\n",
      "import os\n",
      "import csv\n",
      "from random import randint, random, seed\n",
      "import time\n",
      "\n",
      "# (restrict tensorflow memory growth)\n",
      "os.environ[\"CUDA_VISIBLE_DEVICES\"]=\"1\"\n",
      "config = tf.ConfigProto()\n",
      "config.gpu_options.allow_growth=True\n",
      "\n",
      "# neural network parameters\n",
      "mb_size = 256\n",
      "h_Q_dim = 512\n",
      "h_P_dim = 512\n",
      "\n",
      "c = 0\n",
      "# learning rate\n",
      "lr = 1e-4\n",
      "\n",
      "# problem dimensions\n",
      "dim = 2\n",
      "dataElements = dim*3 + 100 # sample (2D), init(2D), goal(2D), occup_grid(400) \n",
      "\n",
      "z_dim = 2 # latent\n",
      "X_dim = dim # samples\n",
      "y_dim = dim # reconstruction of the original point\n",
      "c_dim = dataElements - dim # dimension of conditioning variable"
     ],
     "language": "python",
     "metadata": {},
     "outputs": [],
     "prompt_number": 2
    },
    {
     "cell_type": "code",
     "collapsed": false,
     "input": [
      "G = nx.read_graphml(\"graphs/dense_graph.graphml\")\n",
      "data_dir = \"dataset\"\n",
      "\n",
      "directory = data_dir\n",
      "print(directory)\n",
      "final_data = []\n",
      "flag = 0\n",
      "\n",
      "data = np.array(process_it(G, directory))\n",
      "\n",
      "# np.random.shuffle(data)\n",
      "print(\"shape of array: \",data.shape)\n",
      "\n",
      "numEntries = data.shape[0]"
     ],
     "language": "python",
     "metadata": {},
     "outputs": [
      {
       "output_type": "stream",
       "stream": "stdout",
       "text": [
        "dataset\n",
        "('shape of array: ', (39848, 106))"
       ]
      },
      {
       "output_type": "stream",
       "stream": "stdout",
       "text": [
        "\n"
       ]
      }
     ],
     "prompt_number": 3
    },
    {
     "cell_type": "code",
     "collapsed": false,
     "input": [
      "# split the inputs and conditions into test train (to be processed in the next step into an occupancy grid representation)\n",
      "ratioTestTrain = 0.4;\n",
      "numTrain = int(numEntries*ratioTestTrain)\n",
      "\n",
      "X_train = data[0:numTrain,0:dim] # state: x, y, z, xdot, ydot, zdot\n",
      "c_train = data[0:numTrain,dim:dataElements] # conditions: gaps, init (6), goal (6)\n",
      "# print(\"c_train = \",c_train[:,:4])\n",
      "\n",
      "X_test = data[numTrain:numEntries,0:dim]\n",
      "c_test = data[numTrain:numEntries,dim:dataElements]\n",
      "\n",
      "#########################################################\n",
      "c_train1 = []\n",
      "c_test1 = []\n",
      "c_train1 = c_train\n",
      "c_test1 = c_test\n",
      "#########################################################\n",
      "numTest = X_test.shape[0]\n",
      "# print(data[:,:6])\n",
      "# print(c_test[:,:4])\n",
      "\n",
      "# print(\"shape of final obstacle = \",obs.shape)\n",
      "print(\"shape of c_train1 = \", c_train1.shape)\n",
      "print(\"shape of c_test1 = \",c_test1.shape)"
     ],
     "language": "python",
     "metadata": {},
     "outputs": [
      {
       "output_type": "stream",
       "stream": "stdout",
       "text": [
        "('shape of c_train1 = ', (15939, 104))\n",
        "('shape of c_test1 = ', (23909, 104))\n"
       ]
      }
     ],
     "prompt_number": 4
    },
    {
     "cell_type": "code",
     "collapsed": false,
     "input": [
      "# define networks\n",
      "print(\"X_dim = \",X_dim)\n",
      "print(\"c_dim = \",c_dim)\n",
      "tf.reset_default_graph()\n",
      "X = tf.placeholder(tf.float32, shape=[None, X_dim])\n",
      "c = tf.placeholder(tf.float32, shape=[None, c_dim])\n",
      "    \n",
      "# Q\n",
      "inputs_Q = tf.concat(axis=1, values=[X,c])\n",
      "\n",
      "dense_Q1 = tf.layers.dense(inputs=inputs_Q, units=h_Q_dim, activation=tf.nn.relu)\n",
      "dropout_Q1 = tf.layers.dropout(inputs=dense_Q1, rate=0.5)\n",
      "dense_Q2 = tf.layers.dense(inputs=dropout_Q1, units=h_Q_dim, activation=tf.nn.relu)\n",
      "\n",
      "z_mu = tf.layers.dense(inputs=dense_Q2, units=z_dim) # output here is z_mu\n",
      "z_logvar = tf.layers.dense(inputs=dense_Q2, units=z_dim) # output here is z_logvar\n",
      "\n",
      "# P\n",
      "eps = tf.random_normal(shape=tf.shape(z_mu))\n",
      "z = z_mu + tf.exp(z_logvar / 2) * eps\n",
      "inputs_P = tf.concat(axis=1, values=[z,c])\n",
      "\n",
      "dense_P1 = tf.layers.dense(inputs=inputs_P, units=h_P_dim, activation=tf.nn.relu)\n",
      "dropout_P1 = tf.layers.dropout(inputs=dense_P1, rate=0.5)\n",
      "dense_P2 = tf.layers.dense(inputs=dropout_P1, units=h_P_dim, activation=tf.nn.relu)\n",
      "\n",
      "y = tf.layers.dense(inputs=dense_P2, units=X_dim) # fix to also output y\n",
      "\n",
      "# training\n",
      "########### comment in the one with 0 weight and uncomment the other ###########\n",
      "w = [[1, 1]];\n",
      "# w = [[1, 1, 1, 0, 0, 0]];\n",
      "recon_loss = tf.losses.mean_squared_error(labels=X, predictions=y, weights=w)\n",
      "\n",
      "# TODO: fix loss function for angles going around\n",
      "kl_loss = 10**-4 * 2 * tf.reduce_sum(tf.exp(z_logvar) + z_mu**2 - 1. - z_logvar, 1)\n",
      "\n",
      "cvae_loss = tf.reduce_mean(kl_loss + recon_loss)\n",
      "\n",
      "train_step = tf.train.AdamOptimizer(lr).minimize(cvae_loss)\n",
      "\n",
      "sess = tf.Session(config=config)\n",
      "sess.run(tf.global_variables_initializer())\n",
      "it = 0;"
     ],
     "language": "python",
     "metadata": {},
     "outputs": [
      {
       "output_type": "stream",
       "stream": "stdout",
       "text": [
        "('X_dim = ', 2)\n",
        "('c_dim = ', 104)\n"
       ]
      }
     ],
     "prompt_number": 5
    },
    {
     "cell_type": "code",
     "collapsed": false,
     "input": [
      "saver = tf.train.Saver()\n",
      "path_ = os.getcwd() + \"/checkpoints_NS_less/model.ckpt\"\n",
      "print(\"path = \",path_)\n",
      "print(\"numTrain = \",numTrain)\n",
      "try:\n",
      "    saver.restore(sess, path_)\n",
      "    print(\"Model Restored!!\")\n",
      "except Exception as e:\n",
      "    print(\"Could not restore checkpoint!\")\n",
      "    print(e)\n",
      "x1 = []\n",
      "y1 = []    \n",
      "print(\"z_dim = \", z_dim)\n",
      "print(\"c_dim = \", c_dim)\n",
      "print(\"c_train = \", c_train.shape)\n",
      "for it in range(it,it+600001):\n",
      "#     print(\"c_dim = \",c_dim)\n",
      "    # randomly generate batches\n",
      "    batch_elements = [randint(0,numTrain-1) for n in range(0,mb_size)]\n",
      "    X_mb = X_train[batch_elements,:]\n",
      "    c_mb = c_train1[batch_elements,:]\n",
      "\n",
      "    _, loss, r = sess.run([train_step, cvae_loss, recon_loss], feed_dict={X: X_mb, c: c_mb})\n",
      "\n",
      "    if it % 1000 == 0:\n",
      "        print('Iter: {}'.format(it))\n",
      "        print('Loss: {:.4}'. format(loss))\n",
      "        x1.append(it)\n",
      "        y1.append(loss)\n",
      "        print(\"recon_loss = \", r)\n",
      "    if it % 1000 == 0:    \n",
      "        saver.save(sess, path_)\n",
      "        print(\"saved session to \", path_)"
     ],
     "language": "python",
     "metadata": {},
     "outputs": [
      {
       "output_type": "stream",
       "stream": "stdout",
       "text": [
        "('path = ', '/home/vernwalrahul/projects/WorkSpace_Hlaton_2D/checkpoints_NS_less/model.ckpt')\n",
        "('numTrain = ', 15939)\n",
        "Could not restore checkpoint!"
       ]
      },
      {
       "output_type": "stream",
       "stream": "stdout",
       "text": [
        "\n",
        "Unsuccessful TensorSliceReader constructor: Failed to get matching files on /home/vernwalrahul/projects/WorkSpace_Hlaton_2D/checkpoints_NS_less/model.ckpt: Not found: /home/vernwalrahul/projects/WorkSpace_Hlaton_2D/checkpoints_NS_less; No such file or directory\n",
        "\t [[Node: save/RestoreV2 = RestoreV2[dtypes=[DT_FLOAT, DT_FLOAT, DT_FLOAT, DT_FLOAT, DT_FLOAT, ..., DT_FLOAT, DT_FLOAT, DT_FLOAT, DT_FLOAT, DT_FLOAT], _device=\"/job:localhost/replica:0/task:0/device:CPU:0\"](_arg_save/Const_0_0, save/RestoreV2/tensor_names, save/RestoreV2/shape_and_slices)]]\n",
        "\n",
        "Caused by op u'save/RestoreV2', defined at:\n",
        "  File \"<string>\", line 1, in <module>\n",
        "  File \"/usr/lib/python2.7/dist-packages/IPython/kernel/zmq/kernelapp.py\", line 468, in main\n",
        "    app.start()\n",
        "  File \"/usr/lib/python2.7/dist-packages/IPython/kernel/zmq/kernelapp.py\", line 458, in start\n",
        "    ioloop.IOLoop.instance().start()\n",
        "  File \"/usr/lib/python2.7/dist-packages/zmq/eventloop/ioloop.py\", line 160, in start\n",
        "    super(ZMQIOLoop, self).start()\n",
        "  File \"/usr/lib/python2.7/dist-packages/tornado/ioloop.py\", line 672, in start\n",
        "    self._handlers[fd](fd, events)\n",
        "  File \"/usr/lib/python2.7/dist-packages/tornado/stack_context.py\", line 302, in wrapped\n",
        "    ret = fn(*args, **kwargs)\n",
        "  File \"/usr/lib/python2.7/dist-packages/zmq/eventloop/zmqstream.py\", line 433, in _handle_events\n",
        "    self._handle_recv()\n",
        "  File \"/usr/lib/python2.7/dist-packages/zmq/eventloop/zmqstream.py\", line 465, in _handle_recv\n",
        "    self._run_callback(callback, msg)\n",
        "  File \"/usr/lib/python2.7/dist-packages/zmq/eventloop/zmqstream.py\", line 407, in _run_callback\n",
        "    callback(*args, **kwargs)\n",
        "  File \"/usr/lib/python2.7/dist-packages/tornado/stack_context.py\", line 302, in wrapped\n",
        "    ret = fn(*args, **kwargs)\n",
        "  File \"/usr/lib/python2.7/dist-packages/IPython/kernel/zmq/ipkernel.py\", line 279, in dispatcher\n",
        "    return self.dispatch_shell(stream, msg)\n",
        "  File \"/usr/lib/python2.7/dist-packages/IPython/kernel/zmq/ipkernel.py\", line 247, in dispatch_shell\n",
        "    handler(stream, idents, msg)\n",
        "  File \"/usr/lib/python2.7/dist-packages/IPython/kernel/zmq/ipkernel.py\", line 396, in execute_request\n",
        "    shell.run_cell(code, store_history=store_history, silent=silent)\n",
        "  File \"/usr/lib/python2.7/dist-packages/IPython/core/interactiveshell.py\", line 2660, in run_cell\n",
        "    interactivity=interactivity, compiler=compiler)\n",
        "  File \"/usr/lib/python2.7/dist-packages/IPython/core/interactiveshell.py\", line 2764, in run_ast_nodes\n",
        "    if self.run_code(code):\n",
        "  File \"/usr/lib/python2.7/dist-packages/IPython/core/interactiveshell.py\", line 2820, in run_code\n",
        "    exec code_obj in self.user_global_ns, self.user_ns\n",
        "  File \"<ipython-input-6-d9c4f82879a5>\", line 1, in <module>\n",
        "    saver = tf.train.Saver()\n",
        "  File \"/usr/local/lib/python2.7/dist-packages/tensorflow/python/training/saver.py\", line 1338, in __init__\n",
        "    self.build()\n",
        "  File \"/usr/local/lib/python2.7/dist-packages/tensorflow/python/training/saver.py\", line 1347, in build\n",
        "    self._build(self._filename, build_save=True, build_restore=True)\n",
        "  File \"/usr/local/lib/python2.7/dist-packages/tensorflow/python/training/saver.py\", line 1384, in _build\n",
        "    build_save=build_save, build_restore=build_restore)\n",
        "  File \"/usr/local/lib/python2.7/dist-packages/tensorflow/python/training/saver.py\", line 835, in _build_internal\n",
        "    restore_sequentially, reshape)\n",
        "  File \"/usr/local/lib/python2.7/dist-packages/tensorflow/python/training/saver.py\", line 472, in _AddRestoreOps\n",
        "    restore_sequentially)\n",
        "  File \"/usr/local/lib/python2.7/dist-packages/tensorflow/python/training/saver.py\", line 886, in bulk_restore\n",
        "    return io_ops.restore_v2(filename_tensor, names, slices, dtypes)\n",
        "  File \"/usr/local/lib/python2.7/dist-packages/tensorflow/python/ops/gen_io_ops.py\", line 1463, in restore_v2\n",
        "    shape_and_slices=shape_and_slices, dtypes=dtypes, name=name)\n",
        "  File \"/usr/local/lib/python2.7/dist-packages/tensorflow/python/framework/op_def_library.py\", line 787, in _apply_op_helper\n",
        "    op_def=op_def)\n",
        "  File \"/usr/local/lib/python2.7/dist-packages/tensorflow/python/framework/ops.py\", line 3392, in create_op\n",
        "    op_def=op_def)\n",
        "  File \"/usr/local/lib/python2.7/dist-packages/tensorflow/python/framework/ops.py\", line 1718, in __init__\n",
        "    self._traceback = self._graph._extract_stack()  # pylint: disable=protected-access\n",
        "\n",
        "InvalidArgumentError (see above for traceback): Unsuccessful TensorSliceReader constructor: Failed to get matching files on /home/vernwalrahul/projects/WorkSpace_Hlaton_2D/checkpoints_NS_less/model.ckpt: Not found: /home/vernwalrahul/projects/WorkSpace_Hlaton_2D/checkpoints_NS_less; No such file or directory\n",
        "\t [[Node: save/RestoreV2 = RestoreV2[dtypes=[DT_FLOAT, DT_FLOAT, DT_FLOAT, DT_FLOAT, DT_FLOAT, ..., DT_FLOAT, DT_FLOAT, DT_FLOAT, DT_FLOAT, DT_FLOAT], _device=\"/job:localhost/replica:0/task:0/device:CPU:0\"](_arg_save/Const_0_0, save/RestoreV2/tensor_names, save/RestoreV2/shape_and_slices)]]\n"
       ]
      },
      {
       "output_type": "stream",
       "stream": "stdout",
       "text": [
        "\n",
        "('z_dim = ', 2)\n",
        "('c_dim = ', 104)\n",
        "('c_train = ', (15939, 104))\n",
        "Iter: 0"
       ]
      },
      {
       "output_type": "stream",
       "stream": "stdout",
       "text": [
        "\n",
        "Loss: 0.4921\n",
        "('recon_loss = ', 0.49208862)\n",
        "('saved session to ', '/home/vernwalrahul/projects/WorkSpace_Hlaton_2D/checkpoints_NS_less/model.ckpt')"
       ]
      },
      {
       "output_type": "stream",
       "stream": "stdout",
       "text": [
        "\n",
        "Iter: 1000"
       ]
      },
      {
       "output_type": "stream",
       "stream": "stdout",
       "text": [
        "\n",
        "Loss: 0.002751\n",
        "('recon_loss = ', 0.00070360984)\n",
        "('saved session to ', '/home/vernwalrahul/projects/WorkSpace_Hlaton_2D/checkpoints_NS_less/model.ckpt')"
       ]
      },
      {
       "output_type": "stream",
       "stream": "stdout",
       "text": [
        "\n",
        "Iter: 2000"
       ]
      },
      {
       "output_type": "stream",
       "stream": "stdout",
       "text": [
        "\n",
        "Loss: 0.002501\n",
        "('recon_loss = ', 0.00055816484)\n",
        "('saved session to ', '/home/vernwalrahul/projects/WorkSpace_Hlaton_2D/checkpoints_NS_less/model.ckpt')"
       ]
      },
      {
       "output_type": "stream",
       "stream": "stdout",
       "text": [
        "\n",
        "Iter: 3000"
       ]
      },
      {
       "output_type": "stream",
       "stream": "stdout",
       "text": [
        "\n",
        "Loss: 0.002506\n",
        "('recon_loss = ', 0.0006251896)\n",
        "('saved session to ', '/home/vernwalrahul/projects/WorkSpace_Hlaton_2D/checkpoints_NS_less/model.ckpt')"
       ]
      },
      {
       "output_type": "stream",
       "stream": "stdout",
       "text": [
        "\n",
        "Iter: 4000"
       ]
      },
      {
       "output_type": "stream",
       "stream": "stdout",
       "text": [
        "\n",
        "Loss: 0.002302\n",
        "('recon_loss = ', 0.0004894963)\n",
        "('saved session to ', '/home/vernwalrahul/projects/WorkSpace_Hlaton_2D/checkpoints_NS_less/model.ckpt')"
       ]
      },
      {
       "output_type": "stream",
       "stream": "stdout",
       "text": [
        "\n",
        "Iter: 5000"
       ]
      },
      {
       "output_type": "stream",
       "stream": "stdout",
       "text": [
        "\n",
        "Loss: 0.00248\n",
        "('recon_loss = ', 0.00069785095)\n",
        "('saved session to ', '/home/vernwalrahul/projects/WorkSpace_Hlaton_2D/checkpoints_NS_less/model.ckpt')"
       ]
      },
      {
       "output_type": "stream",
       "stream": "stdout",
       "text": [
        "\n",
        "Iter: 6000"
       ]
      },
      {
       "output_type": "stream",
       "stream": "stdout",
       "text": [
        "\n",
        "Loss: 0.002239\n",
        "('recon_loss = ', 0.0004515851)\n",
        "('saved session to ', '/home/vernwalrahul/projects/WorkSpace_Hlaton_2D/checkpoints_NS_less/model.ckpt')"
       ]
      },
      {
       "output_type": "stream",
       "stream": "stdout",
       "text": [
        "\n",
        "Iter: 7000"
       ]
      },
      {
       "output_type": "stream",
       "stream": "stdout",
       "text": [
        "\n",
        "Loss: 0.002202\n",
        "('recon_loss = ', 0.00047920883)\n",
        "('saved session to ', '/home/vernwalrahul/projects/WorkSpace_Hlaton_2D/checkpoints_NS_less/model.ckpt')"
       ]
      },
      {
       "output_type": "stream",
       "stream": "stdout",
       "text": [
        "\n",
        "Iter: 8000"
       ]
      },
      {
       "output_type": "stream",
       "stream": "stdout",
       "text": [
        "\n",
        "Loss: 0.002186\n",
        "('recon_loss = ', 0.00041729352)\n",
        "('saved session to ', '/home/vernwalrahul/projects/WorkSpace_Hlaton_2D/checkpoints_NS_less/model.ckpt')"
       ]
      },
      {
       "output_type": "stream",
       "stream": "stdout",
       "text": [
        "\n",
        "Iter: 9000"
       ]
      },
      {
       "output_type": "stream",
       "stream": "stdout",
       "text": [
        "\n",
        "Loss: 0.002275\n",
        "('recon_loss = ', 0.00057842344)\n",
        "('saved session to ', '/home/vernwalrahul/projects/WorkSpace_Hlaton_2D/checkpoints_NS_less/model.ckpt')"
       ]
      },
      {
       "output_type": "stream",
       "stream": "stdout",
       "text": [
        "\n",
        "Iter: 10000"
       ]
      },
      {
       "output_type": "stream",
       "stream": "stdout",
       "text": [
        "\n",
        "Loss: 0.002347\n",
        "('recon_loss = ', 0.0006601895)\n",
        "('saved session to ', '/home/vernwalrahul/projects/WorkSpace_Hlaton_2D/checkpoints_NS_less/model.ckpt')"
       ]
      },
      {
       "output_type": "stream",
       "stream": "stdout",
       "text": [
        "\n",
        "Iter: 11000"
       ]
      },
      {
       "output_type": "stream",
       "stream": "stdout",
       "text": [
        "\n",
        "Loss: 0.002144\n",
        "('recon_loss = ', 0.00046022952)\n",
        "('saved session to ', '/home/vernwalrahul/projects/WorkSpace_Hlaton_2D/checkpoints_NS_less/model.ckpt')"
       ]
      },
      {
       "output_type": "stream",
       "stream": "stdout",
       "text": [
        "\n",
        "Iter: 12000"
       ]
      },
      {
       "output_type": "stream",
       "stream": "stdout",
       "text": [
        "\n",
        "Loss: 0.002263\n",
        "('recon_loss = ', 0.0005885451)\n",
        "('saved session to ', '/home/vernwalrahul/projects/WorkSpace_Hlaton_2D/checkpoints_NS_less/model.ckpt')"
       ]
      },
      {
       "output_type": "stream",
       "stream": "stdout",
       "text": [
        "\n",
        "Iter: 13000"
       ]
      },
      {
       "output_type": "stream",
       "stream": "stdout",
       "text": [
        "\n",
        "Loss: 0.002126\n",
        "('recon_loss = ', 0.00045551956)\n",
        "('saved session to ', '/home/vernwalrahul/projects/WorkSpace_Hlaton_2D/checkpoints_NS_less/model.ckpt')"
       ]
      },
      {
       "output_type": "stream",
       "stream": "stdout",
       "text": [
        "\n",
        "Iter: 14000"
       ]
      },
      {
       "output_type": "stream",
       "stream": "stdout",
       "text": [
        "\n",
        "Loss: 0.002108\n",
        "('recon_loss = ', 0.0004952345)\n",
        "('saved session to ', '/home/vernwalrahul/projects/WorkSpace_Hlaton_2D/checkpoints_NS_less/model.ckpt')"
       ]
      },
      {
       "output_type": "stream",
       "stream": "stdout",
       "text": [
        "\n",
        "Iter: 15000"
       ]
      },
      {
       "output_type": "stream",
       "stream": "stdout",
       "text": [
        "\n",
        "Loss: 0.002058\n",
        "('recon_loss = ', 0.00046520555)\n",
        "('saved session to ', '/home/vernwalrahul/projects/WorkSpace_Hlaton_2D/checkpoints_NS_less/model.ckpt')"
       ]
      },
      {
       "output_type": "stream",
       "stream": "stdout",
       "text": [
        "\n",
        "Iter: 16000"
       ]
      },
      {
       "output_type": "stream",
       "stream": "stdout",
       "text": [
        "\n",
        "Loss: 0.002181\n",
        "('recon_loss = ', 0.0005308982)\n",
        "('saved session to ', '/home/vernwalrahul/projects/WorkSpace_Hlaton_2D/checkpoints_NS_less/model.ckpt')"
       ]
      },
      {
       "output_type": "stream",
       "stream": "stdout",
       "text": [
        "\n",
        "Iter: 17000"
       ]
      },
      {
       "output_type": "stream",
       "stream": "stdout",
       "text": [
        "\n",
        "Loss: 0.002145\n",
        "('recon_loss = ', 0.00051295443)\n",
        "('saved session to ', '/home/vernwalrahul/projects/WorkSpace_Hlaton_2D/checkpoints_NS_less/model.ckpt')"
       ]
      },
      {
       "output_type": "stream",
       "stream": "stdout",
       "text": [
        "\n",
        "Iter: 18000"
       ]
      },
      {
       "output_type": "stream",
       "stream": "stdout",
       "text": [
        "\n",
        "Loss: 0.002169\n",
        "('recon_loss = ', 0.0005269046)\n",
        "('saved session to ', '/home/vernwalrahul/projects/WorkSpace_Hlaton_2D/checkpoints_NS_less/model.ckpt')"
       ]
      },
      {
       "output_type": "stream",
       "stream": "stdout",
       "text": [
        "\n",
        "Iter: 19000"
       ]
      },
      {
       "output_type": "stream",
       "stream": "stdout",
       "text": [
        "\n",
        "Loss: 0.002289\n",
        "('recon_loss = ', 0.00066926144)\n",
        "('saved session to ', '/home/vernwalrahul/projects/WorkSpace_Hlaton_2D/checkpoints_NS_less/model.ckpt')"
       ]
      },
      {
       "output_type": "stream",
       "stream": "stdout",
       "text": [
        "\n",
        "Iter: 20000"
       ]
      },
      {
       "output_type": "stream",
       "stream": "stdout",
       "text": [
        "\n",
        "Loss: 0.002058\n",
        "('recon_loss = ', 0.00043405307)\n",
        "('saved session to ', '/home/vernwalrahul/projects/WorkSpace_Hlaton_2D/checkpoints_NS_less/model.ckpt')"
       ]
      },
      {
       "output_type": "stream",
       "stream": "stdout",
       "text": [
        "\n",
        "Iter: 21000"
       ]
      },
      {
       "output_type": "stream",
       "stream": "stdout",
       "text": [
        "\n",
        "Loss: 0.002221\n",
        "('recon_loss = ', 0.00056650717)\n",
        "('saved session to ', '/home/vernwalrahul/projects/WorkSpace_Hlaton_2D/checkpoints_NS_less/model.ckpt')"
       ]
      },
      {
       "output_type": "stream",
       "stream": "stdout",
       "text": [
        "\n",
        "Iter: 22000"
       ]
      },
      {
       "output_type": "stream",
       "stream": "stdout",
       "text": [
        "\n",
        "Loss: 0.002073\n",
        "('recon_loss = ', 0.0004202259)\n",
        "('saved session to ', '/home/vernwalrahul/projects/WorkSpace_Hlaton_2D/checkpoints_NS_less/model.ckpt')"
       ]
      },
      {
       "output_type": "stream",
       "stream": "stdout",
       "text": [
        "\n",
        "Iter: 23000"
       ]
      },
      {
       "output_type": "stream",
       "stream": "stdout",
       "text": [
        "\n",
        "Loss: 0.00239\n",
        "('recon_loss = ', 0.00080449256)\n",
        "('saved session to ', '/home/vernwalrahul/projects/WorkSpace_Hlaton_2D/checkpoints_NS_less/model.ckpt')"
       ]
      },
      {
       "output_type": "stream",
       "stream": "stdout",
       "text": [
        "\n",
        "Iter: 24000"
       ]
      },
      {
       "output_type": "stream",
       "stream": "stdout",
       "text": [
        "\n",
        "Loss: 0.002175\n",
        "('recon_loss = ', 0.000585303)\n",
        "('saved session to ', '/home/vernwalrahul/projects/WorkSpace_Hlaton_2D/checkpoints_NS_less/model.ckpt')"
       ]
      },
      {
       "output_type": "stream",
       "stream": "stdout",
       "text": [
        "\n",
        "Iter: 25000"
       ]
      },
      {
       "output_type": "stream",
       "stream": "stdout",
       "text": [
        "\n",
        "Loss: 0.002013\n",
        "('recon_loss = ', 0.00041655693)\n",
        "('saved session to ', '/home/vernwalrahul/projects/WorkSpace_Hlaton_2D/checkpoints_NS_less/model.ckpt')"
       ]
      },
      {
       "output_type": "stream",
       "stream": "stdout",
       "text": [
        "\n",
        "Iter: 26000"
       ]
      },
      {
       "output_type": "stream",
       "stream": "stdout",
       "text": [
        "\n",
        "Loss: 0.00211\n",
        "('recon_loss = ', 0.00048657594)\n",
        "('saved session to ', '/home/vernwalrahul/projects/WorkSpace_Hlaton_2D/checkpoints_NS_less/model.ckpt')"
       ]
      },
      {
       "output_type": "stream",
       "stream": "stdout",
       "text": [
        "\n",
        "Iter: 27000"
       ]
      },
      {
       "output_type": "stream",
       "stream": "stdout",
       "text": [
        "\n",
        "Loss: 0.00207\n",
        "('recon_loss = ', 0.00048452843)\n",
        "('saved session to ', '/home/vernwalrahul/projects/WorkSpace_Hlaton_2D/checkpoints_NS_less/model.ckpt')"
       ]
      },
      {
       "output_type": "stream",
       "stream": "stdout",
       "text": [
        "\n",
        "Iter: 28000"
       ]
      },
      {
       "output_type": "stream",
       "stream": "stdout",
       "text": [
        "\n",
        "Loss: 0.002163\n",
        "('recon_loss = ', 0.00060317246)\n",
        "('saved session to ', '/home/vernwalrahul/projects/WorkSpace_Hlaton_2D/checkpoints_NS_less/model.ckpt')"
       ]
      },
      {
       "output_type": "stream",
       "stream": "stdout",
       "text": [
        "\n",
        "Iter: 29000"
       ]
      },
      {
       "output_type": "stream",
       "stream": "stdout",
       "text": [
        "\n",
        "Loss: 0.002222\n",
        "('recon_loss = ', 0.00064584083)\n",
        "('saved session to ', '/home/vernwalrahul/projects/WorkSpace_Hlaton_2D/checkpoints_NS_less/model.ckpt')"
       ]
      },
      {
       "output_type": "stream",
       "stream": "stdout",
       "text": [
        "\n",
        "Iter: 30000"
       ]
      },
      {
       "output_type": "stream",
       "stream": "stdout",
       "text": [
        "\n",
        "Loss: 0.002085\n",
        "('recon_loss = ', 0.00045663535)\n",
        "('saved session to ', '/home/vernwalrahul/projects/WorkSpace_Hlaton_2D/checkpoints_NS_less/model.ckpt')"
       ]
      },
      {
       "output_type": "stream",
       "stream": "stdout",
       "text": [
        "\n",
        "Iter: 31000"
       ]
      },
      {
       "output_type": "stream",
       "stream": "stdout",
       "text": [
        "\n",
        "Loss: 0.002172\n",
        "('recon_loss = ', 0.0005762059)\n",
        "('saved session to ', '/home/vernwalrahul/projects/WorkSpace_Hlaton_2D/checkpoints_NS_less/model.ckpt')"
       ]
      },
      {
       "output_type": "stream",
       "stream": "stdout",
       "text": [
        "\n",
        "Iter: 32000"
       ]
      },
      {
       "output_type": "stream",
       "stream": "stdout",
       "text": [
        "\n",
        "Loss: 0.002055\n",
        "('recon_loss = ', 0.00047647904)\n",
        "('saved session to ', '/home/vernwalrahul/projects/WorkSpace_Hlaton_2D/checkpoints_NS_less/model.ckpt')"
       ]
      },
      {
       "output_type": "stream",
       "stream": "stdout",
       "text": [
        "\n",
        "Iter: 33000"
       ]
      },
      {
       "output_type": "stream",
       "stream": "stdout",
       "text": [
        "\n",
        "Loss: 0.002031\n",
        "('recon_loss = ', 0.00046326747)\n",
        "('saved session to ', '/home/vernwalrahul/projects/WorkSpace_Hlaton_2D/checkpoints_NS_less/model.ckpt')"
       ]
      },
      {
       "output_type": "stream",
       "stream": "stdout",
       "text": [
        "\n",
        "Iter: 34000"
       ]
      },
      {
       "output_type": "stream",
       "stream": "stdout",
       "text": [
        "\n",
        "Loss: 0.002025\n",
        "('recon_loss = ', 0.00048329885)\n",
        "('saved session to ', '/home/vernwalrahul/projects/WorkSpace_Hlaton_2D/checkpoints_NS_less/model.ckpt')"
       ]
      },
      {
       "output_type": "stream",
       "stream": "stdout",
       "text": [
        "\n",
        "Iter: 35000"
       ]
      },
      {
       "output_type": "stream",
       "stream": "stdout",
       "text": [
        "\n",
        "Loss: 0.001971\n",
        "('recon_loss = ', 0.00042409188)\n",
        "('saved session to ', '/home/vernwalrahul/projects/WorkSpace_Hlaton_2D/checkpoints_NS_less/model.ckpt')"
       ]
      },
      {
       "output_type": "stream",
       "stream": "stdout",
       "text": [
        "\n",
        "Iter: 36000"
       ]
      },
      {
       "output_type": "stream",
       "stream": "stdout",
       "text": [
        "\n",
        "Loss: 0.001971\n",
        "('recon_loss = ', 0.00040787432)\n",
        "('saved session to ', '/home/vernwalrahul/projects/WorkSpace_Hlaton_2D/checkpoints_NS_less/model.ckpt')"
       ]
      },
      {
       "output_type": "stream",
       "stream": "stdout",
       "text": [
        "\n",
        "Iter: 37000"
       ]
      },
      {
       "output_type": "stream",
       "stream": "stdout",
       "text": [
        "\n",
        "Loss: 0.002145\n",
        "('recon_loss = ', 0.0005825198)\n",
        "('saved session to ', '/home/vernwalrahul/projects/WorkSpace_Hlaton_2D/checkpoints_NS_less/model.ckpt')"
       ]
      },
      {
       "output_type": "stream",
       "stream": "stdout",
       "text": [
        "\n",
        "Iter: 38000"
       ]
      },
      {
       "output_type": "stream",
       "stream": "stdout",
       "text": [
        "\n",
        "Loss: 0.002024\n",
        "('recon_loss = ', 0.0004880011)\n",
        "('saved session to ', '/home/vernwalrahul/projects/WorkSpace_Hlaton_2D/checkpoints_NS_less/model.ckpt')"
       ]
      },
      {
       "output_type": "stream",
       "stream": "stdout",
       "text": [
        "\n",
        "Iter: 39000"
       ]
      },
      {
       "output_type": "stream",
       "stream": "stdout",
       "text": [
        "\n",
        "Loss: 0.001971\n",
        "('recon_loss = ', 0.00044505132)\n",
        "('saved session to ', '/home/vernwalrahul/projects/WorkSpace_Hlaton_2D/checkpoints_NS_less/model.ckpt')"
       ]
      },
      {
       "output_type": "stream",
       "stream": "stdout",
       "text": [
        "\n",
        "Iter: 40000"
       ]
      },
      {
       "output_type": "stream",
       "stream": "stdout",
       "text": [
        "\n",
        "Loss: 0.002021\n",
        "('recon_loss = ', 0.00048482858)\n",
        "('saved session to ', '/home/vernwalrahul/projects/WorkSpace_Hlaton_2D/checkpoints_NS_less/model.ckpt')"
       ]
      },
      {
       "output_type": "stream",
       "stream": "stdout",
       "text": [
        "\n",
        "Iter: 41000"
       ]
      },
      {
       "output_type": "stream",
       "stream": "stdout",
       "text": [
        "\n",
        "Loss: 0.002032\n",
        "('recon_loss = ', 0.00043818838)\n",
        "('saved session to ', '/home/vernwalrahul/projects/WorkSpace_Hlaton_2D/checkpoints_NS_less/model.ckpt')"
       ]
      },
      {
       "output_type": "stream",
       "stream": "stdout",
       "text": [
        "\n",
        "Iter: 42000"
       ]
      },
      {
       "output_type": "stream",
       "stream": "stdout",
       "text": [
        "\n",
        "Loss: 0.002116\n",
        "('recon_loss = ', 0.0005686447)\n",
        "('saved session to ', '/home/vernwalrahul/projects/WorkSpace_Hlaton_2D/checkpoints_NS_less/model.ckpt')"
       ]
      },
      {
       "output_type": "stream",
       "stream": "stdout",
       "text": [
        "\n",
        "Iter: 43000"
       ]
      },
      {
       "output_type": "stream",
       "stream": "stdout",
       "text": [
        "\n",
        "Loss: 0.002032\n",
        "('recon_loss = ', 0.00048934773)\n",
        "('saved session to ', '/home/vernwalrahul/projects/WorkSpace_Hlaton_2D/checkpoints_NS_less/model.ckpt')"
       ]
      },
      {
       "output_type": "stream",
       "stream": "stdout",
       "text": [
        "\n",
        "Iter: 44000"
       ]
      },
      {
       "output_type": "stream",
       "stream": "stdout",
       "text": [
        "\n",
        "Loss: 0.002058\n",
        "('recon_loss = ', 0.0005168739)\n",
        "('saved session to ', '/home/vernwalrahul/projects/WorkSpace_Hlaton_2D/checkpoints_NS_less/model.ckpt')"
       ]
      },
      {
       "output_type": "stream",
       "stream": "stdout",
       "text": [
        "\n",
        "Iter: 45000"
       ]
      },
      {
       "output_type": "stream",
       "stream": "stdout",
       "text": [
        "\n",
        "Loss: 0.002214\n",
        "('recon_loss = ', 0.00067334354)\n",
        "('saved session to ', '/home/vernwalrahul/projects/WorkSpace_Hlaton_2D/checkpoints_NS_less/model.ckpt')"
       ]
      },
      {
       "output_type": "stream",
       "stream": "stdout",
       "text": [
        "\n",
        "Iter: 46000"
       ]
      },
      {
       "output_type": "stream",
       "stream": "stdout",
       "text": [
        "\n",
        "Loss: 0.002103\n",
        "('recon_loss = ', 0.00058922055)\n",
        "('saved session to ', '/home/vernwalrahul/projects/WorkSpace_Hlaton_2D/checkpoints_NS_less/model.ckpt')"
       ]
      },
      {
       "output_type": "stream",
       "stream": "stdout",
       "text": [
        "\n",
        "Iter: 47000"
       ]
      },
      {
       "output_type": "stream",
       "stream": "stdout",
       "text": [
        "\n",
        "Loss: 0.002026\n",
        "('recon_loss = ', 0.00046988577)\n",
        "('saved session to ', '/home/vernwalrahul/projects/WorkSpace_Hlaton_2D/checkpoints_NS_less/model.ckpt')"
       ]
      },
      {
       "output_type": "stream",
       "stream": "stdout",
       "text": [
        "\n",
        "Iter: 48000"
       ]
      },
      {
       "output_type": "stream",
       "stream": "stdout",
       "text": [
        "\n",
        "Loss: 0.002035\n",
        "('recon_loss = ', 0.000543067)\n",
        "('saved session to ', '/home/vernwalrahul/projects/WorkSpace_Hlaton_2D/checkpoints_NS_less/model.ckpt')"
       ]
      },
      {
       "output_type": "stream",
       "stream": "stdout",
       "text": [
        "\n",
        "Iter: 49000"
       ]
      },
      {
       "output_type": "stream",
       "stream": "stdout",
       "text": [
        "\n",
        "Loss: 0.002016\n",
        "('recon_loss = ', 0.00050773716)\n",
        "('saved session to ', '/home/vernwalrahul/projects/WorkSpace_Hlaton_2D/checkpoints_NS_less/model.ckpt')"
       ]
      },
      {
       "output_type": "stream",
       "stream": "stdout",
       "text": [
        "\n",
        "Iter: 50000"
       ]
      },
      {
       "output_type": "stream",
       "stream": "stdout",
       "text": [
        "\n",
        "Loss: 0.002014\n",
        "('recon_loss = ', 0.00050507736)\n",
        "('saved session to ', '/home/vernwalrahul/projects/WorkSpace_Hlaton_2D/checkpoints_NS_less/model.ckpt')"
       ]
      },
      {
       "output_type": "stream",
       "stream": "stdout",
       "text": [
        "\n",
        "Iter: 51000"
       ]
      },
      {
       "output_type": "stream",
       "stream": "stdout",
       "text": [
        "\n",
        "Loss: 0.002001\n",
        "('recon_loss = ', 0.00051705306)\n",
        "('saved session to ', '/home/vernwalrahul/projects/WorkSpace_Hlaton_2D/checkpoints_NS_less/model.ckpt')"
       ]
      },
      {
       "output_type": "stream",
       "stream": "stdout",
       "text": [
        "\n",
        "Iter: 52000"
       ]
      },
      {
       "output_type": "stream",
       "stream": "stdout",
       "text": [
        "\n",
        "Loss: 0.001933\n",
        "('recon_loss = ', 0.00045290362)\n",
        "('saved session to ', '/home/vernwalrahul/projects/WorkSpace_Hlaton_2D/checkpoints_NS_less/model.ckpt')"
       ]
      },
      {
       "output_type": "stream",
       "stream": "stdout",
       "text": [
        "\n",
        "Iter: 53000"
       ]
      },
      {
       "output_type": "stream",
       "stream": "stdout",
       "text": [
        "\n",
        "Loss: 0.002063\n",
        "('recon_loss = ', 0.0006061464)\n",
        "('saved session to ', '/home/vernwalrahul/projects/WorkSpace_Hlaton_2D/checkpoints_NS_less/model.ckpt')"
       ]
      },
      {
       "output_type": "stream",
       "stream": "stdout",
       "text": [
        "\n",
        "Iter: 54000"
       ]
      },
      {
       "output_type": "stream",
       "stream": "stdout",
       "text": [
        "\n",
        "Loss: 0.001934\n",
        "('recon_loss = ', 0.00045588458)\n",
        "('saved session to ', '/home/vernwalrahul/projects/WorkSpace_Hlaton_2D/checkpoints_NS_less/model.ckpt')"
       ]
      },
      {
       "output_type": "stream",
       "stream": "stdout",
       "text": [
        "\n",
        "Iter: 55000"
       ]
      },
      {
       "output_type": "stream",
       "stream": "stdout",
       "text": [
        "\n",
        "Loss: 0.001936\n",
        "('recon_loss = ', 0.00046201516)\n",
        "('saved session to ', '/home/vernwalrahul/projects/WorkSpace_Hlaton_2D/checkpoints_NS_less/model.ckpt')"
       ]
      },
      {
       "output_type": "stream",
       "stream": "stdout",
       "text": [
        "\n",
        "Iter: 56000"
       ]
      },
      {
       "output_type": "stream",
       "stream": "stdout",
       "text": [
        "\n",
        "Loss: 0.001992\n",
        "('recon_loss = ', 0.0005342538)\n",
        "('saved session to ', '/home/vernwalrahul/projects/WorkSpace_Hlaton_2D/checkpoints_NS_less/model.ckpt')"
       ]
      },
      {
       "output_type": "stream",
       "stream": "stdout",
       "text": [
        "\n",
        "Iter: 57000"
       ]
      },
      {
       "output_type": "stream",
       "stream": "stdout",
       "text": [
        "\n",
        "Loss: 0.001914\n",
        "('recon_loss = ', 0.00045837142)\n",
        "('saved session to ', '/home/vernwalrahul/projects/WorkSpace_Hlaton_2D/checkpoints_NS_less/model.ckpt')"
       ]
      },
      {
       "output_type": "stream",
       "stream": "stdout",
       "text": [
        "\n",
        "Iter: 58000"
       ]
      },
      {
       "output_type": "stream",
       "stream": "stdout",
       "text": [
        "\n",
        "Loss: 0.001909\n",
        "('recon_loss = ', 0.00044771493)\n",
        "('saved session to ', '/home/vernwalrahul/projects/WorkSpace_Hlaton_2D/checkpoints_NS_less/model.ckpt')"
       ]
      },
      {
       "output_type": "stream",
       "stream": "stdout",
       "text": [
        "\n",
        "Iter: 59000"
       ]
      },
      {
       "output_type": "stream",
       "stream": "stdout",
       "text": [
        "\n",
        "Loss: 0.001968\n",
        "('recon_loss = ', 0.00048982137)\n",
        "('saved session to ', '/home/vernwalrahul/projects/WorkSpace_Hlaton_2D/checkpoints_NS_less/model.ckpt')"
       ]
      },
      {
       "output_type": "stream",
       "stream": "stdout",
       "text": [
        "\n",
        "Iter: 60000"
       ]
      },
      {
       "output_type": "stream",
       "stream": "stdout",
       "text": [
        "\n",
        "Loss: 0.001943\n",
        "('recon_loss = ', 0.00047761673)\n",
        "('saved session to ', '/home/vernwalrahul/projects/WorkSpace_Hlaton_2D/checkpoints_NS_less/model.ckpt')"
       ]
      },
      {
       "output_type": "stream",
       "stream": "stdout",
       "text": [
        "\n",
        "Iter: 61000"
       ]
      },
      {
       "output_type": "stream",
       "stream": "stdout",
       "text": [
        "\n",
        "Loss: 0.001903\n",
        "('recon_loss = ', 0.00046933396)\n",
        "('saved session to ', '/home/vernwalrahul/projects/WorkSpace_Hlaton_2D/checkpoints_NS_less/model.ckpt')"
       ]
      },
      {
       "output_type": "stream",
       "stream": "stdout",
       "text": [
        "\n",
        "Iter: 62000"
       ]
      },
      {
       "output_type": "stream",
       "stream": "stdout",
       "text": [
        "\n",
        "Loss: 0.001861\n",
        "('recon_loss = ', 0.00049555954)\n",
        "('saved session to ', '/home/vernwalrahul/projects/WorkSpace_Hlaton_2D/checkpoints_NS_less/model.ckpt')"
       ]
      },
      {
       "output_type": "stream",
       "stream": "stdout",
       "text": [
        "\n",
        "Iter: 63000"
       ]
      },
      {
       "output_type": "stream",
       "stream": "stdout",
       "text": [
        "\n",
        "Loss: 0.001933\n",
        "('recon_loss = ', 0.0005166152)\n",
        "('saved session to ', '/home/vernwalrahul/projects/WorkSpace_Hlaton_2D/checkpoints_NS_less/model.ckpt')"
       ]
      },
      {
       "output_type": "stream",
       "stream": "stdout",
       "text": [
        "\n",
        "Iter: 64000"
       ]
      },
      {
       "output_type": "stream",
       "stream": "stdout",
       "text": [
        "\n",
        "Loss: 0.001924\n",
        "('recon_loss = ', 0.0005107992)\n",
        "('saved session to ', '/home/vernwalrahul/projects/WorkSpace_Hlaton_2D/checkpoints_NS_less/model.ckpt')"
       ]
      },
      {
       "output_type": "stream",
       "stream": "stdout",
       "text": [
        "\n",
        "Iter: 65000"
       ]
      },
      {
       "output_type": "stream",
       "stream": "stdout",
       "text": [
        "\n",
        "Loss: 0.001834\n",
        "('recon_loss = ', 0.00044357876)\n",
        "('saved session to ', '/home/vernwalrahul/projects/WorkSpace_Hlaton_2D/checkpoints_NS_less/model.ckpt')"
       ]
      },
      {
       "output_type": "stream",
       "stream": "stdout",
       "text": [
        "\n",
        "Iter: 66000"
       ]
      },
      {
       "output_type": "stream",
       "stream": "stdout",
       "text": [
        "\n",
        "Loss: 0.001933\n",
        "('recon_loss = ', 0.000505488)\n",
        "('saved session to ', '/home/vernwalrahul/projects/WorkSpace_Hlaton_2D/checkpoints_NS_less/model.ckpt')"
       ]
      },
      {
       "output_type": "stream",
       "stream": "stdout",
       "text": [
        "\n",
        "Iter: 67000"
       ]
      },
      {
       "output_type": "stream",
       "stream": "stdout",
       "text": [
        "\n",
        "Loss: 0.001967\n",
        "('recon_loss = ', 0.00049286697)\n",
        "('saved session to ', '/home/vernwalrahul/projects/WorkSpace_Hlaton_2D/checkpoints_NS_less/model.ckpt')"
       ]
      },
      {
       "output_type": "stream",
       "stream": "stdout",
       "text": [
        "\n",
        "Iter: 68000"
       ]
      },
      {
       "output_type": "stream",
       "stream": "stdout",
       "text": [
        "\n",
        "Loss: 0.001942\n",
        "('recon_loss = ', 0.0005140987)\n",
        "('saved session to ', '/home/vernwalrahul/projects/WorkSpace_Hlaton_2D/checkpoints_NS_less/model.ckpt')"
       ]
      },
      {
       "output_type": "stream",
       "stream": "stdout",
       "text": [
        "\n",
        "Iter: 69000"
       ]
      },
      {
       "output_type": "stream",
       "stream": "stdout",
       "text": [
        "\n",
        "Loss: 0.001894\n",
        "('recon_loss = ', 0.0004934691)\n",
        "('saved session to ', '/home/vernwalrahul/projects/WorkSpace_Hlaton_2D/checkpoints_NS_less/model.ckpt')"
       ]
      },
      {
       "output_type": "stream",
       "stream": "stdout",
       "text": [
        "\n",
        "Iter: 70000"
       ]
      },
      {
       "output_type": "stream",
       "stream": "stdout",
       "text": [
        "\n",
        "Loss: 0.00194\n",
        "('recon_loss = ', 0.0005290392)\n",
        "('saved session to ', '/home/vernwalrahul/projects/WorkSpace_Hlaton_2D/checkpoints_NS_less/model.ckpt')"
       ]
      },
      {
       "output_type": "stream",
       "stream": "stdout",
       "text": [
        "\n",
        "Iter: 71000"
       ]
      },
      {
       "output_type": "stream",
       "stream": "stdout",
       "text": [
        "\n",
        "Loss: 0.001843\n",
        "('recon_loss = ', 0.00043529537)\n",
        "('saved session to ', '/home/vernwalrahul/projects/WorkSpace_Hlaton_2D/checkpoints_NS_less/model.ckpt')"
       ]
      },
      {
       "output_type": "stream",
       "stream": "stdout",
       "text": [
        "\n",
        "Iter: 72000"
       ]
      },
      {
       "output_type": "stream",
       "stream": "stdout",
       "text": [
        "\n",
        "Loss: 0.00185\n",
        "('recon_loss = ', 0.00042326644)\n",
        "('saved session to ', '/home/vernwalrahul/projects/WorkSpace_Hlaton_2D/checkpoints_NS_less/model.ckpt')"
       ]
      },
      {
       "output_type": "stream",
       "stream": "stdout",
       "text": [
        "\n",
        "Iter: 73000"
       ]
      },
      {
       "output_type": "stream",
       "stream": "stdout",
       "text": [
        "\n",
        "Loss: 0.001828\n",
        "('recon_loss = ', 0.00045084453)\n",
        "('saved session to ', '/home/vernwalrahul/projects/WorkSpace_Hlaton_2D/checkpoints_NS_less/model.ckpt')"
       ]
      },
      {
       "output_type": "stream",
       "stream": "stdout",
       "text": [
        "\n",
        "Iter: 74000"
       ]
      },
      {
       "output_type": "stream",
       "stream": "stdout",
       "text": [
        "\n",
        "Loss: 0.001947\n",
        "('recon_loss = ', 0.00056136836)\n",
        "('saved session to ', '/home/vernwalrahul/projects/WorkSpace_Hlaton_2D/checkpoints_NS_less/model.ckpt')"
       ]
      },
      {
       "output_type": "stream",
       "stream": "stdout",
       "text": [
        "\n",
        "Iter: 75000"
       ]
      },
      {
       "output_type": "stream",
       "stream": "stdout",
       "text": [
        "\n",
        "Loss: 0.001998\n",
        "('recon_loss = ', 0.00058184925)\n",
        "('saved session to ', '/home/vernwalrahul/projects/WorkSpace_Hlaton_2D/checkpoints_NS_less/model.ckpt')"
       ]
      },
      {
       "output_type": "stream",
       "stream": "stdout",
       "text": [
        "\n",
        "Iter: 76000"
       ]
      },
      {
       "output_type": "stream",
       "stream": "stdout",
       "text": [
        "\n",
        "Loss: 0.001793\n",
        "('recon_loss = ', 0.00039877376)\n",
        "('saved session to ', '/home/vernwalrahul/projects/WorkSpace_Hlaton_2D/checkpoints_NS_less/model.ckpt')"
       ]
      },
      {
       "output_type": "stream",
       "stream": "stdout",
       "text": [
        "\n",
        "Iter: 77000"
       ]
      },
      {
       "output_type": "stream",
       "stream": "stdout",
       "text": [
        "\n",
        "Loss: 0.001992\n",
        "('recon_loss = ', 0.00056942843)\n",
        "('saved session to ', '/home/vernwalrahul/projects/WorkSpace_Hlaton_2D/checkpoints_NS_less/model.ckpt')"
       ]
      },
      {
       "output_type": "stream",
       "stream": "stdout",
       "text": [
        "\n",
        "Iter: 78000"
       ]
      },
      {
       "output_type": "stream",
       "stream": "stdout",
       "text": [
        "\n",
        "Loss: 0.001885\n",
        "('recon_loss = ', 0.0005109048)\n",
        "('saved session to ', '/home/vernwalrahul/projects/WorkSpace_Hlaton_2D/checkpoints_NS_less/model.ckpt')"
       ]
      },
      {
       "output_type": "stream",
       "stream": "stdout",
       "text": [
        "\n",
        "Iter: 79000"
       ]
      },
      {
       "output_type": "stream",
       "stream": "stdout",
       "text": [
        "\n",
        "Loss: 0.001904\n",
        "('recon_loss = ', 0.00055006717)\n",
        "('saved session to ', '/home/vernwalrahul/projects/WorkSpace_Hlaton_2D/checkpoints_NS_less/model.ckpt')"
       ]
      },
      {
       "output_type": "stream",
       "stream": "stdout",
       "text": [
        "\n",
        "Iter: 80000"
       ]
      },
      {
       "output_type": "stream",
       "stream": "stdout",
       "text": [
        "\n",
        "Loss: 0.001807\n",
        "('recon_loss = ', 0.00043799917)\n",
        "('saved session to ', '/home/vernwalrahul/projects/WorkSpace_Hlaton_2D/checkpoints_NS_less/model.ckpt')"
       ]
      },
      {
       "output_type": "stream",
       "stream": "stdout",
       "text": [
        "\n",
        "Iter: 81000"
       ]
      },
      {
       "output_type": "stream",
       "stream": "stdout",
       "text": [
        "\n",
        "Loss: 0.001832\n",
        "('recon_loss = ', 0.00048548498)\n",
        "('saved session to ', '/home/vernwalrahul/projects/WorkSpace_Hlaton_2D/checkpoints_NS_less/model.ckpt')"
       ]
      },
      {
       "output_type": "stream",
       "stream": "stdout",
       "text": [
        "\n",
        "Iter: 82000"
       ]
      },
      {
       "output_type": "stream",
       "stream": "stdout",
       "text": [
        "\n",
        "Loss: 0.001791\n",
        "('recon_loss = ', 0.0004368722)\n",
        "('saved session to ', '/home/vernwalrahul/projects/WorkSpace_Hlaton_2D/checkpoints_NS_less/model.ckpt')"
       ]
      },
      {
       "output_type": "stream",
       "stream": "stdout",
       "text": [
        "\n",
        "Iter: 83000"
       ]
      },
      {
       "output_type": "stream",
       "stream": "stdout",
       "text": [
        "\n",
        "Loss: 0.00182\n",
        "('recon_loss = ', 0.0004376894)\n",
        "('saved session to ', '/home/vernwalrahul/projects/WorkSpace_Hlaton_2D/checkpoints_NS_less/model.ckpt')"
       ]
      },
      {
       "output_type": "stream",
       "stream": "stdout",
       "text": [
        "\n",
        "Iter: 84000"
       ]
      },
      {
       "output_type": "stream",
       "stream": "stdout",
       "text": [
        "\n",
        "Loss: 0.001825\n",
        "('recon_loss = ', 0.0004936247)\n",
        "('saved session to ', '/home/vernwalrahul/projects/WorkSpace_Hlaton_2D/checkpoints_NS_less/model.ckpt')"
       ]
      },
      {
       "output_type": "stream",
       "stream": "stdout",
       "text": [
        "\n",
        "Iter: 85000"
       ]
      },
      {
       "output_type": "stream",
       "stream": "stdout",
       "text": [
        "\n",
        "Loss: 0.00185\n",
        "('recon_loss = ', 0.00051922945)\n",
        "('saved session to ', '/home/vernwalrahul/projects/WorkSpace_Hlaton_2D/checkpoints_NS_less/model.ckpt')"
       ]
      },
      {
       "output_type": "stream",
       "stream": "stdout",
       "text": [
        "\n",
        "Iter: 86000"
       ]
      },
      {
       "output_type": "stream",
       "stream": "stdout",
       "text": [
        "\n",
        "Loss: 0.001897\n",
        "('recon_loss = ', 0.0005528268)\n",
        "('saved session to ', '/home/vernwalrahul/projects/WorkSpace_Hlaton_2D/checkpoints_NS_less/model.ckpt')"
       ]
      },
      {
       "output_type": "stream",
       "stream": "stdout",
       "text": [
        "\n",
        "Iter: 87000"
       ]
      },
      {
       "output_type": "stream",
       "stream": "stdout",
       "text": [
        "\n",
        "Loss: 0.001755\n",
        "('recon_loss = ', 0.0004483327)\n",
        "('saved session to ', '/home/vernwalrahul/projects/WorkSpace_Hlaton_2D/checkpoints_NS_less/model.ckpt')"
       ]
      },
      {
       "output_type": "stream",
       "stream": "stdout",
       "text": [
        "\n",
        "Iter: 88000"
       ]
      },
      {
       "output_type": "stream",
       "stream": "stdout",
       "text": [
        "\n",
        "Loss: 0.001877\n",
        "('recon_loss = ', 0.00053929945)\n",
        "('saved session to ', '/home/vernwalrahul/projects/WorkSpace_Hlaton_2D/checkpoints_NS_less/model.ckpt')"
       ]
      },
      {
       "output_type": "stream",
       "stream": "stdout",
       "text": [
        "\n",
        "Iter: 89000"
       ]
      },
      {
       "output_type": "stream",
       "stream": "stdout",
       "text": [
        "\n",
        "Loss: 0.001827\n",
        "('recon_loss = ', 0.0004935915)\n",
        "('saved session to ', '/home/vernwalrahul/projects/WorkSpace_Hlaton_2D/checkpoints_NS_less/model.ckpt')"
       ]
      },
      {
       "output_type": "stream",
       "stream": "stdout",
       "text": [
        "\n",
        "Iter: 90000"
       ]
      },
      {
       "output_type": "stream",
       "stream": "stdout",
       "text": [
        "\n",
        "Loss: 0.001778\n",
        "('recon_loss = ', 0.0004630617)\n",
        "('saved session to ', '/home/vernwalrahul/projects/WorkSpace_Hlaton_2D/checkpoints_NS_less/model.ckpt')"
       ]
      },
      {
       "output_type": "stream",
       "stream": "stdout",
       "text": [
        "\n",
        "Iter: 91000"
       ]
      },
      {
       "output_type": "stream",
       "stream": "stdout",
       "text": [
        "\n",
        "Loss: 0.001836\n",
        "('recon_loss = ', 0.0005301055)\n",
        "('saved session to ', '/home/vernwalrahul/projects/WorkSpace_Hlaton_2D/checkpoints_NS_less/model.ckpt')"
       ]
      },
      {
       "output_type": "stream",
       "stream": "stdout",
       "text": [
        "\n",
        "Iter: 92000"
       ]
      },
      {
       "output_type": "stream",
       "stream": "stdout",
       "text": [
        "\n",
        "Loss: 0.00182\n",
        "('recon_loss = ', 0.0004911856)\n",
        "('saved session to ', '/home/vernwalrahul/projects/WorkSpace_Hlaton_2D/checkpoints_NS_less/model.ckpt')"
       ]
      },
      {
       "output_type": "stream",
       "stream": "stdout",
       "text": [
        "\n",
        "Iter: 93000"
       ]
      },
      {
       "output_type": "stream",
       "stream": "stdout",
       "text": [
        "\n",
        "Loss: 0.001759\n",
        "('recon_loss = ', 0.00044008088)\n",
        "('saved session to ', '/home/vernwalrahul/projects/WorkSpace_Hlaton_2D/checkpoints_NS_less/model.ckpt')"
       ]
      },
      {
       "output_type": "stream",
       "stream": "stdout",
       "text": [
        "\n",
        "Iter: 94000"
       ]
      },
      {
       "output_type": "stream",
       "stream": "stdout",
       "text": [
        "\n",
        "Loss: 0.001866\n",
        "('recon_loss = ', 0.000566693)\n",
        "('saved session to ', '/home/vernwalrahul/projects/WorkSpace_Hlaton_2D/checkpoints_NS_less/model.ckpt')"
       ]
      },
      {
       "output_type": "stream",
       "stream": "stdout",
       "text": [
        "\n",
        "Iter: 95000"
       ]
      },
      {
       "output_type": "stream",
       "stream": "stdout",
       "text": [
        "\n",
        "Loss: 0.001806\n",
        "('recon_loss = ', 0.0005185286)\n",
        "('saved session to ', '/home/vernwalrahul/projects/WorkSpace_Hlaton_2D/checkpoints_NS_less/model.ckpt')"
       ]
      },
      {
       "output_type": "stream",
       "stream": "stdout",
       "text": [
        "\n",
        "Iter: 96000"
       ]
      },
      {
       "output_type": "stream",
       "stream": "stdout",
       "text": [
        "\n",
        "Loss: 0.001755\n",
        "('recon_loss = ', 0.00047145045)\n",
        "('saved session to ', '/home/vernwalrahul/projects/WorkSpace_Hlaton_2D/checkpoints_NS_less/model.ckpt')"
       ]
      },
      {
       "output_type": "stream",
       "stream": "stdout",
       "text": [
        "\n",
        "Iter: 97000"
       ]
      },
      {
       "output_type": "stream",
       "stream": "stdout",
       "text": [
        "\n",
        "Loss: 0.001783\n",
        "('recon_loss = ', 0.0004620289)\n",
        "('saved session to ', '/home/vernwalrahul/projects/WorkSpace_Hlaton_2D/checkpoints_NS_less/model.ckpt')"
       ]
      },
      {
       "output_type": "stream",
       "stream": "stdout",
       "text": [
        "\n",
        "Iter: 98000"
       ]
      },
      {
       "output_type": "stream",
       "stream": "stdout",
       "text": [
        "\n",
        "Loss: 0.001765\n",
        "('recon_loss = ', 0.00047155804)\n",
        "('saved session to ', '/home/vernwalrahul/projects/WorkSpace_Hlaton_2D/checkpoints_NS_less/model.ckpt')"
       ]
      },
      {
       "output_type": "stream",
       "stream": "stdout",
       "text": [
        "\n",
        "Iter: 99000"
       ]
      },
      {
       "output_type": "stream",
       "stream": "stdout",
       "text": [
        "\n",
        "Loss: 0.001775\n",
        "('recon_loss = ', 0.0005091747)\n",
        "('saved session to ', '/home/vernwalrahul/projects/WorkSpace_Hlaton_2D/checkpoints_NS_less/model.ckpt')"
       ]
      },
      {
       "output_type": "stream",
       "stream": "stdout",
       "text": [
        "\n",
        "Iter: 100000"
       ]
      },
      {
       "output_type": "stream",
       "stream": "stdout",
       "text": [
        "\n",
        "Loss: 0.001811\n",
        "('recon_loss = ', 0.00052433956)\n",
        "('saved session to ', '/home/vernwalrahul/projects/WorkSpace_Hlaton_2D/checkpoints_NS_less/model.ckpt')"
       ]
      },
      {
       "output_type": "stream",
       "stream": "stdout",
       "text": [
        "\n",
        "Iter: 101000"
       ]
      },
      {
       "output_type": "stream",
       "stream": "stdout",
       "text": [
        "\n",
        "Loss: 0.001864\n",
        "('recon_loss = ', 0.00059233786)\n",
        "('saved session to ', '/home/vernwalrahul/projects/WorkSpace_Hlaton_2D/checkpoints_NS_less/model.ckpt')"
       ]
      },
      {
       "output_type": "stream",
       "stream": "stdout",
       "text": [
        "\n",
        "Iter: 102000"
       ]
      },
      {
       "output_type": "stream",
       "stream": "stdout",
       "text": [
        "\n",
        "Loss: 0.001735\n",
        "('recon_loss = ', 0.00045452983)\n",
        "('saved session to ', '/home/vernwalrahul/projects/WorkSpace_Hlaton_2D/checkpoints_NS_less/model.ckpt')"
       ]
      },
      {
       "output_type": "stream",
       "stream": "stdout",
       "text": [
        "\n",
        "Iter: 103000"
       ]
      },
      {
       "output_type": "stream",
       "stream": "stdout",
       "text": [
        "\n",
        "Loss: 0.001712\n",
        "('recon_loss = ', 0.0004530434)\n",
        "('saved session to ', '/home/vernwalrahul/projects/WorkSpace_Hlaton_2D/checkpoints_NS_less/model.ckpt')"
       ]
      },
      {
       "output_type": "stream",
       "stream": "stdout",
       "text": [
        "\n",
        "Iter: 104000"
       ]
      },
      {
       "output_type": "stream",
       "stream": "stdout",
       "text": [
        "\n",
        "Loss: 0.001724\n",
        "('recon_loss = ', 0.00044145182)\n",
        "('saved session to ', '/home/vernwalrahul/projects/WorkSpace_Hlaton_2D/checkpoints_NS_less/model.ckpt')"
       ]
      },
      {
       "output_type": "stream",
       "stream": "stdout",
       "text": [
        "\n",
        "Iter: 105000"
       ]
      },
      {
       "output_type": "stream",
       "stream": "stdout",
       "text": [
        "\n",
        "Loss: 0.001678\n",
        "('recon_loss = ', 0.00042740183)\n",
        "('saved session to ', '/home/vernwalrahul/projects/WorkSpace_Hlaton_2D/checkpoints_NS_less/model.ckpt')"
       ]
      },
      {
       "output_type": "stream",
       "stream": "stdout",
       "text": [
        "\n",
        "Iter: 106000"
       ]
      },
      {
       "output_type": "stream",
       "stream": "stdout",
       "text": [
        "\n",
        "Loss: 0.00172\n",
        "('recon_loss = ', 0.00042411534)\n",
        "('saved session to ', '/home/vernwalrahul/projects/WorkSpace_Hlaton_2D/checkpoints_NS_less/model.ckpt')"
       ]
      },
      {
       "output_type": "stream",
       "stream": "stdout",
       "text": [
        "\n",
        "Iter: 107000"
       ]
      },
      {
       "output_type": "stream",
       "stream": "stdout",
       "text": [
        "\n",
        "Loss: 0.001745\n",
        "('recon_loss = ', 0.0005009309)\n",
        "('saved session to ', '/home/vernwalrahul/projects/WorkSpace_Hlaton_2D/checkpoints_NS_less/model.ckpt')"
       ]
      },
      {
       "output_type": "stream",
       "stream": "stdout",
       "text": [
        "\n",
        "Iter: 108000"
       ]
      },
      {
       "output_type": "stream",
       "stream": "stdout",
       "text": [
        "\n",
        "Loss: 0.001703\n",
        "('recon_loss = ', 0.00044407358)\n",
        "('saved session to ', '/home/vernwalrahul/projects/WorkSpace_Hlaton_2D/checkpoints_NS_less/model.ckpt')"
       ]
      },
      {
       "output_type": "stream",
       "stream": "stdout",
       "text": [
        "\n",
        "Iter: 109000"
       ]
      },
      {
       "output_type": "stream",
       "stream": "stdout",
       "text": [
        "\n",
        "Loss: 0.001649\n",
        "('recon_loss = ', 0.00042354452)\n",
        "('saved session to ', '/home/vernwalrahul/projects/WorkSpace_Hlaton_2D/checkpoints_NS_less/model.ckpt')"
       ]
      },
      {
       "output_type": "stream",
       "stream": "stdout",
       "text": [
        "\n",
        "Iter: 110000"
       ]
      },
      {
       "output_type": "stream",
       "stream": "stdout",
       "text": [
        "\n",
        "Loss: 0.001714\n",
        "('recon_loss = ', 0.0005224644)\n",
        "('saved session to ', '/home/vernwalrahul/projects/WorkSpace_Hlaton_2D/checkpoints_NS_less/model.ckpt')"
       ]
      },
      {
       "output_type": "stream",
       "stream": "stdout",
       "text": [
        "\n",
        "Iter: 111000"
       ]
      },
      {
       "output_type": "stream",
       "stream": "stdout",
       "text": [
        "\n",
        "Loss: 0.001759\n",
        "('recon_loss = ', 0.00052643626)\n",
        "('saved session to ', '/home/vernwalrahul/projects/WorkSpace_Hlaton_2D/checkpoints_NS_less/model.ckpt')"
       ]
      },
      {
       "output_type": "stream",
       "stream": "stdout",
       "text": [
        "\n",
        "Iter: 112000"
       ]
      },
      {
       "output_type": "stream",
       "stream": "stdout",
       "text": [
        "\n",
        "Loss: 0.001753\n",
        "('recon_loss = ', 0.00047219853)\n",
        "('saved session to ', '/home/vernwalrahul/projects/WorkSpace_Hlaton_2D/checkpoints_NS_less/model.ckpt')"
       ]
      },
      {
       "output_type": "stream",
       "stream": "stdout",
       "text": [
        "\n",
        "Iter: 113000"
       ]
      },
      {
       "output_type": "stream",
       "stream": "stdout",
       "text": [
        "\n",
        "Loss: 0.001599\n",
        "('recon_loss = ', 0.00038927197)\n",
        "('saved session to ', '/home/vernwalrahul/projects/WorkSpace_Hlaton_2D/checkpoints_NS_less/model.ckpt')"
       ]
      },
      {
       "output_type": "stream",
       "stream": "stdout",
       "text": [
        "\n",
        "Iter: 114000"
       ]
      },
      {
       "output_type": "stream",
       "stream": "stdout",
       "text": [
        "\n",
        "Loss: 0.001689\n",
        "('recon_loss = ', 0.0004880268)\n",
        "('saved session to ', '/home/vernwalrahul/projects/WorkSpace_Hlaton_2D/checkpoints_NS_less/model.ckpt')"
       ]
      },
      {
       "output_type": "stream",
       "stream": "stdout",
       "text": [
        "\n",
        "Iter: 115000"
       ]
      },
      {
       "output_type": "stream",
       "stream": "stdout",
       "text": [
        "\n",
        "Loss: 0.001857\n",
        "('recon_loss = ', 0.00066913175)\n",
        "('saved session to ', '/home/vernwalrahul/projects/WorkSpace_Hlaton_2D/checkpoints_NS_less/model.ckpt')"
       ]
      },
      {
       "output_type": "stream",
       "stream": "stdout",
       "text": [
        "\n",
        "Iter: 116000"
       ]
      },
      {
       "output_type": "stream",
       "stream": "stdout",
       "text": [
        "\n",
        "Loss: 0.001636\n",
        "('recon_loss = ', 0.00046532362)\n",
        "('saved session to ', '/home/vernwalrahul/projects/WorkSpace_Hlaton_2D/checkpoints_NS_less/model.ckpt')"
       ]
      },
      {
       "output_type": "stream",
       "stream": "stdout",
       "text": [
        "\n",
        "Iter: 117000"
       ]
      },
      {
       "output_type": "stream",
       "stream": "stdout",
       "text": [
        "\n",
        "Loss: 0.001795\n",
        "('recon_loss = ', 0.0005248229)\n",
        "('saved session to ', '/home/vernwalrahul/projects/WorkSpace_Hlaton_2D/checkpoints_NS_less/model.ckpt')"
       ]
      },
      {
       "output_type": "stream",
       "stream": "stdout",
       "text": [
        "\n",
        "Iter: 118000"
       ]
      },
      {
       "output_type": "stream",
       "stream": "stdout",
       "text": [
        "\n",
        "Loss: 0.001738\n",
        "('recon_loss = ', 0.00048731957)\n",
        "('saved session to ', '/home/vernwalrahul/projects/WorkSpace_Hlaton_2D/checkpoints_NS_less/model.ckpt')"
       ]
      },
      {
       "output_type": "stream",
       "stream": "stdout",
       "text": [
        "\n",
        "Iter: 119000"
       ]
      },
      {
       "output_type": "stream",
       "stream": "stdout",
       "text": [
        "\n",
        "Loss: 0.001806\n",
        "('recon_loss = ', 0.0005649011)\n",
        "('saved session to ', '/home/vernwalrahul/projects/WorkSpace_Hlaton_2D/checkpoints_NS_less/model.ckpt')"
       ]
      },
      {
       "output_type": "stream",
       "stream": "stdout",
       "text": [
        "\n",
        "Iter: 120000"
       ]
      },
      {
       "output_type": "stream",
       "stream": "stdout",
       "text": [
        "\n",
        "Loss: 0.0017\n",
        "('recon_loss = ', 0.00047059736)\n",
        "('saved session to ', '/home/vernwalrahul/projects/WorkSpace_Hlaton_2D/checkpoints_NS_less/model.ckpt')"
       ]
      },
      {
       "output_type": "stream",
       "stream": "stdout",
       "text": [
        "\n",
        "Iter: 121000"
       ]
      },
      {
       "output_type": "stream",
       "stream": "stdout",
       "text": [
        "\n",
        "Loss: 0.001668\n",
        "('recon_loss = ', 0.00048043192)\n",
        "('saved session to ', '/home/vernwalrahul/projects/WorkSpace_Hlaton_2D/checkpoints_NS_less/model.ckpt')"
       ]
      },
      {
       "output_type": "stream",
       "stream": "stdout",
       "text": [
        "\n",
        "Iter: 122000"
       ]
      },
      {
       "output_type": "stream",
       "stream": "stdout",
       "text": [
        "\n",
        "Loss: 0.001705\n",
        "('recon_loss = ', 0.000509536)\n",
        "('saved session to ', '/home/vernwalrahul/projects/WorkSpace_Hlaton_2D/checkpoints_NS_less/model.ckpt')"
       ]
      },
      {
       "output_type": "stream",
       "stream": "stdout",
       "text": [
        "\n",
        "Iter: 123000"
       ]
      },
      {
       "output_type": "stream",
       "stream": "stdout",
       "text": [
        "\n",
        "Loss: 0.001647\n",
        "('recon_loss = ', 0.00041396078)\n",
        "('saved session to ', '/home/vernwalrahul/projects/WorkSpace_Hlaton_2D/checkpoints_NS_less/model.ckpt')"
       ]
      },
      {
       "output_type": "stream",
       "stream": "stdout",
       "text": [
        "\n",
        "Iter: 124000"
       ]
      },
      {
       "output_type": "stream",
       "stream": "stdout",
       "text": [
        "\n",
        "Loss: 0.0016\n",
        "('recon_loss = ', 0.00040355092)\n",
        "('saved session to ', '/home/vernwalrahul/projects/WorkSpace_Hlaton_2D/checkpoints_NS_less/model.ckpt')"
       ]
      },
      {
       "output_type": "stream",
       "stream": "stdout",
       "text": [
        "\n",
        "Iter: 125000"
       ]
      },
      {
       "output_type": "stream",
       "stream": "stdout",
       "text": [
        "\n",
        "Loss: 0.001592\n",
        "('recon_loss = ', 0.00044696464)\n",
        "('saved session to ', '/home/vernwalrahul/projects/WorkSpace_Hlaton_2D/checkpoints_NS_less/model.ckpt')"
       ]
      },
      {
       "output_type": "stream",
       "stream": "stdout",
       "text": [
        "\n",
        "Iter: 126000"
       ]
      },
      {
       "output_type": "stream",
       "stream": "stdout",
       "text": [
        "\n",
        "Loss: 0.001753\n",
        "('recon_loss = ', 0.0005007581)\n",
        "('saved session to ', '/home/vernwalrahul/projects/WorkSpace_Hlaton_2D/checkpoints_NS_less/model.ckpt')"
       ]
      },
      {
       "output_type": "stream",
       "stream": "stdout",
       "text": [
        "\n",
        "Iter: 127000"
       ]
      },
      {
       "output_type": "stream",
       "stream": "stdout",
       "text": [
        "\n",
        "Loss: 0.001641\n",
        "('recon_loss = ', 0.00044911046)\n",
        "('saved session to ', '/home/vernwalrahul/projects/WorkSpace_Hlaton_2D/checkpoints_NS_less/model.ckpt')"
       ]
      },
      {
       "ename": "KeyboardInterrupt",
       "evalue": "",
       "output_type": "pyerr",
       "traceback": [
        "\u001b[0;31m---------------------------------------------------------------------------\u001b[0m\n\u001b[0;31mKeyboardInterrupt\u001b[0m                         Traceback (most recent call last)",
        "\u001b[0;32m<ipython-input-6-d9c4f82879a5>\u001b[0m in \u001b[0;36m<module>\u001b[0;34m()\u001b[0m\n\u001b[1;32m     21\u001b[0m     \u001b[0mc_mb\u001b[0m \u001b[0;34m=\u001b[0m \u001b[0mc_train1\u001b[0m\u001b[0;34m[\u001b[0m\u001b[0mbatch_elements\u001b[0m\u001b[0;34m,\u001b[0m\u001b[0;34m:\u001b[0m\u001b[0;34m]\u001b[0m\u001b[0;34m\u001b[0m\u001b[0m\n\u001b[1;32m     22\u001b[0m \u001b[0;34m\u001b[0m\u001b[0m\n\u001b[0;32m---> 23\u001b[0;31m     \u001b[0m_\u001b[0m\u001b[0;34m,\u001b[0m \u001b[0mloss\u001b[0m\u001b[0;34m,\u001b[0m \u001b[0mr\u001b[0m \u001b[0;34m=\u001b[0m \u001b[0msess\u001b[0m\u001b[0;34m.\u001b[0m\u001b[0mrun\u001b[0m\u001b[0;34m(\u001b[0m\u001b[0;34m[\u001b[0m\u001b[0mtrain_step\u001b[0m\u001b[0;34m,\u001b[0m \u001b[0mcvae_loss\u001b[0m\u001b[0;34m,\u001b[0m \u001b[0mrecon_loss\u001b[0m\u001b[0;34m]\u001b[0m\u001b[0;34m,\u001b[0m \u001b[0mfeed_dict\u001b[0m\u001b[0;34m=\u001b[0m\u001b[0;34m{\u001b[0m\u001b[0mX\u001b[0m\u001b[0;34m:\u001b[0m \u001b[0mX_mb\u001b[0m\u001b[0;34m,\u001b[0m \u001b[0mc\u001b[0m\u001b[0;34m:\u001b[0m \u001b[0mc_mb\u001b[0m\u001b[0;34m}\u001b[0m\u001b[0;34m)\u001b[0m\u001b[0;34m\u001b[0m\u001b[0m\n\u001b[0m\u001b[1;32m     24\u001b[0m \u001b[0;34m\u001b[0m\u001b[0m\n\u001b[1;32m     25\u001b[0m     \u001b[0;32mif\u001b[0m \u001b[0mit\u001b[0m \u001b[0;34m%\u001b[0m \u001b[0;36m1000\u001b[0m \u001b[0;34m==\u001b[0m \u001b[0;36m0\u001b[0m\u001b[0;34m:\u001b[0m\u001b[0;34m\u001b[0m\u001b[0m\n",
        "\u001b[0;32m/usr/local/lib/python2.7/dist-packages/tensorflow/python/client/session.pyc\u001b[0m in \u001b[0;36mrun\u001b[0;34m(self, fetches, feed_dict, options, run_metadata)\u001b[0m\n\u001b[1;32m    898\u001b[0m     \u001b[0;32mtry\u001b[0m\u001b[0;34m:\u001b[0m\u001b[0;34m\u001b[0m\u001b[0m\n\u001b[1;32m    899\u001b[0m       result = self._run(None, fetches, feed_dict, options_ptr,\n\u001b[0;32m--> 900\u001b[0;31m                          run_metadata_ptr)\n\u001b[0m\u001b[1;32m    901\u001b[0m       \u001b[0;32mif\u001b[0m \u001b[0mrun_metadata\u001b[0m\u001b[0;34m:\u001b[0m\u001b[0;34m\u001b[0m\u001b[0m\n\u001b[1;32m    902\u001b[0m         \u001b[0mproto_data\u001b[0m \u001b[0;34m=\u001b[0m \u001b[0mtf_session\u001b[0m\u001b[0;34m.\u001b[0m\u001b[0mTF_GetBuffer\u001b[0m\u001b[0;34m(\u001b[0m\u001b[0mrun_metadata_ptr\u001b[0m\u001b[0;34m)\u001b[0m\u001b[0;34m\u001b[0m\u001b[0m\n",
        "\u001b[0;32m/usr/local/lib/python2.7/dist-packages/tensorflow/python/client/session.pyc\u001b[0m in \u001b[0;36m_run\u001b[0;34m(self, handle, fetches, feed_dict, options, run_metadata)\u001b[0m\n\u001b[1;32m   1133\u001b[0m     \u001b[0;32mif\u001b[0m \u001b[0mfinal_fetches\u001b[0m \u001b[0;32mor\u001b[0m \u001b[0mfinal_targets\u001b[0m \u001b[0;32mor\u001b[0m \u001b[0;34m(\u001b[0m\u001b[0mhandle\u001b[0m \u001b[0;32mand\u001b[0m \u001b[0mfeed_dict_tensor\u001b[0m\u001b[0;34m)\u001b[0m\u001b[0;34m:\u001b[0m\u001b[0;34m\u001b[0m\u001b[0m\n\u001b[1;32m   1134\u001b[0m       results = self._do_run(handle, final_targets, final_fetches,\n\u001b[0;32m-> 1135\u001b[0;31m                              feed_dict_tensor, options, run_metadata)\n\u001b[0m\u001b[1;32m   1136\u001b[0m     \u001b[0;32melse\u001b[0m\u001b[0;34m:\u001b[0m\u001b[0;34m\u001b[0m\u001b[0m\n\u001b[1;32m   1137\u001b[0m       \u001b[0mresults\u001b[0m \u001b[0;34m=\u001b[0m \u001b[0;34m[\u001b[0m\u001b[0;34m]\u001b[0m\u001b[0;34m\u001b[0m\u001b[0m\n",
        "\u001b[0;32m/usr/local/lib/python2.7/dist-packages/tensorflow/python/client/session.pyc\u001b[0m in \u001b[0;36m_do_run\u001b[0;34m(self, handle, target_list, fetch_list, feed_dict, options, run_metadata)\u001b[0m\n\u001b[1;32m   1314\u001b[0m     \u001b[0;32mif\u001b[0m \u001b[0mhandle\u001b[0m \u001b[0;32mis\u001b[0m \u001b[0mNone\u001b[0m\u001b[0;34m:\u001b[0m\u001b[0;34m\u001b[0m\u001b[0m\n\u001b[1;32m   1315\u001b[0m       return self._do_call(_run_fn, feeds, fetches, targets, options,\n\u001b[0;32m-> 1316\u001b[0;31m                            run_metadata)\n\u001b[0m\u001b[1;32m   1317\u001b[0m     \u001b[0;32melse\u001b[0m\u001b[0;34m:\u001b[0m\u001b[0;34m\u001b[0m\u001b[0m\n\u001b[1;32m   1318\u001b[0m       \u001b[0;32mreturn\u001b[0m \u001b[0mself\u001b[0m\u001b[0;34m.\u001b[0m\u001b[0m_do_call\u001b[0m\u001b[0;34m(\u001b[0m\u001b[0m_prun_fn\u001b[0m\u001b[0;34m,\u001b[0m \u001b[0mhandle\u001b[0m\u001b[0;34m,\u001b[0m \u001b[0mfeeds\u001b[0m\u001b[0;34m,\u001b[0m \u001b[0mfetches\u001b[0m\u001b[0;34m)\u001b[0m\u001b[0;34m\u001b[0m\u001b[0m\n",
        "\u001b[0;32m/usr/local/lib/python2.7/dist-packages/tensorflow/python/client/session.pyc\u001b[0m in \u001b[0;36m_do_call\u001b[0;34m(self, fn, *args)\u001b[0m\n\u001b[1;32m   1320\u001b[0m   \u001b[0;32mdef\u001b[0m \u001b[0m_do_call\u001b[0m\u001b[0;34m(\u001b[0m\u001b[0mself\u001b[0m\u001b[0;34m,\u001b[0m \u001b[0mfn\u001b[0m\u001b[0;34m,\u001b[0m \u001b[0;34m*\u001b[0m\u001b[0margs\u001b[0m\u001b[0;34m)\u001b[0m\u001b[0;34m:\u001b[0m\u001b[0;34m\u001b[0m\u001b[0m\n\u001b[1;32m   1321\u001b[0m     \u001b[0;32mtry\u001b[0m\u001b[0;34m:\u001b[0m\u001b[0;34m\u001b[0m\u001b[0m\n\u001b[0;32m-> 1322\u001b[0;31m       \u001b[0;32mreturn\u001b[0m \u001b[0mfn\u001b[0m\u001b[0;34m(\u001b[0m\u001b[0;34m*\u001b[0m\u001b[0margs\u001b[0m\u001b[0;34m)\u001b[0m\u001b[0;34m\u001b[0m\u001b[0m\n\u001b[0m\u001b[1;32m   1323\u001b[0m     \u001b[0;32mexcept\u001b[0m \u001b[0merrors\u001b[0m\u001b[0;34m.\u001b[0m\u001b[0mOpError\u001b[0m \u001b[0;32mas\u001b[0m \u001b[0me\u001b[0m\u001b[0;34m:\u001b[0m\u001b[0;34m\u001b[0m\u001b[0m\n\u001b[1;32m   1324\u001b[0m       \u001b[0mmessage\u001b[0m \u001b[0;34m=\u001b[0m \u001b[0mcompat\u001b[0m\u001b[0;34m.\u001b[0m\u001b[0mas_text\u001b[0m\u001b[0;34m(\u001b[0m\u001b[0me\u001b[0m\u001b[0;34m.\u001b[0m\u001b[0mmessage\u001b[0m\u001b[0;34m)\u001b[0m\u001b[0;34m\u001b[0m\u001b[0m\n",
        "\u001b[0;32m/usr/local/lib/python2.7/dist-packages/tensorflow/python/client/session.pyc\u001b[0m in \u001b[0;36m_run_fn\u001b[0;34m(feed_dict, fetch_list, target_list, options, run_metadata)\u001b[0m\n\u001b[1;32m   1305\u001b[0m       \u001b[0mself\u001b[0m\u001b[0;34m.\u001b[0m\u001b[0m_extend_graph\u001b[0m\u001b[0;34m(\u001b[0m\u001b[0;34m)\u001b[0m\u001b[0;34m\u001b[0m\u001b[0m\n\u001b[1;32m   1306\u001b[0m       return self._call_tf_sessionrun(\n\u001b[0;32m-> 1307\u001b[0;31m           options, feed_dict, fetch_list, target_list, run_metadata)\n\u001b[0m\u001b[1;32m   1308\u001b[0m \u001b[0;34m\u001b[0m\u001b[0m\n\u001b[1;32m   1309\u001b[0m     \u001b[0;32mdef\u001b[0m \u001b[0m_prun_fn\u001b[0m\u001b[0;34m(\u001b[0m\u001b[0mhandle\u001b[0m\u001b[0;34m,\u001b[0m \u001b[0mfeed_dict\u001b[0m\u001b[0;34m,\u001b[0m \u001b[0mfetch_list\u001b[0m\u001b[0;34m)\u001b[0m\u001b[0;34m:\u001b[0m\u001b[0;34m\u001b[0m\u001b[0m\n",
        "\u001b[0;32m/usr/local/lib/python2.7/dist-packages/tensorflow/python/client/session.pyc\u001b[0m in \u001b[0;36m_call_tf_sessionrun\u001b[0;34m(self, options, feed_dict, fetch_list, target_list, run_metadata)\u001b[0m\n\u001b[1;32m   1407\u001b[0m       return tf_session.TF_SessionRun_wrapper(\n\u001b[1;32m   1408\u001b[0m           \u001b[0mself\u001b[0m\u001b[0;34m.\u001b[0m\u001b[0m_session\u001b[0m\u001b[0;34m,\u001b[0m \u001b[0moptions\u001b[0m\u001b[0;34m,\u001b[0m \u001b[0mfeed_dict\u001b[0m\u001b[0;34m,\u001b[0m \u001b[0mfetch_list\u001b[0m\u001b[0;34m,\u001b[0m \u001b[0mtarget_list\u001b[0m\u001b[0;34m,\u001b[0m\u001b[0;34m\u001b[0m\u001b[0m\n\u001b[0;32m-> 1409\u001b[0;31m           run_metadata)\n\u001b[0m\u001b[1;32m   1410\u001b[0m     \u001b[0;32melse\u001b[0m\u001b[0;34m:\u001b[0m\u001b[0;34m\u001b[0m\u001b[0m\n\u001b[1;32m   1411\u001b[0m       \u001b[0;32mwith\u001b[0m \u001b[0merrors\u001b[0m\u001b[0;34m.\u001b[0m\u001b[0mraise_exception_on_not_ok_status\u001b[0m\u001b[0;34m(\u001b[0m\u001b[0;34m)\u001b[0m \u001b[0;32mas\u001b[0m \u001b[0mstatus\u001b[0m\u001b[0;34m:\u001b[0m\u001b[0;34m\u001b[0m\u001b[0m\n",
        "\u001b[0;31mKeyboardInterrupt\u001b[0m: "
       ]
      },
      {
       "output_type": "stream",
       "stream": "stdout",
       "text": [
        "\n"
       ]
      }
     ],
     "prompt_number": 6
    },
    {
     "cell_type": "code",
     "collapsed": false,
     "input": [
      "#to check if a node is free\n",
      "def is_free(node_pos, obstacles):\n",
      "    flag = 1\n",
      "    eps = 0.04\n",
      "    for obs in obstacles:\n",
      "        x1, y1, x2, y2 = obs\n",
      "        if(node_pos[0] < x2 + eps and node_pos[0] > x1 - eps):\n",
      "            if(node_pos[1] < y2 + eps and node_pos[1] > y1 - eps):\n",
      "                flag = 0\n",
      "                return flag\n",
      "    return flag\n",
      "\n",
      "################Create Occ_Grid\n",
      "def get_occ_grid(obstacles):\n",
      "    occ_grid = np.ones((10,10), dtype=int)\n",
      "    eps = 0.05\n",
      "    for i in range(0,10):\n",
      "        for j in range(0, 10):\n",
      "            if(not (is_free((i/10.0+eps,j/10.0+eps), obstacles))):\n",
      "                occ_grid[i,j] = 0\n",
      "            else:\n",
      "                occ_grid[i,j] = 1\n",
      "    return occ_grid.ravel()\n",
      "\n",
      "obs1 = [0.0, 0.1, 0.4, 0.2]\n",
      "obs2 = [0.5, 0.1, 0.6, 0.2]\n",
      "obs3 = [0.7, 0.1, 1.0, 0.2]\n",
      "\n",
      "init_ = np.array([0.05 , 0.95])\n",
      "goal_ = np.array([0.95 , 0.95])\n",
      "\n",
      "c_here = []\n",
      "for x in range(1,7):\n",
      "    obs4 = [x/10.0, 0.5, x/10.0+0.1, 1.0]\n",
      "    obs5 = [x/10.0, 0.2, x/10.0+0.1, 0.4]\n",
      "    obs6 = [x/10.0, 0.0, x/10.0+0.1, 0.1]\n",
      "    \n",
      "    obstacles = [obs1, obs2, obs3, obs4, obs5, obs6]\n",
      "    curr_occ_grid = np.array(get_occ_grid(obstacles))\n",
      "    print(curr_occ_grid.reshape(10,10))\n",
      "    c_here.append(np.concatenate((init_, goal_, curr_occ_grid)))"
     ],
     "language": "python",
     "metadata": {},
     "outputs": [
      {
       "output_type": "stream",
       "stream": "stdout",
       "text": [
        "[[1 0 1 1 1 1 1 1 1 1]\n",
        " [0 0 0 0 1 0 0 0 0 0]\n",
        " [1 0 1 1 1 1 1 1 1 1]\n",
        " [1 0 1 1 1 1 1 1 1 1]\n",
        " [1 1 1 1 1 1 1 1 1 1]\n",
        " [1 0 1 1 1 1 1 1 1 1]\n",
        " [1 1 1 1 1 1 1 1 1 1]\n",
        " [1 0 1 1 1 1 1 1 1 1]\n",
        " [1 0 1 1 1 1 1 1 1 1]\n",
        " [1 0 1 1 1 1 1 1 1 1]]\n",
        "[[1 0 1 1 1 1 1 1 1 1]\n",
        " [1 0 1 1 1 1 1 1 1 1]\n",
        " [0 0 0 0 1 0 0 0 0 0]\n",
        " [1 0 1 1 1 1 1 1 1 1]\n",
        " [1 1 1 1 1 1 1 1 1 1]\n",
        " [1 0 1 1 1 1 1 1 1 1]\n",
        " [1 1 1 1 1 1 1 1 1 1]\n",
        " [1 0 1 1 1 1 1 1 1 1]\n",
        " [1 0 1 1 1 1 1 1 1 1]\n",
        " [1 0 1 1 1 1 1 1 1 1]]\n",
        "[[1 0 1 1 1 1 1 1 1 1]\n",
        " [1 0 1 1 1 1 1 1 1 1]\n",
        " [1 0 1 1 1 1 1 1 1 1]\n",
        " [0 0 0 0 1 0 0 0 0 0]\n",
        " [1 1 1 1 1 1 1 1 1 1]\n",
        " [1 0 1 1 1 1 1 1 1 1]\n",
        " [1 1 1 1 1 1 1 1 1 1]\n",
        " [1 0 1 1 1 1 1 1 1 1]\n",
        " [1 0 1 1 1 1 1 1 1 1]\n",
        " [1 0 1 1 1 1 1 1 1 1]]\n",
        "[[1 0 1 1 1 1 1 1 1 1]\n",
        " [1 0 1 1 1 1 1 1 1 1]\n",
        " [1 0 1 1 1 1 1 1 1 1]\n",
        " [1 0 1 1 1 1 1 1 1 1]\n",
        " [0 1 0 0 1 0 0 0 0 0]\n",
        " [1 0 1 1 1 1 1 1 1 1]\n",
        " [1 1 1 1 1 1 1 1 1 1]\n",
        " [1 0 1 1 1 1 1 1 1 1]\n",
        " [1 0 1 1 1 1 1 1 1 1]\n",
        " [1 0 1 1 1 1 1 1 1 1]]\n",
        "[[1 0 1 1 1 1 1 1 1 1]\n",
        " [1 0 1 1 1 1 1 1 1 1]\n",
        " [1 0 1 1 1 1 1 1 1 1]\n",
        " [1 0 1 1 1 1 1 1 1 1]\n",
        " [1 1 1 1 1 1 1 1 1 1]\n",
        " [0 0 0 0 1 0 0 0 0 0]\n",
        " [1 1 1 1 1 1 1 1 1 1]\n",
        " [1 0 1 1 1 1 1 1 1 1]\n",
        " [1 0 1 1 1 1 1 1 1 1]\n",
        " [1 0 1 1 1 1 1 1 1 1]]\n",
        "[[1 0 1 1 1 1 1 1 1 1]\n",
        " [1 0 1 1 1 1 1 1 1 1]\n",
        " [1 0 1 1 1 1 1 1 1 1]\n",
        " [1 0 1 1 1 1 1 1 1 1]\n",
        " [1 1 1 1 1 1 1 1 1 1]\n",
        " [1 0 1 1 1 1 1 1 1 1]\n",
        " [0 1 0 0 1 0 0 0 0 0]\n",
        " [1 0 1 1 1 1 1 1 1 1]\n",
        " [1 0 1 1 1 1 1 1 1 1]\n",
        " [1 0 1 1 1 1 1 1 1 1]]\n"
       ]
      }
     ],
     "prompt_number": 337
    },
    {
     "cell_type": "code",
     "collapsed": false,
     "input": [
      "# plot the latent space\n",
      "num_viz = 200\n",
      "# seed(1000)\n",
      "print(\"c_test.shape = \",c_test.shape)\n",
      "print(\"c_train.shape = \",c_train.shape)\n",
      "# print(c_test[:,:4])\n",
      "vizIdx = randint(0,numTrain-1);\n",
      "# vizIdx = 0\n",
      "print vizIdx\n",
      "c_sample_seed = c_train[vizIdx,:]\n",
      "print(\"c_sample_seed = \", c_sample_seed[:4])\n",
      "occ_g = c_train[vizIdx,4:].reshape(10,10)\n",
      "\n",
      "# c_here = np.array(c_here)\n",
      "# c_sample_seed = c_here[0,:]\n",
      "# occ_g = c_here[0,4:].reshape(10,10)\n",
      "\n",
      "ts = X_train[vizIdx,:2]\n",
      "print(\"Train Sample = \", ts)\n",
      "\n",
      "# c_sample_seed = c_test[vizIdx,:]\n",
      "# occ_g = c_test[vizIdx,4:].reshape(20,20)\n",
      "# print(\"Testing Sample = \",X_test[vizIdx,:2])\n",
      "\n",
      "# print(c_sample_seed[:4])\n",
      "init = c_sample_seed[:2]\n",
      "goal = c_sample_seed[2:4]\n",
      "c_sample = np.repeat([c_sample_seed],num_viz,axis=0)\n",
      "\n",
      "print(\"c_sample.shape = \",c_sample.shape)\n",
      "# directly sample from the latent space (preferred, what we will use in the end)\n",
      "y_viz, z_viz = sess.run([y, z], feed_dict={z: np.random.randn(num_viz, z_dim), c: c_sample})\n",
      "\n",
      "fig1 = plt.figure(figsize=(10,6), dpi=80)\n",
      "ax1 = fig1.add_subplot(111, aspect='equal')\n",
      "\n",
      "plt.scatter(y_viz[:,0],y_viz[:,1], color=\"green\", s=20)\n",
      "\n",
      "for i in range(10):\n",
      "        for j in range(10):\n",
      "            if(occ_g[i,j]==0):\n",
      "                ax1.add_patch(patches.Rectangle(\n",
      "                (i/10.0, j/10.0),   # (x,y)\n",
      "                0.1,          # width\n",
      "                0.1,          # height\n",
      "                alpha=0.6\n",
      "                ))\n",
      "\n",
      "plt.scatter(init[0], init[1], color=\"red\", s=100, edgecolors='black') # init\n",
      "plt.scatter(goal[0], goal[1], color=\"blue\", s=100, edgecolors='black') # goal\n",
      "plt.scatter(ts[0], ts[1], color=\"orange\", s=50, edgecolors='black') # goal\n",
      "\n",
      "plt.xlim(0,1)\n",
      "plt.ylim(0,1)\n",
      "\n",
      "plt.savefig(\"collection/ratio_0.4/training_\"+str(vizIdx)+\".jpg\", bbox_inches='tight')\n",
      "plt.show()"
     ],
     "language": "python",
     "metadata": {},
     "outputs": [
      {
       "output_type": "stream",
       "stream": "stdout",
       "text": [
        "('c_test.shape = ', (23909, 104))\n",
        "('c_train.shape = ', (15939, 104))\n",
        "3626\n",
        "('c_sample_seed = ', array([0.97063537, 0.89354231, 0.45598693, 0.49756609]))\n",
        "('Train Sample = ', array([0.59661193, 0.34941794]))\n",
        "('c_sample.shape = ', (200, 104))\n"
       ]
      }
     ],
     "prompt_number": 55
    }
   ],
   "metadata": {}
  }
 ]
}